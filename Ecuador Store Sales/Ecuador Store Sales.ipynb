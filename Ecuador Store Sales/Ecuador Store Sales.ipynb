{
 "cells": [
  {
   "attachments": {},
   "cell_type": "markdown",
   "id": "0f714ee6",
   "metadata": {
    "papermill": {
     "duration": 0.021068,
     "end_time": "2023-07-14T09:43:03.271652",
     "exception": false,
     "start_time": "2023-07-14T09:43:03.250584",
     "status": "completed"
    },
    "tags": []
   },
   "source": [
    "# Ecuador Store Sales — Global Forecasting LightGBM"
   ]
  },
  {
   "attachments": {},
   "cell_type": "markdown",
   "id": "8ecb4457",
   "metadata": {
    "papermill": {
     "duration": 0.026806,
     "end_time": "2023-07-14T09:43:03.322923",
     "exception": false,
     "start_time": "2023-07-14T09:43:03.296117",
     "status": "completed"
    },
    "tags": []
   },
   "source": [
    "This notebook aims to implement global models for store sales forecasting, diverging from traditional approaches. The main difference lies in the ability to use a single model to forecast multiple target series, improving computational efficiency. Key ideas from some referenced Kaggle notebooks include:\n",
    "* [Ferdinand Berr](https://www.kaggle.com/code/ferdinandberr/darts-forecasting-deep-learning-global-models) demonstrated the use of the Darts library to simplify the process of global forecasting.\n",
    "     * Additional date-related features are included to capture sales patterns.\n",
    "     * 33 models, one per product family, are used to capture product-specific characteristics.\n",
    "     * Zero forecasts are generated if the past 21 days are all zero sales.\n",
    "* [Tom Keldenich](https://www.kaggle.com/code/kelde9/darts-ensemble-stores-sales-forecasting) built on the above ideas to further improve the forecasts.\n",
    "    * Ensemble averaging is performed to average out the errors, using different numbers of lags for each model.\n",
    "    * The moving averages of some variables are computed as additional covariates to smooth out the noise.\n",
    "    \n",
    "In this notebook, we aim to explain the rationale behind some of these different choices, and also attempt to improve the forecasts."
   ]
  },
  {
   "cell_type": "code",
   "execution_count": null,
   "id": "1bdcea46",
   "metadata": {
    "_kg_hide-output": true,
    "execution": {
     "iopub.execute_input": "2023-07-14T09:43:03.380307Z",
     "iopub.status.busy": "2023-07-14T09:43:03.379749Z",
     "iopub.status.idle": "2023-07-14T09:43:26.001793Z",
     "shell.execute_reply": "2023-07-14T09:43:25.999865Z"
    },
    "papermill": {
     "duration": 22.648452,
     "end_time": "2023-07-14T09:43:26.004542",
     "exception": false,
     "start_time": "2023-07-14T09:43:03.356090",
     "status": "completed"
    },
    "tags": []
   },
   "outputs": [],
   "source": [
    "!pip install darts"
   ]
  },
  {
   "cell_type": "code",
   "execution_count": null,
   "id": "c50ec1ef",
   "metadata": {
    "_kg_hide-output": true,
    "execution": {
     "iopub.execute_input": "2023-07-14T09:43:26.058586Z",
     "iopub.status.busy": "2023-07-14T09:43:26.058180Z",
     "iopub.status.idle": "2023-07-14T09:43:52.019737Z",
     "shell.execute_reply": "2023-07-14T09:43:52.017974Z"
    },
    "papermill": {
     "duration": 25.991775,
     "end_time": "2023-07-14T09:43:52.022351",
     "exception": false,
     "start_time": "2023-07-14T09:43:26.030576",
     "status": "completed"
    },
    "tags": []
   },
   "outputs": [],
   "source": [
    "import os\n",
    "                        \n",
    "import matplotlib.pyplot as plt\n",
    "import numpy as np\n",
    "import pandas as pd\n",
    "import seaborn as sns\n",
    "\n",
    "from darts import TimeSeries\n",
    "from darts.dataprocessing import Pipeline\n",
    "from darts.dataprocessing.transformers import Scaler, InvertibleMapper, StaticCovariatesTransformer\n",
    "from darts.dataprocessing.transformers.missing_values_filler import MissingValuesFiller\n",
    "from darts.metrics import rmsle\n",
    "from darts.models import LinearRegressionModel, LightGBMModel, XGBModel, CatBoostModel\n",
    "from darts.models.filtering.moving_average_filter import MovingAverageFilter\n",
    "from sklearn.preprocessing import MinMaxScaler, OneHotEncoder\n",
    "from tqdm.notebook import tqdm_notebook\n",
    "\n",
    "plt.style.use(\"ggplot\")\n",
    "plt.rcParams[\"font.size\"] = 15\n",
    "COLORS = list(sns.color_palette())"
   ]
  },
  {
   "attachments": {},
   "cell_type": "markdown",
   "id": "b24f903c",
   "metadata": {
    "papermill": {
     "duration": 0.025923,
     "end_time": "2023-07-14T09:43:52.074247",
     "exception": false,
     "start_time": "2023-07-14T09:43:52.048324",
     "status": "completed"
    },
    "tags": []
   },
   "source": [
    "---"
   ]
  },
  {
   "attachments": {},
   "cell_type": "markdown",
   "id": "4f8964f9",
   "metadata": {
    "papermill": {
     "duration": 0.025769,
     "end_time": "2023-07-14T09:43:52.126202",
     "exception": false,
     "start_time": "2023-07-14T09:43:52.100433",
     "status": "completed"
    },
    "tags": []
   },
   "source": [
    "# 1. Data Preprocessing"
   ]
  },
  {
   "cell_type": "code",
   "execution_count": null,
   "id": "3d20c171",
   "metadata": {
    "execution": {
     "iopub.execute_input": "2023-07-14T09:43:52.179396Z",
     "iopub.status.busy": "2023-07-14T09:43:52.179012Z",
     "iopub.status.idle": "2023-07-14T09:43:52.184564Z",
     "shell.execute_reply": "2023-07-14T09:43:52.183469Z"
    },
    "papermill": {
     "duration": 0.034554,
     "end_time": "2023-07-14T09:43:52.186557",
     "exception": false,
     "start_time": "2023-07-14T09:43:52.152003",
     "status": "completed"
    },
    "tags": []
   },
   "outputs": [],
   "source": [
    "# helper function to print messages\n",
    "def cprint(title, *args):\n",
    "    print(\n",
    "        \"=\"*len(title), title, \"=\"*len(title),\n",
    "        *args,\n",
    "        sep=\"\\n\",\n",
    "    )"
   ]
  },
  {
   "attachments": {},
   "cell_type": "markdown",
   "id": "834352e5",
   "metadata": {
    "papermill": {
     "duration": 0.025298,
     "end_time": "2023-07-14T09:43:52.237216",
     "exception": false,
     "start_time": "2023-07-14T09:43:52.211918",
     "status": "completed"
    },
    "tags": []
   },
   "source": [
    "### Loading the datasets."
   ]
  },
  {
   "attachments": {},
   "cell_type": "markdown",
   "id": "e5aea438",
   "metadata": {
    "papermill": {
     "duration": 0.024376,
     "end_time": "2023-07-14T09:43:52.287545",
     "exception": false,
     "start_time": "2023-07-14T09:43:52.263169",
     "status": "completed"
    },
    "tags": []
   },
   "source": [
    "We begin by loading the datasets. We then look at some of their characteristics and perform the necessary changes for visualization and modeling later."
   ]
  },
  {
   "cell_type": "code",
   "execution_count": null,
   "id": "849adda5",
   "metadata": {
    "execution": {
     "iopub.execute_input": "2023-07-14T09:43:52.338446Z",
     "iopub.status.busy": "2023-07-14T09:43:52.338118Z",
     "iopub.status.idle": "2023-07-14T09:43:55.185076Z",
     "shell.execute_reply": "2023-07-14T09:43:55.183959Z"
    },
    "papermill": {
     "duration": 2.875387,
     "end_time": "2023-07-14T09:43:55.187702",
     "exception": false,
     "start_time": "2023-07-14T09:43:52.312315",
     "status": "completed"
    },
    "tags": []
   },
   "outputs": [],
   "source": [
    "PATH = \"/kaggle/input/store-sales-time-series-forecasting\"\n",
    "\n",
    "train = pd.read_csv(os.path.join(PATH, \"train.csv\"), parse_dates=[\"date\"])\n",
    "test = pd.read_csv(os.path.join(PATH, \"test.csv\"), parse_dates=[\"date\"])\n",
    "\n",
    "oil = pd.read_csv(os.path.join(PATH, \"oil.csv\"), parse_dates=[\"date\"]).rename(columns={\"dcoilwtico\": \"oil\"})\n",
    "store = pd.read_csv(os.path.join(PATH, \"stores.csv\"))\n",
    "transaction = pd.read_csv(os.path.join(PATH, \"transactions.csv\"), parse_dates=[\"date\"])\n",
    "holiday = pd.read_csv(os.path.join(PATH, \"holidays_events.csv\"), parse_dates=[\"date\"])"
   ]
  },
  {
   "attachments": {},
   "cell_type": "markdown",
   "id": "bd74a922",
   "metadata": {
    "papermill": {
     "duration": 0.025173,
     "end_time": "2023-07-14T09:43:55.238551",
     "exception": false,
     "start_time": "2023-07-14T09:43:55.213378",
     "status": "completed"
    },
    "tags": []
   },
   "source": [
    "### Check: There are missing gaps in the training data."
   ]
  },
  {
   "attachments": {},
   "cell_type": "markdown",
   "id": "ee147745",
   "metadata": {
    "papermill": {
     "duration": 0.024958,
     "end_time": "2023-07-14T09:43:55.289047",
     "exception": false,
     "start_time": "2023-07-14T09:43:55.264089",
     "status": "completed"
    },
    "tags": []
   },
   "source": [
    "In this problem, our target series for forecasting is the `sales` column for the Ecuadorian-based grocery retailer. With 54 stores present, each having 33 types of products sold, this amounts to 1782 target series for forecasting. We can check that there are missing gaps (4 missing dates) in our target series, which we will investigate next."
   ]
  },
  {
   "cell_type": "code",
   "execution_count": null,
   "id": "b3cce42b",
   "metadata": {
    "execution": {
     "iopub.execute_input": "2023-07-14T09:43:55.341319Z",
     "iopub.status.busy": "2023-07-14T09:43:55.340975Z",
     "iopub.status.idle": "2023-07-14T09:43:55.813040Z",
     "shell.execute_reply": "2023-07-14T09:43:55.811470Z"
    },
    "papermill": {
     "duration": 0.50114,
     "end_time": "2023-07-14T09:43:55.815764",
     "exception": false,
     "start_time": "2023-07-14T09:43:55.314624",
     "status": "completed"
    },
    "tags": []
   },
   "outputs": [],
   "source": [
    "num_family = train.family.nunique()\n",
    "num_store = train.store_nbr.nunique()\n",
    "num_ts = train.groupby([\"store_nbr\", \"family\"]).ngroups\n",
    "train_start = train.date.min().date()\n",
    "train_end = train.date.max().date()\n",
    "num_train_date = train.date.nunique()\n",
    "train_len = (train_end - train_start).days + 1\n",
    "test_start = test.date.min().date()\n",
    "test_end = test.date.max().date()\n",
    "num_test_date = test.date.nunique()\n",
    "test_len = (test_end - test_start).days + 1"
   ]
  },
  {
   "cell_type": "code",
   "execution_count": null,
   "id": "cac722d6",
   "metadata": {
    "_kg_hide-input": true,
    "execution": {
     "iopub.execute_input": "2023-07-14T09:43:55.869268Z",
     "iopub.status.busy": "2023-07-14T09:43:55.868880Z",
     "iopub.status.idle": "2023-07-14T09:43:55.874973Z",
     "shell.execute_reply": "2023-07-14T09:43:55.873915Z"
    },
    "papermill": {
     "duration": 0.035565,
     "end_time": "2023-07-14T09:43:55.876923",
     "exception": false,
     "start_time": "2023-07-14T09:43:55.841358",
     "status": "completed"
    },
    "tags": []
   },
   "outputs": [],
   "source": [
    "cprint(\n",
    "    \"Basic information of data\",\n",
    "    f\"Number of family types      : {num_family}\",\n",
    "    f\"Number of stores            : {num_store}\",\n",
    "    f\"Number of store-family pairs: {num_family * num_store}\",\n",
    "    f\"Number of target series     : {num_ts}\",\n",
    "    \"\",\n",
    "    f\"Number of unique train dates: {num_train_date}\",\n",
    "    f\"Train date range            : {train_len} days from {train_start} to {train_end}\",\n",
    "    f\"Number of unique test dates : {num_test_date}\",\n",
    "    f\"Test date range             : {test_len} days from {test_start} to {test_end}\",\n",
    ")"
   ]
  },
  {
   "attachments": {},
   "cell_type": "markdown",
   "id": "1f05e86b",
   "metadata": {
    "papermill": {
     "duration": 0.024479,
     "end_time": "2023-07-14T09:43:55.925979",
     "exception": false,
     "start_time": "2023-07-14T09:43:55.901500",
     "status": "completed"
    },
    "tags": []
   },
   "source": [
    "###  Check: The 4 missing dates fall on Christmas across the years."
   ]
  },
  {
   "attachments": {},
   "cell_type": "markdown",
   "id": "0d065e99",
   "metadata": {
    "papermill": {
     "duration": 0.025034,
     "end_time": "2023-07-14T09:43:55.976862",
     "exception": false,
     "start_time": "2023-07-14T09:43:55.951828",
     "status": "completed"
    },
    "tags": []
   },
   "source": [
    "It turns out that all the target series have missing dates on Christmas across the years, which suggests that the stores could be closed on this day."
   ]
  },
  {
   "cell_type": "code",
   "execution_count": null,
   "id": "c23f8449",
   "metadata": {
    "execution": {
     "iopub.execute_input": "2023-07-14T09:43:56.030018Z",
     "iopub.status.busy": "2023-07-14T09:43:56.029617Z",
     "iopub.status.idle": "2023-07-14T09:43:56.335414Z",
     "shell.execute_reply": "2023-07-14T09:43:56.334481Z"
    },
    "papermill": {
     "duration": 0.336027,
     "end_time": "2023-07-14T09:43:56.338261",
     "exception": false,
     "start_time": "2023-07-14T09:43:56.002234",
     "status": "completed"
    },
    "tags": []
   },
   "outputs": [],
   "source": [
    "missing_dates = pd.date_range(train_start, train_end).difference(train.date.unique())\n",
    "missing_dates = missing_dates.strftime(\"%Y-%m-%d\").tolist()\n",
    "\n",
    "unique_dp_count = train.groupby([\"store_nbr\", \"family\"]).date.count().unique().tolist()"
   ]
  },
  {
   "cell_type": "code",
   "execution_count": null,
   "id": "96c32768",
   "metadata": {
    "_kg_hide-input": true,
    "execution": {
     "iopub.execute_input": "2023-07-14T09:43:56.391964Z",
     "iopub.status.busy": "2023-07-14T09:43:56.391594Z",
     "iopub.status.idle": "2023-07-14T09:43:56.396182Z",
     "shell.execute_reply": "2023-07-14T09:43:56.395276Z"
    },
    "papermill": {
     "duration": 0.033988,
     "end_time": "2023-07-14T09:43:56.397851",
     "exception": false,
     "start_time": "2023-07-14T09:43:56.363863",
     "status": "completed"
    },
    "tags": []
   },
   "outputs": [],
   "source": [
    "cprint(\n",
    "    \"Missing gaps in time series\",\n",
    "    f\"List incl. unique counts of data points: {unique_dp_count}\",\n",
    "    f\"Missing dates                          : {missing_dates}\",\n",
    ")"
   ]
  },
  {
   "attachments": {},
   "cell_type": "markdown",
   "id": "bb072204",
   "metadata": {
    "papermill": {
     "duration": 0.02496,
     "end_time": "2023-07-14T09:43:56.448041",
     "exception": false,
     "start_time": "2023-07-14T09:43:56.423081",
     "status": "completed"
    },
    "tags": []
   },
   "source": [
    "To address this problem, we fill the missing dates by reindexing our training data, and then fill the `sales` and `onpromotion` columns with 0s to indicate that there are no sales/promotions since the stores are closed."
   ]
  },
  {
   "cell_type": "code",
   "execution_count": null,
   "id": "58a2114b",
   "metadata": {
    "execution": {
     "iopub.execute_input": "2023-07-14T09:43:56.500115Z",
     "iopub.status.busy": "2023-07-14T09:43:56.499715Z",
     "iopub.status.idle": "2023-07-14T09:43:57.940420Z",
     "shell.execute_reply": "2023-07-14T09:43:57.939128Z"
    },
    "papermill": {
     "duration": 1.469594,
     "end_time": "2023-07-14T09:43:57.942757",
     "exception": false,
     "start_time": "2023-07-14T09:43:56.473163",
     "status": "completed"
    },
    "tags": []
   },
   "outputs": [],
   "source": [
    "# reindex training data\n",
    "multi_idx = pd.MultiIndex.from_product(\n",
    "    [pd.date_range(train_start, train_end), train.store_nbr.unique(), train.family.unique()],\n",
    "    names=[\"date\", \"store_nbr\", \"family\"],\n",
    ")\n",
    "train = train.set_index([\"date\", \"store_nbr\", \"family\"]).reindex(multi_idx).reset_index()\n",
    "\n",
    "# fill missing values with 0s\n",
    "train[[\"sales\", \"onpromotion\"]] = train[[\"sales\", \"onpromotion\"]].fillna(0.)\n",
    "train.id = train.id.interpolate(method=\"linear\") # interpolate linearly as a filler for the 'id'"
   ]
  },
  {
   "attachments": {},
   "cell_type": "markdown",
   "id": "2671a679",
   "metadata": {
    "papermill": {
     "duration": 0.024624,
     "end_time": "2023-07-14T09:43:57.992604",
     "exception": false,
     "start_time": "2023-07-14T09:43:57.967980",
     "status": "completed"
    },
    "tags": []
   },
   "source": [
    "### Check: There are no oil prices on weekends."
   ]
  },
  {
   "attachments": {},
   "cell_type": "markdown",
   "id": "34eec6f5",
   "metadata": {
    "papermill": {
     "duration": 0.024789,
     "end_time": "2023-07-14T09:43:58.042831",
     "exception": false,
     "start_time": "2023-07-14T09:43:58.018042",
     "status": "completed"
    },
    "tags": []
   },
   "source": [
    "We can check there there are no oil prices on weekends, and this is mainly due to the nature of trading markets."
   ]
  },
  {
   "cell_type": "code",
   "execution_count": null,
   "id": "3c69c12c",
   "metadata": {
    "execution": {
     "iopub.execute_input": "2023-07-14T09:43:58.094549Z",
     "iopub.status.busy": "2023-07-14T09:43:58.094219Z",
     "iopub.status.idle": "2023-07-14T09:43:58.102707Z",
     "shell.execute_reply": "2023-07-14T09:43:58.101948Z"
    },
    "papermill": {
     "duration": 0.036397,
     "end_time": "2023-07-14T09:43:58.104447",
     "exception": false,
     "start_time": "2023-07-14T09:43:58.068050",
     "status": "completed"
    },
    "tags": []
   },
   "outputs": [],
   "source": [
    "missing_oil_dates = pd.date_range(train_start, test_end).difference(oil.date)\n",
    "num_missing_oil_dates = len(missing_oil_dates)\n",
    "num_wknd_missing = (missing_oil_dates.weekday >= 5).sum()\n",
    "total_num_wknd = (pd.date_range(train_start, test_end).weekday >= 5).sum()"
   ]
  },
  {
   "cell_type": "code",
   "execution_count": null,
   "id": "9cd8241d",
   "metadata": {
    "_kg_hide-input": true,
    "execution": {
     "iopub.execute_input": "2023-07-14T09:43:58.156822Z",
     "iopub.status.busy": "2023-07-14T09:43:58.156463Z",
     "iopub.status.idle": "2023-07-14T09:43:58.161051Z",
     "shell.execute_reply": "2023-07-14T09:43:58.160137Z"
    },
    "papermill": {
     "duration": 0.033775,
     "end_time": "2023-07-14T09:43:58.163604",
     "exception": false,
     "start_time": "2023-07-14T09:43:58.129829",
     "status": "completed"
    },
    "tags": []
   },
   "outputs": [],
   "source": [
    "cprint(\n",
    "    \"Missing oil dates\",\n",
    "    f\"Number of missing oil dates: {num_missing_oil_dates}\",\n",
    "    f\"Number of weekends missing : {num_wknd_missing}\",\n",
    "    f\"Total number of weekends   : {total_num_wknd}\",\n",
    ")"
   ]
  },
  {
   "attachments": {},
   "cell_type": "markdown",
   "id": "1a4a7027",
   "metadata": {
    "papermill": {
     "duration": 0.025228,
     "end_time": "2023-07-14T09:43:58.215478",
     "exception": false,
     "start_time": "2023-07-14T09:43:58.190250",
     "status": "completed"
    },
    "tags": []
   },
   "source": [
    "Because our grocery stores open on weekends as well, there is a need to estimate the missing oil prices if we are to use them in our models. For simplicity, we fill the missing values in the `oil` column using linear interpolation."
   ]
  },
  {
   "cell_type": "code",
   "execution_count": null,
   "id": "aa29f9d8",
   "metadata": {
    "execution": {
     "iopub.execute_input": "2023-07-14T09:43:58.268464Z",
     "iopub.status.busy": "2023-07-14T09:43:58.268115Z",
     "iopub.status.idle": "2023-07-14T09:43:58.281561Z",
     "shell.execute_reply": "2023-07-14T09:43:58.280342Z"
    },
    "papermill": {
     "duration": 0.042582,
     "end_time": "2023-07-14T09:43:58.283778",
     "exception": false,
     "start_time": "2023-07-14T09:43:58.241196",
     "status": "completed"
    },
    "tags": []
   },
   "outputs": [],
   "source": [
    "# reindex oil data\n",
    "oil = oil.merge(\n",
    "    pd.DataFrame({\"date\": pd.date_range(train_start, test_end)}),\n",
    "    on=\"date\",\n",
    "    how=\"outer\",\n",
    ").sort_values(\"date\", ignore_index=True)\n",
    "\n",
    "# fill missing values using linear interpolation\n",
    "oil.oil = oil.oil.interpolate(method=\"linear\", limit_direction=\"both\")"
   ]
  },
  {
   "attachments": {},
   "cell_type": "markdown",
   "id": "444d361b",
   "metadata": {
    "papermill": {
     "duration": 0.025294,
     "end_time": "2023-07-14T09:43:58.334601",
     "exception": false,
     "start_time": "2023-07-14T09:43:58.309307",
     "status": "completed"
    },
    "tags": []
   },
   "source": [
    "### Check: There are missing transactions due to either zero sales or missing records."
   ]
  },
  {
   "attachments": {},
   "cell_type": "markdown",
   "id": "e85d1dbc",
   "metadata": {
    "papermill": {
     "duration": 0.025009,
     "end_time": "2023-07-14T09:43:58.385877",
     "exception": false,
     "start_time": "2023-07-14T09:43:58.360868",
     "status": "completed"
    },
    "tags": []
   },
   "source": [
    "With 54 stores and 1688 training dates, we should have a total of 91152 records of transaction. However, this does not tally with the dataset given. We can easily check that the transaction data does not record days with zero sales, indicating that such days are generally not recorded. As such, for days with zero sales, we fill the `transactions` column with 0s.\n",
    "\n",
    "After doing that, we observe that there are still missing values, suggesting that there are indeed missing data entries not due to zero sales. For simplicity, we fill the remaining missing values using linear interpolation."
   ]
  },
  {
   "cell_type": "code",
   "execution_count": null,
   "id": "b4f51b0f",
   "metadata": {
    "execution": {
     "iopub.execute_input": "2023-07-14T09:43:58.440137Z",
     "iopub.status.busy": "2023-07-14T09:43:58.438849Z",
     "iopub.status.idle": "2023-07-14T09:43:58.578763Z",
     "shell.execute_reply": "2023-07-14T09:43:58.577798Z"
    },
    "papermill": {
     "duration": 0.169759,
     "end_time": "2023-07-14T09:43:58.581008",
     "exception": false,
     "start_time": "2023-07-14T09:43:58.411249",
     "status": "completed"
    },
    "tags": []
   },
   "outputs": [],
   "source": [
    "num_zero_sales = (train.groupby([\"date\", \"store_nbr\"]).sales.sum().eq(0)).sum()\n",
    "total_rec = num_store * train_len\n",
    "curr_rec = len(transaction.index)\n",
    "missing_rec = total_rec - curr_rec - num_zero_sales"
   ]
  },
  {
   "cell_type": "code",
   "execution_count": null,
   "id": "8822864a",
   "metadata": {
    "_kg_hide-input": true,
    "execution": {
     "iopub.execute_input": "2023-07-14T09:43:58.635269Z",
     "iopub.status.busy": "2023-07-14T09:43:58.633842Z",
     "iopub.status.idle": "2023-07-14T09:43:58.640543Z",
     "shell.execute_reply": "2023-07-14T09:43:58.639205Z"
    },
    "papermill": {
     "duration": 0.036174,
     "end_time": "2023-07-14T09:43:58.642976",
     "exception": false,
     "start_time": "2023-07-14T09:43:58.606802",
     "status": "completed"
    },
    "tags": []
   },
   "outputs": [],
   "source": [
    "cprint(\n",
    "    \"Missing transaction records\",\n",
    "    f\"Correct number of records: {total_rec}\",\n",
    "    \"\",\n",
    "    \"Breakdown...\",\n",
    "    f\"Current number of records: {curr_rec}\",\n",
    "    f\"Number of zero sales     : {num_zero_sales}\",\n",
    "    f\"Number of missing records: {missing_rec}\",\n",
    ")"
   ]
  },
  {
   "cell_type": "code",
   "execution_count": null,
   "id": "bcf28cbc",
   "metadata": {
    "execution": {
     "iopub.execute_input": "2023-07-14T09:43:58.697231Z",
     "iopub.status.busy": "2023-07-14T09:43:58.696886Z",
     "iopub.status.idle": "2023-07-14T09:43:58.903206Z",
     "shell.execute_reply": "2023-07-14T09:43:58.902133Z"
    },
    "papermill": {
     "duration": 0.236641,
     "end_time": "2023-07-14T09:43:58.905804",
     "exception": false,
     "start_time": "2023-07-14T09:43:58.669163",
     "status": "completed"
    },
    "tags": []
   },
   "outputs": [],
   "source": [
    "# compute total sales for each store\n",
    "store_sales = train.groupby([\"date\", \"store_nbr\"]).sales.sum().reset_index()\n",
    "\n",
    "# reindex transaction data\n",
    "transaction = transaction.merge(\n",
    "    store_sales,\n",
    "    on=[\"date\", \"store_nbr\"],\n",
    "    how=\"outer\",\n",
    ").sort_values([\"date\", \"store_nbr\"], ignore_index=True)\n",
    "\n",
    "# fill missing values with 0s for days with zero sales\n",
    "transaction.loc[transaction.sales.eq(0), \"transactions\"] = 0.\n",
    "transaction = transaction.drop(columns=[\"sales\"])\n",
    "\n",
    "# fill remaining missing values using linear interpolation\n",
    "transaction.transactions = transaction.groupby(\"store_nbr\", group_keys=False).transactions.apply(\n",
    "    lambda x: x.interpolate(method=\"linear\", limit_direction=\"both\")\n",
    ")"
   ]
  },
  {
   "attachments": {},
   "cell_type": "markdown",
   "id": "cffaaedb",
   "metadata": {
    "papermill": {
     "duration": 0.025378,
     "end_time": "2023-07-14T09:43:58.956920",
     "exception": false,
     "start_time": "2023-07-14T09:43:58.931542",
     "status": "completed"
    },
    "tags": []
   },
   "source": [
    "### Check: Regional holidays correspond to the state level, while local holidays correspond to the city level."
   ]
  },
  {
   "attachments": {},
   "cell_type": "markdown",
   "id": "db76d7e3",
   "metadata": {
    "papermill": {
     "duration": 0.026175,
     "end_time": "2023-07-14T09:43:59.008804",
     "exception": false,
     "start_time": "2023-07-14T09:43:58.982629",
     "status": "completed"
    },
    "tags": []
   },
   "source": [
    "For our holiday data, we note that there are holidays on different scales (national, regional and local). Moreover, regional holidays correspond to the state level, while local holidays correspond to the city level. This can be verified by checking the `locale_name` column, as well as the `city` and `state` columns in the store data. \n",
    "\n",
    "For national holidays, the `locale_name` always states the country, Ecuador. On the other hand, the values of `locale_name` can also be found in the `state` column for regional holidays. The same goes for local holidays with the `city` column. Because of this, we find out that not all cities have local holidays, and not all states have regional holidays."
   ]
  },
  {
   "cell_type": "code",
   "execution_count": null,
   "id": "a231578a",
   "metadata": {
    "execution": {
     "iopub.execute_input": "2023-07-14T09:43:59.063209Z",
     "iopub.status.busy": "2023-07-14T09:43:59.062848Z",
     "iopub.status.idle": "2023-07-14T09:43:59.072874Z",
     "shell.execute_reply": "2023-07-14T09:43:59.071634Z"
    },
    "papermill": {
     "duration": 0.040314,
     "end_time": "2023-07-14T09:43:59.075261",
     "exception": false,
     "start_time": "2023-07-14T09:43:59.034947",
     "status": "completed"
    },
    "tags": []
   },
   "outputs": [],
   "source": [
    "national_locale_name = sorted(holiday[holiday.locale.eq(\"National\")].locale_name.unique().tolist())\n",
    "regional_locale_name = sorted(holiday[holiday.locale.eq(\"Regional\")].locale_name.unique().tolist())\n",
    "local_locale_name = sorted(holiday[holiday.locale.eq(\"Local\")].locale_name.unique().tolist())"
   ]
  },
  {
   "cell_type": "code",
   "execution_count": null,
   "id": "d9aec654",
   "metadata": {
    "_kg_hide-input": true,
    "execution": {
     "iopub.execute_input": "2023-07-14T09:43:59.129141Z",
     "iopub.status.busy": "2023-07-14T09:43:59.128533Z",
     "iopub.status.idle": "2023-07-14T09:43:59.133391Z",
     "shell.execute_reply": "2023-07-14T09:43:59.132447Z"
    },
    "papermill": {
     "duration": 0.034389,
     "end_time": "2023-07-14T09:43:59.135677",
     "exception": false,
     "start_time": "2023-07-14T09:43:59.101288",
     "status": "completed"
    },
    "tags": []
   },
   "outputs": [],
   "source": [
    "cprint(\n",
    "    \"List of locale names for each holiday\",\n",
    "    \"Locale names for national holidays:\",\n",
    "    national_locale_name,\n",
    "    \"\",\n",
    "    \"Locale names for regional holidays:\",\n",
    "    regional_locale_name,\n",
    "    \"\",\n",
    "    \"Locale names for local holidays:\",\n",
    "    local_locale_name,\n",
    ")"
   ]
  },
  {
   "attachments": {},
   "cell_type": "markdown",
   "id": "9adb3d64",
   "metadata": {
    "papermill": {
     "duration": 0.025726,
     "end_time": "2023-07-14T09:43:59.188132",
     "exception": false,
     "start_time": "2023-07-14T09:43:59.162406",
     "status": "completed"
    },
    "tags": []
   },
   "source": [
    "### Check: There are many holidays of a similar nature, which can be grouped together to simplify modeling."
   ]
  },
  {
   "attachments": {},
   "cell_type": "markdown",
   "id": "ee8b8fb6",
   "metadata": {
    "papermill": {
     "duration": 0.026118,
     "end_time": "2023-07-14T09:43:59.240031",
     "exception": false,
     "start_time": "2023-07-14T09:43:59.213913",
     "status": "completed"
    },
    "tags": []
   },
   "source": [
    "In the holiday data, some days surrounding the actual holidays are also labeled as holidays. An example is shown below for Christmas (Navidad) 2012, where terms like '-4' and '+1' indicate the number of days before and after Christmas. We can check that in general, these surrounding days are labeled as 'Additional' in the `type` column. In addition, since Christmas 2012 falls on a Tuesday, 24 December 2012 is declared as a bridge holiday to make a long weekend. We can group such holidays together for standardization."
   ]
  },
  {
   "cell_type": "code",
   "execution_count": null,
   "id": "cdab19c1",
   "metadata": {
    "_kg_hide-input": false,
    "execution": {
     "iopub.execute_input": "2023-07-14T09:43:59.294954Z",
     "iopub.status.busy": "2023-07-14T09:43:59.294603Z",
     "iopub.status.idle": "2023-07-14T09:43:59.313357Z",
     "shell.execute_reply": "2023-07-14T09:43:59.312001Z"
    },
    "papermill": {
     "duration": 0.048717,
     "end_time": "2023-07-14T09:43:59.315507",
     "exception": false,
     "start_time": "2023-07-14T09:43:59.266790",
     "status": "completed"
    },
    "tags": []
   },
   "outputs": [],
   "source": [
    "holiday[(holiday.description.str.contains(\"Navidad\"))&(holiday.date.dt.year.eq(2012))]"
   ]
  },
  {
   "attachments": {},
   "cell_type": "markdown",
   "id": "824ef2af",
   "metadata": {
    "papermill": {
     "duration": 0.025842,
     "end_time": "2023-07-14T09:43:59.368362",
     "exception": false,
     "start_time": "2023-07-14T09:43:59.342520",
     "status": "completed"
    },
    "tags": []
   },
   "source": [
    "It turns out that there are other examples, such as the Independence Day for the different cities. For simplicity, we assume that such holidays should have similar impacts on the store sales. We assign the same labels for such holidays by removing extra words like bridge (puente) and the city/state names from the `description` column. The function to process the column is given below."
   ]
  },
  {
   "cell_type": "code",
   "execution_count": null,
   "id": "3369ccfe",
   "metadata": {
    "execution": {
     "iopub.execute_input": "2023-07-14T09:43:59.422368Z",
     "iopub.status.busy": "2023-07-14T09:43:59.421956Z",
     "iopub.status.idle": "2023-07-14T09:43:59.427470Z",
     "shell.execute_reply": "2023-07-14T09:43:59.426446Z"
    },
    "papermill": {
     "duration": 0.035632,
     "end_time": "2023-07-14T09:43:59.430150",
     "exception": false,
     "start_time": "2023-07-14T09:43:59.394518",
     "status": "completed"
    },
    "tags": []
   },
   "outputs": [],
   "source": [
    "def process_holiday(s):\n",
    "    if \"futbol\" in s:\n",
    "        return \"futbol\"\n",
    "    to_remove = list(set(store.city.str.lower()) | set(store.state.str.lower()))\n",
    "    for w in to_remove:\n",
    "        s = s.replace(w, \"\")\n",
    "    return s"
   ]
  },
  {
   "cell_type": "code",
   "execution_count": null,
   "id": "779b22ef",
   "metadata": {
    "execution": {
     "iopub.execute_input": "2023-07-14T09:43:59.483268Z",
     "iopub.status.busy": "2023-07-14T09:43:59.482932Z",
     "iopub.status.idle": "2023-07-14T09:43:59.605290Z",
     "shell.execute_reply": "2023-07-14T09:43:59.604670Z"
    },
    "papermill": {
     "duration": 0.151148,
     "end_time": "2023-07-14T09:43:59.607482",
     "exception": false,
     "start_time": "2023-07-14T09:43:59.456334",
     "status": "completed"
    },
    "tags": []
   },
   "outputs": [],
   "source": [
    "holiday.description = holiday.apply(\n",
    "    lambda x: x.description.lower().replace(x.locale_name.lower(), \"\"), \n",
    "    axis=1,\n",
    ").apply(\n",
    "    process_holiday\n",
    ").replace(\n",
    "    r\"[+-]\\d+|\\b(de|del|traslado|recupero|puente|-)\\b\", \"\", regex=True,\n",
    ").replace(\n",
    "    r\"\\s+|-\", \" \", regex=True,\n",
    ").str.strip()\n",
    "\n",
    "holiday.head()"
   ]
  },
  {
   "attachments": {},
   "cell_type": "markdown",
   "id": "b89bdf98",
   "metadata": {
    "papermill": {
     "duration": 0.027283,
     "end_time": "2023-07-14T09:43:59.666916",
     "exception": false,
     "start_time": "2023-07-14T09:43:59.639633",
     "status": "completed"
    },
    "tags": []
   },
   "source": [
    "We further process the holiday data by removing holidays which are transferred. This can be checked using the `transferred` column. Since the holidays are not celebrated during the official date and are more like normal days, we exclude them. \n",
    "\n",
    "We then separate them into national/regional/local holidays, and Saturdays that are designated as work days. Prefixes `nat_` / `loc_` are set for national/local holidays to better differentiate them during visualization later. For regional holidays, it turns out that we only have `provincialization`, so it is being labeled as such. An example is shown below, where the national holidays are being encoded as dummy variables. The same applies for the other holidays."
   ]
  },
  {
   "cell_type": "code",
   "execution_count": null,
   "id": "5bf09224",
   "metadata": {
    "execution": {
     "iopub.execute_input": "2023-07-14T09:43:59.720855Z",
     "iopub.status.busy": "2023-07-14T09:43:59.720520Z",
     "iopub.status.idle": "2023-07-14T09:43:59.764736Z",
     "shell.execute_reply": "2023-07-14T09:43:59.763619Z"
    },
    "papermill": {
     "duration": 0.073747,
     "end_time": "2023-07-14T09:43:59.767078",
     "exception": false,
     "start_time": "2023-07-14T09:43:59.693331",
     "status": "completed"
    },
    "tags": []
   },
   "outputs": [],
   "source": [
    "# remove transferred holidays\n",
    "holiday = holiday[holiday.transferred.eq(False)]\n",
    "\n",
    "#########################################\n",
    "### Saturdays designated as work days ###\n",
    "#########################################\n",
    "work_days = holiday[holiday.type.eq(\"Work Day\")]\n",
    "work_days = work_days[[\"date\", \"type\"]].rename(\n",
    "    columns={\"type\": \"work_day\"}\n",
    ").reset_index(drop=True)\n",
    "work_days.work_day = work_days.work_day.notna().astype(int)\n",
    "# remove work days after extracting above\n",
    "holiday = holiday[holiday.type!=\"Work Day\"].reset_index(drop=True)\n",
    "\n",
    "###################################\n",
    "### local holidays (city level) ###\n",
    "###################################\n",
    "local_holidays = holiday[holiday.locale.eq(\"Local\")]\n",
    "local_holidays = local_holidays[[\"date\", \"locale_name\", \"description\"]].rename(\n",
    "    columns={\"locale_name\": \"city\"}\n",
    ").reset_index(drop=True)\n",
    "local_holidays = local_holidays[~local_holidays.duplicated()]\n",
    "local_holidays = pd.get_dummies(local_holidays, columns=[\"description\"], prefix=\"loc\")\n",
    "\n",
    "#######################################\n",
    "### regional holidays (state level) ###\n",
    "#######################################\n",
    "regional_holidays = holiday[holiday.locale.eq(\"Regional\")]\n",
    "regional_holidays = regional_holidays[[\"date\", \"locale_name\", \"description\"]].rename(\n",
    "    columns={\"locale_name\": \"state\", \"description\": \"provincializacion\"}\n",
    ").reset_index(drop=True)\n",
    "regional_holidays.provincializacion = regional_holidays.provincializacion.eq(\"provincializacion\").astype(int)\n",
    "\n",
    "#########################\n",
    "### national holidays ###\n",
    "#########################\n",
    "national_holidays = holiday[holiday.locale.eq(\"National\")]\n",
    "national_holidays = national_holidays[[\"date\", \"description\"]].reset_index(drop=True)\n",
    "national_holidays = national_holidays[~national_holidays.duplicated()]\n",
    "national_holidays = pd.get_dummies(national_holidays, columns=[\"description\"], prefix=\"nat\")\n",
    "# different national holidays may fall on the same day\n",
    "national_holidays = national_holidays.groupby(\"date\").sum().reset_index()\n",
    "# shorten name for visualization purposes later\n",
    "national_holidays = national_holidays.rename(columns={\"nat_primer grito independencia\": \"nat_primer grito\"})\n",
    "\n",
    "national_holidays.head()"
   ]
  },
  {
   "attachments": {},
   "cell_type": "markdown",
   "id": "c6e17148",
   "metadata": {
    "papermill": {
     "duration": 0.026628,
     "end_time": "2023-07-14T09:43:59.820149",
     "exception": false,
     "start_time": "2023-07-14T09:43:59.793521",
     "status": "completed"
    },
    "tags": []
   },
   "source": [
    "---"
   ]
  },
  {
   "attachments": {},
   "cell_type": "markdown",
   "id": "5213814a",
   "metadata": {
    "papermill": {
     "duration": 0.026971,
     "end_time": "2023-07-14T09:43:59.873469",
     "exception": false,
     "start_time": "2023-07-14T09:43:59.846498",
     "status": "completed"
    },
    "tags": []
   },
   "source": [
    "# 2. Data Exploration"
   ]
  },
  {
   "attachments": {},
   "cell_type": "markdown",
   "id": "238f6660",
   "metadata": {
    "papermill": {
     "duration": 0.024465,
     "end_time": "2023-07-14T09:43:59.923282",
     "exception": false,
     "start_time": "2023-07-14T09:43:59.898817",
     "status": "completed"
    },
    "tags": []
   },
   "source": [
    "After data preprocessing, we can now analyze our data and discover patterns using visualizations. Before we do that, we reshape our data from the long form to the wide form, where each column corresponds to one time series. Either forms can be easier to work with in different situations. An example is shown below for our target series, where the index is the time dimension represented by `date` and the columns are the `sales` for each store-family pair."
   ]
  },
  {
   "cell_type": "code",
   "execution_count": null,
   "id": "8560c2f7",
   "metadata": {
    "execution": {
     "iopub.execute_input": "2023-07-14T09:43:59.978754Z",
     "iopub.status.busy": "2023-07-14T09:43:59.977649Z",
     "iopub.status.idle": "2023-07-14T09:44:02.481403Z",
     "shell.execute_reply": "2023-07-14T09:44:02.480230Z"
    },
    "papermill": {
     "duration": 2.534167,
     "end_time": "2023-07-14T09:44:02.483700",
     "exception": false,
     "start_time": "2023-07-14T09:43:59.949533",
     "status": "completed"
    },
    "tags": []
   },
   "outputs": [],
   "source": [
    "sales_ts = pd.pivot_table(train, values=\"sales\", index=\"date\", columns=[\"store_nbr\", \"family\"])\n",
    "tr_ts = pd.pivot_table(transaction, values=\"transactions\", index=\"date\", columns=\"store_nbr\")\n",
    "promo_ts = pd.pivot_table(train, values=\"onpromotion\", index=\"date\", columns=[\"store_nbr\", \"family\"])\n",
    "\n",
    "sales_ts.head()"
   ]
  },
  {
   "attachments": {},
   "cell_type": "markdown",
   "id": "89691ba3",
   "metadata": {
    "papermill": {
     "duration": 0.026807,
     "end_time": "2023-07-14T09:44:02.537641",
     "exception": false,
     "start_time": "2023-07-14T09:44:02.510834",
     "status": "completed"
    },
    "tags": []
   },
   "source": [
    "For visualization purposes, there is a need to scale our data if we want to look at the average value of the `sales` column. This helps to balance the impact across all store-family pairs on the average value. The same applies for the `transactions` and `onpromotion` values, but we will scale them only when needed later.\n",
    "\n",
    "We also convert back the scaled sales data to the long form and add the holiday columns to analyze the holiday effects later. An additional column `no_holiday` is computed to indicate days without any holidays. This is important when we are comparing the store sales between holiday and non-holiday periods."
   ]
  },
  {
   "cell_type": "code",
   "execution_count": null,
   "id": "99327311",
   "metadata": {
    "execution": {
     "iopub.execute_input": "2023-07-14T09:44:02.595691Z",
     "iopub.status.busy": "2023-07-14T09:44:02.594520Z",
     "iopub.status.idle": "2023-07-14T09:44:10.551159Z",
     "shell.execute_reply": "2023-07-14T09:44:10.549972Z"
    },
    "papermill": {
     "duration": 7.988495,
     "end_time": "2023-07-14T09:44:10.553421",
     "exception": false,
     "start_time": "2023-07-14T09:44:02.564926",
     "status": "completed"
    },
    "tags": []
   },
   "outputs": [],
   "source": [
    "# scale target series\n",
    "scaler = MinMaxScaler()\n",
    "sales_ts_scaled = sales_ts.copy()\n",
    "sales_ts_scaled[sales_ts_scaled.columns] = scaler.fit_transform(sales_ts_scaled)\n",
    "\n",
    "# convert back to long form and add the holiday columns\n",
    "holiday_sales_merged = sales_ts_scaled.melt(\n",
    "    value_name=\"sales\", ignore_index=False,\n",
    ").reset_index().merge(\n",
    "    store, on=\"store_nbr\", how=\"left\",\n",
    ").merge(\n",
    "    work_days, on=\"date\", how=\"left\",\n",
    ").merge(\n",
    "    local_holidays, on=[\"date\", \"city\"], how=\"left\",\n",
    ").merge(\n",
    "    regional_holidays, on=[\"date\", \"state\"], how=\"left\",\n",
    ").merge(\n",
    "    national_holidays, on=\"date\", how=\"left\",\n",
    ").fillna(0)\n",
    "\n",
    "# include dummy variable for dates without any holidays\n",
    "holiday_list = [col for col in holiday_sales_merged if col.startswith((\"loc_\", \"nat_\", \"provincializacion\"))]\n",
    "holiday_sales_merged[\"no_holiday\"] = holiday_sales_merged[holiday_list].sum(axis=1).eq(0).astype(int)\n",
    "\n",
    "holiday_sales_merged.head()"
   ]
  },
  {
   "attachments": {},
   "cell_type": "markdown",
   "id": "2c8287db",
   "metadata": {
    "papermill": {
     "duration": 0.02709,
     "end_time": "2023-07-14T09:44:10.607414",
     "exception": false,
     "start_time": "2023-07-14T09:44:10.580324",
     "status": "completed"
    },
    "tags": []
   },
   "source": [
    "### Finding: In general, the number of zero sales is decreasing over time. Besides Christmas, there are also large numbers of zero sales on New Year's Day."
   ]
  },
  {
   "attachments": {},
   "cell_type": "markdown",
   "id": "897af6f1",
   "metadata": {
    "papermill": {
     "duration": 0.026568,
     "end_time": "2023-07-14T09:44:10.662344",
     "exception": false,
     "start_time": "2023-07-14T09:44:10.635776",
     "status": "completed"
    },
    "tags": []
   },
   "source": [
    "We start off by counting the number of target series with zero sales for each day. The counts of zero sales has a general **downward trend**, suggesting that periods with no sales are becoming less frequent and that the stores are generating positive sales consistently. This could be due to changes in some covariates that have a **temporal relationship** with the sales numbers, which we will investigate later.\n",
    "\n",
    "Besides Christmas, we also have large counts of zero sales on New Year's Day across the years. Similarly, many stores could be closed on this occasion, which we should take note of in our models later. Interestingly, there are great fluctations in the count of zero sales between 2014 and 2015."
   ]
  },
  {
   "cell_type": "code",
   "execution_count": null,
   "id": "2eecb4b3",
   "metadata": {
    "_kg_hide-input": true,
    "execution": {
     "iopub.execute_input": "2023-07-14T09:44:10.717966Z",
     "iopub.status.busy": "2023-07-14T09:44:10.717401Z",
     "iopub.status.idle": "2023-07-14T09:44:11.355335Z",
     "shell.execute_reply": "2023-07-14T09:44:11.354391Z"
    },
    "papermill": {
     "duration": 0.667845,
     "end_time": "2023-07-14T09:44:11.357214",
     "exception": false,
     "start_time": "2023-07-14T09:44:10.689369",
     "status": "completed"
    },
    "tags": []
   },
   "outputs": [],
   "source": [
    "def plot_zero_count_ts():\n",
    "    zero_count_ts = (sales_ts.eq(0)).sum(axis=1).to_frame(\"zero_sales_ct\").reset_index()\n",
    "    zero_count_filtered = zero_count_ts[zero_count_ts.zero_sales_ct.gt(1500)].reset_index(drop=True)\n",
    "    high_zero_dates = zero_count_filtered.date.dt.strftime(\"%Y-%m-%d\")\n",
    "    high_zero_dates = [d for d in high_zero_dates if not d.endswith(\"12-25\")]\n",
    "    high_zero_counts = zero_count_filtered[zero_count_filtered.date.isin(high_zero_dates)].zero_sales_ct.tolist()\n",
    "    \n",
    "    cprint(\n",
    "        \"Dates with zero sales\",\n",
    "        f\"Dates (excl. Christmas) with zero sales: {high_zero_dates}\",\n",
    "        f\"Corresponding counts of zero sales     : {high_zero_counts}\",\n",
    "        f\"Total number of target series          : {num_ts}\",\n",
    "    )\n",
    "    \n",
    "    plt.figure(figsize=(18, 6))\n",
    "    \n",
    "    sns.lineplot(data=zero_count_ts, x=\"date\", y=\"zero_sales_ct\")\n",
    "    sns.scatterplot(\n",
    "        data=zero_count_filtered, x=\"date\", y=\"zero_sales_ct\",\n",
    "        color=COLORS[1],\n",
    "        edgecolor=COLORS[1],\n",
    "        zorder=2,\n",
    "    )\n",
    "    for j in range(len(zero_count_filtered.index)):\n",
    "        ha = \"left\" if j%2==0 else \"right\"\n",
    "        offset = pd.Timedelta(7, \"d\") if ha==\"left\" else pd.Timedelta(-7, \"d\")\n",
    "        plt.text(\n",
    "            x=zero_count_filtered.date[j]+offset, y=zero_count_filtered.zero_sales_ct[j], \n",
    "            s=zero_count_filtered.date[j].strftime(\"%Y-%m-%d\"),\n",
    "            ha=ha,\n",
    "            va=\"center\",\n",
    "            size=14,\n",
    "        )\n",
    "    plt.ylabel(\"Counts of Zero Sales\")\n",
    "    plt.title(\"Total Counts of Zero Sales Across All Target Series\")\n",
    "    plt.tight_layout()\n",
    "    plt.show()\n",
    "\n",
    "plot_zero_count_ts()"
   ]
  },
  {
   "attachments": {},
   "cell_type": "markdown",
   "id": "d6e71ac5",
   "metadata": {
    "papermill": {
     "duration": 0.028176,
     "end_time": "2023-07-14T09:44:11.413326",
     "exception": false,
     "start_time": "2023-07-14T09:44:11.385150",
     "status": "completed"
    },
    "tags": []
   },
   "source": [
    "### Finding: There are some target series with all values equal to zero."
   ]
  },
  {
   "attachments": {},
   "cell_type": "markdown",
   "id": "2962541a",
   "metadata": {
    "papermill": {
     "duration": 0.026826,
     "end_time": "2023-07-14T09:44:11.468523",
     "exception": false,
     "start_time": "2023-07-14T09:44:11.441697",
     "status": "completed"
    },
    "tags": []
   },
   "source": [
    "Our training data has 53 target series with all values equal to zero. This could be due to poor sales performance or product unavailability. What is interesting here is that all stores have about 0 to 3 zero constant target series. If we consider this by the product family, books have the most number of zero constant target series. It appears that the **problem of zero sales could be due to the type of product** being sold."
   ]
  },
  {
   "cell_type": "code",
   "execution_count": null,
   "id": "9aa6645e",
   "metadata": {
    "_kg_hide-input": true,
    "execution": {
     "iopub.execute_input": "2023-07-14T09:44:11.524565Z",
     "iopub.status.busy": "2023-07-14T09:44:11.524251Z",
     "iopub.status.idle": "2023-07-14T09:44:12.627388Z",
     "shell.execute_reply": "2023-07-14T09:44:12.626208Z"
    },
    "papermill": {
     "duration": 1.134156,
     "end_time": "2023-07-14T09:44:12.629420",
     "exception": false,
     "start_time": "2023-07-14T09:44:11.495264",
     "status": "completed"
    },
    "tags": []
   },
   "outputs": [],
   "source": [
    "def plot_constant_ts_distribution():\n",
    "    const_ts = sales_ts.iloc[:, (sales_ts.std()==0).tolist()]\n",
    "    const_ts_labels = const_ts.columns.to_frame().reset_index(drop=True)\n",
    "    \n",
    "    cprint(\n",
    "        \"Constant target series\",\n",
    "        f\"Number of constant target series: {len(const_ts.columns)}\",\n",
    "        f\"List of unique constant values  : {const_ts.iloc[0].unique().tolist()}\",\n",
    "    )\n",
    "    \n",
    "    fig = plt.figure(figsize=(18, 9))\n",
    "\n",
    "    ax0 = sns.countplot(\n",
    "        data=const_ts_labels, x=\"store_nbr\",\n",
    "        color=COLORS[0],\n",
    "        ax=fig.add_subplot(211),\n",
    "    )\n",
    "    ax0.bar_label(ax0.containers[0], size=14)\n",
    "    plt.ylabel(\"Number of\\nZero Constant Target Series\")\n",
    "    plt.title(\"Stores with Zero Constant Target Series\")\n",
    "\n",
    "    ax1 = sns.countplot(\n",
    "        data=const_ts_labels, x=\"family\",\n",
    "        color=COLORS[1],\n",
    "        ax=fig.add_subplot(212),\n",
    "    )\n",
    "    ax1.bar_label(ax1.containers[0], size=14)\n",
    "    plt.ylabel(\"Number of\\nZero Constant Target Series\")\n",
    "    plt.title(\"Families with Zero Constant Target Series\")\n",
    "\n",
    "    plt.tight_layout()\n",
    "    plt.show()\n",
    "    \n",
    "plot_constant_ts_distribution()"
   ]
  },
  {
   "attachments": {},
   "cell_type": "markdown",
   "id": "c5031108",
   "metadata": {
    "papermill": {
     "duration": 0.029845,
     "end_time": "2023-07-14T09:44:12.691124",
     "exception": false,
     "start_time": "2023-07-14T09:44:12.661279",
     "status": "completed"
    },
    "tags": []
   },
   "source": [
    "### Finding: There are many target series with leading zeros."
   ]
  },
  {
   "attachments": {},
   "cell_type": "markdown",
   "id": "3b23ff97",
   "metadata": {
    "papermill": {
     "duration": 0.02852,
     "end_time": "2023-07-14T09:44:12.749367",
     "exception": false,
     "start_time": "2023-07-14T09:44:12.720847",
     "status": "completed"
    },
    "tags": []
   },
   "source": [
    "We look at some possible patterns of zero store sales. The zero constant target series are removed to get a better picture of the remaining target series. It turns out that we have many target series with leading zeros, with some series consisting of thousands of leading zeros. This suggests the possibility of product unavailability, or simply poor sales performance at the start.\n",
    "\n",
    "We note that the distribution of leading zeros is **fairly consistent** across the stores, with only a few stores having the boxplots lying above the rest. Examples are store numbers 52, 53. This could mean that some stores are more recently open, so there are no sales at the start of the target series. \n",
    "\n",
    "On the other hand, the distribution of leading zeros **varies** across the families of products. This suggests that the **problem of leading zeros could be related to the type of products**, like the target series for books all having thousands of leading zeros. This supports the previous finding above."
   ]
  },
  {
   "cell_type": "code",
   "execution_count": null,
   "id": "722cde57",
   "metadata": {
    "_kg_hide-input": true,
    "execution": {
     "iopub.execute_input": "2023-07-14T09:44:12.809452Z",
     "iopub.status.busy": "2023-07-14T09:44:12.808801Z",
     "iopub.status.idle": "2023-07-14T09:44:15.111328Z",
     "shell.execute_reply": "2023-07-14T09:44:15.110409Z"
    },
    "papermill": {
     "duration": 2.334684,
     "end_time": "2023-07-14T09:44:15.113352",
     "exception": false,
     "start_time": "2023-07-14T09:44:12.778668",
     "status": "completed"
    },
    "tags": []
   },
   "outputs": [],
   "source": [
    "def count_leading_zeros(x):\n",
    "    nonzero_idx = np.where(x!=0)[0]\n",
    "    if len(nonzero_idx) > 0:\n",
    "        return nonzero_idx[0]\n",
    "    else:\n",
    "        return len(x)\n",
    "\n",
    "def plot_leading_zeros_distribution():\n",
    "    leading_zeros = sales_ts.apply(count_leading_zeros).to_frame(\"num_leading_zeros\").reset_index()\n",
    "    leading_zeros = leading_zeros[leading_zeros.num_leading_zeros.lt(train_len)]\n",
    "    \n",
    "    cprint(\n",
    "        \"Time series with leading zeros (excluding zero constant target series)\",\n",
    "        f\"Total number of time series                : {len(leading_zeros.index)}\",\n",
    "        f\"Number of time series with >1 leading zeros: {leading_zeros.num_leading_zeros.gt(1).sum()}\",\n",
    "    )\n",
    "    \n",
    "    plot_kwargs = {\n",
    "        \"linewidth\": 2,\n",
    "        \"flierprops\": {\"alpha\": 0.5},\n",
    "    }\n",
    "    \n",
    "    fig = plt.figure(figsize=(18, 12))\n",
    "    \n",
    "    ax0 = sns.boxplot(\n",
    "        data=leading_zeros, x=\"store_nbr\", y=\"num_leading_zeros\",\n",
    "        color=COLORS[0],\n",
    "        ax=fig.add_subplot(211),\n",
    "        **plot_kwargs,\n",
    "    )\n",
    "    plt.ylabel(\"Number of Leading Zeros\")\n",
    "    plt.title(\"Distribution of Leading Zeros (Excluding Zero Constant Target Series) within Each Store\")\n",
    "\n",
    "    ax1 = sns.boxplot(\n",
    "        data=leading_zeros, x=\"family\", y=\"num_leading_zeros\",\n",
    "        color=COLORS[1],\n",
    "        ax=fig.add_subplot(212),\n",
    "        **plot_kwargs,\n",
    "    )\n",
    "    plt.xticks(rotation=90)\n",
    "    plt.ylabel(\"Number of Leading Zeros\")\n",
    "    plt.title(\"Distribution of Leading Zeros (Excluding Zero Constant Target Series) within Each Family\")\n",
    "\n",
    "    plt.tight_layout()\n",
    "    plt.show()\n",
    "\n",
    "plot_leading_zeros_distribution()"
   ]
  },
  {
   "attachments": {},
   "cell_type": "markdown",
   "id": "d7cf9db1",
   "metadata": {
    "papermill": {
     "duration": 0.03331,
     "end_time": "2023-07-14T09:44:15.179408",
     "exception": false,
     "start_time": "2023-07-14T09:44:15.146098",
     "status": "completed"
    },
    "tags": []
   },
   "source": [
    "### Finding: There are few target series with trailing zeros."
   ]
  },
  {
   "attachments": {},
   "cell_type": "markdown",
   "id": "932ff5b0",
   "metadata": {
    "papermill": {
     "duration": 0.030988,
     "end_time": "2023-07-14T09:44:15.242981",
     "exception": false,
     "start_time": "2023-07-14T09:44:15.211993",
     "status": "completed"
    },
    "tags": []
   },
   "source": [
    "We can also examine the number of trailing zeros at the end of the target series. Similarly, we remove the zero constant target series here. There are not as many target series with trailing zeros, suggesting **consistent** sales across the years.\n",
    "\n",
    "However, the presence of target series having hundreds of trailing zeros could be due to poor sales performance or that the product is no longer available towards the end. An example would be lawn and garden. In this case, **generating zero forecasts** for such target series would be a reasonable approach."
   ]
  },
  {
   "cell_type": "code",
   "execution_count": null,
   "id": "9a6e90aa",
   "metadata": {
    "_kg_hide-input": true,
    "execution": {
     "iopub.execute_input": "2023-07-14T09:44:15.306455Z",
     "iopub.status.busy": "2023-07-14T09:44:15.306076Z",
     "iopub.status.idle": "2023-07-14T09:44:18.112573Z",
     "shell.execute_reply": "2023-07-14T09:44:18.111791Z"
    },
    "papermill": {
     "duration": 2.840497,
     "end_time": "2023-07-14T09:44:18.114468",
     "exception": false,
     "start_time": "2023-07-14T09:44:15.273971",
     "status": "completed"
    },
    "tags": []
   },
   "outputs": [],
   "source": [
    "def count_trailing_zeros(x):\n",
    "    nonzero_idx = np.where(x!=0)[0]\n",
    "    if len(nonzero_idx) > 0:\n",
    "        return len(x) - nonzero_idx[-1] - 1\n",
    "    else:\n",
    "        return len(x)\n",
    "\n",
    "def plot_trailing_zeros_distribution():\n",
    "    trailing_zeros = sales_ts.apply(count_trailing_zeros).to_frame(\"num_trailing_zeros\").reset_index()\n",
    "    trailing_zeros = trailing_zeros[trailing_zeros.num_trailing_zeros.lt(train_len)]\n",
    "    \n",
    "    cprint(\n",
    "        \"Target series with trailing zeros (excluding zero constant target series)\",\n",
    "        f\"Total number of time series                : {len(trailing_zeros.index)}\",\n",
    "        f\"Number of target series with trailing zeros: {trailing_zeros.num_trailing_zeros.gt(0).sum()}\",\n",
    "    )\n",
    "    \n",
    "    plot_kwargs = {\n",
    "        \"linewidth\": 2,\n",
    "        \"flierprops\": {\"alpha\": 0.5},\n",
    "    }\n",
    "    \n",
    "    fig = plt.figure(figsize=(18, 12))\n",
    "    \n",
    "    ax0 = sns.boxplot(\n",
    "        data=trailing_zeros, x=\"store_nbr\", y=\"num_trailing_zeros\",\n",
    "        color=COLORS[0],\n",
    "        ax=fig.add_subplot(211),\n",
    "        **plot_kwargs,\n",
    "    )\n",
    "    plt.ylabel(\"Number of Trailing Zeros\")\n",
    "    plt.title(\"Distribution of Trailing Zeros (Excluding Zero Constant Target Series) within Each Store\")\n",
    "\n",
    "    ax1 = sns.boxplot(\n",
    "        data=trailing_zeros, x=\"family\", y=\"num_trailing_zeros\",\n",
    "        color=COLORS[1],\n",
    "        ax=fig.add_subplot(212),\n",
    "        **plot_kwargs,\n",
    "    )\n",
    "    plt.xticks(rotation=90)\n",
    "    plt.ylabel(\"Number of Trailing Zeros\")\n",
    "    plt.title(\"Distribution of Trailing Zeros (Excluding Zero Constant Target Series) within Each Family\")\n",
    "\n",
    "    plt.tight_layout()\n",
    "    plt.show()\n",
    "\n",
    "plot_trailing_zeros_distribution()"
   ]
  },
  {
   "attachments": {},
   "cell_type": "markdown",
   "id": "38260e82",
   "metadata": {
    "papermill": {
     "duration": 0.033353,
     "end_time": "2023-07-14T09:44:18.181428",
     "exception": false,
     "start_time": "2023-07-14T09:44:18.148075",
     "status": "completed"
    },
    "tags": []
   },
   "source": [
    "### Finding: The average sales is correlated with oil prices, promotions, and store transactions."
   ]
  },
  {
   "attachments": {},
   "cell_type": "markdown",
   "id": "d1afaea8",
   "metadata": {
    "papermill": {
     "duration": 0.032955,
     "end_time": "2023-07-14T09:44:18.247824",
     "exception": false,
     "start_time": "2023-07-14T09:44:18.214869",
     "status": "completed"
    },
    "tags": []
   },
   "source": [
    "After analyzing the target series, we look at possible covariates to help improve our models. The `transactions` column is considered as a past covariate because only its past values are known at the point of forecasting. To forecast the sales for tomorrow, we only know the values of the transactions that happened up to today.\n",
    "\n",
    "On the other hand, the `oil` and `onpromotion` columns are future covariates because their current (and possibly future) values are known at the point of forecasting. To forecast the sales for tomorrow, we have the values of oil prices and promotion values for tomorrow. This makes sense because setting the promotion values is usually done in advance to promote future store sales. It is unusual for us to know the oil prices in advance, but since we are given the data, one possible explanation is that we are using estimates of the oil prices.\n",
    "\n",
    "As mentioned previously, the `transactions` and `onpromotion` columns will be scaled before computing the average values. The average sales are computed by taking the average across all 1782 target series. From the plots below, we observe that:\n",
    "* Oil prices are **negatively** correlated with average sales. With Ecuador being an oil-dependent country, larger oil prices could have inflationary effects, resulting in smaller store sales.\n",
    "* Promotion values are **positively** correlated with average sales. This is straightfoward because with more ongoing promotions, this attracts human traffic and thus encourages greater sales. Another interesting observation is that there are **zero promotion values up to early 2014**.\n",
    "* Store transactions are **positively** correlated with average sales. The grocery stores consist of many product families which complement each other, like poultry, produce, and other food products. It makes sense that if a person buys some meat, that person is also more likely to buy vegetables as a complement for a balanced diet. As such, the sales for one product could affect another, so stores with larger transactions should also have larger sales for each product family in general.\n",
    "* The average sales has a general **upward trend**, with sharp declines during Christmas and New Year as explained earlier. With smaller oil prices, greater promotion values and larger store transactions, these seem to support the correlation with average sales as explained above."
   ]
  },
  {
   "cell_type": "code",
   "execution_count": null,
   "id": "e1cf7dee",
   "metadata": {
    "_kg_hide-input": true,
    "execution": {
     "iopub.execute_input": "2023-07-14T09:44:18.315817Z",
     "iopub.status.busy": "2023-07-14T09:44:18.315460Z",
     "iopub.status.idle": "2023-07-14T09:44:23.510528Z",
     "shell.execute_reply": "2023-07-14T09:44:23.509645Z"
    },
    "papermill": {
     "duration": 5.233827,
     "end_time": "2023-07-14T09:44:23.514907",
     "exception": false,
     "start_time": "2023-07-14T09:44:18.281080",
     "status": "completed"
    },
    "tags": []
   },
   "outputs": [],
   "source": [
    "def plot_sales_correlation():   \n",
    "    tr_ts_scaled = tr_ts.copy()\n",
    "    tr_ts_scaled[tr_ts_scaled.columns] = scaler.fit_transform(tr_ts_scaled)\n",
    "\n",
    "    promo_ts_scaled = promo_ts.copy()\n",
    "    promo_ts_scaled[promo_ts_scaled.columns] = scaler.fit_transform(promo_ts_scaled)\n",
    "    \n",
    "    mean_sales_ts_scaled = sales_ts_scaled.mean(axis=1).to_frame(\"sales\").reset_index()\n",
    "    mean_promo_ts_scaled = promo_ts_scaled.mean(axis=1).to_frame(\"onpromotion\").reset_index()\n",
    "    mean_tr_ts_scaled = tr_ts_scaled.mean(axis=1).to_frame(\"transactions\").reset_index()\n",
    "    \n",
    "    cprint( \n",
    "        \"Covariates: oil, onpromotion, transactions\",\n",
    "        \"Past covariates  : transactions\",\n",
    "        \"Future covariates: oil, onpromotion\",\n",
    "    )\n",
    "\n",
    "    plot_kwargs = {\n",
    "        \"scatter_kws\": {\"edgecolor\": \"white\"},\n",
    "        \"line_kws\": {\"lw\": 3},\n",
    "    }\n",
    "    \n",
    "    fig = plt.figure(figsize=(18, 15))\n",
    "    gs = fig.add_gridspec(4, 2, width_ratios=(1, 2))\n",
    "    \n",
    "    sns.lineplot(\n",
    "        data=mean_sales_ts_scaled,\n",
    "        x=\"date\",\n",
    "        y=\"sales\",\n",
    "        ax=fig.add_subplot(gs[0, :]),\n",
    "    )\n",
    "    plt.title(\"Average Sales Over Time\")\n",
    "    \n",
    "    sns.regplot(\n",
    "        x=oil.oil.iloc[:train_len], y=mean_sales_ts_scaled.sales,\n",
    "        ax=fig.add_subplot(gs[1, 0]),\n",
    "        color=COLORS[1],\n",
    "        **plot_kwargs,\n",
    "    )\n",
    "    plt.ylabel(\"Average Sales\")\n",
    "    plt.title(\"Average Sales vs. Oil Prices\")\n",
    "    \n",
    "    sns.lineplot(\n",
    "        data=oil.iloc[:train_len, :], x=\"date\", y=\"oil\",\n",
    "        ax=fig.add_subplot(gs[1, 1]),\n",
    "        color=COLORS[1],\n",
    "    )\n",
    "    plt.ylabel(\"Oil Prices\")\n",
    "    plt.title(\"Oil Prices Over Time\")\n",
    "\n",
    "    sns.regplot(\n",
    "        x=mean_promo_ts_scaled.onpromotion, y=mean_sales_ts_scaled.sales,\n",
    "        ax=fig.add_subplot(gs[2, 0]),\n",
    "        color=COLORS[2],\n",
    "        **plot_kwargs,\n",
    "    )\n",
    "    plt.xlabel(\"onpromotion\")\n",
    "    plt.ylabel(\"Average Sales\")\n",
    "    plt.title(\"Average Sales vs. Promotions\")\n",
    "\n",
    "    sns.lineplot(\n",
    "        data=mean_promo_ts_scaled, x=\"date\", y=\"onpromotion\",\n",
    "        ax=fig.add_subplot(gs[2, 1]),\n",
    "        color=COLORS[2],\n",
    "    )\n",
    "    plt.ylabel(\"Average Promotions\")\n",
    "    plt.title(\"Average Promotions Over Time\")\n",
    "    \n",
    "    sns.regplot(\n",
    "        x=mean_tr_ts_scaled.transactions, y=mean_sales_ts_scaled.sales,\n",
    "        ax=fig.add_subplot(gs[3, 0]),\n",
    "        color=COLORS[3],\n",
    "        **plot_kwargs,\n",
    "    )\n",
    "    plt.xlabel(\"transactions\")\n",
    "    plt.ylabel(\"Average Sales\")\n",
    "    plt.title(\"Average Sales vs. Store Transactions\")\n",
    "    \n",
    "    sns.lineplot(\n",
    "        data=mean_tr_ts_scaled, x=\"date\", y=\"transactions\",\n",
    "        ax=fig.add_subplot(gs[3, 1]),\n",
    "        color=COLORS[3],\n",
    "    )\n",
    "    plt.ylabel(\"Average Transactions\")\n",
    "    plt.title(\"Average Transactions Over Time\")\n",
    "\n",
    "    plt.tight_layout()\n",
    "    plt.show()\n",
    "    \n",
    "plot_sales_correlation()"
   ]
  },
  {
   "attachments": {},
   "cell_type": "markdown",
   "id": "a06ab434",
   "metadata": {
    "papermill": {
     "duration": 0.039738,
     "end_time": "2023-07-14T09:44:23.594404",
     "exception": false,
     "start_time": "2023-07-14T09:44:23.554666",
     "status": "completed"
    },
    "tags": []
   },
   "source": [
    "### Finding: Most states only have stores in one city. For states with stores in multiple cities, the number of stores is generally dominated by one city."
   ]
  },
  {
   "attachments": {},
   "cell_type": "markdown",
   "id": "35a019c5",
   "metadata": {
    "papermill": {
     "duration": 0.039046,
     "end_time": "2023-07-14T09:44:23.672184",
     "exception": false,
     "start_time": "2023-07-14T09:44:23.633138",
     "status": "completed"
    },
    "tags": []
   },
   "source": [
    "Besides past and future covariates, we also have static covariates which are constant over time. The `city` and `state` columns from the store data are considered static covariates because they represent unique characteristics of the store and do not change over time. Other examples are `store_nbr` and `family`, which we have looked at earlier.\n",
    "\n",
    "The stacked bar chart below denotes the number of stores within each state, and the units are labeled by the corresponding store numbers. They are color-coded by each unique city within the state. Using Manabi as an example, store number 54 belongs to one city while store numbers 52, 53 belong to another city.\n",
    "\n",
    "We can see that most states only have one color, meaning that there are stores in only one city within each state. Some states like Guayas and Pichincha have stores in multiple cities, but the stores are dominated by one city. In other words, there **may not be a noticeable difference between the city-level and state-level impacts** on store sales, but this requires some experimentation later."
   ]
  },
  {
   "cell_type": "code",
   "execution_count": null,
   "id": "3ff78779",
   "metadata": {
    "_kg_hide-input": true,
    "execution": {
     "iopub.execute_input": "2023-07-14T09:44:23.753574Z",
     "iopub.status.busy": "2023-07-14T09:44:23.753089Z",
     "iopub.status.idle": "2023-07-14T09:44:25.760436Z",
     "shell.execute_reply": "2023-07-14T09:44:25.757935Z"
    },
    "papermill": {
     "duration": 2.050337,
     "end_time": "2023-07-14T09:44:25.763179",
     "exception": false,
     "start_time": "2023-07-14T09:44:23.712842",
     "status": "completed"
    },
    "tags": []
   },
   "outputs": [],
   "source": [
    "def plot_city_state_distribution(store):\n",
    "    cprint(\n",
    "        \"Static covariates: city, state\",\n",
    "        f\"Number of unique cities                      : {store.city.nunique()}\",\n",
    "        f\"Number of unique states                      : {store.state.nunique()}\",\n",
    "        f\"Number of states with stores in only one city: {(store.groupby('state').city.nunique().eq(1)).sum()}\",\n",
    "    )\n",
    "    \n",
    "    store = store.copy().sort_values([\"state\", \"city\", \"store_nbr\"])\n",
    "    state_list = store.state.unique()\n",
    "    bar_bottom = np.zeros(len(state_list))\n",
    "    counter = {}\n",
    "\n",
    "    fig = plt.figure(figsize=(18, 9))\n",
    "    \n",
    "    for num in store.store_nbr.unique():\n",
    "        curr_state, curr_city = store.loc[store.store_nbr.eq(num), [\"state\", \"city\"]].values[0]\n",
    "        if curr_state not in counter:\n",
    "            counter[curr_state] = []\n",
    "        if curr_city not in counter[curr_state]:\n",
    "            counter[curr_state].append(curr_city)\n",
    "        state_ind = (state_list==curr_state).astype(int)\n",
    "        plt.bar(\n",
    "            x=state_list, height=state_ind,\n",
    "            bottom=bar_bottom,\n",
    "            color=COLORS[len(counter[curr_state])-1],\n",
    "            edgecolor=\"white\",\n",
    "            label=f\"City {len(counter[curr_state])-1}\",\n",
    "        )\n",
    "        bar_bottom += state_ind\n",
    "        running_total = bar_bottom[np.argmax(state_ind)]\n",
    "        plt.text(\n",
    "            x=curr_state, y=running_total-0.6,\n",
    "            s=num,\n",
    "            size=14,\n",
    "            color=\"white\",\n",
    "            va=\"center\",\n",
    "            ha=\"center\",\n",
    "        )\n",
    "    handles, labels = plt.gca().get_legend_handles_labels()\n",
    "    unique_labels = sorted(list(set(labels)))\n",
    "    unique_handles = [handles[labels.index(label)] for label in unique_labels]\n",
    "    plt.legend(unique_handles, unique_labels, title=\"Unique Cities per State\")\n",
    "    plt.xticks(rotation=90)\n",
    "    plt.yticks(list(range(0, 22, 3)))\n",
    "    plt.xlabel(\"state\")\n",
    "    plt.ylabel(\"Number of Stores\")\n",
    "    plt.title(\"Distribution of Stores Across Cities and States\")\n",
    "    \n",
    "    plt.tight_layout()\n",
    "    plt.show()\n",
    "\n",
    "plot_city_state_distribution(store)"
   ]
  },
  {
   "attachments": {},
   "cell_type": "markdown",
   "id": "9a011111",
   "metadata": {
    "papermill": {
     "duration": 0.041679,
     "end_time": "2023-07-14T09:44:25.849022",
     "exception": false,
     "start_time": "2023-07-14T09:44:25.807343",
     "status": "completed"
    },
    "tags": []
   },
   "source": [
    "### Finding: Each cluster is dominated by one store type, and most store types have multiple clusters."
   ]
  },
  {
   "attachments": {},
   "cell_type": "markdown",
   "id": "5f790458",
   "metadata": {
    "papermill": {
     "duration": 0.040323,
     "end_time": "2023-07-14T09:44:25.928988",
     "exception": false,
     "start_time": "2023-07-14T09:44:25.888665",
     "status": "completed"
    },
    "tags": []
   },
   "source": [
    "The store data also has other static covariates represented by the `type` and `cluster` columns. We have another stacked bar chart which denotes the number of stores within each cluster, and the units are labeled by the corresponding store numbers. In this case, the units are color-coded by the store type that they belong to. For example, stores within clusters 1, 2, 4, 8, 9, 13 are all of the same type.\n",
    "\n",
    "Because most clusters only have one color, each of them are dominated by one store type. On the other hand, most store types exist in multiple clusters. This raises the **possibility of cluster-level and type-level effects**."
   ]
  },
  {
   "cell_type": "code",
   "execution_count": null,
   "id": "9ba49995",
   "metadata": {
    "_kg_hide-input": true,
    "execution": {
     "iopub.execute_input": "2023-07-14T09:44:26.011922Z",
     "iopub.status.busy": "2023-07-14T09:44:26.011550Z",
     "iopub.status.idle": "2023-07-14T09:44:28.031353Z",
     "shell.execute_reply": "2023-07-14T09:44:28.030444Z"
    },
    "papermill": {
     "duration": 2.064203,
     "end_time": "2023-07-14T09:44:28.033293",
     "exception": false,
     "start_time": "2023-07-14T09:44:25.969090",
     "status": "completed"
    },
    "tags": []
   },
   "outputs": [],
   "source": [
    "def plot_cluster_type_distribution(store):    \n",
    "    cprint(\n",
    "        \"Static covariates: cluster, type\",\n",
    "        f\"Number of unique store cluster: {store.cluster.nunique()}\",\n",
    "        f\"Number of unique store type   : {store.type.nunique()}\",\n",
    "    )\n",
    "    store = store.copy().sort_values([\"type\", \"cluster\"])\n",
    "    cluster_list = store.cluster.unique().astype(str)\n",
    "    type_list = store.type.sort_values().unique()\n",
    "    bar_bottom = np.zeros(len(cluster_list))\n",
    "    color_map = {s_type: c for s_type, c in zip(type_list, COLORS)}\n",
    "\n",
    "    fig = plt.figure(figsize=(18, 4))\n",
    "    \n",
    "    for num in store.store_nbr.unique():\n",
    "        curr_cluster, curr_type = store.loc[store.store_nbr.eq(num), [\"cluster\", \"type\"]].astype(str).values[0]\n",
    "        cluster_ind = (cluster_list==curr_cluster).astype(int)\n",
    "        plt.bar(\n",
    "            x=cluster_list, height=cluster_ind,\n",
    "            bottom=bar_bottom,\n",
    "            zorder=2,\n",
    "            color=color_map[curr_type],\n",
    "            label=curr_type,\n",
    "            edgecolor=\"white\",\n",
    "        )\n",
    "        bar_bottom += cluster_ind\n",
    "        running_total = bar_bottom[np.argmax(cluster_ind)]\n",
    "        plt.text(\n",
    "            x=curr_cluster, y=running_total-0.6,\n",
    "            s=num,\n",
    "            size=14,\n",
    "            color=\"white\",\n",
    "            va=\"center\",\n",
    "            ha=\"center\",\n",
    "        )\n",
    "    handles, labels = plt.gca().get_legend_handles_labels()\n",
    "    unique_labels = sorted(list(set(labels)))\n",
    "    unique_handles = [handles[labels.index(label)] for label in unique_labels]\n",
    "    plt.legend(unique_handles, unique_labels, title=\"Store Type\")\n",
    "    plt.xlabel(\"cluster\")\n",
    "    plt.ylabel(\"Number of Stores\")\n",
    "    plt.yticks(list(range(0, 9, 2)))\n",
    "    plt.title(\"Distribution of Stores Across Clusters and Types\")\n",
    "    \n",
    "    plt.tight_layout()\n",
    "    plt.show()\n",
    "    \n",
    "plot_cluster_type_distribution(store)"
   ]
  },
  {
   "attachments": {},
   "cell_type": "markdown",
   "id": "8af40a07",
   "metadata": {
    "papermill": {
     "duration": 0.041411,
     "end_time": "2023-07-14T09:44:28.117378",
     "exception": false,
     "start_time": "2023-07-14T09:44:28.075967",
     "status": "completed"
    },
    "tags": []
   },
   "source": [
    "### Finding: Some national holidays/events like Labor Day, Christmas, and the 2016 earthquake have larger impacts on sales."
   ]
  },
  {
   "attachments": {},
   "cell_type": "markdown",
   "id": "21bc3b7e",
   "metadata": {
    "papermill": {
     "duration": 0.041467,
     "end_time": "2023-07-14T09:44:28.201060",
     "exception": false,
     "start_time": "2023-07-14T09:44:28.159593",
     "status": "completed"
    },
    "tags": []
   },
   "source": [
    "Holidays/events are future covariates because the dates are usually known in advance. For simplicity, we will just use the term 'holiday' to denote both holidays and events throughout this notebook. As mentioned earlier, we need to compare sales between holiday and non-holiday periods. Looking at the boxplots below for each holiday, we note that **some have larger impacts on sales**. Examples are Labor Day (dia trabago), Christmas (navidad), and the 2016 earthquake (terremoto). We need to select the more useful ones to include in our models later."
   ]
  },
  {
   "cell_type": "code",
   "execution_count": null,
   "id": "8931ee13",
   "metadata": {
    "_kg_hide-input": true,
    "execution": {
     "iopub.execute_input": "2023-07-14T09:44:28.284613Z",
     "iopub.status.busy": "2023-07-14T09:44:28.283466Z",
     "iopub.status.idle": "2023-07-14T09:44:39.588142Z",
     "shell.execute_reply": "2023-07-14T09:44:39.586765Z"
    },
    "papermill": {
     "duration": 11.349343,
     "end_time": "2023-07-14T09:44:39.591007",
     "exception": false,
     "start_time": "2023-07-14T09:44:28.241664",
     "status": "completed"
    },
    "tags": []
   },
   "outputs": [],
   "source": [
    "def plot_national_holiday_distribution():\n",
    "    df = holiday_sales_merged.copy()    \n",
    "    holiday_list = national_holidays.columns[1:]\n",
    "    \n",
    "    cprint(\n",
    "        \"Future covariate: national holidays\",\n",
    "        f\"Number of unique national holidays: {len(holiday_list)+1}\"\n",
    "    )\n",
    "    \n",
    "    plot_kwargs = {\n",
    "        \"palette\": COLORS[:2],\n",
    "        \"linewidth\": 2,\n",
    "        \"flierprops\": {\"alpha\": 0.2},\n",
    "        \"orient\": \"h\",\n",
    "    }\n",
    "    \n",
    "    fig = plt.figure(figsize=(18, 20))\n",
    "\n",
    "    sns.boxplot(\n",
    "        data=df[(df.date.dt.weekday.eq(5)) & (df.no_holiday.eq(1))],\n",
    "        y=\"work_day\",\n",
    "        x=\"sales\",\n",
    "        ax=fig.add_subplot(531),\n",
    "        **plot_kwargs,\n",
    "    )\n",
    "    plt.yticks([0, 1], [\"normal Saturday\", \"work day\"])\n",
    "\n",
    "    sns.boxplot(\n",
    "        data=df[(df.date.dt.weekday.eq(0))],\n",
    "        y=\"nat_cyber monday\",\n",
    "        x=\"sales\",\n",
    "        ax=fig.add_subplot(532),\n",
    "        **plot_kwargs,\n",
    "    )\n",
    "    plt.yticks([0, 1], [\"normal Monday\", \"holiday\"])\n",
    "    \n",
    "    sns.boxplot(\n",
    "        data=df[(df.date.dt.weekday.eq(4))],\n",
    "        y=\"nat_black friday\",\n",
    "        x=\"sales\",\n",
    "        ax=fig.add_subplot(533),\n",
    "        **plot_kwargs,\n",
    "    )\n",
    "    plt.yticks([0, 1], [\"normal Friday\", \"holiday\"])\n",
    "    \n",
    "    for j, hol in enumerate(holiday_list.drop([\"nat_cyber monday\", \"nat_black friday\"])):\n",
    "        sns.boxplot(\n",
    "            data=df[(df[hol].eq(1)) | (df.no_holiday.eq(1))],\n",
    "            y=hol,\n",
    "            x=\"sales\",\n",
    "            ax=fig.add_subplot(5, 3, j+4),\n",
    "            **plot_kwargs,\n",
    "        )\n",
    "        plt.yticks([0, 1], [\"normal day\", \"holiday\"])\n",
    "        \n",
    "    plt.suptitle(\"Distribution of Sales across Different National Holidays/Events\")\n",
    "    plt.tight_layout()\n",
    "    plt.show()\n",
    "\n",
    "plot_national_holiday_distribution()"
   ]
  },
  {
   "attachments": {},
   "cell_type": "markdown",
   "id": "e5d39ecd",
   "metadata": {
    "papermill": {
     "duration": 0.045068,
     "end_time": "2023-07-14T09:44:39.681473",
     "exception": false,
     "start_time": "2023-07-14T09:44:39.636405",
     "status": "completed"
    },
    "tags": []
   },
   "source": [
    "### Finding: Regional and local holidays have smaller impacts on sales compared to national holidays."
   ]
  },
  {
   "attachments": {},
   "cell_type": "markdown",
   "id": "13fd50b6",
   "metadata": {
    "papermill": {
     "duration": 0.045594,
     "end_time": "2023-07-14T09:44:39.771638",
     "exception": false,
     "start_time": "2023-07-14T09:44:39.726044",
     "status": "completed"
    },
    "tags": []
   },
   "source": [
    "Similarly, we investigate the effects of regional and local holidays using the boxplots below. Most boxplots look rather similar between the holiday and non-holiday periods, suggesting that regional and local holidays do not have as large of an impact on sales. This is reasonable because **national holidays are of a higher level of significance** and are thus more widely celebrated."
   ]
  },
  {
   "cell_type": "code",
   "execution_count": null,
   "id": "d0ecef62",
   "metadata": {
    "_kg_hide-input": true,
    "execution": {
     "iopub.execute_input": "2023-07-14T09:44:39.863357Z",
     "iopub.status.busy": "2023-07-14T09:44:39.862668Z",
     "iopub.status.idle": "2023-07-14T09:44:40.755993Z",
     "shell.execute_reply": "2023-07-14T09:44:40.753862Z"
    },
    "papermill": {
     "duration": 0.941308,
     "end_time": "2023-07-14T09:44:40.758390",
     "exception": false,
     "start_time": "2023-07-14T09:44:39.817082",
     "status": "completed"
    },
    "tags": []
   },
   "outputs": [],
   "source": [
    "def plot_regional_holiday_distribution():\n",
    "    df = holiday_sales_merged.copy()\n",
    "    states_with_regional_holiday = regional_holidays.state.unique()\n",
    "    df = df[df.state.isin(states_with_regional_holiday)]\n",
    "    \n",
    "    cprint(\n",
    "        \"Future covariate: regional holidays\",\n",
    "        f\"Total number of states                 : {store.state.nunique()}\",\n",
    "        f\"Number of states with regional holidays: {len(states_with_regional_holiday)}\",\n",
    "        \"Number of unique regional holidays     : 1\",\n",
    "    )\n",
    "    \n",
    "    fig = plt.figure(figsize=(18, 6))\n",
    "\n",
    "    sns.boxplot(\n",
    "        data=df[(df.provincializacion.eq(1)) | (df.no_holiday.eq(1))],\n",
    "        x=\"state\",\n",
    "        y=\"sales\",\n",
    "        hue=\"provincializacion\",\n",
    "        palette=COLORS[:2],\n",
    "        linewidth=2,\n",
    "        flierprops={\"alpha\": 0.2},\n",
    "        ax=fig.add_subplot(111),\n",
    "    )\n",
    "    plt.title(\"Distribution of Sales on Regional Holidays\")\n",
    "    leg = plt.legend(loc=\"center\", title=\"provincializacion\", bbox_to_anchor=(1.1, 0.5))\n",
    "    leg.texts[0].set_text(\"normal day\")\n",
    "    leg.texts[1].set_text(\"holiday\")\n",
    "\n",
    "    plt.tight_layout()\n",
    "    plt.show()\n",
    "    \n",
    "plot_regional_holiday_distribution()"
   ]
  },
  {
   "cell_type": "code",
   "execution_count": null,
   "id": "9c6a9020",
   "metadata": {
    "_kg_hide-input": true,
    "execution": {
     "iopub.execute_input": "2023-07-14T09:44:40.851155Z",
     "iopub.status.busy": "2023-07-14T09:44:40.850768Z",
     "iopub.status.idle": "2023-07-14T09:44:44.608273Z",
     "shell.execute_reply": "2023-07-14T09:44:44.607115Z"
    },
    "papermill": {
     "duration": 3.80587,
     "end_time": "2023-07-14T09:44:44.610454",
     "exception": false,
     "start_time": "2023-07-14T09:44:40.804584",
     "status": "completed"
    },
    "tags": []
   },
   "outputs": [],
   "source": [
    "def plot_local_holiday_distribution():\n",
    "    df = holiday_sales_merged.copy()\n",
    "    holiday_list = local_holidays.columns[2:]\n",
    "    \n",
    "    cprint(\n",
    "        \"Future covariate: local holidays\",\n",
    "        f\"Total number of cities              : {store.city.nunique()}\",\n",
    "        f\"Number of cities with local holidays: {local_holidays.city.nunique()}\",\n",
    "        f\"Number of unique local holidays     : {len(holiday_list)}\",\n",
    "    )\n",
    "    \n",
    "    fig = plt.figure(figsize=(18, 18))\n",
    "\n",
    "    for j, hol in enumerate(holiday_list):\n",
    "        tmp = df[df.city.isin(local_holidays[local_holidays[hol].eq(1)].city.unique())]\n",
    "        sns.boxplot(\n",
    "            data=tmp[(tmp[hol].eq(1)) | (tmp.no_holiday.eq(1))],\n",
    "            x=\"city\",\n",
    "            y=\"sales\",\n",
    "            hue=hol,\n",
    "            palette=COLORS[:2],\n",
    "            linewidth=2,\n",
    "            flierprops={\"alpha\": 0.2},\n",
    "            ax=fig.add_subplot(3, 1, j+1),\n",
    "        )\n",
    "        leg = plt.legend(loc=\"center\", title=hol, bbox_to_anchor=(1.1, 0.5))\n",
    "        leg.texts[0].set_text(\"normal day\")\n",
    "        leg.texts[1].set_text(\"holiday\")\n",
    "        \n",
    "    plt.suptitle(\"Distribution of Sales across Different Local Holidays\")\n",
    "    plt.tight_layout()\n",
    "    plt.show()\n",
    "    \n",
    "plot_local_holiday_distribution()"
   ]
  },
  {
   "attachments": {},
   "cell_type": "markdown",
   "id": "d539ff0e",
   "metadata": {
    "papermill": {
     "duration": 0.051837,
     "end_time": "2023-07-14T09:44:44.712300",
     "exception": false,
     "start_time": "2023-07-14T09:44:44.660463",
     "status": "completed"
    },
    "tags": []
   },
   "source": [
    "### Finding: Sales patterns can be captured by date-related features."
   ]
  },
  {
   "attachments": {},
   "cell_type": "markdown",
   "id": "ae2ecee9",
   "metadata": {
    "papermill": {
     "duration": 0.047613,
     "end_time": "2023-07-14T09:44:44.807514",
     "exception": false,
     "start_time": "2023-07-14T09:44:44.759901",
     "status": "completed"
    },
    "tags": []
   },
   "source": [
    "Date-related features like the month and year of each data point are considered future covariates because they are fixed and thus known in advance. To prevent the influence of holiday effects, we make sure to filter the data to only include non-holiday periods. We attempt to look at the distribution of sales for each covariate using boxplots. Some covariates like the days of the year have really large numbers of categories (365-366 days in a year), so inspecting that many boxplots may not be plausible. For such cases, we just compute the average sales (across all the target series) for each time period. The following date-related features are created:\n",
    "* `day`. With **paydays** being on the 15th and the last day of the month, we see that the sales tend to vary more around the same periods. In particular, this is more noticeable at the end/start of the month.\n",
    "* `month`. While most of the boxplots look the same, the sales tend to vary greatly in December. This could be a **seasonal pattern** in which people prepare early for Christmas or New Year's Day.\n",
    "* `year`. It is clear from the boxplots that the sales have a general **upward trend** across the year.\n",
    "* `day_of_week`. Sales tend to be greater on weekends, which are non-working days for most people. It is reasonable to say that they have more time to visit the grocery stores, which translates to greater sales.\n",
    "* `day_of_year` / `week_of_year`. The days of the year and weeks of the year give similar information to the months, but at **different levels of granularity**. To illustrate, while sales in the first week tend to be large, sales for the first day of the year is very small.\n",
    "* `date_index`. The date index (index of the target series) gives similar information to the years, but at a **higher level of granularity**. There are some greater fluctuations in the first half of the time period."
   ]
  },
  {
   "cell_type": "code",
   "execution_count": null,
   "id": "9286faff",
   "metadata": {
    "_kg_hide-input": true,
    "execution": {
     "iopub.execute_input": "2023-07-14T09:44:44.902201Z",
     "iopub.status.busy": "2023-07-14T09:44:44.901772Z",
     "iopub.status.idle": "2023-07-14T09:44:51.852356Z",
     "shell.execute_reply": "2023-07-14T09:44:51.851076Z"
    },
    "papermill": {
     "duration": 6.999635,
     "end_time": "2023-07-14T09:44:51.854533",
     "exception": false,
     "start_time": "2023-07-14T09:44:44.854898",
     "status": "completed"
    },
    "tags": []
   },
   "outputs": [],
   "source": [
    "def plot_date_distribution():   \n",
    "    df = holiday_sales_merged.copy().sort_values([\"date\", \"store_nbr\", \"family\"], ignore_index=True)\n",
    "    df = df[df.no_holiday.eq(1)].reset_index(drop=True)\n",
    "    df[\"day\"] = df.date.dt.day\n",
    "    df[\"month\"] = df.date.dt.month\n",
    "    df[\"year\"] = df.date.dt.year\n",
    "    df[\"day_of_week\"] = df.date.dt.dayofweek\n",
    "    df[\"day_of_year\"] = df.date.dt.dayofyear\n",
    "    df[\"week_of_year\"] = df.date.dt.isocalendar().week.astype(int)\n",
    "    df[\"date_index\"] = df.date.factorize()[0]\n",
    "    \n",
    "    cprint(\n",
    "        \"Future covariates: day, month, year, day_of_week, day_of_year, week_of_year, date_index\",\n",
    "        \"day                     : paydays on the 15th and last day of the month\",\n",
    "        \"month                   : monthly seasonal patterns\",\n",
    "        \"year                    : general trends\",\n",
    "        \"day_of_week             : weekdays vs. weekends\",\n",
    "        \"day_of_year/week_of_year: different levels of granularity from month\",\n",
    "        \"date_index              : higher level of granularity than year\",\n",
    "    )\n",
    "    \n",
    "    plot_kwargs = {\n",
    "        \"linewidth\": 2,\n",
    "        \"flierprops\": {\"alpha\": 0.2},\n",
    "        \"orient\": \"h\",\n",
    "    }\n",
    "    \n",
    "    fig = plt.figure(figsize=(18, 24))\n",
    "    gs = fig.add_gridspec(5, 2, height_ratios=(3, 5, 2, 5, 5))\n",
    "    \n",
    "    sns.boxplot(\n",
    "        data=df,\n",
    "        y=\"day_of_week\",\n",
    "        x=\"sales\",\n",
    "        color=COLORS[0],\n",
    "        ax=fig.add_subplot(gs[0, 0]),\n",
    "        **plot_kwargs,\n",
    "    )\n",
    "    plt.title(\"Distribution of Sales across the Days of the Week\")\n",
    "    \n",
    "    sns.boxplot(\n",
    "        data=df,\n",
    "        y=\"month\",\n",
    "        x=\"sales\",\n",
    "        color=COLORS[1],\n",
    "        ax=fig.add_subplot(gs[1, 0]),\n",
    "        **plot_kwargs,\n",
    "    )\n",
    "    plt.title(\"Distribution of Sales across the Months\")\n",
    "    \n",
    "    sns.boxplot(\n",
    "        data=df,\n",
    "        y=\"year\",\n",
    "        x=\"sales\",\n",
    "        color=COLORS[2],\n",
    "        ax=fig.add_subplot(gs[2, 0]),\n",
    "        **plot_kwargs,\n",
    "    )\n",
    "    plt.title(\"Distribution of Sales across the Years\")\n",
    "    \n",
    "    sns.boxplot(\n",
    "        data=df,\n",
    "        y=\"day\",\n",
    "        x=\"sales\",\n",
    "        color=COLORS[3],\n",
    "        ax=fig.add_subplot(gs[:3, 1]),\n",
    "        **plot_kwargs,\n",
    "    )\n",
    "    plt.title(\"Distribution of Sales across the Days of the Month\")\n",
    "    \n",
    "    sns.lineplot(\n",
    "        data=df.groupby(\"day_of_year\").sales.mean().reset_index(),\n",
    "        x=\"day_of_year\",\n",
    "        y=\"sales\",\n",
    "        color=COLORS[4],\n",
    "        ax=fig.add_subplot(gs[3, 0]),\n",
    "        linewidth=2,\n",
    "    )\n",
    "    plt.ylabel(\"Average Sales\")\n",
    "    plt.title(\"Average Sales across the Days of the Year\")\n",
    "    \n",
    "    sns.lineplot(\n",
    "        data=df.groupby(\"week_of_year\").sales.mean().reset_index(),\n",
    "        x=\"week_of_year\",\n",
    "        y=\"sales\",\n",
    "        color=COLORS[5],\n",
    "        ax=fig.add_subplot(gs[3, 1]),\n",
    "        linewidth=2,\n",
    "    )\n",
    "    plt.ylabel(\"Average Sales\")\n",
    "    plt.title(\"Average Sales across the Weeks of the Year\")\n",
    "    \n",
    "    sns.lineplot(\n",
    "        data=df.groupby(\"date_index\").sales.mean().reset_index(),\n",
    "        x=\"date_index\",\n",
    "        y=\"sales\",\n",
    "        color=COLORS[6],\n",
    "        ax=fig.add_subplot(gs[4, :]),\n",
    "        linewidth=2,\n",
    "    )\n",
    "    plt.ylabel(\"Average Sales\")\n",
    "    plt.title(\"Average Sales across the Date Index\")\n",
    "    \n",
    "    plt.tight_layout()\n",
    "    plt.show()\n",
    "    \n",
    "plot_date_distribution()"
   ]
  },
  {
   "attachments": {},
   "cell_type": "markdown",
   "id": "6fb6fb62",
   "metadata": {
    "papermill": {
     "duration": 0.052214,
     "end_time": "2023-07-14T09:44:51.961485",
     "exception": false,
     "start_time": "2023-07-14T09:44:51.909271",
     "status": "completed"
    },
    "tags": []
   },
   "source": [
    "---"
   ]
  },
  {
   "attachments": {},
   "cell_type": "markdown",
   "id": "0a8212d3",
   "metadata": {
    "papermill": {
     "duration": 0.051531,
     "end_time": "2023-07-14T09:44:52.065232",
     "exception": false,
     "start_time": "2023-07-14T09:44:52.013701",
     "status": "completed"
    },
    "tags": []
   },
   "source": [
    "# 3. Model Training"
   ]
  },
  {
   "attachments": {},
   "cell_type": "markdown",
   "id": "88fbedaa",
   "metadata": {
    "papermill": {
     "duration": 0.051449,
     "end_time": "2023-07-14T09:44:52.168503",
     "exception": false,
     "start_time": "2023-07-14T09:44:52.117054",
     "status": "completed"
    },
    "tags": []
   },
   "source": [
    "### Combining the datasets."
   ]
  },
  {
   "attachments": {},
   "cell_type": "markdown",
   "id": "935cc864",
   "metadata": {
    "papermill": {
     "duration": 0.051771,
     "end_time": "2023-07-14T09:44:52.272359",
     "exception": false,
     "start_time": "2023-07-14T09:44:52.220588",
     "status": "completed"
    },
    "tags": []
   },
   "source": [
    "Now that we are done with our analysis, we proceed to train our models for forecasting. To prepare our data for training, we need to combine the relevant datasets and include the useful covariates as discussed previously. The steps taken are documented in the code below.\n",
    "\n",
    "An additional step performed here is that for Christmas and New Year's Day, where most stores have zero sales (as they are likely closed), instead of filling the values with 0s, we temporarily set them to NaN and perform linear interpolation later. The reason for this is to **treat such days as regular holidays**, instead of having to include an additional variable to capture this unique behavior of store closure."
   ]
  },
  {
   "cell_type": "code",
   "execution_count": null,
   "id": "3edd9c30",
   "metadata": {
    "execution": {
     "iopub.execute_input": "2023-07-14T09:44:52.376343Z",
     "iopub.status.busy": "2023-07-14T09:44:52.375435Z",
     "iopub.status.idle": "2023-07-14T09:45:01.552311Z",
     "shell.execute_reply": "2023-07-14T09:45:01.550923Z"
    },
    "papermill": {
     "duration": 9.231586,
     "end_time": "2023-07-14T09:45:01.554908",
     "exception": false,
     "start_time": "2023-07-14T09:44:52.323322",
     "status": "completed"
    },
    "tags": []
   },
   "outputs": [],
   "source": [
    "# keep selected national holidays with larger impacts on sales\n",
    "selected_holidays = [\n",
    "    \"nat_terremoto\", \"nat_navidad\", \"nat_dia la madre\", \"nat_dia trabajo\",\n",
    "    \"nat_primer dia ano\", \"nat_futbol\", \"nat_dia difuntos\",\n",
    "]\n",
    "keep_national_holidays = national_holidays[[\"date\", *selected_holidays]]\n",
    "\n",
    "# combine all the datasets\n",
    "data = pd.concat(\n",
    "    [train, test], axis=0, ignore_index=True,\n",
    ").merge(\n",
    "    transaction, on=[\"date\", \"store_nbr\"], how=\"left\",\n",
    ").merge(\n",
    "    oil, on=\"date\", how=\"left\",\n",
    ").merge(\n",
    "    store, on=\"store_nbr\", how=\"left\",\n",
    ").merge(\n",
    "    work_days, on=\"date\", how=\"left\",\n",
    ").merge(\n",
    "    keep_national_holidays, on=\"date\", how=\"left\",\n",
    ").sort_values([\"date\", \"store_nbr\", \"family\"], ignore_index=True)\n",
    "\n",
    "# fill columns with 0s to indicate absence of holidays/events\n",
    "data[[\"work_day\", *selected_holidays]] = data[[\"work_day\", *selected_holidays]].fillna(0)\n",
    "\n",
    "# include date-related future covariates\n",
    "data[\"day\"] = data.date.dt.day\n",
    "data[\"month\"] = data.date.dt.month\n",
    "data[\"year\"] = data.date.dt.year\n",
    "data[\"day_of_week\"] = data.date.dt.dayofweek\n",
    "data[\"day_of_year\"] = data.date.dt.dayofyear\n",
    "data[\"week_of_year\"] = data.date.dt.isocalendar().week.astype(int)\n",
    "data[\"date_index\"] = data.date.factorize()[0] # sort by date above before computing this\n",
    "\n",
    "# to impute days with zero sales using linear interpolation later\n",
    "zero_sales_dates = missing_dates + [f\"{j}-01-01\" for j in range(2013, 2018)]\n",
    "data.loc[(data.date.isin(zero_sales_dates))&(data.sales.eq(0))&(data.onpromotion.eq(0)), [\"sales\", \"onpromotion\"]] = np.nan\n",
    "\n",
    "# add prefixes for clarity\n",
    "data.store_nbr = data.store_nbr.apply(lambda x: (f\"store_nbr_{x}\"))\n",
    "data.cluster = data.cluster.apply(lambda x: (f\"cluster_{x}\"))\n",
    "data.type = data.type.apply(lambda x: (f\"type_{x}\"))\n",
    "\n",
    "# add prefixes to ensure no duplicate values between 'city' and 'state'\n",
    "data.city = data.city.apply(lambda x: (f\"city_{x.lower()}\"))\n",
    "data.state = data.state.apply(lambda x: (f\"state_{x.lower()}\"))\n",
    "\n",
    "data.head()"
   ]
  },
  {
   "attachments": {},
   "cell_type": "markdown",
   "id": "428c5e90",
   "metadata": {
    "papermill": {
     "duration": 0.053713,
     "end_time": "2023-07-14T09:45:01.661038",
     "exception": false,
     "start_time": "2023-07-14T09:45:01.607325",
     "status": "completed"
    },
    "tags": []
   },
   "source": [
    "### Defining the transformation pipelines."
   ]
  },
  {
   "attachments": {},
   "cell_type": "markdown",
   "id": "451abffe",
   "metadata": {
    "papermill": {
     "duration": 0.052013,
     "end_time": "2023-07-14T09:45:01.765261",
     "exception": false,
     "start_time": "2023-07-14T09:45:01.713248",
     "status": "completed"
    },
    "tags": []
   },
   "source": [
    "From here on, we begin exploring the functionalities of the Darts library for forecasting. We define the transformation pipelines here, which includes:\n",
    "* `MissingValuesFiller` to fill missing values like the NaN values we temporarily set previously. The default behavior is linear interpolation.\n",
    "* `StaticCovariatesTransformer` to perform encoding/scaling of our static covariates. Our static covariates are all categorical, so we specify to perform one-hot encoding using `OneHotEncoder` from sklearn.\n",
    "* `InvertibleMapper` to define a custom log transformer for our target series. Log transforming may help to stabilize our target series by reducing the magnitude of large values.\n",
    "* `Scaler` to perform scaling for all our target series and covariates. The default behavior is min-max scaling."
   ]
  },
  {
   "cell_type": "code",
   "execution_count": null,
   "id": "dfed22ff",
   "metadata": {
    "execution": {
     "iopub.execute_input": "2023-07-14T09:45:01.872635Z",
     "iopub.status.busy": "2023-07-14T09:45:01.872104Z",
     "iopub.status.idle": "2023-07-14T09:45:01.878734Z",
     "shell.execute_reply": "2023-07-14T09:45:01.877964Z"
    },
    "papermill": {
     "duration": 0.062944,
     "end_time": "2023-07-14T09:45:01.880493",
     "exception": false,
     "start_time": "2023-07-14T09:45:01.817549",
     "status": "completed"
    },
    "tags": []
   },
   "outputs": [],
   "source": [
    "def get_pipeline(static_covs_transform=False, log_transform=False):\n",
    "    lst = []\n",
    "    \n",
    "    # fill missing values\n",
    "    filler = MissingValuesFiller(n_jobs=-1)\n",
    "    lst.append(filler)\n",
    "    \n",
    "    # specify transformation for static covariates\n",
    "    if static_covs_transform:\n",
    "        static_covs_transformer = StaticCovariatesTransformer(\n",
    "            transformer_cat=OneHotEncoder(),\n",
    "            n_jobs=-1,\n",
    "        )\n",
    "        lst.append(static_covs_transformer)\n",
    "\n",
    "    # perform log transformation on sales\n",
    "    if log_transform:\n",
    "        log_transformer = InvertibleMapper(\n",
    "            fn=np.log1p,\n",
    "            inverse_fn=np.expm1,\n",
    "            n_jobs=-1,\n",
    "        )\n",
    "        lst.append(log_transformer)\n",
    "\n",
    "    # rescale time series\n",
    "    scaler = Scaler()\n",
    "    lst.append(scaler)\n",
    "\n",
    "    # chain all transformations\n",
    "    pipeline = Pipeline(lst)\n",
    "    return pipeline"
   ]
  },
  {
   "attachments": {},
   "cell_type": "markdown",
   "id": "3ed4d539",
   "metadata": {
    "papermill": {
     "duration": 0.052307,
     "end_time": "2023-07-14T09:45:01.986090",
     "exception": false,
     "start_time": "2023-07-14T09:45:01.933783",
     "status": "completed"
    },
    "tags": []
   },
   "source": [
    "### Extracting the target series together with the static covariates."
   ]
  },
  {
   "attachments": {},
   "cell_type": "markdown",
   "id": "5c0fd3b3",
   "metadata": {
    "papermill": {
     "duration": 0.051971,
     "end_time": "2023-07-14T09:45:02.090501",
     "exception": false,
     "start_time": "2023-07-14T09:45:02.038530",
     "status": "completed"
    },
    "tags": []
   },
   "source": [
    "Before we convert our data for forecasting with Darts, there is a need to identify the type of models to use. Traditional statistical models like ARIMA are focused on forecasting a single target series per model. As we have 1782 target series, building 1782 models can be computationally expensive. This is where the concept of global models comes in, allowing a single model to forecast multiple target series by making use of shared information. \n",
    "\n",
    "However, using a single model can make it challenging to represent all relevant variables accurately. A compromise would be to use multiple models, where each model forecasts a specific group of target series. It then makes sense for each group of target series to be similar in nature, allowing the models to capture the unique patterns within each group.\n",
    "\n",
    "There are many ways to group the target series. From our findings above, the problems of zero sales and leading zeros could be related to the type of products sold, suggesting that **each product has its unique characteristics**. As such, a reasonable approach would be to have one model per product family, so we have a total of 33 models.\n",
    "\n",
    "For the static covariates, we have identified the `city`, `state`, `cluster`, `type`, `store_nbr`, `family` columns. Since we are grouping the target series by product family, we can drop the `family` column."
   ]
  },
  {
   "cell_type": "code",
   "execution_count": null,
   "id": "471665f3",
   "metadata": {
    "execution": {
     "iopub.execute_input": "2023-07-14T09:45:02.196836Z",
     "iopub.status.busy": "2023-07-14T09:45:02.196000Z",
     "iopub.status.idle": "2023-07-14T09:45:02.204473Z",
     "shell.execute_reply": "2023-07-14T09:45:02.203325Z"
    },
    "papermill": {
     "duration": 0.064891,
     "end_time": "2023-07-14T09:45:02.206840",
     "exception": false,
     "start_time": "2023-07-14T09:45:02.141949",
     "status": "completed"
    },
    "tags": []
   },
   "outputs": [],
   "source": [
    "def get_target_series(static_cols, log_transform=True):    \n",
    "    target_dict = {}\n",
    "    pipe_dict = {}\n",
    "    id_dict = {}\n",
    "\n",
    "    for fam in tqdm_notebook(data.family.unique(), desc=\"Extracting target series\"):\n",
    "        # filter data for each model\n",
    "        df = data[(data.family.eq(fam)) & (data.date.le(train_end.strftime(\"%Y-%m-%d\")))]\n",
    "        \n",
    "        # initialize transformation pipeline for target series\n",
    "        pipe = get_pipeline(True, log_transform=log_transform)\n",
    "        \n",
    "        # extract target series together with static covariates\n",
    "        target = TimeSeries.from_group_dataframe(\n",
    "            df=df,\n",
    "            time_col=\"date\",\n",
    "            value_cols=\"sales\",\n",
    "            group_cols=\"store_nbr\",\n",
    "            static_cols=static_cols,\n",
    "        )\n",
    "\n",
    "        # record identity of each target series\n",
    "        target_id = [{\"store_nbr\": t.static_covariates.store_nbr[0], \"family\": fam} \n",
    "                     for t in target]\n",
    "        id_dict[fam] = target_id\n",
    "        \n",
    "        # apply transformations\n",
    "        target = pipe.fit_transform(target)\n",
    "        target_dict[fam] = [t.astype(np.float32) for t in target]\n",
    "        pipe_dict[fam] = pipe[2:]\n",
    "        \n",
    "    return target_dict, pipe_dict, id_dict"
   ]
  },
  {
   "cell_type": "code",
   "execution_count": null,
   "id": "a71b0a90",
   "metadata": {
    "execution": {
     "iopub.execute_input": "2023-07-14T09:45:02.317491Z",
     "iopub.status.busy": "2023-07-14T09:45:02.316916Z",
     "iopub.status.idle": "2023-07-14T09:46:31.415239Z",
     "shell.execute_reply": "2023-07-14T09:46:31.414093Z"
    },
    "papermill": {
     "duration": 89.157455,
     "end_time": "2023-07-14T09:46:31.417699",
     "exception": false,
     "start_time": "2023-07-14T09:45:02.260244",
     "status": "completed"
    },
    "tags": []
   },
   "outputs": [],
   "source": [
    "# list of static covariates excluding 'store_nbr'; 'store_nbr' is automatically extracted using 'group_cols'\n",
    "static_cols = [\"city\", \"state\", \"type\", \"cluster\"]\n",
    "\n",
    "target_dict, pipe_dict, id_dict = get_target_series(static_cols)"
   ]
  },
  {
   "attachments": {},
   "cell_type": "markdown",
   "id": "b32bee58",
   "metadata": {
    "papermill": {
     "duration": 0.050822,
     "end_time": "2023-07-14T09:46:31.520930",
     "exception": false,
     "start_time": "2023-07-14T09:46:31.470108",
     "status": "completed"
    },
    "tags": []
   },
   "source": [
    "### Extracting the past and future covariates."
   ]
  },
  {
   "attachments": {},
   "cell_type": "markdown",
   "id": "9d46fb39",
   "metadata": {
    "papermill": {
     "duration": 0.050653,
     "end_time": "2023-07-14T09:46:31.623179",
     "exception": false,
     "start_time": "2023-07-14T09:46:31.572526",
     "status": "completed"
    },
    "tags": []
   },
   "source": [
    "For past covariates, we only have the `transactions` column. For future covariates, we have the `oil`, `onpromotion` columns, the holiday columns, as well as the date-related columns. To improve our models, we can extract additional covariates by computing the moving averages of our time series data using `MovingAverageFilter`. Doing so helps to smooth out the noise and capture the underlying patterns more effectively.\n",
    "\n",
    "\\* *We follow the reference notebook to use moving averages of `oil` and `onpromotion` with window sizes 7, 28. The code below supports the computation of moving averages for only the past and future covariates. To include the moving averages of the target series `sales`, some edits are needed.*"
   ]
  },
  {
   "cell_type": "code",
   "execution_count": null,
   "id": "91c27adb",
   "metadata": {
    "execution": {
     "iopub.execute_input": "2023-07-14T09:46:31.728596Z",
     "iopub.status.busy": "2023-07-14T09:46:31.728255Z",
     "iopub.status.idle": "2023-07-14T09:46:31.740053Z",
     "shell.execute_reply": "2023-07-14T09:46:31.738887Z"
    },
    "papermill": {
     "duration": 0.067136,
     "end_time": "2023-07-14T09:46:31.742230",
     "exception": false,
     "start_time": "2023-07-14T09:46:31.675094",
     "status": "completed"
    },
    "tags": []
   },
   "outputs": [],
   "source": [
    "def get_covariates(\n",
    "    past_cols,\n",
    "    future_cols,\n",
    "    past_ma_cols=None,\n",
    "    future_ma_cols=None,\n",
    "    past_window_sizes=[7, 28],\n",
    "    future_window_sizes=[7, 28],\n",
    "):\n",
    "    past_dict = {}\n",
    "    future_dict = {}\n",
    "    \n",
    "    # initialize transformation pipeline for covariates\n",
    "    covs_pipe = get_pipeline()\n",
    "\n",
    "    for fam in tqdm_notebook(data.family.unique(), desc=\"Extracting covariates\"):\n",
    "        # filter data for each model\n",
    "        df = data[data.family.eq(fam)]\n",
    "        \n",
    "        # extract past covariates\n",
    "        past_covs = TimeSeries.from_group_dataframe(\n",
    "            df=df[df.date.le(train_end.strftime(\"%Y-%m-%d\"))],\n",
    "            time_col=\"date\",\n",
    "            value_cols=past_cols,\n",
    "            group_cols=\"store_nbr\",\n",
    "        )\n",
    "        past_covs = [p.with_static_covariates(None) for p in past_covs]\n",
    "        past_covs = covs_pipe.fit_transform(past_covs)\n",
    "        if past_ma_cols is not None:\n",
    "            for size in past_window_sizes:\n",
    "                ma_filter = MovingAverageFilter(window=size)\n",
    "                old_names = [f\"rolling_mean_{size}_{col}\" for col in past_ma_cols]\n",
    "                new_names = [f\"{col}_ma{size}\" for col in past_ma_cols]\n",
    "                past_ma_covs = [\n",
    "                    ma_filter.filter(p[past_ma_cols]).with_columns_renamed(old_names, new_names) \n",
    "                    for p in past_covs\n",
    "                ]\n",
    "                past_covs = [p.stack(p_ma) for p, p_ma in zip(past_covs, past_ma_covs)]\n",
    "        \n",
    "        past_dict[fam] = [p.astype(np.float32) for p in past_covs]\n",
    "\n",
    "        # extract future covariates\n",
    "        future_covs = TimeSeries.from_group_dataframe(\n",
    "            df=df,\n",
    "            time_col=\"date\",\n",
    "            value_cols=future_cols,\n",
    "            group_cols=\"store_nbr\",\n",
    "        )\n",
    "        future_covs = [f.with_static_covariates(None) for f in future_covs]\n",
    "        future_covs = covs_pipe.fit_transform(future_covs)\n",
    "        if future_ma_cols is not None:\n",
    "            for size in future_window_sizes:\n",
    "                ma_filter = MovingAverageFilter(window=size)\n",
    "                old_names = [f\"rolling_mean_{size}_{col}\" for col in future_ma_cols]\n",
    "                new_names = [f\"{col}_ma{size}\" for col in future_ma_cols]\n",
    "                future_ma_covs = [\n",
    "                    ma_filter.filter(f[future_ma_cols]).with_columns_renamed(old_names, new_names) \n",
    "                    for f in future_covs\n",
    "                ]\n",
    "                future_covs = [f.stack(f_ma) for f, f_ma in zip(future_covs, future_ma_covs)]\n",
    "        \n",
    "        future_dict[fam] = [f.astype(np.float32) for f in future_covs]\n",
    "            \n",
    "    return past_dict, future_dict"
   ]
  },
  {
   "cell_type": "code",
   "execution_count": null,
   "id": "70881fbd",
   "metadata": {
    "execution": {
     "iopub.execute_input": "2023-07-14T09:46:31.848125Z",
     "iopub.status.busy": "2023-07-14T09:46:31.847089Z",
     "iopub.status.idle": "2023-07-14T09:48:00.040775Z",
     "shell.execute_reply": "2023-07-14T09:48:00.039203Z"
    },
    "papermill": {
     "duration": 88.248859,
     "end_time": "2023-07-14T09:48:00.042674",
     "exception": false,
     "start_time": "2023-07-14T09:46:31.793815",
     "status": "completed"
    },
    "tags": []
   },
   "outputs": [],
   "source": [
    "# past covariates\n",
    "past_cols = [\"transactions\"]\n",
    "\n",
    "# future covariates\n",
    "future_cols = [\n",
    "    \"oil\", \"onpromotion\",\n",
    "    \"day\", \"month\", \"year\", \"day_of_week\", \"day_of_year\", \"week_of_year\", \"date_index\",\n",
    "    \"work_day\", *selected_holidays,\n",
    "]\n",
    "\n",
    "# additional past and future covariates from computing the moving averages\n",
    "past_ma_cols = None\n",
    "future_ma_cols = [\"oil\", \"onpromotion\"]\n",
    "\n",
    "past_dict, future_dict = get_covariates(past_cols, future_cols, past_ma_cols, future_ma_cols)"
   ]
  },
  {
   "attachments": {},
   "cell_type": "markdown",
   "id": "f7d1e4ed",
   "metadata": {
    "papermill": {
     "duration": 0.05152,
     "end_time": "2023-07-14T09:48:00.145918",
     "exception": false,
     "start_time": "2023-07-14T09:48:00.094398",
     "status": "completed"
    },
    "tags": []
   },
   "source": [
    "### Setting up the model trainer."
   ]
  },
  {
   "attachments": {},
   "cell_type": "markdown",
   "id": "3142f781",
   "metadata": {
    "papermill": {
     "duration": 0.05115,
     "end_time": "2023-07-14T09:48:00.248274",
     "exception": false,
     "start_time": "2023-07-14T09:48:00.197124",
     "status": "completed"
    },
    "tags": []
   },
   "source": [
    "We are now done with extracting the time series data for forecasting with Darts. The complete list of covariates is shown below."
   ]
  },
  {
   "cell_type": "code",
   "execution_count": null,
   "id": "edfc45af",
   "metadata": {
    "_kg_hide-input": true,
    "execution": {
     "iopub.execute_input": "2023-07-14T09:48:00.353384Z",
     "iopub.status.busy": "2023-07-14T09:48:00.352400Z",
     "iopub.status.idle": "2023-07-14T09:48:00.358785Z",
     "shell.execute_reply": "2023-07-14T09:48:00.357672Z"
    },
    "papermill": {
     "duration": 0.060486,
     "end_time": "2023-07-14T09:48:00.360575",
     "exception": false,
     "start_time": "2023-07-14T09:48:00.300089",
     "status": "completed"
    },
    "tags": []
   },
   "outputs": [],
   "source": [
    "cprint(\n",
    "    \"List of all covariates:\",\n",
    "    \"Static covariates:\",\n",
    "    static_cols + [\"store_nbr\"],\n",
    "    \"\",\n",
    "    \"Past covariates:\",\n",
    "    past_dict[\"AUTOMOTIVE\"][0].components.tolist(),\n",
    "    \"\",\n",
    "    \"Future covariates:\",\n",
    "    future_dict[\"AUTOMOTIVE\"][0].components.tolist(),\n",
    ")"
   ]
  },
  {
   "attachments": {},
   "cell_type": "markdown",
   "id": "1edfe39b",
   "metadata": {
    "papermill": {
     "duration": 0.051949,
     "end_time": "2023-07-14T09:48:00.464161",
     "exception": false,
     "start_time": "2023-07-14T09:48:00.412212",
     "status": "completed"
    },
    "tags": []
   },
   "source": [
    "We now implement a model trainer to handle training, validation, and other related tasks. The trainer configuration is documented in the code below. \n",
    "\n",
    "Our forecasting horizon (`forecast_horizon`) is set to be 16 days, which is equal to the length of our test data. To evaluate our models, we will be performing time series cross-validation using a **rolling forecasting origin**. How this works is that we repeatedly build a training set expanding from the beginning of the target series. For each training set, the next 16 days (our forecasting horizon) will be our validation set. This process continues until we reach the end of the target series. The performance of the model is determined by the average RMSLE score across all the validation sets. A more detailed description of how this works can be found in this [online textbook](https://otexts.com/fpp3/tscv.html).\n",
    "\n",
    "We have pointed out earlier that there are some target series with many trailing zeros, which could be due to consistent poor sales performance or product unavailability. As such, **generating zero forecasts** for such target series is a logical choice. We set a window size (`zero_fc_window`) that determines the number of previous days to check for zero sales in the configuration below.\n",
    "\n",
    "\\* *The reference notebooks generate zero forecasts for target series where the past 21 days are all zero sales.*\n",
    "\n",
    "\\** *To reduce computation time of this notebook, the configuration is set to perform the standard train-validation split for model evaluation.*"
   ]
  },
  {
   "cell_type": "code",
   "execution_count": null,
   "id": "84046e8e",
   "metadata": {
    "execution": {
     "iopub.execute_input": "2023-07-14T09:48:00.569172Z",
     "iopub.status.busy": "2023-07-14T09:48:00.568840Z",
     "iopub.status.idle": "2023-07-14T09:48:00.574406Z",
     "shell.execute_reply": "2023-07-14T09:48:00.573225Z"
    },
    "papermill": {
     "duration": 0.059646,
     "end_time": "2023-07-14T09:48:00.576339",
     "exception": false,
     "start_time": "2023-07-14T09:48:00.516693",
     "status": "completed"
    },
    "tags": []
   },
   "outputs": [],
   "source": [
    "TRAINER_CONFIG = {\n",
    "    # the time series data previously extracted\n",
    "    \"target_dict\": target_dict,\n",
    "    \"pipe_dict\": pipe_dict,\n",
    "    \"id_dict\": id_dict,\n",
    "    \"past_dict\": past_dict,\n",
    "    \"future_dict\": future_dict,\n",
    "    \n",
    "    # time series cross-validation using a rolling forecasting origin\n",
    "    \"forecast_horizon\": 16, # the length of the validation set\n",
    "    \"folds\": 1, # the number of training sets (setting to 1 means the standard train-validation split)\n",
    "    \n",
    "    # the number of previous days to check for zero sales; if all are zero, generate zero forecasts\n",
    "    \"zero_fc_window\": 21,\n",
    "    \n",
    "    # specify the covariates in a list to include in the model\n",
    "    # set to None to not use any, and set to 'keep_all' to include everything\n",
    "    \"static_covs\": \"keep_all\", # specify from ['city', 'state', 'cluster', 'type', 'store_nbr'], will extract all one-hot encoded columns\n",
    "    \"past_covs\": \"keep_all\",\n",
    "    \"future_covs\": \"keep_all\",\n",
    "}"
   ]
  },
  {
   "cell_type": "code",
   "execution_count": null,
   "id": "a8571e97",
   "metadata": {
    "execution": {
     "iopub.execute_input": "2023-07-14T09:48:00.685550Z",
     "iopub.status.busy": "2023-07-14T09:48:00.685168Z",
     "iopub.status.idle": "2023-07-14T09:48:00.722555Z",
     "shell.execute_reply": "2023-07-14T09:48:00.721800Z"
    },
    "papermill": {
     "duration": 0.094091,
     "end_time": "2023-07-14T09:48:00.724637",
     "exception": false,
     "start_time": "2023-07-14T09:48:00.630546",
     "status": "completed"
    },
    "tags": []
   },
   "outputs": [],
   "source": [
    "class Trainer:\n",
    "    def __init__(\n",
    "        self,\n",
    "        target_dict,\n",
    "        pipe_dict,\n",
    "        id_dict,\n",
    "        past_dict,\n",
    "        future_dict,\n",
    "        forecast_horizon,\n",
    "        folds,\n",
    "        zero_fc_window,\n",
    "        static_covs=None,\n",
    "        past_covs=None,\n",
    "        future_covs=None,\n",
    "    ):\n",
    "        self.target_dict = target_dict.copy()\n",
    "        self.pipe_dict = pipe_dict.copy()\n",
    "        self.id_dict = id_dict.copy()\n",
    "        self.past_dict = past_dict.copy()\n",
    "        self.future_dict = future_dict.copy()\n",
    "        self.forecast_horizon = forecast_horizon\n",
    "        self.folds = folds\n",
    "        self.zero_fc_window = zero_fc_window\n",
    "        self.static_covs = static_covs\n",
    "        self.past_covs = past_covs\n",
    "        self.future_covs = future_covs\n",
    "        \n",
    "        # set up time series data\n",
    "        self.setup()\n",
    "    \n",
    "    def setup(self):\n",
    "        for fam in tqdm_notebook(self.target_dict.keys(), desc=\"Setting up\"):\n",
    "            # keep the specified static covariates\n",
    "            if self.static_covs != \"keep_all\":\n",
    "                if self.static_covs is not None:\n",
    "                    target = self.target_dict[fam]\n",
    "                    keep_static = [col for col in target[0].static_covariates.columns if col.startswith(tuple(self.static_covs))]\n",
    "                    static_covs_df = [t.static_covariates[keep_static] for t in target]\n",
    "                    self.target_dict[fam] = [t.with_static_covariates(d) for t, d in zip(target, static_covs_df)]\n",
    "                else:\n",
    "                    self.target_dict[fam] = [t.with_static_covariates(None) for t in target]\n",
    "            \n",
    "            # keep the specified past covariates\n",
    "            if self.past_covs != \"keep_all\":\n",
    "                if self.past_covs is not None:\n",
    "                    self.past_dict[fam] = [p[self.past_covs] for p in self.past_dict[fam]]\n",
    "                else:\n",
    "                    self.past_dict[fam] = None\n",
    "                \n",
    "            # keep the specified future covariates\n",
    "            if self.future_covs != \"keep_all\":\n",
    "                if self.future_covs is not None:\n",
    "                    self.future_dict[fam] = [p[self.future_covs] for p in self.future_dict[fam]]\n",
    "                else:\n",
    "                    self.future_dict[fam] = None\n",
    "    \n",
    "    def clip(self, array):\n",
    "        return np.clip(array, a_min=0., a_max=None)\n",
    "    \n",
    "    def train_valid_split(self, target, length):\n",
    "        train = [t[:-length] for t in target]\n",
    "        valid_end_idx = -length + self.forecast_horizon\n",
    "        if valid_end_idx >= 0:\n",
    "            valid_end_idx = None\n",
    "        valid = [t[-length:valid_end_idx] for t in target]\n",
    "        \n",
    "        return train, valid\n",
    "    \n",
    "    def get_models(self, model_names, model_configs):\n",
    "        models = {\n",
    "            \"lr\": LinearRegressionModel,\n",
    "            \"lgbm\": LightGBMModel,\n",
    "            \"cat\": CatBoostModel,\n",
    "            \"xgb\": XGBModel,\n",
    "        }\n",
    "        assert isinstance(model_names, list) and isinstance(model_configs, list),\\\n",
    "        \"Both the model names and model configurations must be specified in lists.\"\n",
    "        assert all(name in models for name in model_names),\\\n",
    "        f\"Model names '{model_names}' not recognized.\"\n",
    "        assert len(model_names) == len(model_configs),\\\n",
    "        \"The number of model names and the number of model configurations do not match.\"\n",
    "        \n",
    "        if \"xgb\" in model_names:\n",
    "            xgb_idx = np.where(np.array(model_names)==\"xgb\")[0]\n",
    "            for idx in xgb_idx:\n",
    "                # change to histogram-based method for XGBoost to get faster training time\n",
    "                model_configs[idx] = {\"tree_method\": \"hist\", **model_configs[idx]}\n",
    "        \n",
    "        return [models[name](**model_configs[j]) for j, name in enumerate(model_names)]\n",
    "    \n",
    "    def generate_forecasts(self, models, train, pipe, past_covs, future_covs, drop_before):\n",
    "        if drop_before is not None:\n",
    "            date = pd.Timestamp(drop_before) - pd.Timedelta(days=1)\n",
    "            train = [t.drop_before(date) for t in train]\n",
    "        inputs = {\n",
    "            \"series\": train,\n",
    "            \"past_covariates\": past_covs,\n",
    "            \"future_covariates\": future_covs,\n",
    "        }\n",
    "        zero_pred = pd.DataFrame({\n",
    "            \"date\": pd.date_range(train[0].end_time(), periods=self.forecast_horizon+1)[1:],\n",
    "            \"sales\": np.zeros(self.forecast_horizon),\n",
    "        })\n",
    "        zero_pred = TimeSeries.from_dataframe(\n",
    "            df=zero_pred,\n",
    "            time_col=\"date\",\n",
    "            value_cols=\"sales\",\n",
    "        )\n",
    "        \n",
    "        pred_list = []\n",
    "        ens_pred = [0 for _ in range(len(train))]\n",
    "        \n",
    "        for m in models:\n",
    "            # fit training data to model\n",
    "            m.fit(**inputs)\n",
    "\n",
    "            # generate forecasts and apply inverse transformations\n",
    "            pred = m.predict(n=self.forecast_horizon, **inputs)\n",
    "            pred = pipe.inverse_transform(pred)\n",
    "\n",
    "            # set zero forecasts for target series where the recent observations are 0s\n",
    "            for j in range(len(train)):\n",
    "                if train[j][-self.zero_fc_window:].values().sum() == 0:\n",
    "                    pred[j] = zero_pred\n",
    "            \n",
    "            # clip negative forecasts to 0s\n",
    "            pred = [p.map(self.clip) for p in pred]\n",
    "            pred_list.append(pred)\n",
    "            \n",
    "            # ensemble averaging\n",
    "            for j in range(len(ens_pred)):\n",
    "                ens_pred[j] += pred[j] / len(models)\n",
    "\n",
    "        return pred_list, ens_pred\n",
    "    \n",
    "    def metric(self, valid, pred):\n",
    "        return rmsle(valid, pred, inter_reduction=np.mean)\n",
    "    \n",
    "    def validate(self, model_names, model_configs, drop_before=None):\n",
    "        # helper value to align printed text below\n",
    "        longest_len = len(max(self.target_dict.keys(), key=len))\n",
    "        \n",
    "        # store metric values for each model\n",
    "        model_metrics_history = []\n",
    "        ens_metric_history = []\n",
    "        \n",
    "        for fam in tqdm_notebook(self.target_dict, desc=\"Performing validation\"):\n",
    "            target = self.target_dict[fam]\n",
    "            pipe = self.pipe_dict[fam]\n",
    "            past_covs = self.past_dict[fam]\n",
    "            future_covs = self.future_dict[fam]\n",
    "            \n",
    "            # record average metric value over all folds\n",
    "            model_metrics = []\n",
    "            ens_metric = 0\n",
    "            \n",
    "            for j in range(self.folds):    \n",
    "                # perform train-validation split and apply transformations\n",
    "                length = (self.folds - j) * self.forecast_horizon\n",
    "                train, valid = self.train_valid_split(target, length)\n",
    "                valid = pipe.inverse_transform(valid)\n",
    "\n",
    "                # generate forecasts and compute metric\n",
    "                models = self.get_models(model_names, model_configs)\n",
    "                pred_list, ens_pred = self.generate_forecasts(models, train, pipe, past_covs, future_covs, drop_before)\n",
    "                metric_list = [self.metric(valid, pred) / self.folds for pred in pred_list]\n",
    "                model_metrics.append(metric_list)\n",
    "                if len(models) > 1:\n",
    "                    ens_metric_fold = self.metric(valid, ens_pred) / self.folds\n",
    "                    ens_metric += ens_metric_fold\n",
    "                \n",
    "            # store final metric value for each model\n",
    "            model_metrics = np.sum(model_metrics, axis=0)\n",
    "            model_metrics_history.append(model_metrics)\n",
    "            ens_metric_history.append(ens_metric)\n",
    "            \n",
    "            # print metric value for each family\n",
    "            print(\n",
    "                fam,\n",
    "                \" \" * (longest_len - len(fam)),\n",
    "                \" | \",\n",
    "                \" - \".join([f\"{model}: {metric:.5f}\" for model, metric in zip(model_names, model_metrics)]),\n",
    "                f\" - ens: {ens_metric:.5f}\" if len(models) > 1 else \"\",\n",
    "                sep=\"\",\n",
    "            )\n",
    "            \n",
    "        # print overall metric value\n",
    "        cprint(\n",
    "            \"Average RMSLE | \"\n",
    "            + \" - \".join([f\"{model}: {metric:.5f}\" \n",
    "                          for model, metric in zip(model_names, np.mean(model_metrics_history, axis=0))])\n",
    "            + (f\" - ens: {np.mean(ens_metric_history):.5f}\" if len(models) > 1 else \"\"),\n",
    "        )\n",
    "        \n",
    "    def ensemble_predict(self, model_names, model_configs, drop_before=None):        \n",
    "        forecasts = []\n",
    "        for fam in tqdm_notebook(self.target_dict.keys(), desc=\"Generating forecasts\"):\n",
    "            target = self.target_dict[fam]\n",
    "            pipe = self.pipe_dict[fam]\n",
    "            target_id = self.id_dict[fam]\n",
    "            past_covs = self.past_dict[fam]\n",
    "            future_covs = self.future_dict[fam]\n",
    "            \n",
    "            # generate forecasts\n",
    "            models = self.get_models(model_names, model_configs)\n",
    "            pred_list, ens_pred = self.generate_forecasts(models, target, pipe, past_covs, future_covs, drop_before)\n",
    "            ens_pred = [p.pd_dataframe().assign(**i) for p, i in zip(ens_pred, target_id)]\n",
    "            ens_pred = pd.concat(ens_pred, axis=0)\n",
    "            forecasts.append(ens_pred)\n",
    "            \n",
    "        # combine all forecasts into one dataframe\n",
    "        forecasts = pd.concat(forecasts, axis=0)\n",
    "        forecasts = forecasts.rename_axis(None, axis=1).reset_index(names=\"date\")\n",
    "        \n",
    "        return forecasts"
   ]
  },
  {
   "cell_type": "code",
   "execution_count": null,
   "id": "b0cd9cef",
   "metadata": {
    "execution": {
     "iopub.execute_input": "2023-07-14T09:48:00.830687Z",
     "iopub.status.busy": "2023-07-14T09:48:00.830178Z",
     "iopub.status.idle": "2023-07-14T09:48:00.846356Z",
     "shell.execute_reply": "2023-07-14T09:48:00.845192Z"
    },
    "papermill": {
     "duration": 0.070578,
     "end_time": "2023-07-14T09:48:00.848032",
     "exception": false,
     "start_time": "2023-07-14T09:48:00.777454",
     "status": "completed"
    },
    "tags": []
   },
   "outputs": [],
   "source": [
    "# initialize model trainer\n",
    "trainer = Trainer(**TRAINER_CONFIG)"
   ]
  },
  {
   "attachments": {},
   "cell_type": "markdown",
   "id": "3f7172f1",
   "metadata": {
    "papermill": {
     "duration": 0.05181,
     "end_time": "2023-07-14T09:48:00.951311",
     "exception": false,
     "start_time": "2023-07-14T09:48:00.899501",
     "status": "completed"
    },
    "tags": []
   },
   "source": [
    "### Baseline: Linear Regression."
   ]
  },
  {
   "attachments": {},
   "cell_type": "markdown",
   "id": "dc3cdbdc",
   "metadata": {
    "papermill": {
     "duration": 0.054837,
     "end_time": "2023-07-14T09:48:01.058887",
     "exception": false,
     "start_time": "2023-07-14T09:48:01.004050",
     "status": "completed"
    },
    "tags": []
   },
   "source": [
    "We use linear regression as the baseline model. The model configuration is documented below.\n",
    "\n",
    "A thing to note here is that `output_chunk_length` refers to the number of days ahead that the model is predicting given today's input data. If this is set to be equal to the `forecast_horizon` of 16 days, we are doing a single-shot prediction. On the other hand, if we set it to only predict 1 day ahead, the model will make predictions autoregressively. Setting an appropriate value for this requires experimentation, but for simplicity we just set it to predict 1 day ahead.\n",
    "\n",
    "Since we are only predicting 1 day ahead, this restricts the number of lags that can be used for the past covariates. For example, our past covariates are only known up till 15 August 2017 (the last day of the training data). To generate the forecast for 31 August 2017 (the last day of the test data), the most recent past covariates that can be used fall on 15 August 2017. As such, to account for this difference, we **can only use the past covariates starting from the 16th lag**.\n",
    "\n",
    "On the other hand, our future covariates are known up till 31 August 2017. To generate the forecast for 31 August 2017 (the last day of the test data), the latest future covariates that can be used fall on 31 August 2017 as well. This means that we **can only use future covariates up till the point of forecasting**.\n",
    "\n",
    "\\* *The values in the model configuration are taken from the reference notebooks.*"
   ]
  },
  {
   "cell_type": "code",
   "execution_count": null,
   "id": "d00bd915",
   "metadata": {
    "execution": {
     "iopub.execute_input": "2023-07-14T09:48:01.167771Z",
     "iopub.status.busy": "2023-07-14T09:48:01.166405Z",
     "iopub.status.idle": "2023-07-14T09:48:01.172354Z",
     "shell.execute_reply": "2023-07-14T09:48:01.171625Z"
    },
    "papermill": {
     "duration": 0.062283,
     "end_time": "2023-07-14T09:48:01.174229",
     "exception": false,
     "start_time": "2023-07-14T09:48:01.111946",
     "status": "completed"
    },
    "tags": []
   },
   "outputs": [],
   "source": [
    "BASE_CONFIG = {\n",
    "    \"random_state\": 0,\n",
    "    \n",
    "    # the number of lag values of the target series\n",
    "    \"lags\": 63,\n",
    "    \n",
    "    # the number of lag values of the past covariates\n",
    "    \"lags_past_covariates\": list(range(-16, -23, -1)) if TRAINER_CONFIG[\"past_covs\"] is not None else None,\n",
    "    \n",
    "    # the number of (past, future-1) lag values of the future covariates\n",
    "    \"lags_future_covariates\": (14, 1) if TRAINER_CONFIG[\"future_covs\"] is not None else None,\n",
    "    \n",
    "    # the number of days ahead that the model is forecasting given today's input data\n",
    "    \"output_chunk_length\": 1,\n",
    "}"
   ]
  },
  {
   "attachments": {},
   "cell_type": "markdown",
   "id": "85129b32",
   "metadata": {
    "papermill": {
     "duration": 0.053861,
     "end_time": "2023-07-14T09:48:01.281505",
     "exception": false,
     "start_time": "2023-07-14T09:48:01.227644",
     "status": "completed"
    },
    "tags": []
   },
   "source": [
    "Before validating our models, there is an additional parameter to specify, `drop_before`. This parameter refers to a specific date, where all data points before it are excluded. With a large training data of 1782 target series, reducing the number of data points can be helpful to increase the speed of model training. \n",
    "\n",
    "Moreover, there could be [change points](https://en.wikipedia.org/wiki/Change_detection) in our time series data such that the patterns are changing over time. Some evidence to support this would be the great fluctuations in the count of zero sales between 2014 and 2015, which are not observed in other time periods. Also, there are zero promotion values up till early 2014. These findings suggest that there could be structural changes in that time period. As such, using the entire data without accounting for such changes may break our models. The **recent data may be more reliable** for forecasting compared to the older data. This requires some experimentation."
   ]
  },
  {
   "cell_type": "code",
   "execution_count": null,
   "id": "0354a1d7",
   "metadata": {
    "execution": {
     "iopub.execute_input": "2023-07-14T09:48:01.391200Z",
     "iopub.status.busy": "2023-07-14T09:48:01.390349Z",
     "iopub.status.idle": "2023-07-14T09:49:48.437676Z",
     "shell.execute_reply": "2023-07-14T09:49:48.436696Z"
    },
    "papermill": {
     "duration": 107.104695,
     "end_time": "2023-07-14T09:49:48.440592",
     "exception": false,
     "start_time": "2023-07-14T09:48:01.335897",
     "status": "completed"
    },
    "tags": []
   },
   "outputs": [],
   "source": [
    "# 'lr' for linear regression\n",
    "trainer.validate([\"lr\"], [BASE_CONFIG], drop_before=\"2015-01-01\")"
   ]
  },
  {
   "attachments": {},
   "cell_type": "markdown",
   "id": "200cb324",
   "metadata": {
    "papermill": {
     "duration": 0.055746,
     "end_time": "2023-07-14T09:49:48.551909",
     "exception": false,
     "start_time": "2023-07-14T09:49:48.496163",
     "status": "completed"
    },
    "tags": []
   },
   "source": [
    "### LightGBM."
   ]
  },
  {
   "attachments": {},
   "cell_type": "markdown",
   "id": "67b4f497",
   "metadata": {
    "papermill": {
     "duration": 0.056372,
     "end_time": "2023-07-14T09:49:48.663510",
     "exception": false,
     "start_time": "2023-07-14T09:49:48.607138",
     "status": "completed"
    },
    "tags": []
   },
   "source": [
    "We now use gradient-boosting decision tree (GBDT) models for actual forecasting. Some state-of-the-art options include LightGBM, XGBoost and CatBoost. We only focus on LightGBM because it appears to have faster training time. Additional hyperparameters can be specified but for simplicity, we use the default values. To stabilize performance, we perform ensemble averaging by training multiple models and aggregating the forecasts through averaging. This helps to average out the errors.\n",
    "\n",
    "\\* *We adopt the approach taken in the reference notebook to use different numbers of lags of the target series for each model.*"
   ]
  },
  {
   "cell_type": "code",
   "execution_count": null,
   "id": "eea71c8a",
   "metadata": {
    "execution": {
     "iopub.execute_input": "2023-07-14T09:49:48.776525Z",
     "iopub.status.busy": "2023-07-14T09:49:48.776157Z",
     "iopub.status.idle": "2023-07-14T09:49:48.781396Z",
     "shell.execute_reply": "2023-07-14T09:49:48.780584Z"
    },
    "papermill": {
     "duration": 0.06492,
     "end_time": "2023-07-14T09:49:48.783801",
     "exception": false,
     "start_time": "2023-07-14T09:49:48.718881",
     "status": "completed"
    },
    "tags": []
   },
   "outputs": [],
   "source": [
    "GBDT_CONFIG1 = {\n",
    "    **BASE_CONFIG,\n",
    "    \n",
    "    # the additional hyperparameters to be specified\n",
    "#     \"n_estimators\": 100,\n",
    "#     \"learning_rate\": 0.1,\n",
    "#     \"max_depth\": 6,\n",
    "    \n",
    "}\n",
    "\n",
    "GBDT_CONFIG2 = GBDT_CONFIG1.copy()\n",
    "GBDT_CONFIG2[\"lags\"] = 7\n",
    "\n",
    "GBDT_CONFIG3 = GBDT_CONFIG1.copy()\n",
    "GBDT_CONFIG3[\"lags\"] = 365\n",
    "\n",
    "GBDT_CONFIG4 = GBDT_CONFIG1.copy()\n",
    "GBDT_CONFIG4[\"lags\"] = 730"
   ]
  },
  {
   "attachments": {},
   "cell_type": "markdown",
   "id": "83bcbd4c",
   "metadata": {
    "papermill": {
     "duration": 0.053103,
     "end_time": "2023-07-14T09:49:48.891409",
     "exception": false,
     "start_time": "2023-07-14T09:49:48.838306",
     "status": "completed"
    },
    "tags": []
   },
   "source": [
    "To compute the ensemble average, we specify a list of models and their corresponding configurations to the trainer."
   ]
  },
  {
   "cell_type": "code",
   "execution_count": null,
   "id": "b01a9506",
   "metadata": {
    "execution": {
     "iopub.execute_input": "2023-07-14T09:49:49.001391Z",
     "iopub.status.busy": "2023-07-14T09:49:49.000705Z",
     "iopub.status.idle": "2023-07-14T10:15:16.330347Z",
     "shell.execute_reply": "2023-07-14T10:15:16.329016Z"
    },
    "papermill": {
     "duration": 1527.438486,
     "end_time": "2023-07-14T10:15:16.383668",
     "exception": false,
     "start_time": "2023-07-14T09:49:48.945182",
     "status": "completed"
    },
    "tags": []
   },
   "outputs": [],
   "source": [
    "# 'lgbm' for LightGBM, 'xgb' for XGBoost, 'cat' for CatBoost\n",
    "ENS_MODELS = [\"lgbm\", \"lgbm\", \"lgbm\", \"lgbm\"]\n",
    "ENS_CONFIGS = [GBDT_CONFIG1, GBDT_CONFIG2, GBDT_CONFIG3, GBDT_CONFIG4]\n",
    "\n",
    "trainer.validate(\n",
    "    model_names=ENS_MODELS, \n",
    "    model_configs=ENS_CONFIGS,\n",
    "    drop_before=\"2015-01-01\",\n",
    ")"
   ]
  },
  {
   "attachments": {},
   "cell_type": "markdown",
   "id": "cf11d070",
   "metadata": {
    "papermill": {
     "duration": 0.060264,
     "end_time": "2023-07-14T10:15:16.501840",
     "exception": false,
     "start_time": "2023-07-14T10:15:16.441576",
     "status": "completed"
    },
    "tags": []
   },
   "source": [
    "---"
   ]
  },
  {
   "attachments": {},
   "cell_type": "markdown",
   "id": "94d2a84a",
   "metadata": {
    "papermill": {
     "duration": 0.057491,
     "end_time": "2023-07-14T10:15:16.617804",
     "exception": false,
     "start_time": "2023-07-14T10:15:16.560313",
     "status": "completed"
    },
    "tags": []
   },
   "source": [
    "# 4. Submission"
   ]
  },
  {
   "attachments": {},
   "cell_type": "markdown",
   "id": "fc1c7981",
   "metadata": {
    "papermill": {
     "duration": 0.058477,
     "end_time": "2023-07-14T10:15:16.734636",
     "exception": false,
     "start_time": "2023-07-14T10:15:16.676159",
     "status": "completed"
    },
    "tags": []
   },
   "source": [
    "### Generating forecasts for the test data."
   ]
  },
  {
   "attachments": {},
   "cell_type": "markdown",
   "id": "3baffb21",
   "metadata": {
    "papermill": {
     "duration": 0.056287,
     "end_time": "2023-07-14T10:15:16.847858",
     "exception": false,
     "start_time": "2023-07-14T10:15:16.791571",
     "status": "completed"
    },
    "tags": []
   },
   "source": [
    "For submission, we train one ensemble model on the entire training data and another ensemble model on a subset of the training data before taking the average. The RMSLE scores on the public leaderboard are as follows:\n",
    "* Ensemble model trained on the entire data: 0.38073\n",
    "* Ensemble model trained on a subset of the data: 0.38076\n",
    "* Average of both ensemble models: 0.37984\n",
    "\n",
    "It seems that training the ensemble model on just a subset of the data (from 2015 onwards) yields similar performance to the one trained on the entire data, but has faster training speed. Taking the average of both ensemble models results in an even better RMSLE score. This shows that training on different subsets of the data and then combining the predictions can potentially make the results more robust."
   ]
  },
  {
   "cell_type": "code",
   "execution_count": null,
   "id": "77517dd8",
   "metadata": {
    "execution": {
     "iopub.execute_input": "2023-07-14T10:15:16.965775Z",
     "iopub.status.busy": "2023-07-14T10:15:16.965406Z",
     "iopub.status.idle": "2023-07-14T11:26:44.859001Z",
     "shell.execute_reply": "2023-07-14T11:26:44.857465Z"
    },
    "papermill": {
     "duration": 4287.995658,
     "end_time": "2023-07-14T11:26:44.901888",
     "exception": false,
     "start_time": "2023-07-14T10:15:16.906230",
     "status": "completed"
    },
    "tags": []
   },
   "outputs": [],
   "source": [
    "# generate forecasts for model trained on the entire data\n",
    "predictions1 = trainer.ensemble_predict(\n",
    "    model_names=ENS_MODELS, \n",
    "    model_configs=ENS_CONFIGS,\n",
    ")\n",
    "\n",
    "# generate forecasts for model trained on a subset of the data\n",
    "predictions2 = trainer.ensemble_predict(\n",
    "    model_names=ENS_MODELS, \n",
    "    model_configs=ENS_CONFIGS,\n",
    "    drop_before=\"2015-01-01\",\n",
    ")"
   ]
  },
  {
   "cell_type": "code",
   "execution_count": null,
   "id": "d7e9e5ed",
   "metadata": {
    "execution": {
     "iopub.execute_input": "2023-07-14T11:26:45.020625Z",
     "iopub.status.busy": "2023-07-14T11:26:45.020152Z",
     "iopub.status.idle": "2023-07-14T11:26:45.054353Z",
     "shell.execute_reply": "2023-07-14T11:26:45.052899Z"
    },
    "papermill": {
     "duration": 0.099044,
     "end_time": "2023-07-14T11:26:45.056844",
     "exception": false,
     "start_time": "2023-07-14T11:26:44.957800",
     "status": "completed"
    },
    "tags": []
   },
   "outputs": [],
   "source": [
    "# compute the average of the ensemble models\n",
    "final_predictions = predictions1.merge(\n",
    "    predictions2, on=[\"date\", \"store_nbr\", \"family\"], how=\"left\",\n",
    ")\n",
    "final_predictions[\"sales\"] = final_predictions[[\"sales_x\", \"sales_y\"]].mean(axis=1)\n",
    "final_predictions = final_predictions.drop(columns=[\"sales_x\", \"sales_y\"])\n",
    "\n",
    "final_predictions.head()"
   ]
  },
  {
   "attachments": {},
   "cell_type": "markdown",
   "id": "1e55a6ce",
   "metadata": {
    "papermill": {
     "duration": 0.057674,
     "end_time": "2023-07-14T11:26:45.171371",
     "exception": false,
     "start_time": "2023-07-14T11:26:45.113697",
     "status": "completed"
    },
    "tags": []
   },
   "source": [
    "### Preparing for the submission."
   ]
  },
  {
   "cell_type": "code",
   "execution_count": null,
   "id": "a8672d86",
   "metadata": {
    "execution": {
     "iopub.execute_input": "2023-07-14T11:26:45.287882Z",
     "iopub.status.busy": "2023-07-14T11:26:45.287186Z",
     "iopub.status.idle": "2023-07-14T11:26:45.293284Z",
     "shell.execute_reply": "2023-07-14T11:26:45.291892Z"
    },
    "papermill": {
     "duration": 0.067498,
     "end_time": "2023-07-14T11:26:45.295770",
     "exception": false,
     "start_time": "2023-07-14T11:26:45.228272",
     "status": "completed"
    },
    "tags": []
   },
   "outputs": [],
   "source": [
    "def prepare_submission(predictions):\n",
    "    predictions = predictions.copy()\n",
    "    \n",
    "    # process column values for merging\n",
    "    predictions.store_nbr = predictions.store_nbr.replace(\n",
    "        \"store_nbr_\", \"\", regex=True,\n",
    "    ).astype(int)\n",
    "     \n",
    "    # match with corresponding 'id'\n",
    "    submission = test.merge(\n",
    "        predictions, on=[\"date\", \"store_nbr\", \"family\"], how=\"left\",\n",
    "    )[[\"id\", \"sales\"]]\n",
    "    \n",
    "    return submission"
   ]
  },
  {
   "cell_type": "code",
   "execution_count": null,
   "id": "e75e6e66",
   "metadata": {
    "execution": {
     "iopub.execute_input": "2023-07-14T11:26:45.411296Z",
     "iopub.status.busy": "2023-07-14T11:26:45.410883Z",
     "iopub.status.idle": "2023-07-14T11:26:45.476714Z",
     "shell.execute_reply": "2023-07-14T11:26:45.475323Z"
    },
    "papermill": {
     "duration": 0.126571,
     "end_time": "2023-07-14T11:26:45.479563",
     "exception": false,
     "start_time": "2023-07-14T11:26:45.352992",
     "status": "completed"
    },
    "tags": []
   },
   "outputs": [],
   "source": [
    "submission = prepare_submission(final_predictions)\n",
    "\n",
    "submission.head()"
   ]
  },
  {
   "cell_type": "code",
   "execution_count": null,
   "id": "4fabcb61",
   "metadata": {
    "execution": {
     "iopub.execute_input": "2023-07-14T11:26:45.595571Z",
     "iopub.status.busy": "2023-07-14T11:26:45.595216Z",
     "iopub.status.idle": "2023-07-14T11:26:45.659066Z",
     "shell.execute_reply": "2023-07-14T11:26:45.657342Z"
    },
    "papermill": {
     "duration": 0.124447,
     "end_time": "2023-07-14T11:26:45.661655",
     "exception": false,
     "start_time": "2023-07-14T11:26:45.537208",
     "status": "completed"
    },
    "tags": []
   },
   "outputs": [],
   "source": [
    "submission.to_csv(\"submission.csv\", index=False)"
   ]
  },
  {
   "attachments": {},
   "cell_type": "markdown",
   "id": "d56efc05",
   "metadata": {
    "papermill": {
     "duration": 0.055339,
     "end_time": "2023-07-14T11:26:45.773118",
     "exception": false,
     "start_time": "2023-07-14T11:26:45.717779",
     "status": "completed"
    },
    "tags": []
   },
   "source": [
    "---"
   ]
  }
 ],
 "metadata": {
  "kernelspec": {
   "display_name": "Python 3",
   "language": "python",
   "name": "python3"
  },
  "language_info": {
   "codemirror_mode": {
    "name": "ipython",
    "version": 3
   },
   "file_extension": ".py",
   "mimetype": "text/x-python",
   "name": "python",
   "nbconvert_exporter": "python",
   "pygments_lexer": "ipython3",
   "version": "3.10.12"
  },
  "papermill": {
   "default_parameters": {},
   "duration": 6234.634703,
   "end_time": "2023-07-14T11:26:48.771821",
   "environment_variables": {},
   "exception": null,
   "input_path": "__notebook__.ipynb",
   "output_path": "__notebook__.ipynb",
   "parameters": {},
   "start_time": "2023-07-14T09:42:54.137118",
   "version": "2.4.0"
  },
  "widgets": {
   "application/vnd.jupyter.widget-state+json": {
    "state": {
     "037cd923dede43eba7339c9d34267ac9": {
      "model_module": "@jupyter-widgets/controls",
      "model_module_version": "1.5.0",
      "model_name": "HBoxModel",
      "state": {
       "_dom_classes": [],
       "_model_module": "@jupyter-widgets/controls",
       "_model_module_version": "1.5.0",
       "_model_name": "HBoxModel",
       "_view_count": null,
       "_view_module": "@jupyter-widgets/controls",
       "_view_module_version": "1.5.0",
       "_view_name": "HBoxView",
       "box_style": "",
       "children": [
        "IPY_MODEL_b57ddd51209d4315a493ab34629f2702",
        "IPY_MODEL_dc4e7ff07db3459f9ade1e64fedc6c32",
        "IPY_MODEL_bd05b1389e4d4525812dfece23d90b6f"
       ],
       "layout": "IPY_MODEL_29c06e03d0984e83a94a6d3506360552"
      }
     },
     "0463223cdb5d4199985f181eddac9810": {
      "model_module": "@jupyter-widgets/base",
      "model_module_version": "1.2.0",
      "model_name": "LayoutModel",
      "state": {
       "_model_module": "@jupyter-widgets/base",
       "_model_module_version": "1.2.0",
       "_model_name": "LayoutModel",
       "_view_count": null,
       "_view_module": "@jupyter-widgets/base",
       "_view_module_version": "1.2.0",
       "_view_name": "LayoutView",
       "align_content": null,
       "align_items": null,
       "align_self": null,
       "border": null,
       "bottom": null,
       "display": null,
       "flex": null,
       "flex_flow": null,
       "grid_area": null,
       "grid_auto_columns": null,
       "grid_auto_flow": null,
       "grid_auto_rows": null,
       "grid_column": null,
       "grid_gap": null,
       "grid_row": null,
       "grid_template_areas": null,
       "grid_template_columns": null,
       "grid_template_rows": null,
       "height": null,
       "justify_content": null,
       "justify_items": null,
       "left": null,
       "margin": null,
       "max_height": null,
       "max_width": null,
       "min_height": null,
       "min_width": null,
       "object_fit": null,
       "object_position": null,
       "order": null,
       "overflow": null,
       "overflow_x": null,
       "overflow_y": null,
       "padding": null,
       "right": null,
       "top": null,
       "visibility": null,
       "width": null
      }
     },
     "09e7b01d52544c5fb2cbde2323b94d31": {
      "model_module": "@jupyter-widgets/controls",
      "model_module_version": "1.5.0",
      "model_name": "DescriptionStyleModel",
      "state": {
       "_model_module": "@jupyter-widgets/controls",
       "_model_module_version": "1.5.0",
       "_model_name": "DescriptionStyleModel",
       "_view_count": null,
       "_view_module": "@jupyter-widgets/base",
       "_view_module_version": "1.2.0",
       "_view_name": "StyleView",
       "description_width": ""
      }
     },
     "0ea63b0987ed4cab96a2fd30955cdfff": {
      "model_module": "@jupyter-widgets/controls",
      "model_module_version": "1.5.0",
      "model_name": "DescriptionStyleModel",
      "state": {
       "_model_module": "@jupyter-widgets/controls",
       "_model_module_version": "1.5.0",
       "_model_name": "DescriptionStyleModel",
       "_view_count": null,
       "_view_module": "@jupyter-widgets/base",
       "_view_module_version": "1.2.0",
       "_view_name": "StyleView",
       "description_width": ""
      }
     },
     "104459c6b37f4ca3a5a324bb7288798f": {
      "model_module": "@jupyter-widgets/controls",
      "model_module_version": "1.5.0",
      "model_name": "DescriptionStyleModel",
      "state": {
       "_model_module": "@jupyter-widgets/controls",
       "_model_module_version": "1.5.0",
       "_model_name": "DescriptionStyleModel",
       "_view_count": null,
       "_view_module": "@jupyter-widgets/base",
       "_view_module_version": "1.2.0",
       "_view_name": "StyleView",
       "description_width": ""
      }
     },
     "13357e0ca84a40e78d3b9b6ae219e93b": {
      "model_module": "@jupyter-widgets/base",
      "model_module_version": "1.2.0",
      "model_name": "LayoutModel",
      "state": {
       "_model_module": "@jupyter-widgets/base",
       "_model_module_version": "1.2.0",
       "_model_name": "LayoutModel",
       "_view_count": null,
       "_view_module": "@jupyter-widgets/base",
       "_view_module_version": "1.2.0",
       "_view_name": "LayoutView",
       "align_content": null,
       "align_items": null,
       "align_self": null,
       "border": null,
       "bottom": null,
       "display": null,
       "flex": null,
       "flex_flow": null,
       "grid_area": null,
       "grid_auto_columns": null,
       "grid_auto_flow": null,
       "grid_auto_rows": null,
       "grid_column": null,
       "grid_gap": null,
       "grid_row": null,
       "grid_template_areas": null,
       "grid_template_columns": null,
       "grid_template_rows": null,
       "height": null,
       "justify_content": null,
       "justify_items": null,
       "left": null,
       "margin": null,
       "max_height": null,
       "max_width": null,
       "min_height": null,
       "min_width": null,
       "object_fit": null,
       "object_position": null,
       "order": null,
       "overflow": null,
       "overflow_x": null,
       "overflow_y": null,
       "padding": null,
       "right": null,
       "top": null,
       "visibility": null,
       "width": null
      }
     },
     "14dc5d9602514de2bac64fc762a926f4": {
      "model_module": "@jupyter-widgets/controls",
      "model_module_version": "1.5.0",
      "model_name": "FloatProgressModel",
      "state": {
       "_dom_classes": [],
       "_model_module": "@jupyter-widgets/controls",
       "_model_module_version": "1.5.0",
       "_model_name": "FloatProgressModel",
       "_view_count": null,
       "_view_module": "@jupyter-widgets/controls",
       "_view_module_version": "1.5.0",
       "_view_name": "ProgressView",
       "bar_style": "success",
       "description": "",
       "description_tooltip": null,
       "layout": "IPY_MODEL_87b9faa475ba4cf5acfa49e912ef68d8",
       "max": 33,
       "min": 0,
       "orientation": "horizontal",
       "style": "IPY_MODEL_6e7b9c275e5b49fd9186842f903e445f",
       "value": 33
      }
     },
     "1e45a7add1ad4937b4d4210468410ea7": {
      "model_module": "@jupyter-widgets/base",
      "model_module_version": "1.2.0",
      "model_name": "LayoutModel",
      "state": {
       "_model_module": "@jupyter-widgets/base",
       "_model_module_version": "1.2.0",
       "_model_name": "LayoutModel",
       "_view_count": null,
       "_view_module": "@jupyter-widgets/base",
       "_view_module_version": "1.2.0",
       "_view_name": "LayoutView",
       "align_content": null,
       "align_items": null,
       "align_self": null,
       "border": null,
       "bottom": null,
       "display": null,
       "flex": null,
       "flex_flow": null,
       "grid_area": null,
       "grid_auto_columns": null,
       "grid_auto_flow": null,
       "grid_auto_rows": null,
       "grid_column": null,
       "grid_gap": null,
       "grid_row": null,
       "grid_template_areas": null,
       "grid_template_columns": null,
       "grid_template_rows": null,
       "height": null,
       "justify_content": null,
       "justify_items": null,
       "left": null,
       "margin": null,
       "max_height": null,
       "max_width": null,
       "min_height": null,
       "min_width": null,
       "object_fit": null,
       "object_position": null,
       "order": null,
       "overflow": null,
       "overflow_x": null,
       "overflow_y": null,
       "padding": null,
       "right": null,
       "top": null,
       "visibility": null,
       "width": null
      }
     },
     "1e92c490517f4ef290a9260f0c8c46ec": {
      "model_module": "@jupyter-widgets/base",
      "model_module_version": "1.2.0",
      "model_name": "LayoutModel",
      "state": {
       "_model_module": "@jupyter-widgets/base",
       "_model_module_version": "1.2.0",
       "_model_name": "LayoutModel",
       "_view_count": null,
       "_view_module": "@jupyter-widgets/base",
       "_view_module_version": "1.2.0",
       "_view_name": "LayoutView",
       "align_content": null,
       "align_items": null,
       "align_self": null,
       "border": null,
       "bottom": null,
       "display": null,
       "flex": null,
       "flex_flow": null,
       "grid_area": null,
       "grid_auto_columns": null,
       "grid_auto_flow": null,
       "grid_auto_rows": null,
       "grid_column": null,
       "grid_gap": null,
       "grid_row": null,
       "grid_template_areas": null,
       "grid_template_columns": null,
       "grid_template_rows": null,
       "height": null,
       "justify_content": null,
       "justify_items": null,
       "left": null,
       "margin": null,
       "max_height": null,
       "max_width": null,
       "min_height": null,
       "min_width": null,
       "object_fit": null,
       "object_position": null,
       "order": null,
       "overflow": null,
       "overflow_x": null,
       "overflow_y": null,
       "padding": null,
       "right": null,
       "top": null,
       "visibility": null,
       "width": null
      }
     },
     "1ebcba3fd6864677ac5849b87cbbeb37": {
      "model_module": "@jupyter-widgets/controls",
      "model_module_version": "1.5.0",
      "model_name": "HTMLModel",
      "state": {
       "_dom_classes": [],
       "_model_module": "@jupyter-widgets/controls",
       "_model_module_version": "1.5.0",
       "_model_name": "HTMLModel",
       "_view_count": null,
       "_view_module": "@jupyter-widgets/controls",
       "_view_module_version": "1.5.0",
       "_view_name": "HTMLView",
       "description": "",
       "description_tooltip": null,
       "layout": "IPY_MODEL_a484c8a1b71a474c9920a00b5023e3aa",
       "placeholder": "​",
       "style": "IPY_MODEL_54c0968ce51f4cb8ad30982479e0473f",
       "value": "Extracting covariates: 100%"
      }
     },
     "23b62284eb734a9ba8e4bc9c9266695e": {
      "model_module": "@jupyter-widgets/base",
      "model_module_version": "1.2.0",
      "model_name": "LayoutModel",
      "state": {
       "_model_module": "@jupyter-widgets/base",
       "_model_module_version": "1.2.0",
       "_model_name": "LayoutModel",
       "_view_count": null,
       "_view_module": "@jupyter-widgets/base",
       "_view_module_version": "1.2.0",
       "_view_name": "LayoutView",
       "align_content": null,
       "align_items": null,
       "align_self": null,
       "border": null,
       "bottom": null,
       "display": null,
       "flex": null,
       "flex_flow": null,
       "grid_area": null,
       "grid_auto_columns": null,
       "grid_auto_flow": null,
       "grid_auto_rows": null,
       "grid_column": null,
       "grid_gap": null,
       "grid_row": null,
       "grid_template_areas": null,
       "grid_template_columns": null,
       "grid_template_rows": null,
       "height": null,
       "justify_content": null,
       "justify_items": null,
       "left": null,
       "margin": null,
       "max_height": null,
       "max_width": null,
       "min_height": null,
       "min_width": null,
       "object_fit": null,
       "object_position": null,
       "order": null,
       "overflow": null,
       "overflow_x": null,
       "overflow_y": null,
       "padding": null,
       "right": null,
       "top": null,
       "visibility": null,
       "width": null
      }
     },
     "26c495562fbd4fe79d1e067e4334ea4a": {
      "model_module": "@jupyter-widgets/controls",
      "model_module_version": "1.5.0",
      "model_name": "ProgressStyleModel",
      "state": {
       "_model_module": "@jupyter-widgets/controls",
       "_model_module_version": "1.5.0",
       "_model_name": "ProgressStyleModel",
       "_view_count": null,
       "_view_module": "@jupyter-widgets/base",
       "_view_module_version": "1.2.0",
       "_view_name": "StyleView",
       "bar_color": null,
       "description_width": ""
      }
     },
     "2926aa5902904d4f8fafcd22ee68e4f2": {
      "model_module": "@jupyter-widgets/controls",
      "model_module_version": "1.5.0",
      "model_name": "FloatProgressModel",
      "state": {
       "_dom_classes": [],
       "_model_module": "@jupyter-widgets/controls",
       "_model_module_version": "1.5.0",
       "_model_name": "FloatProgressModel",
       "_view_count": null,
       "_view_module": "@jupyter-widgets/controls",
       "_view_module_version": "1.5.0",
       "_view_name": "ProgressView",
       "bar_style": "success",
       "description": "",
       "description_tooltip": null,
       "layout": "IPY_MODEL_636513c9ae894e58ac106c2463e096d2",
       "max": 33,
       "min": 0,
       "orientation": "horizontal",
       "style": "IPY_MODEL_fd805015a10a491bbb768a78bc1a1546",
       "value": 33
      }
     },
     "29c06e03d0984e83a94a6d3506360552": {
      "model_module": "@jupyter-widgets/base",
      "model_module_version": "1.2.0",
      "model_name": "LayoutModel",
      "state": {
       "_model_module": "@jupyter-widgets/base",
       "_model_module_version": "1.2.0",
       "_model_name": "LayoutModel",
       "_view_count": null,
       "_view_module": "@jupyter-widgets/base",
       "_view_module_version": "1.2.0",
       "_view_name": "LayoutView",
       "align_content": null,
       "align_items": null,
       "align_self": null,
       "border": null,
       "bottom": null,
       "display": null,
       "flex": null,
       "flex_flow": null,
       "grid_area": null,
       "grid_auto_columns": null,
       "grid_auto_flow": null,
       "grid_auto_rows": null,
       "grid_column": null,
       "grid_gap": null,
       "grid_row": null,
       "grid_template_areas": null,
       "grid_template_columns": null,
       "grid_template_rows": null,
       "height": null,
       "justify_content": null,
       "justify_items": null,
       "left": null,
       "margin": null,
       "max_height": null,
       "max_width": null,
       "min_height": null,
       "min_width": null,
       "object_fit": null,
       "object_position": null,
       "order": null,
       "overflow": null,
       "overflow_x": null,
       "overflow_y": null,
       "padding": null,
       "right": null,
       "top": null,
       "visibility": null,
       "width": null
      }
     },
     "2a2e856e2e10421f9cfe5560f6798b5d": {
      "model_module": "@jupyter-widgets/controls",
      "model_module_version": "1.5.0",
      "model_name": "HTMLModel",
      "state": {
       "_dom_classes": [],
       "_model_module": "@jupyter-widgets/controls",
       "_model_module_version": "1.5.0",
       "_model_name": "HTMLModel",
       "_view_count": null,
       "_view_module": "@jupyter-widgets/controls",
       "_view_module_version": "1.5.0",
       "_view_name": "HTMLView",
       "description": "",
       "description_tooltip": null,
       "layout": "IPY_MODEL_728333fc706f4072823295aee2f0d215",
       "placeholder": "​",
       "style": "IPY_MODEL_76c73082a3394091b047411b28f6950e",
       "value": "Generating forecasts: 100%"
      }
     },
     "2dde9339ae6c492d8daac0ca9da4fdec": {
      "model_module": "@jupyter-widgets/controls",
      "model_module_version": "1.5.0",
      "model_name": "DescriptionStyleModel",
      "state": {
       "_model_module": "@jupyter-widgets/controls",
       "_model_module_version": "1.5.0",
       "_model_name": "DescriptionStyleModel",
       "_view_count": null,
       "_view_module": "@jupyter-widgets/base",
       "_view_module_version": "1.2.0",
       "_view_name": "StyleView",
       "description_width": ""
      }
     },
     "489a3c89802b43c8b0e270513551d419": {
      "model_module": "@jupyter-widgets/base",
      "model_module_version": "1.2.0",
      "model_name": "LayoutModel",
      "state": {
       "_model_module": "@jupyter-widgets/base",
       "_model_module_version": "1.2.0",
       "_model_name": "LayoutModel",
       "_view_count": null,
       "_view_module": "@jupyter-widgets/base",
       "_view_module_version": "1.2.0",
       "_view_name": "LayoutView",
       "align_content": null,
       "align_items": null,
       "align_self": null,
       "border": null,
       "bottom": null,
       "display": null,
       "flex": null,
       "flex_flow": null,
       "grid_area": null,
       "grid_auto_columns": null,
       "grid_auto_flow": null,
       "grid_auto_rows": null,
       "grid_column": null,
       "grid_gap": null,
       "grid_row": null,
       "grid_template_areas": null,
       "grid_template_columns": null,
       "grid_template_rows": null,
       "height": null,
       "justify_content": null,
       "justify_items": null,
       "left": null,
       "margin": null,
       "max_height": null,
       "max_width": null,
       "min_height": null,
       "min_width": null,
       "object_fit": null,
       "object_position": null,
       "order": null,
       "overflow": null,
       "overflow_x": null,
       "overflow_y": null,
       "padding": null,
       "right": null,
       "top": null,
       "visibility": null,
       "width": null
      }
     },
     "4d62b1e3b6e54c569f13ff01c4f74496": {
      "model_module": "@jupyter-widgets/controls",
      "model_module_version": "1.5.0",
      "model_name": "HTMLModel",
      "state": {
       "_dom_classes": [],
       "_model_module": "@jupyter-widgets/controls",
       "_model_module_version": "1.5.0",
       "_model_name": "HTMLModel",
       "_view_count": null,
       "_view_module": "@jupyter-widgets/controls",
       "_view_module_version": "1.5.0",
       "_view_name": "HTMLView",
       "description": "",
       "description_tooltip": null,
       "layout": "IPY_MODEL_c8eec52e87ce4f11b40b8a2fd410276e",
       "placeholder": "​",
       "style": "IPY_MODEL_82f0e2491e494304977430fd5053cff3",
       "value": "Generating forecasts: 100%"
      }
     },
     "4d6ddc64da4947d68778e138b5c4db8c": {
      "model_module": "@jupyter-widgets/base",
      "model_module_version": "1.2.0",
      "model_name": "LayoutModel",
      "state": {
       "_model_module": "@jupyter-widgets/base",
       "_model_module_version": "1.2.0",
       "_model_name": "LayoutModel",
       "_view_count": null,
       "_view_module": "@jupyter-widgets/base",
       "_view_module_version": "1.2.0",
       "_view_name": "LayoutView",
       "align_content": null,
       "align_items": null,
       "align_self": null,
       "border": null,
       "bottom": null,
       "display": null,
       "flex": null,
       "flex_flow": null,
       "grid_area": null,
       "grid_auto_columns": null,
       "grid_auto_flow": null,
       "grid_auto_rows": null,
       "grid_column": null,
       "grid_gap": null,
       "grid_row": null,
       "grid_template_areas": null,
       "grid_template_columns": null,
       "grid_template_rows": null,
       "height": null,
       "justify_content": null,
       "justify_items": null,
       "left": null,
       "margin": null,
       "max_height": null,
       "max_width": null,
       "min_height": null,
       "min_width": null,
       "object_fit": null,
       "object_position": null,
       "order": null,
       "overflow": null,
       "overflow_x": null,
       "overflow_y": null,
       "padding": null,
       "right": null,
       "top": null,
       "visibility": null,
       "width": null
      }
     },
     "4e6f8bb1024e40708413f85b13f1dcc0": {
      "model_module": "@jupyter-widgets/base",
      "model_module_version": "1.2.0",
      "model_name": "LayoutModel",
      "state": {
       "_model_module": "@jupyter-widgets/base",
       "_model_module_version": "1.2.0",
       "_model_name": "LayoutModel",
       "_view_count": null,
       "_view_module": "@jupyter-widgets/base",
       "_view_module_version": "1.2.0",
       "_view_name": "LayoutView",
       "align_content": null,
       "align_items": null,
       "align_self": null,
       "border": null,
       "bottom": null,
       "display": null,
       "flex": null,
       "flex_flow": null,
       "grid_area": null,
       "grid_auto_columns": null,
       "grid_auto_flow": null,
       "grid_auto_rows": null,
       "grid_column": null,
       "grid_gap": null,
       "grid_row": null,
       "grid_template_areas": null,
       "grid_template_columns": null,
       "grid_template_rows": null,
       "height": null,
       "justify_content": null,
       "justify_items": null,
       "left": null,
       "margin": null,
       "max_height": null,
       "max_width": null,
       "min_height": null,
       "min_width": null,
       "object_fit": null,
       "object_position": null,
       "order": null,
       "overflow": null,
       "overflow_x": null,
       "overflow_y": null,
       "padding": null,
       "right": null,
       "top": null,
       "visibility": null,
       "width": null
      }
     },
     "4ea739ebfa5a4af29469586044b77d0f": {
      "model_module": "@jupyter-widgets/base",
      "model_module_version": "1.2.0",
      "model_name": "LayoutModel",
      "state": {
       "_model_module": "@jupyter-widgets/base",
       "_model_module_version": "1.2.0",
       "_model_name": "LayoutModel",
       "_view_count": null,
       "_view_module": "@jupyter-widgets/base",
       "_view_module_version": "1.2.0",
       "_view_name": "LayoutView",
       "align_content": null,
       "align_items": null,
       "align_self": null,
       "border": null,
       "bottom": null,
       "display": null,
       "flex": null,
       "flex_flow": null,
       "grid_area": null,
       "grid_auto_columns": null,
       "grid_auto_flow": null,
       "grid_auto_rows": null,
       "grid_column": null,
       "grid_gap": null,
       "grid_row": null,
       "grid_template_areas": null,
       "grid_template_columns": null,
       "grid_template_rows": null,
       "height": null,
       "justify_content": null,
       "justify_items": null,
       "left": null,
       "margin": null,
       "max_height": null,
       "max_width": null,
       "min_height": null,
       "min_width": null,
       "object_fit": null,
       "object_position": null,
       "order": null,
       "overflow": null,
       "overflow_x": null,
       "overflow_y": null,
       "padding": null,
       "right": null,
       "top": null,
       "visibility": null,
       "width": null
      }
     },
     "5064eb3dbe7148edb19ca553ecdb4f22": {
      "model_module": "@jupyter-widgets/controls",
      "model_module_version": "1.5.0",
      "model_name": "HBoxModel",
      "state": {
       "_dom_classes": [],
       "_model_module": "@jupyter-widgets/controls",
       "_model_module_version": "1.5.0",
       "_model_name": "HBoxModel",
       "_view_count": null,
       "_view_module": "@jupyter-widgets/controls",
       "_view_module_version": "1.5.0",
       "_view_name": "HBoxView",
       "box_style": "",
       "children": [
        "IPY_MODEL_7b749c8c2167474a962f0ab10ed6c74c",
        "IPY_MODEL_2926aa5902904d4f8fafcd22ee68e4f2",
        "IPY_MODEL_8429278751774faa83e7e67cd3695da5"
       ],
       "layout": "IPY_MODEL_13357e0ca84a40e78d3b9b6ae219e93b"
      }
     },
     "50df8e708eb2439e9db9bfeed584bd39": {
      "model_module": "@jupyter-widgets/controls",
      "model_module_version": "1.5.0",
      "model_name": "HTMLModel",
      "state": {
       "_dom_classes": [],
       "_model_module": "@jupyter-widgets/controls",
       "_model_module_version": "1.5.0",
       "_model_name": "HTMLModel",
       "_view_count": null,
       "_view_module": "@jupyter-widgets/controls",
       "_view_module_version": "1.5.0",
       "_view_name": "HTMLView",
       "description": "",
       "description_tooltip": null,
       "layout": "IPY_MODEL_94f110343f0a43aa8fa1cddcf9db7798",
       "placeholder": "​",
       "style": "IPY_MODEL_104459c6b37f4ca3a5a324bb7288798f",
       "value": "Performing validation: 100%"
      }
     },
     "53ba658a141f4fa2a44d674e4b9505af": {
      "model_module": "@jupyter-widgets/base",
      "model_module_version": "1.2.0",
      "model_name": "LayoutModel",
      "state": {
       "_model_module": "@jupyter-widgets/base",
       "_model_module_version": "1.2.0",
       "_model_name": "LayoutModel",
       "_view_count": null,
       "_view_module": "@jupyter-widgets/base",
       "_view_module_version": "1.2.0",
       "_view_name": "LayoutView",
       "align_content": null,
       "align_items": null,
       "align_self": null,
       "border": null,
       "bottom": null,
       "display": null,
       "flex": null,
       "flex_flow": null,
       "grid_area": null,
       "grid_auto_columns": null,
       "grid_auto_flow": null,
       "grid_auto_rows": null,
       "grid_column": null,
       "grid_gap": null,
       "grid_row": null,
       "grid_template_areas": null,
       "grid_template_columns": null,
       "grid_template_rows": null,
       "height": null,
       "justify_content": null,
       "justify_items": null,
       "left": null,
       "margin": null,
       "max_height": null,
       "max_width": null,
       "min_height": null,
       "min_width": null,
       "object_fit": null,
       "object_position": null,
       "order": null,
       "overflow": null,
       "overflow_x": null,
       "overflow_y": null,
       "padding": null,
       "right": null,
       "top": null,
       "visibility": null,
       "width": null
      }
     },
     "53ec3174c43945ec92df721445c506ee": {
      "model_module": "@jupyter-widgets/controls",
      "model_module_version": "1.5.0",
      "model_name": "HTMLModel",
      "state": {
       "_dom_classes": [],
       "_model_module": "@jupyter-widgets/controls",
       "_model_module_version": "1.5.0",
       "_model_name": "HTMLModel",
       "_view_count": null,
       "_view_module": "@jupyter-widgets/controls",
       "_view_module_version": "1.5.0",
       "_view_name": "HTMLView",
       "description": "",
       "description_tooltip": null,
       "layout": "IPY_MODEL_837f2b8c16a04c959c84351dfb148f0c",
       "placeholder": "​",
       "style": "IPY_MODEL_0ea63b0987ed4cab96a2fd30955cdfff",
       "value": " 33/33 [00:00&lt;00:00, 3261.51it/s]"
      }
     },
     "54c0968ce51f4cb8ad30982479e0473f": {
      "model_module": "@jupyter-widgets/controls",
      "model_module_version": "1.5.0",
      "model_name": "DescriptionStyleModel",
      "state": {
       "_model_module": "@jupyter-widgets/controls",
       "_model_module_version": "1.5.0",
       "_model_name": "DescriptionStyleModel",
       "_view_count": null,
       "_view_module": "@jupyter-widgets/base",
       "_view_module_version": "1.2.0",
       "_view_name": "StyleView",
       "description_width": ""
      }
     },
     "5798f22e2a914b19b177bf0ffde487ac": {
      "model_module": "@jupyter-widgets/controls",
      "model_module_version": "1.5.0",
      "model_name": "HBoxModel",
      "state": {
       "_dom_classes": [],
       "_model_module": "@jupyter-widgets/controls",
       "_model_module_version": "1.5.0",
       "_model_name": "HBoxModel",
       "_view_count": null,
       "_view_module": "@jupyter-widgets/controls",
       "_view_module_version": "1.5.0",
       "_view_name": "HBoxView",
       "box_style": "",
       "children": [
        "IPY_MODEL_1ebcba3fd6864677ac5849b87cbbeb37",
        "IPY_MODEL_ad455111575a4817a5095461256fd851",
        "IPY_MODEL_78b3ecf938ff4a809f20fc05f7f4600e"
       ],
       "layout": "IPY_MODEL_57c024fc08bb4abbbc0c091cd57c6009"
      }
     },
     "57c024fc08bb4abbbc0c091cd57c6009": {
      "model_module": "@jupyter-widgets/base",
      "model_module_version": "1.2.0",
      "model_name": "LayoutModel",
      "state": {
       "_model_module": "@jupyter-widgets/base",
       "_model_module_version": "1.2.0",
       "_model_name": "LayoutModel",
       "_view_count": null,
       "_view_module": "@jupyter-widgets/base",
       "_view_module_version": "1.2.0",
       "_view_name": "LayoutView",
       "align_content": null,
       "align_items": null,
       "align_self": null,
       "border": null,
       "bottom": null,
       "display": null,
       "flex": null,
       "flex_flow": null,
       "grid_area": null,
       "grid_auto_columns": null,
       "grid_auto_flow": null,
       "grid_auto_rows": null,
       "grid_column": null,
       "grid_gap": null,
       "grid_row": null,
       "grid_template_areas": null,
       "grid_template_columns": null,
       "grid_template_rows": null,
       "height": null,
       "justify_content": null,
       "justify_items": null,
       "left": null,
       "margin": null,
       "max_height": null,
       "max_width": null,
       "min_height": null,
       "min_width": null,
       "object_fit": null,
       "object_position": null,
       "order": null,
       "overflow": null,
       "overflow_x": null,
       "overflow_y": null,
       "padding": null,
       "right": null,
       "top": null,
       "visibility": null,
       "width": null
      }
     },
     "5d33c3fbded24cafa26783cb7d5ec2ea": {
      "model_module": "@jupyter-widgets/controls",
      "model_module_version": "1.5.0",
      "model_name": "HTMLModel",
      "state": {
       "_dom_classes": [],
       "_model_module": "@jupyter-widgets/controls",
       "_model_module_version": "1.5.0",
       "_model_name": "HTMLModel",
       "_view_count": null,
       "_view_module": "@jupyter-widgets/controls",
       "_view_module_version": "1.5.0",
       "_view_name": "HTMLView",
       "description": "",
       "description_tooltip": null,
       "layout": "IPY_MODEL_1e45a7add1ad4937b4d4210468410ea7",
       "placeholder": "​",
       "style": "IPY_MODEL_6432de5fc7cb48e285487097742ee461",
       "value": " 33/33 [24:47&lt;00:00, 45.35s/it]"
      }
     },
     "6279c2ca716f4c5f91c1d321d8432cde": {
      "model_module": "@jupyter-widgets/controls",
      "model_module_version": "1.5.0",
      "model_name": "HBoxModel",
      "state": {
       "_dom_classes": [],
       "_model_module": "@jupyter-widgets/controls",
       "_model_module_version": "1.5.0",
       "_model_name": "HBoxModel",
       "_view_count": null,
       "_view_module": "@jupyter-widgets/controls",
       "_view_module_version": "1.5.0",
       "_view_name": "HBoxView",
       "box_style": "",
       "children": [
        "IPY_MODEL_4d62b1e3b6e54c569f13ff01c4f74496",
        "IPY_MODEL_9ae962307c664d699b0b38963a744ed0",
        "IPY_MODEL_90eee6c9ac784543b85118eedea26d6a"
       ],
       "layout": "IPY_MODEL_489a3c89802b43c8b0e270513551d419"
      }
     },
     "636513c9ae894e58ac106c2463e096d2": {
      "model_module": "@jupyter-widgets/base",
      "model_module_version": "1.2.0",
      "model_name": "LayoutModel",
      "state": {
       "_model_module": "@jupyter-widgets/base",
       "_model_module_version": "1.2.0",
       "_model_name": "LayoutModel",
       "_view_count": null,
       "_view_module": "@jupyter-widgets/base",
       "_view_module_version": "1.2.0",
       "_view_name": "LayoutView",
       "align_content": null,
       "align_items": null,
       "align_self": null,
       "border": null,
       "bottom": null,
       "display": null,
       "flex": null,
       "flex_flow": null,
       "grid_area": null,
       "grid_auto_columns": null,
       "grid_auto_flow": null,
       "grid_auto_rows": null,
       "grid_column": null,
       "grid_gap": null,
       "grid_row": null,
       "grid_template_areas": null,
       "grid_template_columns": null,
       "grid_template_rows": null,
       "height": null,
       "justify_content": null,
       "justify_items": null,
       "left": null,
       "margin": null,
       "max_height": null,
       "max_width": null,
       "min_height": null,
       "min_width": null,
       "object_fit": null,
       "object_position": null,
       "order": null,
       "overflow": null,
       "overflow_x": null,
       "overflow_y": null,
       "padding": null,
       "right": null,
       "top": null,
       "visibility": null,
       "width": null
      }
     },
     "6432de5fc7cb48e285487097742ee461": {
      "model_module": "@jupyter-widgets/controls",
      "model_module_version": "1.5.0",
      "model_name": "DescriptionStyleModel",
      "state": {
       "_model_module": "@jupyter-widgets/controls",
       "_model_module_version": "1.5.0",
       "_model_name": "DescriptionStyleModel",
       "_view_count": null,
       "_view_module": "@jupyter-widgets/base",
       "_view_module_version": "1.2.0",
       "_view_name": "StyleView",
       "description_width": ""
      }
     },
     "67967d7e1ab547a091713bd5106a9b0e": {
      "model_module": "@jupyter-widgets/base",
      "model_module_version": "1.2.0",
      "model_name": "LayoutModel",
      "state": {
       "_model_module": "@jupyter-widgets/base",
       "_model_module_version": "1.2.0",
       "_model_name": "LayoutModel",
       "_view_count": null,
       "_view_module": "@jupyter-widgets/base",
       "_view_module_version": "1.2.0",
       "_view_name": "LayoutView",
       "align_content": null,
       "align_items": null,
       "align_self": null,
       "border": null,
       "bottom": null,
       "display": null,
       "flex": null,
       "flex_flow": null,
       "grid_area": null,
       "grid_auto_columns": null,
       "grid_auto_flow": null,
       "grid_auto_rows": null,
       "grid_column": null,
       "grid_gap": null,
       "grid_row": null,
       "grid_template_areas": null,
       "grid_template_columns": null,
       "grid_template_rows": null,
       "height": null,
       "justify_content": null,
       "justify_items": null,
       "left": null,
       "margin": null,
       "max_height": null,
       "max_width": null,
       "min_height": null,
       "min_width": null,
       "object_fit": null,
       "object_position": null,
       "order": null,
       "overflow": null,
       "overflow_x": null,
       "overflow_y": null,
       "padding": null,
       "right": null,
       "top": null,
       "visibility": null,
       "width": null
      }
     },
     "6e7b9c275e5b49fd9186842f903e445f": {
      "model_module": "@jupyter-widgets/controls",
      "model_module_version": "1.5.0",
      "model_name": "ProgressStyleModel",
      "state": {
       "_model_module": "@jupyter-widgets/controls",
       "_model_module_version": "1.5.0",
       "_model_name": "ProgressStyleModel",
       "_view_count": null,
       "_view_module": "@jupyter-widgets/base",
       "_view_module_version": "1.2.0",
       "_view_name": "StyleView",
       "bar_color": null,
       "description_width": ""
      }
     },
     "7083e4d3011243c680bfe6d68a085f3e": {
      "model_module": "@jupyter-widgets/controls",
      "model_module_version": "1.5.0",
      "model_name": "ProgressStyleModel",
      "state": {
       "_model_module": "@jupyter-widgets/controls",
       "_model_module_version": "1.5.0",
       "_model_name": "ProgressStyleModel",
       "_view_count": null,
       "_view_module": "@jupyter-widgets/base",
       "_view_module_version": "1.2.0",
       "_view_name": "StyleView",
       "bar_color": null,
       "description_width": ""
      }
     },
     "72085e3b008e4f5db8d2aba7de561acd": {
      "model_module": "@jupyter-widgets/controls",
      "model_module_version": "1.5.0",
      "model_name": "HTMLModel",
      "state": {
       "_dom_classes": [],
       "_model_module": "@jupyter-widgets/controls",
       "_model_module_version": "1.5.0",
       "_model_name": "HTMLModel",
       "_view_count": null,
       "_view_module": "@jupyter-widgets/controls",
       "_view_module_version": "1.5.0",
       "_view_name": "HTMLView",
       "description": "",
       "description_tooltip": null,
       "layout": "IPY_MODEL_f6a66b6eb3b640fca553b6f50a28c0e4",
       "placeholder": "​",
       "style": "IPY_MODEL_788d7a37e3914d34b8d2ed3758354b9d",
       "value": " 33/33 [01:47&lt;00:00,  3.22s/it]"
      }
     },
     "728333fc706f4072823295aee2f0d215": {
      "model_module": "@jupyter-widgets/base",
      "model_module_version": "1.2.0",
      "model_name": "LayoutModel",
      "state": {
       "_model_module": "@jupyter-widgets/base",
       "_model_module_version": "1.2.0",
       "_model_name": "LayoutModel",
       "_view_count": null,
       "_view_module": "@jupyter-widgets/base",
       "_view_module_version": "1.2.0",
       "_view_name": "LayoutView",
       "align_content": null,
       "align_items": null,
       "align_self": null,
       "border": null,
       "bottom": null,
       "display": null,
       "flex": null,
       "flex_flow": null,
       "grid_area": null,
       "grid_auto_columns": null,
       "grid_auto_flow": null,
       "grid_auto_rows": null,
       "grid_column": null,
       "grid_gap": null,
       "grid_row": null,
       "grid_template_areas": null,
       "grid_template_columns": null,
       "grid_template_rows": null,
       "height": null,
       "justify_content": null,
       "justify_items": null,
       "left": null,
       "margin": null,
       "max_height": null,
       "max_width": null,
       "min_height": null,
       "min_width": null,
       "object_fit": null,
       "object_position": null,
       "order": null,
       "overflow": null,
       "overflow_x": null,
       "overflow_y": null,
       "padding": null,
       "right": null,
       "top": null,
       "visibility": null,
       "width": null
      }
     },
     "76c73082a3394091b047411b28f6950e": {
      "model_module": "@jupyter-widgets/controls",
      "model_module_version": "1.5.0",
      "model_name": "DescriptionStyleModel",
      "state": {
       "_model_module": "@jupyter-widgets/controls",
       "_model_module_version": "1.5.0",
       "_model_name": "DescriptionStyleModel",
       "_view_count": null,
       "_view_module": "@jupyter-widgets/base",
       "_view_module_version": "1.2.0",
       "_view_name": "StyleView",
       "description_width": ""
      }
     },
     "77f0514586764a5cb5320daeb2286ad3": {
      "model_module": "@jupyter-widgets/controls",
      "model_module_version": "1.5.0",
      "model_name": "ProgressStyleModel",
      "state": {
       "_model_module": "@jupyter-widgets/controls",
       "_model_module_version": "1.5.0",
       "_model_name": "ProgressStyleModel",
       "_view_count": null,
       "_view_module": "@jupyter-widgets/base",
       "_view_module_version": "1.2.0",
       "_view_name": "StyleView",
       "bar_color": null,
       "description_width": ""
      }
     },
     "788d7a37e3914d34b8d2ed3758354b9d": {
      "model_module": "@jupyter-widgets/controls",
      "model_module_version": "1.5.0",
      "model_name": "DescriptionStyleModel",
      "state": {
       "_model_module": "@jupyter-widgets/controls",
       "_model_module_version": "1.5.0",
       "_model_name": "DescriptionStyleModel",
       "_view_count": null,
       "_view_module": "@jupyter-widgets/base",
       "_view_module_version": "1.2.0",
       "_view_name": "StyleView",
       "description_width": ""
      }
     },
     "78b3ecf938ff4a809f20fc05f7f4600e": {
      "model_module": "@jupyter-widgets/controls",
      "model_module_version": "1.5.0",
      "model_name": "HTMLModel",
      "state": {
       "_dom_classes": [],
       "_model_module": "@jupyter-widgets/controls",
       "_model_module_version": "1.5.0",
       "_model_name": "HTMLModel",
       "_view_count": null,
       "_view_module": "@jupyter-widgets/controls",
       "_view_module_version": "1.5.0",
       "_view_name": "HTMLView",
       "description": "",
       "description_tooltip": null,
       "layout": "IPY_MODEL_4e6f8bb1024e40708413f85b13f1dcc0",
       "placeholder": "​",
       "style": "IPY_MODEL_2dde9339ae6c492d8daac0ca9da4fdec",
       "value": " 33/33 [01:28&lt;00:00,  2.74s/it]"
      }
     },
     "7b749c8c2167474a962f0ab10ed6c74c": {
      "model_module": "@jupyter-widgets/controls",
      "model_module_version": "1.5.0",
      "model_name": "HTMLModel",
      "state": {
       "_dom_classes": [],
       "_model_module": "@jupyter-widgets/controls",
       "_model_module_version": "1.5.0",
       "_model_name": "HTMLModel",
       "_view_count": null,
       "_view_module": "@jupyter-widgets/controls",
       "_view_module_version": "1.5.0",
       "_view_name": "HTMLView",
       "description": "",
       "description_tooltip": null,
       "layout": "IPY_MODEL_4ea739ebfa5a4af29469586044b77d0f",
       "placeholder": "​",
       "style": "IPY_MODEL_f3b3ffc5c90e4b648632bd873ec34994",
       "value": "Extracting target series: 100%"
      }
     },
     "7b8adf91fd164927ac0624ffaec6bed9": {
      "model_module": "@jupyter-widgets/controls",
      "model_module_version": "1.5.0",
      "model_name": "HTMLModel",
      "state": {
       "_dom_classes": [],
       "_model_module": "@jupyter-widgets/controls",
       "_model_module_version": "1.5.0",
       "_model_name": "HTMLModel",
       "_view_count": null,
       "_view_module": "@jupyter-widgets/controls",
       "_view_module_version": "1.5.0",
       "_view_name": "HTMLView",
       "description": "",
       "description_tooltip": null,
       "layout": "IPY_MODEL_f671142f99d74bc891d2bc4ab23d080a",
       "placeholder": "​",
       "style": "IPY_MODEL_bbbe6f1a47614eafb1db93a8deffa1de",
       "value": "Setting up: 100%"
      }
     },
     "82f0e2491e494304977430fd5053cff3": {
      "model_module": "@jupyter-widgets/controls",
      "model_module_version": "1.5.0",
      "model_name": "DescriptionStyleModel",
      "state": {
       "_model_module": "@jupyter-widgets/controls",
       "_model_module_version": "1.5.0",
       "_model_name": "DescriptionStyleModel",
       "_view_count": null,
       "_view_module": "@jupyter-widgets/base",
       "_view_module_version": "1.2.0",
       "_view_name": "StyleView",
       "description_width": ""
      }
     },
     "837f2b8c16a04c959c84351dfb148f0c": {
      "model_module": "@jupyter-widgets/base",
      "model_module_version": "1.2.0",
      "model_name": "LayoutModel",
      "state": {
       "_model_module": "@jupyter-widgets/base",
       "_model_module_version": "1.2.0",
       "_model_name": "LayoutModel",
       "_view_count": null,
       "_view_module": "@jupyter-widgets/base",
       "_view_module_version": "1.2.0",
       "_view_name": "LayoutView",
       "align_content": null,
       "align_items": null,
       "align_self": null,
       "border": null,
       "bottom": null,
       "display": null,
       "flex": null,
       "flex_flow": null,
       "grid_area": null,
       "grid_auto_columns": null,
       "grid_auto_flow": null,
       "grid_auto_rows": null,
       "grid_column": null,
       "grid_gap": null,
       "grid_row": null,
       "grid_template_areas": null,
       "grid_template_columns": null,
       "grid_template_rows": null,
       "height": null,
       "justify_content": null,
       "justify_items": null,
       "left": null,
       "margin": null,
       "max_height": null,
       "max_width": null,
       "min_height": null,
       "min_width": null,
       "object_fit": null,
       "object_position": null,
       "order": null,
       "overflow": null,
       "overflow_x": null,
       "overflow_y": null,
       "padding": null,
       "right": null,
       "top": null,
       "visibility": null,
       "width": null
      }
     },
     "8429278751774faa83e7e67cd3695da5": {
      "model_module": "@jupyter-widgets/controls",
      "model_module_version": "1.5.0",
      "model_name": "HTMLModel",
      "state": {
       "_dom_classes": [],
       "_model_module": "@jupyter-widgets/controls",
       "_model_module_version": "1.5.0",
       "_model_name": "HTMLModel",
       "_view_count": null,
       "_view_module": "@jupyter-widgets/controls",
       "_view_module_version": "1.5.0",
       "_view_name": "HTMLView",
       "description": "",
       "description_tooltip": null,
       "layout": "IPY_MODEL_ee5c5159b3a14ca89f53e23e12529e26",
       "placeholder": "​",
       "style": "IPY_MODEL_ac33086bab37417eb53543965f954ec8",
       "value": " 33/33 [01:28&lt;00:00,  2.59s/it]"
      }
     },
     "87b9faa475ba4cf5acfa49e912ef68d8": {
      "model_module": "@jupyter-widgets/base",
      "model_module_version": "1.2.0",
      "model_name": "LayoutModel",
      "state": {
       "_model_module": "@jupyter-widgets/base",
       "_model_module_version": "1.2.0",
       "_model_name": "LayoutModel",
       "_view_count": null,
       "_view_module": "@jupyter-widgets/base",
       "_view_module_version": "1.2.0",
       "_view_name": "LayoutView",
       "align_content": null,
       "align_items": null,
       "align_self": null,
       "border": null,
       "bottom": null,
       "display": null,
       "flex": null,
       "flex_flow": null,
       "grid_area": null,
       "grid_auto_columns": null,
       "grid_auto_flow": null,
       "grid_auto_rows": null,
       "grid_column": null,
       "grid_gap": null,
       "grid_row": null,
       "grid_template_areas": null,
       "grid_template_columns": null,
       "grid_template_rows": null,
       "height": null,
       "justify_content": null,
       "justify_items": null,
       "left": null,
       "margin": null,
       "max_height": null,
       "max_width": null,
       "min_height": null,
       "min_width": null,
       "object_fit": null,
       "object_position": null,
       "order": null,
       "overflow": null,
       "overflow_x": null,
       "overflow_y": null,
       "padding": null,
       "right": null,
       "top": null,
       "visibility": null,
       "width": null
      }
     },
     "8922c73505984bd28c5efcf5e8c09d59": {
      "model_module": "@jupyter-widgets/base",
      "model_module_version": "1.2.0",
      "model_name": "LayoutModel",
      "state": {
       "_model_module": "@jupyter-widgets/base",
       "_model_module_version": "1.2.0",
       "_model_name": "LayoutModel",
       "_view_count": null,
       "_view_module": "@jupyter-widgets/base",
       "_view_module_version": "1.2.0",
       "_view_name": "LayoutView",
       "align_content": null,
       "align_items": null,
       "align_self": null,
       "border": null,
       "bottom": null,
       "display": null,
       "flex": null,
       "flex_flow": null,
       "grid_area": null,
       "grid_auto_columns": null,
       "grid_auto_flow": null,
       "grid_auto_rows": null,
       "grid_column": null,
       "grid_gap": null,
       "grid_row": null,
       "grid_template_areas": null,
       "grid_template_columns": null,
       "grid_template_rows": null,
       "height": null,
       "justify_content": null,
       "justify_items": null,
       "left": null,
       "margin": null,
       "max_height": null,
       "max_width": null,
       "min_height": null,
       "min_width": null,
       "object_fit": null,
       "object_position": null,
       "order": null,
       "overflow": null,
       "overflow_x": null,
       "overflow_y": null,
       "padding": null,
       "right": null,
       "top": null,
       "visibility": null,
       "width": null
      }
     },
     "8e63ed642a0c40ce840c0169aab09ee4": {
      "model_module": "@jupyter-widgets/controls",
      "model_module_version": "1.5.0",
      "model_name": "DescriptionStyleModel",
      "state": {
       "_model_module": "@jupyter-widgets/controls",
       "_model_module_version": "1.5.0",
       "_model_name": "DescriptionStyleModel",
       "_view_count": null,
       "_view_module": "@jupyter-widgets/base",
       "_view_module_version": "1.2.0",
       "_view_name": "StyleView",
       "description_width": ""
      }
     },
     "90234f5e3d8443fc981adcd66d4f1a14": {
      "model_module": "@jupyter-widgets/controls",
      "model_module_version": "1.5.0",
      "model_name": "ProgressStyleModel",
      "state": {
       "_model_module": "@jupyter-widgets/controls",
       "_model_module_version": "1.5.0",
       "_model_name": "ProgressStyleModel",
       "_view_count": null,
       "_view_module": "@jupyter-widgets/base",
       "_view_module_version": "1.2.0",
       "_view_name": "StyleView",
       "bar_color": null,
       "description_width": ""
      }
     },
     "90eee6c9ac784543b85118eedea26d6a": {
      "model_module": "@jupyter-widgets/controls",
      "model_module_version": "1.5.0",
      "model_name": "HTMLModel",
      "state": {
       "_dom_classes": [],
       "_model_module": "@jupyter-widgets/controls",
       "_model_module_version": "1.5.0",
       "_model_name": "HTMLModel",
       "_view_count": null,
       "_view_module": "@jupyter-widgets/controls",
       "_view_module_version": "1.5.0",
       "_view_name": "HTMLView",
       "description": "",
       "description_tooltip": null,
       "layout": "IPY_MODEL_0463223cdb5d4199985f181eddac9810",
       "placeholder": "​",
       "style": "IPY_MODEL_09e7b01d52544c5fb2cbde2323b94d31",
       "value": " 33/33 [46:40&lt;00:00, 81.54s/it]"
      }
     },
     "94f110343f0a43aa8fa1cddcf9db7798": {
      "model_module": "@jupyter-widgets/base",
      "model_module_version": "1.2.0",
      "model_name": "LayoutModel",
      "state": {
       "_model_module": "@jupyter-widgets/base",
       "_model_module_version": "1.2.0",
       "_model_name": "LayoutModel",
       "_view_count": null,
       "_view_module": "@jupyter-widgets/base",
       "_view_module_version": "1.2.0",
       "_view_name": "LayoutView",
       "align_content": null,
       "align_items": null,
       "align_self": null,
       "border": null,
       "bottom": null,
       "display": null,
       "flex": null,
       "flex_flow": null,
       "grid_area": null,
       "grid_auto_columns": null,
       "grid_auto_flow": null,
       "grid_auto_rows": null,
       "grid_column": null,
       "grid_gap": null,
       "grid_row": null,
       "grid_template_areas": null,
       "grid_template_columns": null,
       "grid_template_rows": null,
       "height": null,
       "justify_content": null,
       "justify_items": null,
       "left": null,
       "margin": null,
       "max_height": null,
       "max_width": null,
       "min_height": null,
       "min_width": null,
       "object_fit": null,
       "object_position": null,
       "order": null,
       "overflow": null,
       "overflow_x": null,
       "overflow_y": null,
       "padding": null,
       "right": null,
       "top": null,
       "visibility": null,
       "width": null
      }
     },
     "9ae962307c664d699b0b38963a744ed0": {
      "model_module": "@jupyter-widgets/controls",
      "model_module_version": "1.5.0",
      "model_name": "FloatProgressModel",
      "state": {
       "_dom_classes": [],
       "_model_module": "@jupyter-widgets/controls",
       "_model_module_version": "1.5.0",
       "_model_name": "FloatProgressModel",
       "_view_count": null,
       "_view_module": "@jupyter-widgets/controls",
       "_view_module_version": "1.5.0",
       "_view_name": "ProgressView",
       "bar_style": "success",
       "description": "",
       "description_tooltip": null,
       "layout": "IPY_MODEL_23b62284eb734a9ba8e4bc9c9266695e",
       "max": 33,
       "min": 0,
       "orientation": "horizontal",
       "style": "IPY_MODEL_77f0514586764a5cb5320daeb2286ad3",
       "value": 33
      }
     },
     "a47ed44e9c974309ae3171426e7f722d": {
      "model_module": "@jupyter-widgets/controls",
      "model_module_version": "1.5.0",
      "model_name": "DescriptionStyleModel",
      "state": {
       "_model_module": "@jupyter-widgets/controls",
       "_model_module_version": "1.5.0",
       "_model_name": "DescriptionStyleModel",
       "_view_count": null,
       "_view_module": "@jupyter-widgets/base",
       "_view_module_version": "1.2.0",
       "_view_name": "StyleView",
       "description_width": ""
      }
     },
     "a484c8a1b71a474c9920a00b5023e3aa": {
      "model_module": "@jupyter-widgets/base",
      "model_module_version": "1.2.0",
      "model_name": "LayoutModel",
      "state": {
       "_model_module": "@jupyter-widgets/base",
       "_model_module_version": "1.2.0",
       "_model_name": "LayoutModel",
       "_view_count": null,
       "_view_module": "@jupyter-widgets/base",
       "_view_module_version": "1.2.0",
       "_view_name": "LayoutView",
       "align_content": null,
       "align_items": null,
       "align_self": null,
       "border": null,
       "bottom": null,
       "display": null,
       "flex": null,
       "flex_flow": null,
       "grid_area": null,
       "grid_auto_columns": null,
       "grid_auto_flow": null,
       "grid_auto_rows": null,
       "grid_column": null,
       "grid_gap": null,
       "grid_row": null,
       "grid_template_areas": null,
       "grid_template_columns": null,
       "grid_template_rows": null,
       "height": null,
       "justify_content": null,
       "justify_items": null,
       "left": null,
       "margin": null,
       "max_height": null,
       "max_width": null,
       "min_height": null,
       "min_width": null,
       "object_fit": null,
       "object_position": null,
       "order": null,
       "overflow": null,
       "overflow_x": null,
       "overflow_y": null,
       "padding": null,
       "right": null,
       "top": null,
       "visibility": null,
       "width": null
      }
     },
     "ac33086bab37417eb53543965f954ec8": {
      "model_module": "@jupyter-widgets/controls",
      "model_module_version": "1.5.0",
      "model_name": "DescriptionStyleModel",
      "state": {
       "_model_module": "@jupyter-widgets/controls",
       "_model_module_version": "1.5.0",
       "_model_name": "DescriptionStyleModel",
       "_view_count": null,
       "_view_module": "@jupyter-widgets/base",
       "_view_module_version": "1.2.0",
       "_view_name": "StyleView",
       "description_width": ""
      }
     },
     "ad455111575a4817a5095461256fd851": {
      "model_module": "@jupyter-widgets/controls",
      "model_module_version": "1.5.0",
      "model_name": "FloatProgressModel",
      "state": {
       "_dom_classes": [],
       "_model_module": "@jupyter-widgets/controls",
       "_model_module_version": "1.5.0",
       "_model_name": "FloatProgressModel",
       "_view_count": null,
       "_view_module": "@jupyter-widgets/controls",
       "_view_module_version": "1.5.0",
       "_view_name": "ProgressView",
       "bar_style": "success",
       "description": "",
       "description_tooltip": null,
       "layout": "IPY_MODEL_8922c73505984bd28c5efcf5e8c09d59",
       "max": 33,
       "min": 0,
       "orientation": "horizontal",
       "style": "IPY_MODEL_90234f5e3d8443fc981adcd66d4f1a14",
       "value": 33
      }
     },
     "ad93d37f603b4cd7a227c16926bcee5c": {
      "model_module": "@jupyter-widgets/base",
      "model_module_version": "1.2.0",
      "model_name": "LayoutModel",
      "state": {
       "_model_module": "@jupyter-widgets/base",
       "_model_module_version": "1.2.0",
       "_model_name": "LayoutModel",
       "_view_count": null,
       "_view_module": "@jupyter-widgets/base",
       "_view_module_version": "1.2.0",
       "_view_name": "LayoutView",
       "align_content": null,
       "align_items": null,
       "align_self": null,
       "border": null,
       "bottom": null,
       "display": null,
       "flex": null,
       "flex_flow": null,
       "grid_area": null,
       "grid_auto_columns": null,
       "grid_auto_flow": null,
       "grid_auto_rows": null,
       "grid_column": null,
       "grid_gap": null,
       "grid_row": null,
       "grid_template_areas": null,
       "grid_template_columns": null,
       "grid_template_rows": null,
       "height": null,
       "justify_content": null,
       "justify_items": null,
       "left": null,
       "margin": null,
       "max_height": null,
       "max_width": null,
       "min_height": null,
       "min_width": null,
       "object_fit": null,
       "object_position": null,
       "order": null,
       "overflow": null,
       "overflow_x": null,
       "overflow_y": null,
       "padding": null,
       "right": null,
       "top": null,
       "visibility": null,
       "width": null
      }
     },
     "b266608819a64f568c0be79c9e09d652": {
      "model_module": "@jupyter-widgets/controls",
      "model_module_version": "1.5.0",
      "model_name": "ProgressStyleModel",
      "state": {
       "_model_module": "@jupyter-widgets/controls",
       "_model_module_version": "1.5.0",
       "_model_name": "ProgressStyleModel",
       "_view_count": null,
       "_view_module": "@jupyter-widgets/base",
       "_view_module_version": "1.2.0",
       "_view_name": "StyleView",
       "bar_color": null,
       "description_width": ""
      }
     },
     "b2cfe4661c56413dbf263f3a27628ec7": {
      "model_module": "@jupyter-widgets/base",
      "model_module_version": "1.2.0",
      "model_name": "LayoutModel",
      "state": {
       "_model_module": "@jupyter-widgets/base",
       "_model_module_version": "1.2.0",
       "_model_name": "LayoutModel",
       "_view_count": null,
       "_view_module": "@jupyter-widgets/base",
       "_view_module_version": "1.2.0",
       "_view_name": "LayoutView",
       "align_content": null,
       "align_items": null,
       "align_self": null,
       "border": null,
       "bottom": null,
       "display": null,
       "flex": null,
       "flex_flow": null,
       "grid_area": null,
       "grid_auto_columns": null,
       "grid_auto_flow": null,
       "grid_auto_rows": null,
       "grid_column": null,
       "grid_gap": null,
       "grid_row": null,
       "grid_template_areas": null,
       "grid_template_columns": null,
       "grid_template_rows": null,
       "height": null,
       "justify_content": null,
       "justify_items": null,
       "left": null,
       "margin": null,
       "max_height": null,
       "max_width": null,
       "min_height": null,
       "min_width": null,
       "object_fit": null,
       "object_position": null,
       "order": null,
       "overflow": null,
       "overflow_x": null,
       "overflow_y": null,
       "padding": null,
       "right": null,
       "top": null,
       "visibility": null,
       "width": null
      }
     },
     "b57ddd51209d4315a493ab34629f2702": {
      "model_module": "@jupyter-widgets/controls",
      "model_module_version": "1.5.0",
      "model_name": "HTMLModel",
      "state": {
       "_dom_classes": [],
       "_model_module": "@jupyter-widgets/controls",
       "_model_module_version": "1.5.0",
       "_model_name": "HTMLModel",
       "_view_count": null,
       "_view_module": "@jupyter-widgets/controls",
       "_view_module_version": "1.5.0",
       "_view_name": "HTMLView",
       "description": "",
       "description_tooltip": null,
       "layout": "IPY_MODEL_1e92c490517f4ef290a9260f0c8c46ec",
       "placeholder": "​",
       "style": "IPY_MODEL_8e63ed642a0c40ce840c0169aab09ee4",
       "value": "Performing validation: 100%"
      }
     },
     "bbbe6f1a47614eafb1db93a8deffa1de": {
      "model_module": "@jupyter-widgets/controls",
      "model_module_version": "1.5.0",
      "model_name": "DescriptionStyleModel",
      "state": {
       "_model_module": "@jupyter-widgets/controls",
       "_model_module_version": "1.5.0",
       "_model_name": "DescriptionStyleModel",
       "_view_count": null,
       "_view_module": "@jupyter-widgets/base",
       "_view_module_version": "1.2.0",
       "_view_name": "StyleView",
       "description_width": ""
      }
     },
     "bd05b1389e4d4525812dfece23d90b6f": {
      "model_module": "@jupyter-widgets/controls",
      "model_module_version": "1.5.0",
      "model_name": "HTMLModel",
      "state": {
       "_dom_classes": [],
       "_model_module": "@jupyter-widgets/controls",
       "_model_module_version": "1.5.0",
       "_model_name": "HTMLModel",
       "_view_count": null,
       "_view_module": "@jupyter-widgets/controls",
       "_view_module_version": "1.5.0",
       "_view_name": "HTMLView",
       "description": "",
       "description_tooltip": null,
       "layout": "IPY_MODEL_cd3b790ef0324dbfa0d624d0c34e32fb",
       "placeholder": "​",
       "style": "IPY_MODEL_a47ed44e9c974309ae3171426e7f722d",
       "value": " 33/33 [25:27&lt;00:00, 46.60s/it]"
      }
     },
     "c2742e849b6647a3b080d4c20a4fffa1": {
      "model_module": "@jupyter-widgets/controls",
      "model_module_version": "1.5.0",
      "model_name": "HBoxModel",
      "state": {
       "_dom_classes": [],
       "_model_module": "@jupyter-widgets/controls",
       "_model_module_version": "1.5.0",
       "_model_name": "HBoxModel",
       "_view_count": null,
       "_view_module": "@jupyter-widgets/controls",
       "_view_module_version": "1.5.0",
       "_view_name": "HBoxView",
       "box_style": "",
       "children": [
        "IPY_MODEL_2a2e856e2e10421f9cfe5560f6798b5d",
        "IPY_MODEL_14dc5d9602514de2bac64fc762a926f4",
        "IPY_MODEL_5d33c3fbded24cafa26783cb7d5ec2ea"
       ],
       "layout": "IPY_MODEL_4d6ddc64da4947d68778e138b5c4db8c"
      }
     },
     "c8eec52e87ce4f11b40b8a2fd410276e": {
      "model_module": "@jupyter-widgets/base",
      "model_module_version": "1.2.0",
      "model_name": "LayoutModel",
      "state": {
       "_model_module": "@jupyter-widgets/base",
       "_model_module_version": "1.2.0",
       "_model_name": "LayoutModel",
       "_view_count": null,
       "_view_module": "@jupyter-widgets/base",
       "_view_module_version": "1.2.0",
       "_view_name": "LayoutView",
       "align_content": null,
       "align_items": null,
       "align_self": null,
       "border": null,
       "bottom": null,
       "display": null,
       "flex": null,
       "flex_flow": null,
       "grid_area": null,
       "grid_auto_columns": null,
       "grid_auto_flow": null,
       "grid_auto_rows": null,
       "grid_column": null,
       "grid_gap": null,
       "grid_row": null,
       "grid_template_areas": null,
       "grid_template_columns": null,
       "grid_template_rows": null,
       "height": null,
       "justify_content": null,
       "justify_items": null,
       "left": null,
       "margin": null,
       "max_height": null,
       "max_width": null,
       "min_height": null,
       "min_width": null,
       "object_fit": null,
       "object_position": null,
       "order": null,
       "overflow": null,
       "overflow_x": null,
       "overflow_y": null,
       "padding": null,
       "right": null,
       "top": null,
       "visibility": null,
       "width": null
      }
     },
     "cc3d07f43793462eb46d571d68afd072": {
      "model_module": "@jupyter-widgets/controls",
      "model_module_version": "1.5.0",
      "model_name": "FloatProgressModel",
      "state": {
       "_dom_classes": [],
       "_model_module": "@jupyter-widgets/controls",
       "_model_module_version": "1.5.0",
       "_model_name": "FloatProgressModel",
       "_view_count": null,
       "_view_module": "@jupyter-widgets/controls",
       "_view_module_version": "1.5.0",
       "_view_name": "ProgressView",
       "bar_style": "success",
       "description": "",
       "description_tooltip": null,
       "layout": "IPY_MODEL_e5993e5b7cf048e994ee1a065778d245",
       "max": 33,
       "min": 0,
       "orientation": "horizontal",
       "style": "IPY_MODEL_26c495562fbd4fe79d1e067e4334ea4a",
       "value": 33
      }
     },
     "cd3b790ef0324dbfa0d624d0c34e32fb": {
      "model_module": "@jupyter-widgets/base",
      "model_module_version": "1.2.0",
      "model_name": "LayoutModel",
      "state": {
       "_model_module": "@jupyter-widgets/base",
       "_model_module_version": "1.2.0",
       "_model_name": "LayoutModel",
       "_view_count": null,
       "_view_module": "@jupyter-widgets/base",
       "_view_module_version": "1.2.0",
       "_view_name": "LayoutView",
       "align_content": null,
       "align_items": null,
       "align_self": null,
       "border": null,
       "bottom": null,
       "display": null,
       "flex": null,
       "flex_flow": null,
       "grid_area": null,
       "grid_auto_columns": null,
       "grid_auto_flow": null,
       "grid_auto_rows": null,
       "grid_column": null,
       "grid_gap": null,
       "grid_row": null,
       "grid_template_areas": null,
       "grid_template_columns": null,
       "grid_template_rows": null,
       "height": null,
       "justify_content": null,
       "justify_items": null,
       "left": null,
       "margin": null,
       "max_height": null,
       "max_width": null,
       "min_height": null,
       "min_width": null,
       "object_fit": null,
       "object_position": null,
       "order": null,
       "overflow": null,
       "overflow_x": null,
       "overflow_y": null,
       "padding": null,
       "right": null,
       "top": null,
       "visibility": null,
       "width": null
      }
     },
     "dc4e7ff07db3459f9ade1e64fedc6c32": {
      "model_module": "@jupyter-widgets/controls",
      "model_module_version": "1.5.0",
      "model_name": "FloatProgressModel",
      "state": {
       "_dom_classes": [],
       "_model_module": "@jupyter-widgets/controls",
       "_model_module_version": "1.5.0",
       "_model_name": "FloatProgressModel",
       "_view_count": null,
       "_view_module": "@jupyter-widgets/controls",
       "_view_module_version": "1.5.0",
       "_view_name": "ProgressView",
       "bar_style": "success",
       "description": "",
       "description_tooltip": null,
       "layout": "IPY_MODEL_b2cfe4661c56413dbf263f3a27628ec7",
       "max": 33,
       "min": 0,
       "orientation": "horizontal",
       "style": "IPY_MODEL_7083e4d3011243c680bfe6d68a085f3e",
       "value": 33
      }
     },
     "e01db192aadd4baf9340a61daf7390d4": {
      "model_module": "@jupyter-widgets/controls",
      "model_module_version": "1.5.0",
      "model_name": "FloatProgressModel",
      "state": {
       "_dom_classes": [],
       "_model_module": "@jupyter-widgets/controls",
       "_model_module_version": "1.5.0",
       "_model_name": "FloatProgressModel",
       "_view_count": null,
       "_view_module": "@jupyter-widgets/controls",
       "_view_module_version": "1.5.0",
       "_view_name": "ProgressView",
       "bar_style": "success",
       "description": "",
       "description_tooltip": null,
       "layout": "IPY_MODEL_ad93d37f603b4cd7a227c16926bcee5c",
       "max": 33,
       "min": 0,
       "orientation": "horizontal",
       "style": "IPY_MODEL_b266608819a64f568c0be79c9e09d652",
       "value": 33
      }
     },
     "e5993e5b7cf048e994ee1a065778d245": {
      "model_module": "@jupyter-widgets/base",
      "model_module_version": "1.2.0",
      "model_name": "LayoutModel",
      "state": {
       "_model_module": "@jupyter-widgets/base",
       "_model_module_version": "1.2.0",
       "_model_name": "LayoutModel",
       "_view_count": null,
       "_view_module": "@jupyter-widgets/base",
       "_view_module_version": "1.2.0",
       "_view_name": "LayoutView",
       "align_content": null,
       "align_items": null,
       "align_self": null,
       "border": null,
       "bottom": null,
       "display": null,
       "flex": null,
       "flex_flow": null,
       "grid_area": null,
       "grid_auto_columns": null,
       "grid_auto_flow": null,
       "grid_auto_rows": null,
       "grid_column": null,
       "grid_gap": null,
       "grid_row": null,
       "grid_template_areas": null,
       "grid_template_columns": null,
       "grid_template_rows": null,
       "height": null,
       "justify_content": null,
       "justify_items": null,
       "left": null,
       "margin": null,
       "max_height": null,
       "max_width": null,
       "min_height": null,
       "min_width": null,
       "object_fit": null,
       "object_position": null,
       "order": null,
       "overflow": null,
       "overflow_x": null,
       "overflow_y": null,
       "padding": null,
       "right": null,
       "top": null,
       "visibility": null,
       "width": null
      }
     },
     "ee5c5159b3a14ca89f53e23e12529e26": {
      "model_module": "@jupyter-widgets/base",
      "model_module_version": "1.2.0",
      "model_name": "LayoutModel",
      "state": {
       "_model_module": "@jupyter-widgets/base",
       "_model_module_version": "1.2.0",
       "_model_name": "LayoutModel",
       "_view_count": null,
       "_view_module": "@jupyter-widgets/base",
       "_view_module_version": "1.2.0",
       "_view_name": "LayoutView",
       "align_content": null,
       "align_items": null,
       "align_self": null,
       "border": null,
       "bottom": null,
       "display": null,
       "flex": null,
       "flex_flow": null,
       "grid_area": null,
       "grid_auto_columns": null,
       "grid_auto_flow": null,
       "grid_auto_rows": null,
       "grid_column": null,
       "grid_gap": null,
       "grid_row": null,
       "grid_template_areas": null,
       "grid_template_columns": null,
       "grid_template_rows": null,
       "height": null,
       "justify_content": null,
       "justify_items": null,
       "left": null,
       "margin": null,
       "max_height": null,
       "max_width": null,
       "min_height": null,
       "min_width": null,
       "object_fit": null,
       "object_position": null,
       "order": null,
       "overflow": null,
       "overflow_x": null,
       "overflow_y": null,
       "padding": null,
       "right": null,
       "top": null,
       "visibility": null,
       "width": null
      }
     },
     "f35acb15491a41eca64ab53562919624": {
      "model_module": "@jupyter-widgets/controls",
      "model_module_version": "1.5.0",
      "model_name": "HBoxModel",
      "state": {
       "_dom_classes": [],
       "_model_module": "@jupyter-widgets/controls",
       "_model_module_version": "1.5.0",
       "_model_name": "HBoxModel",
       "_view_count": null,
       "_view_module": "@jupyter-widgets/controls",
       "_view_module_version": "1.5.0",
       "_view_name": "HBoxView",
       "box_style": "",
       "children": [
        "IPY_MODEL_50df8e708eb2439e9db9bfeed584bd39",
        "IPY_MODEL_cc3d07f43793462eb46d571d68afd072",
        "IPY_MODEL_72085e3b008e4f5db8d2aba7de561acd"
       ],
       "layout": "IPY_MODEL_53ba658a141f4fa2a44d674e4b9505af"
      }
     },
     "f3b3ffc5c90e4b648632bd873ec34994": {
      "model_module": "@jupyter-widgets/controls",
      "model_module_version": "1.5.0",
      "model_name": "DescriptionStyleModel",
      "state": {
       "_model_module": "@jupyter-widgets/controls",
       "_model_module_version": "1.5.0",
       "_model_name": "DescriptionStyleModel",
       "_view_count": null,
       "_view_module": "@jupyter-widgets/base",
       "_view_module_version": "1.2.0",
       "_view_name": "StyleView",
       "description_width": ""
      }
     },
     "f671142f99d74bc891d2bc4ab23d080a": {
      "model_module": "@jupyter-widgets/base",
      "model_module_version": "1.2.0",
      "model_name": "LayoutModel",
      "state": {
       "_model_module": "@jupyter-widgets/base",
       "_model_module_version": "1.2.0",
       "_model_name": "LayoutModel",
       "_view_count": null,
       "_view_module": "@jupyter-widgets/base",
       "_view_module_version": "1.2.0",
       "_view_name": "LayoutView",
       "align_content": null,
       "align_items": null,
       "align_self": null,
       "border": null,
       "bottom": null,
       "display": null,
       "flex": null,
       "flex_flow": null,
       "grid_area": null,
       "grid_auto_columns": null,
       "grid_auto_flow": null,
       "grid_auto_rows": null,
       "grid_column": null,
       "grid_gap": null,
       "grid_row": null,
       "grid_template_areas": null,
       "grid_template_columns": null,
       "grid_template_rows": null,
       "height": null,
       "justify_content": null,
       "justify_items": null,
       "left": null,
       "margin": null,
       "max_height": null,
       "max_width": null,
       "min_height": null,
       "min_width": null,
       "object_fit": null,
       "object_position": null,
       "order": null,
       "overflow": null,
       "overflow_x": null,
       "overflow_y": null,
       "padding": null,
       "right": null,
       "top": null,
       "visibility": null,
       "width": null
      }
     },
     "f6a66b6eb3b640fca553b6f50a28c0e4": {
      "model_module": "@jupyter-widgets/base",
      "model_module_version": "1.2.0",
      "model_name": "LayoutModel",
      "state": {
       "_model_module": "@jupyter-widgets/base",
       "_model_module_version": "1.2.0",
       "_model_name": "LayoutModel",
       "_view_count": null,
       "_view_module": "@jupyter-widgets/base",
       "_view_module_version": "1.2.0",
       "_view_name": "LayoutView",
       "align_content": null,
       "align_items": null,
       "align_self": null,
       "border": null,
       "bottom": null,
       "display": null,
       "flex": null,
       "flex_flow": null,
       "grid_area": null,
       "grid_auto_columns": null,
       "grid_auto_flow": null,
       "grid_auto_rows": null,
       "grid_column": null,
       "grid_gap": null,
       "grid_row": null,
       "grid_template_areas": null,
       "grid_template_columns": null,
       "grid_template_rows": null,
       "height": null,
       "justify_content": null,
       "justify_items": null,
       "left": null,
       "margin": null,
       "max_height": null,
       "max_width": null,
       "min_height": null,
       "min_width": null,
       "object_fit": null,
       "object_position": null,
       "order": null,
       "overflow": null,
       "overflow_x": null,
       "overflow_y": null,
       "padding": null,
       "right": null,
       "top": null,
       "visibility": null,
       "width": null
      }
     },
     "fb4165b06f274459b074490f9616c246": {
      "model_module": "@jupyter-widgets/controls",
      "model_module_version": "1.5.0",
      "model_name": "HBoxModel",
      "state": {
       "_dom_classes": [],
       "_model_module": "@jupyter-widgets/controls",
       "_model_module_version": "1.5.0",
       "_model_name": "HBoxModel",
       "_view_count": null,
       "_view_module": "@jupyter-widgets/controls",
       "_view_module_version": "1.5.0",
       "_view_name": "HBoxView",
       "box_style": "",
       "children": [
        "IPY_MODEL_7b8adf91fd164927ac0624ffaec6bed9",
        "IPY_MODEL_e01db192aadd4baf9340a61daf7390d4",
        "IPY_MODEL_53ec3174c43945ec92df721445c506ee"
       ],
       "layout": "IPY_MODEL_67967d7e1ab547a091713bd5106a9b0e"
      }
     },
     "fd805015a10a491bbb768a78bc1a1546": {
      "model_module": "@jupyter-widgets/controls",
      "model_module_version": "1.5.0",
      "model_name": "ProgressStyleModel",
      "state": {
       "_model_module": "@jupyter-widgets/controls",
       "_model_module_version": "1.5.0",
       "_model_name": "ProgressStyleModel",
       "_view_count": null,
       "_view_module": "@jupyter-widgets/base",
       "_view_module_version": "1.2.0",
       "_view_name": "StyleView",
       "bar_color": null,
       "description_width": ""
      }
     }
    },
    "version_major": 2,
    "version_minor": 0
   }
  }
 },
 "nbformat": 4,
 "nbformat_minor": 5
}
