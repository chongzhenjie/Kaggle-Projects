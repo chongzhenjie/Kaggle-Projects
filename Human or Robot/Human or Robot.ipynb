{
 "cells": [
  {
   "cell_type": "code",
   "execution_count": null,
   "id": "cb05eec8",
   "metadata": {
    "execution": {
     "iopub.execute_input": "2022-02-16T09:08:54.219642Z",
     "iopub.status.busy": "2022-02-16T09:08:54.218463Z",
     "iopub.status.idle": "2022-02-16T09:08:55.289487Z",
     "shell.execute_reply": "2022-02-16T09:08:55.288644Z"
    },
    "papermill": {
     "duration": 1.131648,
     "end_time": "2022-02-16T09:08:55.289679",
     "exception": false,
     "start_time": "2022-02-16T09:08:54.158031",
     "status": "completed"
    },
    "tags": []
   },
   "outputs": [],
   "source": [
    "import pandas as pd\n",
    "import matplotlib.pyplot as plt\n",
    "import seaborn as sns"
   ]
  },
  {
   "cell_type": "code",
   "execution_count": null,
   "id": "9a4ab8f9",
   "metadata": {
    "execution": {
     "iopub.execute_input": "2022-02-16T09:08:55.407142Z",
     "iopub.status.busy": "2022-02-16T09:08:55.406498Z",
     "iopub.status.idle": "2022-02-16T09:09:19.544323Z",
     "shell.execute_reply": "2022-02-16T09:09:19.543459Z"
    },
    "papermill": {
     "duration": 24.19641,
     "end_time": "2022-02-16T09:09:19.544490",
     "exception": false,
     "start_time": "2022-02-16T09:08:55.348080",
     "status": "completed"
    },
    "tags": []
   },
   "outputs": [],
   "source": [
    "bids_df = pd.read_csv('../input/facebook-recruiting-iv-human-or-bot/bids.csv.zip')\n",
    "train_df = pd.read_csv('../input/facebook-recruiting-iv-human-or-bot/train.csv.zip')\n",
    "test_df = pd.read_csv('../input/facebook-recruiting-iv-human-or-bot/test.csv.zip')"
   ]
  },
  {
   "attachments": {},
   "cell_type": "markdown",
   "id": "29a49636",
   "metadata": {
    "papermill": {
     "duration": 0.055691,
     "end_time": "2022-02-16T09:09:19.657639",
     "exception": false,
     "start_time": "2022-02-16T09:09:19.601948",
     "status": "completed"
    },
    "tags": []
   },
   "source": [
    "# Data Cleaning"
   ]
  },
  {
   "cell_type": "code",
   "execution_count": null,
   "id": "9246665f",
   "metadata": {
    "execution": {
     "iopub.execute_input": "2022-02-16T09:09:19.779692Z",
     "iopub.status.busy": "2022-02-16T09:09:19.778841Z",
     "iopub.status.idle": "2022-02-16T09:09:19.799996Z",
     "shell.execute_reply": "2022-02-16T09:09:19.799442Z"
    },
    "papermill": {
     "duration": 0.086157,
     "end_time": "2022-02-16T09:09:19.800157",
     "exception": false,
     "start_time": "2022-02-16T09:09:19.714000",
     "status": "completed"
    },
    "tags": []
   },
   "outputs": [],
   "source": [
    "bids_df.head()"
   ]
  },
  {
   "cell_type": "code",
   "execution_count": null,
   "id": "e8a64b2b",
   "metadata": {
    "execution": {
     "iopub.execute_input": "2022-02-16T09:09:19.930126Z",
     "iopub.status.busy": "2022-02-16T09:09:19.925584Z",
     "iopub.status.idle": "2022-02-16T09:09:19.933605Z",
     "shell.execute_reply": "2022-02-16T09:09:19.934149Z"
    },
    "papermill": {
     "duration": 0.076095,
     "end_time": "2022-02-16T09:09:19.934323",
     "exception": false,
     "start_time": "2022-02-16T09:09:19.858228",
     "status": "completed"
    },
    "tags": []
   },
   "outputs": [],
   "source": [
    "train_df.head()"
   ]
  },
  {
   "attachments": {},
   "cell_type": "markdown",
   "id": "ef9ec388",
   "metadata": {
    "papermill": {
     "duration": 0.058875,
     "end_time": "2022-02-16T09:09:20.050784",
     "exception": false,
     "start_time": "2022-02-16T09:09:19.991909",
     "status": "completed"
    },
    "tags": []
   },
   "source": [
    "### Missing values"
   ]
  },
  {
   "cell_type": "code",
   "execution_count": null,
   "id": "bf571225",
   "metadata": {
    "execution": {
     "iopub.execute_input": "2022-02-16T09:09:20.171797Z",
     "iopub.status.busy": "2022-02-16T09:09:20.170978Z",
     "iopub.status.idle": "2022-02-16T09:09:20.174161Z",
     "shell.execute_reply": "2022-02-16T09:09:20.174692Z"
    },
    "papermill": {
     "duration": 0.066724,
     "end_time": "2022-02-16T09:09:20.174861",
     "exception": false,
     "start_time": "2022-02-16T09:09:20.108137",
     "status": "completed"
    },
    "tags": []
   },
   "outputs": [],
   "source": [
    "bids_df.shape"
   ]
  },
  {
   "cell_type": "code",
   "execution_count": null,
   "id": "4320001a",
   "metadata": {
    "execution": {
     "iopub.execute_input": "2022-02-16T09:09:20.294850Z",
     "iopub.status.busy": "2022-02-16T09:09:20.292552Z",
     "iopub.status.idle": "2022-02-16T09:09:26.239024Z",
     "shell.execute_reply": "2022-02-16T09:09:26.238364Z"
    },
    "papermill": {
     "duration": 6.006897,
     "end_time": "2022-02-16T09:09:26.239189",
     "exception": false,
     "start_time": "2022-02-16T09:09:20.232292",
     "status": "completed"
    },
    "tags": []
   },
   "outputs": [],
   "source": [
    "bids_df.isnull().sum()"
   ]
  },
  {
   "cell_type": "code",
   "execution_count": null,
   "id": "88b117a4",
   "metadata": {
    "execution": {
     "iopub.execute_input": "2022-02-16T09:09:26.366303Z",
     "iopub.status.busy": "2022-02-16T09:09:26.365579Z",
     "iopub.status.idle": "2022-02-16T09:09:27.217750Z",
     "shell.execute_reply": "2022-02-16T09:09:27.216969Z"
    },
    "papermill": {
     "duration": 0.915934,
     "end_time": "2022-02-16T09:09:27.217904",
     "exception": false,
     "start_time": "2022-02-16T09:09:26.301970",
     "status": "completed"
    },
    "tags": []
   },
   "outputs": [],
   "source": [
    "missing_percent = bids_df['country'].isnull().mean()\n",
    "print(f\"Percentage of missing data in country column: {missing_percent*100: .2f}%\")"
   ]
  },
  {
   "attachments": {},
   "cell_type": "markdown",
   "id": "df02c14a",
   "metadata": {
    "papermill": {
     "duration": 0.064956,
     "end_time": "2022-02-16T09:09:27.346865",
     "exception": false,
     "start_time": "2022-02-16T09:09:27.281909",
     "status": "completed"
    },
    "tags": []
   },
   "source": [
    "We find that only the country column has missing values and it is only a small proportion of the entire dataset."
   ]
  },
  {
   "cell_type": "code",
   "execution_count": null,
   "id": "4ed58528",
   "metadata": {
    "execution": {
     "iopub.execute_input": "2022-02-16T09:09:28.692359Z",
     "iopub.status.busy": "2022-02-16T09:09:27.475050Z",
     "iopub.status.idle": "2022-02-16T09:09:29.943085Z",
     "shell.execute_reply": "2022-02-16T09:09:29.942391Z"
    },
    "papermill": {
     "duration": 2.534343,
     "end_time": "2022-02-16T09:09:29.943242",
     "exception": false,
     "start_time": "2022-02-16T09:09:27.408899",
     "status": "completed"
    },
    "tags": []
   },
   "outputs": [],
   "source": [
    "unique_countries = bids_df['country'].value_counts()\n",
    "\n",
    "fig, ax = plt.subplots(figsize = (18, 4.8))\n",
    "countries_distribution = sns.barplot(x = unique_countries.index, y = unique_countries.values, ax = ax)                        \n",
    "ax.get_xaxis().set_visible(False)\n",
    "\n",
    "plt.show()"
   ]
  },
  {
   "attachments": {},
   "cell_type": "markdown",
   "id": "c23f10f2",
   "metadata": {
    "papermill": {
     "duration": 0.058544,
     "end_time": "2022-02-16T09:09:30.061532",
     "exception": false,
     "start_time": "2022-02-16T09:09:30.002988",
     "status": "completed"
    },
    "tags": []
   },
   "source": [
    "We check the distribution of the countries and find that there is one country that is significantly higher than the rest. Hence, mode imputation may be a good approach."
   ]
  },
  {
   "cell_type": "code",
   "execution_count": null,
   "id": "58152a9e",
   "metadata": {
    "execution": {
     "iopub.execute_input": "2022-02-16T09:09:32.185363Z",
     "iopub.status.busy": "2022-02-16T09:09:32.184270Z",
     "iopub.status.idle": "2022-02-16T09:09:32.420178Z",
     "shell.execute_reply": "2022-02-16T09:09:32.419609Z"
    },
    "papermill": {
     "duration": 2.298489,
     "end_time": "2022-02-16T09:09:32.420341",
     "exception": false,
     "start_time": "2022-02-16T09:09:30.121852",
     "status": "completed"
    },
    "tags": []
   },
   "outputs": [],
   "source": [
    "bids_df['country'] = bids_df['country'].fillna(bids_df['country'].mode()[0])"
   ]
  },
  {
   "attachments": {},
   "cell_type": "markdown",
   "id": "acccd95f",
   "metadata": {
    "papermill": {
     "duration": 0.059378,
     "end_time": "2022-02-16T09:09:32.539418",
     "exception": false,
     "start_time": "2022-02-16T09:09:32.480040",
     "status": "completed"
    },
    "tags": []
   },
   "source": [
    "# Feature Engineering"
   ]
  },
  {
   "attachments": {},
   "cell_type": "markdown",
   "id": "d094598b",
   "metadata": {
    "papermill": {
     "duration": 0.059953,
     "end_time": "2022-02-16T09:09:32.660176",
     "exception": false,
     "start_time": "2022-02-16T09:09:32.600223",
     "status": "completed"
    },
    "tags": []
   },
   "source": [
    "### Features of unique counts using .nunique()"
   ]
  },
  {
   "cell_type": "code",
   "execution_count": null,
   "id": "450ef9c6",
   "metadata": {
    "execution": {
     "iopub.execute_input": "2022-02-16T09:09:33.718934Z",
     "iopub.status.busy": "2022-02-16T09:09:33.360262Z",
     "iopub.status.idle": "2022-02-16T09:10:00.896443Z",
     "shell.execute_reply": "2022-02-16T09:10:00.895849Z"
    },
    "papermill": {
     "duration": 28.176793,
     "end_time": "2022-02-16T09:10:00.896625",
     "exception": false,
     "start_time": "2022-02-16T09:09:32.719832",
     "status": "completed"
    },
    "tags": []
   },
   "outputs": [],
   "source": [
    "bidder_unique = bids_df.groupby(\"bidder_id\").nunique().reset_index()\n",
    "bidder_unique.head()"
   ]
  },
  {
   "cell_type": "code",
   "execution_count": null,
   "id": "70d3cb8a",
   "metadata": {
    "execution": {
     "iopub.execute_input": "2022-02-16T09:10:01.028088Z",
     "iopub.status.busy": "2022-02-16T09:10:01.026920Z",
     "iopub.status.idle": "2022-02-16T09:10:01.081267Z",
     "shell.execute_reply": "2022-02-16T09:10:01.081805Z"
    },
    "papermill": {
     "duration": 0.121137,
     "end_time": "2022-02-16T09:10:01.081987",
     "exception": false,
     "start_time": "2022-02-16T09:10:00.960850",
     "status": "completed"
    },
    "tags": []
   },
   "outputs": [],
   "source": [
    "train_set = train_df.merge(bidder_unique, on='bidder_id', how='left').drop(columns = ['payment_account', 'address'], errors = 'ignore')\n",
    "train_set = train_set.rename(columns = {'bid_id': 'num_bids', 'auction': 'num_auct', 'merchandise': 'num_merch_type', 'device': 'num_device_type', 'time': 'num_time', 'country': 'num_ctry', 'ip': 'num_ip', 'url': 'num_url'})\n",
    "train_set = train_set.fillna(0)\n",
    "\n",
    "test_set = test_df.merge(bidder_unique, on='bidder_id', how='left').drop(columns = ['payment_account', 'address'], errors = 'ignore')\n",
    "test_set = test_set.rename(columns = {'bid_id': 'num_bids', 'auction': 'num_auct', 'merchandise': 'num_merch_type', 'device': 'num_device_type', 'time': 'num_time', 'country': 'num_ctry', 'ip': 'num_ip', 'url': 'num_url'})\n",
    "test_set = test_set.fillna(0)\n",
    "\n",
    "train_set.head()"
   ]
  },
  {
   "attachments": {},
   "cell_type": "markdown",
   "id": "3d9bda3d",
   "metadata": {
    "papermill": {
     "duration": 0.063555,
     "end_time": "2022-02-16T09:10:01.206992",
     "exception": false,
     "start_time": "2022-02-16T09:10:01.143437",
     "status": "completed"
    },
    "tags": []
   },
   "source": [
    "### Features generated from first-differencing using .diff()"
   ]
  },
  {
   "attachments": {},
   "cell_type": "markdown",
   "id": "32b87662",
   "metadata": {
    "papermill": {
     "duration": 0.062535,
     "end_time": "2022-02-16T09:10:01.331558",
     "exception": false,
     "start_time": "2022-02-16T09:10:01.269023",
     "status": "completed"
    },
    "tags": []
   },
   "source": [
    "The competition mentioned that the relative order and scales of time are preserved. Hence, it can be useful for comparisons between behavior using time."
   ]
  },
  {
   "cell_type": "code",
   "execution_count": null,
   "id": "8cce6126",
   "metadata": {
    "execution": {
     "iopub.execute_input": "2022-02-16T09:10:01.465406Z",
     "iopub.status.busy": "2022-02-16T09:10:01.464379Z",
     "iopub.status.idle": "2022-02-16T09:10:12.948815Z",
     "shell.execute_reply": "2022-02-16T09:10:12.948201Z"
    },
    "papermill": {
     "duration": 11.553067,
     "end_time": "2022-02-16T09:10:12.948964",
     "exception": false,
     "start_time": "2022-02-16T09:10:01.395897",
     "status": "completed"
    },
    "tags": []
   },
   "outputs": [],
   "source": [
    "time_df = bids_df.sort_values(['bidder_id', 'time'])\n",
    "time_df.head(10)"
   ]
  },
  {
   "attachments": {},
   "cell_type": "markdown",
   "id": "a0d109f9",
   "metadata": {
    "papermill": {
     "duration": 0.062049,
     "end_time": "2022-02-16T09:10:13.072188",
     "exception": false,
     "start_time": "2022-02-16T09:10:13.010139",
     "status": "completed"
    },
    "tags": []
   },
   "source": [
    "We can generate features by looking at the time difference between every two bids for each bidder. We cannot take the first difference of each bidder's first bid so there are missing values. As these missing values do not have any intepretations, we drop them."
   ]
  },
  {
   "cell_type": "code",
   "execution_count": null,
   "id": "e20f5dbd",
   "metadata": {
    "execution": {
     "iopub.execute_input": "2022-02-16T09:10:13.201402Z",
     "iopub.status.busy": "2022-02-16T09:10:13.200412Z",
     "iopub.status.idle": "2022-02-16T09:10:17.999158Z",
     "shell.execute_reply": "2022-02-16T09:10:17.999688Z"
    },
    "papermill": {
     "duration": 4.864409,
     "end_time": "2022-02-16T09:10:17.999864",
     "exception": false,
     "start_time": "2022-02-16T09:10:13.135455",
     "status": "completed"
    },
    "tags": []
   },
   "outputs": [],
   "source": [
    "firstdiff = time_df.groupby('bidder_id')[['time']].diff()\n",
    "firstdiff.head(10)"
   ]
  },
  {
   "cell_type": "code",
   "execution_count": null,
   "id": "246a2155",
   "metadata": {
    "execution": {
     "iopub.execute_input": "2022-02-16T09:10:18.130815Z",
     "iopub.status.busy": "2022-02-16T09:10:18.129833Z",
     "iopub.status.idle": "2022-02-16T09:10:19.439931Z",
     "shell.execute_reply": "2022-02-16T09:10:19.440487Z"
    },
    "papermill": {
     "duration": 1.376889,
     "end_time": "2022-02-16T09:10:19.440722",
     "exception": false,
     "start_time": "2022-02-16T09:10:18.063833",
     "status": "completed"
    },
    "tags": []
   },
   "outputs": [],
   "source": [
    "time_df['first_diff'] = firstdiff\n",
    "firstdiff_feat = time_df[['bidder_id', 'first_diff']].dropna()\n",
    "firstdiff_feat.head()"
   ]
  },
  {
   "attachments": {},
   "cell_type": "markdown",
   "id": "47e52228",
   "metadata": {
    "papermill": {
     "duration": 0.062404,
     "end_time": "2022-02-16T09:10:19.566246",
     "exception": false,
     "start_time": "2022-02-16T09:10:19.503842",
     "status": "completed"
    },
    "tags": []
   },
   "source": [
    "We can generate some features using common aggregate functions such as mean, median, minimum and maximum."
   ]
  },
  {
   "cell_type": "code",
   "execution_count": null,
   "id": "e5e77d37",
   "metadata": {
    "execution": {
     "iopub.execute_input": "2022-02-16T09:10:19.695048Z",
     "iopub.status.busy": "2022-02-16T09:10:19.694412Z",
     "iopub.status.idle": "2022-02-16T09:10:40.765565Z",
     "shell.execute_reply": "2022-02-16T09:10:40.764980Z"
    },
    "papermill": {
     "duration": 21.13668,
     "end_time": "2022-02-16T09:10:40.765751",
     "exception": false,
     "start_time": "2022-02-16T09:10:19.629071",
     "status": "completed"
    },
    "tags": []
   },
   "outputs": [],
   "source": [
    "bid_intervals = firstdiff_feat.groupby('bidder_id')[['first_diff']].describe().reset_index()\n",
    "bid_intervals = bid_intervals.droplevel(axis=1, level=0)\n",
    "bid_intervals = bid_intervals.rename(columns = {'': 'bidder_id', 'mean': 'mean_diff', 'std': 'std_diff', '50%': 'median_diff', 'min': 'min_diff', 'max': 'max_diff'}).fillna(0)\n",
    "bid_intervals['iqr_diff'] = bid_intervals['75%'] - bid_intervals['25%']\n",
    "bid_intervals = bid_intervals.drop(['25%', '75%', 'count'], axis = 1)\n",
    "bid_intervals.head()"
   ]
  },
  {
   "attachments": {},
   "cell_type": "markdown",
   "id": "4857e059",
   "metadata": {
    "papermill": {
     "duration": 0.063787,
     "end_time": "2022-02-16T09:10:40.896526",
     "exception": false,
     "start_time": "2022-02-16T09:10:40.832739",
     "status": "completed"
    },
    "tags": []
   },
   "source": [
    "When adding the above features to our training and test datasets, we fill missing values for the concurrent bids with 0 simply because the bidders do not have any."
   ]
  },
  {
   "attachments": {},
   "cell_type": "markdown",
   "id": "ef9f98ca",
   "metadata": {
    "papermill": {
     "duration": 0.06328,
     "end_time": "2022-02-16T09:10:41.024395",
     "exception": false,
     "start_time": "2022-02-16T09:10:40.961115",
     "status": "completed"
    },
    "tags": []
   },
   "source": [
    "For the first-difference features, we fill the missing values with the median values because these bidders do not have any bid information."
   ]
  },
  {
   "cell_type": "code",
   "execution_count": null,
   "id": "a070d850",
   "metadata": {
    "execution": {
     "iopub.execute_input": "2022-02-16T09:10:41.157903Z",
     "iopub.status.busy": "2022-02-16T09:10:41.156878Z",
     "iopub.status.idle": "2022-02-16T09:10:41.183973Z",
     "shell.execute_reply": "2022-02-16T09:10:41.184576Z"
    },
    "papermill": {
     "duration": 0.096773,
     "end_time": "2022-02-16T09:10:41.184766",
     "exception": false,
     "start_time": "2022-02-16T09:10:41.087993",
     "status": "completed"
    },
    "tags": []
   },
   "outputs": [],
   "source": [
    "train_set = train_set.merge(bid_intervals, on='bidder_id', how='left')\n",
    "train_set = train_set.fillna(train_set.median())\n",
    "\n",
    "test_set = test_set.merge(bid_intervals, on='bidder_id', how='left')\n",
    "test_set = test_set.fillna(test_set.median())"
   ]
  },
  {
   "attachments": {},
   "cell_type": "markdown",
   "id": "27fe0c6f",
   "metadata": {
    "papermill": {
     "duration": 0.063859,
     "end_time": "2022-02-16T09:10:41.313830",
     "exception": false,
     "start_time": "2022-02-16T09:10:41.249971",
     "status": "completed"
    },
    "tags": []
   },
   "source": [
    "One interesting observation is that some bidders have zero lag time between two bids. Intuitively, bots may be able to achieve this more than an average human, so we can look at the values where the time difference equals 0. We label such bids as concurrent bids."
   ]
  },
  {
   "cell_type": "code",
   "execution_count": null,
   "id": "4bfb5892",
   "metadata": {
    "execution": {
     "iopub.execute_input": "2022-02-16T09:10:41.449941Z",
     "iopub.status.busy": "2022-02-16T09:10:41.449147Z",
     "iopub.status.idle": "2022-02-16T09:10:41.635106Z",
     "shell.execute_reply": "2022-02-16T09:10:41.635583Z"
    },
    "papermill": {
     "duration": 0.257644,
     "end_time": "2022-02-16T09:10:41.635790",
     "exception": false,
     "start_time": "2022-02-16T09:10:41.378146",
     "status": "completed"
    },
    "tags": []
   },
   "outputs": [],
   "source": [
    "concurrent_bids = firstdiff_feat[firstdiff_feat['first_diff'] == 0].groupby('bidder_id').count().reset_index()\n",
    "concurrent_bids = concurrent_bids.rename(columns = {'first_diff': 'num_concurrent_bids'})\n",
    "concurrent_bids.head()"
   ]
  },
  {
   "cell_type": "code",
   "execution_count": null,
   "id": "8675ef7a",
   "metadata": {
    "execution": {
     "iopub.execute_input": "2022-02-16T09:10:41.771293Z",
     "iopub.status.busy": "2022-02-16T09:10:41.770293Z",
     "iopub.status.idle": "2022-02-16T09:10:41.790653Z",
     "shell.execute_reply": "2022-02-16T09:10:41.791443Z"
    },
    "papermill": {
     "duration": 0.089011,
     "end_time": "2022-02-16T09:10:41.791706",
     "exception": false,
     "start_time": "2022-02-16T09:10:41.702695",
     "status": "completed"
    },
    "tags": []
   },
   "outputs": [],
   "source": [
    "train_set = train_set.merge(concurrent_bids, on='bidder_id', how='left').fillna(0)\n",
    "\n",
    "test_set = test_set.merge(concurrent_bids, on='bidder_id', how='left').fillna(0)"
   ]
  },
  {
   "attachments": {},
   "cell_type": "markdown",
   "id": "5c3ab18d",
   "metadata": {
    "papermill": {
     "duration": 0.074546,
     "end_time": "2022-02-16T09:10:41.953467",
     "exception": false,
     "start_time": "2022-02-16T09:10:41.878921",
     "status": "completed"
    },
    "tags": []
   },
   "source": [
    "### Features generated from time using .first()"
   ]
  },
  {
   "attachments": {},
   "cell_type": "markdown",
   "id": "f509aa63",
   "metadata": {
    "papermill": {
     "duration": 0.067017,
     "end_time": "2022-02-16T09:10:42.085847",
     "exception": false,
     "start_time": "2022-02-16T09:10:42.018830",
     "status": "completed"
    },
    "tags": []
   },
   "source": [
    "Time can be used to indicate the behavior of a bidder relative to the others. The easiest comparison is the number of times a bidder is the first or last in an auction. Intuitively, we fill missing values with 0."
   ]
  },
  {
   "cell_type": "code",
   "execution_count": null,
   "id": "c27b8b5e",
   "metadata": {
    "execution": {
     "iopub.execute_input": "2022-02-16T09:10:42.718653Z",
     "iopub.status.busy": "2022-02-16T09:10:42.717462Z",
     "iopub.status.idle": "2022-02-16T09:11:01.890065Z",
     "shell.execute_reply": "2022-02-16T09:11:01.889373Z"
    },
    "papermill": {
     "duration": 19.739503,
     "end_time": "2022-02-16T09:11:01.890218",
     "exception": false,
     "start_time": "2022-02-16T09:10:42.150715",
     "status": "completed"
    },
    "tags": []
   },
   "outputs": [],
   "source": [
    "first_bid = bids_df.sort_values(['auction', 'time'])\n",
    "first_bid = first_bid.groupby('auction').first().reset_index()\n",
    "first_bid = first_bid.groupby('bidder_id').count()['bid_id'].reset_index()\n",
    "first_bid = first_bid.rename(columns = {'bid_id': 'num_first_bid'})\n",
    "first_bid.head()"
   ]
  },
  {
   "cell_type": "code",
   "execution_count": null,
   "id": "65b31523",
   "metadata": {
    "execution": {
     "iopub.execute_input": "2022-02-16T09:11:02.528776Z",
     "iopub.status.busy": "2022-02-16T09:11:02.170568Z",
     "iopub.status.idle": "2022-02-16T09:11:21.733990Z",
     "shell.execute_reply": "2022-02-16T09:11:21.734472Z"
    },
    "papermill": {
     "duration": 19.77836,
     "end_time": "2022-02-16T09:11:21.734654",
     "exception": false,
     "start_time": "2022-02-16T09:11:01.956294",
     "status": "completed"
    },
    "tags": []
   },
   "outputs": [],
   "source": [
    "last_bid = bids_df.sort_values(['auction', 'time'], ascending = [True, False])\n",
    "last_bid = last_bid.groupby('auction').first().reset_index()\n",
    "last_bid = last_bid.groupby('bidder_id').count()['bid_id'].reset_index()\n",
    "last_bid = last_bid.rename(columns = {'bid_id': 'num_last_bid'})\n",
    "last_bid.head()"
   ]
  },
  {
   "cell_type": "code",
   "execution_count": null,
   "id": "4d878966",
   "metadata": {
    "execution": {
     "iopub.execute_input": "2022-02-16T09:11:21.872215Z",
     "iopub.status.busy": "2022-02-16T09:11:21.871518Z",
     "iopub.status.idle": "2022-02-16T09:11:21.900095Z",
     "shell.execute_reply": "2022-02-16T09:11:21.900706Z"
    },
    "papermill": {
     "duration": 0.098555,
     "end_time": "2022-02-16T09:11:21.900884",
     "exception": false,
     "start_time": "2022-02-16T09:11:21.802329",
     "status": "completed"
    },
    "tags": []
   },
   "outputs": [],
   "source": [
    "train_set = train_set.merge(first_bid, on='bidder_id', how='left').fillna(0)\n",
    "train_set = train_set.merge(last_bid, on='bidder_id', how='left').fillna(0)\n",
    "\n",
    "test_set = test_set.merge(first_bid, on='bidder_id', how='left').fillna(0)\n",
    "test_set = test_set.merge(last_bid, on='bidder_id', how='left').fillna(0)"
   ]
  },
  {
   "attachments": {},
   "cell_type": "markdown",
   "id": "dda961a2",
   "metadata": {
    "papermill": {
     "duration": 0.06742,
     "end_time": "2022-02-16T09:11:22.036326",
     "exception": false,
     "start_time": "2022-02-16T09:11:21.968906",
     "status": "completed"
    },
    "tags": []
   },
   "source": [
    "### Features by other hypotheses"
   ]
  },
  {
   "attachments": {},
   "cell_type": "markdown",
   "id": "67985c4f",
   "metadata": {
    "papermill": {
     "duration": 0.065931,
     "end_time": "2022-02-16T09:11:22.169490",
     "exception": false,
     "start_time": "2022-02-16T09:11:22.103559",
     "status": "completed"
    },
    "tags": []
   },
   "source": [
    "##### Ratio of bids in first half to second half of auction"
   ]
  },
  {
   "attachments": {},
   "cell_type": "markdown",
   "id": "15d8919c",
   "metadata": {
    "papermill": {
     "duration": 0.066373,
     "end_time": "2022-02-16T09:11:22.302875",
     "exception": false,
     "start_time": "2022-02-16T09:11:22.236502",
     "status": "completed"
    },
    "tags": []
   },
   "source": [
    "We define the duration of the auction to be the difference between the first and last bid of that auction. We assume that the bots will bid more towards the end of an auction because bidding early does not really ensure that the bots would not be outbidded."
   ]
  },
  {
   "cell_type": "code",
   "execution_count": null,
   "id": "134f2fe5",
   "metadata": {
    "execution": {
     "iopub.execute_input": "2022-02-16T09:11:22.438535Z",
     "iopub.status.busy": "2022-02-16T09:11:22.437908Z",
     "iopub.status.idle": "2022-02-16T09:11:36.417782Z",
     "shell.execute_reply": "2022-02-16T09:11:36.417242Z"
    },
    "papermill": {
     "duration": 14.048976,
     "end_time": "2022-02-16T09:11:36.417934",
     "exception": false,
     "start_time": "2022-02-16T09:11:22.368958",
     "status": "completed"
    },
    "tags": []
   },
   "outputs": [],
   "source": [
    "auct_duration = bids_df.sort_values(['auction', 'time'])[['bidder_id', 'auction', 'time']]\n",
    "auct_duration = auct_duration[['auction','time']].groupby('auction').agg([max,min]).reset_index().droplevel(axis=1, level=0).rename(columns = {'': 'auction'})\n",
    "auct_duration['auct_duration'] = auct_duration['max'] - auct_duration['min']\n",
    "auct_duration.head()"
   ]
  },
  {
   "cell_type": "code",
   "execution_count": null,
   "id": "33996817",
   "metadata": {
    "execution": {
     "iopub.execute_input": "2022-02-16T09:11:37.079875Z",
     "iopub.status.busy": "2022-02-16T09:11:37.079163Z",
     "iopub.status.idle": "2022-02-16T09:11:51.235580Z",
     "shell.execute_reply": "2022-02-16T09:11:51.234960Z"
    },
    "papermill": {
     "duration": 14.749824,
     "end_time": "2022-02-16T09:11:51.235750",
     "exception": false,
     "start_time": "2022-02-16T09:11:36.485926",
     "status": "completed"
    },
    "tags": []
   },
   "outputs": [],
   "source": [
    "time_ratio = bids_df.sort_values(['auction', 'time'])[['bidder_id', 'auction', 'time']]\n",
    "time_ratio = time_ratio.merge(auct_duration, on = 'auction', how = 'left')\n",
    "time_ratio.head()"
   ]
  },
  {
   "cell_type": "code",
   "execution_count": null,
   "id": "575f284b",
   "metadata": {
    "execution": {
     "iopub.execute_input": "2022-02-16T09:11:51.390453Z",
     "iopub.status.busy": "2022-02-16T09:11:51.389242Z",
     "iopub.status.idle": "2022-02-16T09:11:51.452776Z",
     "shell.execute_reply": "2022-02-16T09:11:51.452123Z"
    },
    "papermill": {
     "duration": 0.147418,
     "end_time": "2022-02-16T09:11:51.452915",
     "exception": false,
     "start_time": "2022-02-16T09:11:51.305497",
     "status": "completed"
    },
    "tags": []
   },
   "outputs": [],
   "source": [
    "time_ratio['temp'] = time_ratio['time'] - time_ratio['auct_duration'] / 2\n",
    "time_ratio.head()"
   ]
  },
  {
   "cell_type": "code",
   "execution_count": null,
   "id": "9bc312d9",
   "metadata": {
    "execution": {
     "iopub.execute_input": "2022-02-16T09:11:51.592456Z",
     "iopub.status.busy": "2022-02-16T09:11:51.591339Z",
     "iopub.status.idle": "2022-02-16T09:11:51.616590Z",
     "shell.execute_reply": "2022-02-16T09:11:51.615997Z"
    },
    "papermill": {
     "duration": 0.096283,
     "end_time": "2022-02-16T09:11:51.616746",
     "exception": false,
     "start_time": "2022-02-16T09:11:51.520463",
     "status": "completed"
    },
    "tags": []
   },
   "outputs": [],
   "source": [
    "time_ratio['firsthalf'] = time_ratio['temp'] < time_ratio['min']\n",
    "time_ratio.head()"
   ]
  },
  {
   "cell_type": "code",
   "execution_count": null,
   "id": "2f600671",
   "metadata": {
    "execution": {
     "iopub.execute_input": "2022-02-16T09:11:51.765395Z",
     "iopub.status.busy": "2022-02-16T09:11:51.759907Z",
     "iopub.status.idle": "2022-02-16T09:11:53.645104Z",
     "shell.execute_reply": "2022-02-16T09:11:53.645569Z"
    },
    "papermill": {
     "duration": 1.959201,
     "end_time": "2022-02-16T09:11:53.645769",
     "exception": false,
     "start_time": "2022-02-16T09:11:51.686568",
     "status": "completed"
    },
    "tags": []
   },
   "outputs": [],
   "source": [
    "ratio_firsthalf = time_ratio[['bidder_id', 'firsthalf']].groupby('bidder_id').agg(['count', sum]).reset_index().droplevel(axis=1, level=0).rename(columns = {'': 'bidder_id', 'count': 'num_total_bids', 'sum': 'num_firsthalf_bids'})\n",
    "ratio_firsthalf['num_secondhalf_bids'] = ratio_firsthalf['num_total_bids'] - ratio_firsthalf['num_firsthalf_bids']\n",
    "ratio_firsthalf['percent_firsthalf_bids'] = ratio_firsthalf['num_firsthalf_bids'] / ratio_firsthalf['num_total_bids']\n",
    "ratio_firsthalf['percent_secondhalf_bids'] = ratio_firsthalf['num_secondhalf_bids'] / ratio_firsthalf['num_total_bids']\n",
    "ratio_firsthalf = ratio_firsthalf.drop('num_total_bids', axis = 1)\n",
    "ratio_firsthalf.head()"
   ]
  },
  {
   "cell_type": "code",
   "execution_count": null,
   "id": "d39ba6ce",
   "metadata": {
    "execution": {
     "iopub.execute_input": "2022-02-16T09:11:53.792516Z",
     "iopub.status.busy": "2022-02-16T09:11:53.791837Z",
     "iopub.status.idle": "2022-02-16T09:11:53.810479Z",
     "shell.execute_reply": "2022-02-16T09:11:53.809935Z"
    },
    "papermill": {
     "duration": 0.095819,
     "end_time": "2022-02-16T09:11:53.810628",
     "exception": false,
     "start_time": "2022-02-16T09:11:53.714809",
     "status": "completed"
    },
    "tags": []
   },
   "outputs": [],
   "source": [
    "train_set = train_set.merge(ratio_firsthalf, on='bidder_id', how='left').fillna(0)\n",
    "\n",
    "test_set = test_set.merge(ratio_firsthalf, on='bidder_id', how='left').fillna(0)"
   ]
  },
  {
   "attachments": {},
   "cell_type": "markdown",
   "id": "e404fa21",
   "metadata": {
    "papermill": {
     "duration": 0.070691,
     "end_time": "2022-02-16T09:11:53.950826",
     "exception": false,
     "start_time": "2022-02-16T09:11:53.880135",
     "status": "completed"
    },
    "tags": []
   },
   "source": [
    "##### Max number of bids in an auction"
   ]
  },
  {
   "attachments": {},
   "cell_type": "markdown",
   "id": "4a5faad6",
   "metadata": {
    "papermill": {
     "duration": 0.070044,
     "end_time": "2022-02-16T09:11:54.091891",
     "exception": false,
     "start_time": "2022-02-16T09:11:54.021847",
     "status": "completed"
    },
    "tags": []
   },
   "source": [
    "Since the bots' aim is to win the auction, by assuming that a bot will not give up an auction, the bot should realistically make more bids for any auction."
   ]
  },
  {
   "cell_type": "code",
   "execution_count": null,
   "id": "5b98c675",
   "metadata": {
    "execution": {
     "iopub.execute_input": "2022-02-16T09:11:55.110798Z",
     "iopub.status.busy": "2022-02-16T09:11:54.277623Z",
     "iopub.status.idle": "2022-02-16T09:12:01.715272Z",
     "shell.execute_reply": "2022-02-16T09:12:01.714552Z"
    },
    "papermill": {
     "duration": 7.554339,
     "end_time": "2022-02-16T09:12:01.715414",
     "exception": false,
     "start_time": "2022-02-16T09:11:54.161075",
     "status": "completed"
    },
    "tags": []
   },
   "outputs": [],
   "source": [
    "max_bids_in_auct = bids_df.groupby(['bidder_id', 'auction']).count().reset_index()[['bidder_id', 'auction', 'bid_id']].rename(columns = {'bid_id': 'max_bids_in_auct'})\n",
    "max_bids_in_auct = max_bids_in_auct[['bidder_id', 'max_bids_in_auct']].groupby('bidder_id').max().reset_index()\n",
    "max_bids_in_auct.head()"
   ]
  },
  {
   "cell_type": "code",
   "execution_count": null,
   "id": "362bd7b6",
   "metadata": {
    "execution": {
     "iopub.execute_input": "2022-02-16T09:12:01.862694Z",
     "iopub.status.busy": "2022-02-16T09:12:01.861993Z",
     "iopub.status.idle": "2022-02-16T09:12:01.880010Z",
     "shell.execute_reply": "2022-02-16T09:12:01.880485Z"
    },
    "papermill": {
     "duration": 0.093666,
     "end_time": "2022-02-16T09:12:01.880682",
     "exception": false,
     "start_time": "2022-02-16T09:12:01.787016",
     "status": "completed"
    },
    "tags": []
   },
   "outputs": [],
   "source": [
    "train_set = train_set.merge(max_bids_in_auct, on='bidder_id', how='left').fillna(0)\n",
    "\n",
    "test_set = test_set.merge(max_bids_in_auct, on='bidder_id', how='left').fillna(0)"
   ]
  },
  {
   "attachments": {},
   "cell_type": "markdown",
   "id": "89b17bd0",
   "metadata": {
    "papermill": {
     "duration": 0.069498,
     "end_time": "2022-02-16T09:12:02.019790",
     "exception": false,
     "start_time": "2022-02-16T09:12:01.950292",
     "status": "completed"
    },
    "tags": []
   },
   "source": [
    "##### Max number of bids in across devices"
   ]
  },
  {
   "attachments": {},
   "cell_type": "markdown",
   "id": "d92cef1c",
   "metadata": {
    "papermill": {
     "duration": 0.069327,
     "end_time": "2022-02-16T09:12:02.158889",
     "exception": false,
     "start_time": "2022-02-16T09:12:02.089562",
     "status": "completed"
    },
    "tags": []
   },
   "source": [
    "We find out the maximum number of bids made using the same device by a bidder and find out whether humans and bots have different behavior when it comes to switching devices."
   ]
  },
  {
   "cell_type": "code",
   "execution_count": null,
   "id": "be9dc185",
   "metadata": {
    "execution": {
     "iopub.execute_input": "2022-02-16T09:12:02.949451Z",
     "iopub.status.busy": "2022-02-16T09:12:02.348307Z",
     "iopub.status.idle": "2022-02-16T09:12:32.703999Z",
     "shell.execute_reply": "2022-02-16T09:12:32.704839Z"
    },
    "papermill": {
     "duration": 30.47663,
     "end_time": "2022-02-16T09:12:32.705064",
     "exception": false,
     "start_time": "2022-02-16T09:12:02.228434",
     "status": "completed"
    },
    "tags": []
   },
   "outputs": [],
   "source": [
    "device = bids_df.groupby(['bidder_id', 'device']).nunique()[['bid_id', 'auction']].reset_index().rename(columns = {'bid_id': 'max_bids_per_device', 'auction': 'num_auct_per_device'})\n",
    "device = device.groupby('bidder_id').max().reset_index()\n",
    "device['max_bids_per_device_per_auct'] = device['max_bids_per_device'] / device['num_auct_per_device']\n",
    "device = device[['bidder_id', 'max_bids_per_device', 'max_bids_per_device_per_auct']]\n",
    "device.head()"
   ]
  },
  {
   "cell_type": "code",
   "execution_count": null,
   "id": "5c92cfdc",
   "metadata": {
    "execution": {
     "iopub.execute_input": "2022-02-16T09:12:32.867472Z",
     "iopub.status.busy": "2022-02-16T09:12:32.852886Z",
     "iopub.status.idle": "2022-02-16T09:12:32.873198Z",
     "shell.execute_reply": "2022-02-16T09:12:32.872575Z"
    },
    "papermill": {
     "duration": 0.097201,
     "end_time": "2022-02-16T09:12:32.873356",
     "exception": false,
     "start_time": "2022-02-16T09:12:32.776155",
     "status": "completed"
    },
    "tags": []
   },
   "outputs": [],
   "source": [
    "train_set = train_set.merge(device, on='bidder_id', how='left').fillna(0)\n",
    "\n",
    "test_set = test_set.merge(device, on='bidder_id', how='left').fillna(0)"
   ]
  },
  {
   "attachments": {},
   "cell_type": "markdown",
   "id": "98436059",
   "metadata": {
    "papermill": {
     "duration": 0.07036,
     "end_time": "2022-02-16T09:12:33.018434",
     "exception": false,
     "start_time": "2022-02-16T09:12:32.948074",
     "status": "completed"
    },
    "tags": []
   },
   "source": [
    "### Feature transformations"
   ]
  },
  {
   "attachments": {},
   "cell_type": "markdown",
   "id": "1308c6f9",
   "metadata": {
    "papermill": {
     "duration": 0.069976,
     "end_time": "2022-02-16T09:12:33.161178",
     "exception": false,
     "start_time": "2022-02-16T09:12:33.091202",
     "status": "completed"
    },
    "tags": []
   },
   "source": [
    "We attempt to create some features that makes sense by intuition. For example, bids_per_auct may be a better feature than just num_bids and num_auct separately because we standardize the number of bids made by a bidder with respect to the total number of auctions they participated. The same can be said for the other features.\n",
    "    \n",
    "Again, we fill missing values with 0 because they indicate those bidders with no bid information."
   ]
  },
  {
   "cell_type": "code",
   "execution_count": null,
   "id": "486ccf3f",
   "metadata": {
    "execution": {
     "iopub.execute_input": "2022-02-16T09:12:33.316705Z",
     "iopub.status.busy": "2022-02-16T09:12:33.310923Z",
     "iopub.status.idle": "2022-02-16T09:12:33.328840Z",
     "shell.execute_reply": "2022-02-16T09:12:33.328223Z"
    },
    "papermill": {
     "duration": 0.097869,
     "end_time": "2022-02-16T09:12:33.328983",
     "exception": false,
     "start_time": "2022-02-16T09:12:33.231114",
     "status": "completed"
    },
    "tags": []
   },
   "outputs": [],
   "source": [
    "train_set['percent_concurrent_bids'] = train_set['num_concurrent_bids'] / train_set['num_bids']\n",
    "train_set['bids_per_auct'] = train_set['num_bids'] / train_set['num_auct']\n",
    "train_set['bids_per_device'] = train_set['num_bids'] / train_set['num_device_type']\n",
    "train_set['bids_per_url'] = train_set['num_bids'] / train_set['num_url']\n",
    "train_set['device_per_auct'] = train_set['num_device_type'] / train_set['num_auct']\n",
    "train_set['ip_per_ctry'] = train_set['num_ip'] / train_set['num_ctry']\n",
    "train_set['percent_max_bids'] = train_set['max_bids_per_device'] / train_set['num_bids']\n",
    "\n",
    "train_set = train_set.fillna(0)\n",
    "\n",
    "test_set['percent_concurrent_bids'] = test_set['num_concurrent_bids'] / test_set['num_bids']\n",
    "test_set['bids_per_auct'] = test_set['num_bids'] / test_set['num_auct']\n",
    "test_set['bids_per_device'] = test_set['num_bids'] / test_set['num_device_type']\n",
    "test_set['bids_per_url'] = test_set['num_bids'] / test_set['num_url']\n",
    "test_set['device_per_auct'] = test_set['num_device_type'] / test_set['num_auct']\n",
    "test_set['ip_per_ctry'] = test_set['num_ip'] / test_set['num_ctry']\n",
    "test_set['percent_max_bids'] = test_set['max_bids_per_device'] / test_set['num_bids']\n",
    "\n",
    "test_set = test_set.fillna(0)"
   ]
  },
  {
   "attachments": {},
   "cell_type": "markdown",
   "id": "0b0a5f51",
   "metadata": {
    "papermill": {
     "duration": 0.071161,
     "end_time": "2022-02-16T09:12:33.472908",
     "exception": false,
     "start_time": "2022-02-16T09:12:33.401747",
     "status": "completed"
    },
    "tags": []
   },
   "source": [
    "### Outliers"
   ]
  },
  {
   "attachments": {},
   "cell_type": "markdown",
   "id": "fe782829",
   "metadata": {
    "papermill": {
     "duration": 0.071157,
     "end_time": "2022-02-16T09:12:33.615614",
     "exception": false,
     "start_time": "2022-02-16T09:12:33.544457",
     "status": "completed"
    },
    "tags": []
   },
   "source": [
    "There are outliers, with 5 bots having only a single bid. We remove them as they may affect model performance badly."
   ]
  },
  {
   "cell_type": "code",
   "execution_count": null,
   "id": "08a129c8",
   "metadata": {
    "execution": {
     "iopub.execute_input": "2022-02-16T09:12:33.784221Z",
     "iopub.status.busy": "2022-02-16T09:12:33.779903Z",
     "iopub.status.idle": "2022-02-16T09:12:34.088352Z",
     "shell.execute_reply": "2022-02-16T09:12:34.087807Z"
    },
    "papermill": {
     "duration": 0.401666,
     "end_time": "2022-02-16T09:12:34.088510",
     "exception": false,
     "start_time": "2022-02-16T09:12:33.686844",
     "status": "completed"
    },
    "tags": []
   },
   "outputs": [],
   "source": [
    "fig, ax = plt.subplots()\n",
    "num_bids_per_bot = sns.barplot(data = train_set[train_set['outcome'] == 1].sort_values('num_bids').head(10),\n",
    "                               x = 'bidder_id',\n",
    "                               y = 'num_bids',\n",
    "                               ax = ax\n",
    "                              )\n",
    "ax.bar_label(ax.containers[0])\n",
    "plt.xticks(rotation = 90)\n",
    "\n",
    "plt.show()"
   ]
  },
  {
   "cell_type": "code",
   "execution_count": null,
   "id": "4d2f55a6",
   "metadata": {
    "execution": {
     "iopub.execute_input": "2022-02-16T09:12:34.257209Z",
     "iopub.status.busy": "2022-02-16T09:12:34.251757Z",
     "iopub.status.idle": "2022-02-16T09:12:34.276796Z",
     "shell.execute_reply": "2022-02-16T09:12:34.276143Z"
    },
    "papermill": {
     "duration": 0.111815,
     "end_time": "2022-02-16T09:12:34.276936",
     "exception": false,
     "start_time": "2022-02-16T09:12:34.165121",
     "status": "completed"
    },
    "tags": []
   },
   "outputs": [],
   "source": [
    "train_set[train_set['outcome'] == 1].sort_values('num_bids').head(6)"
   ]
  },
  {
   "cell_type": "code",
   "execution_count": null,
   "id": "8c1367a6",
   "metadata": {
    "execution": {
     "iopub.execute_input": "2022-02-16T09:12:34.431028Z",
     "iopub.status.busy": "2022-02-16T09:12:34.430354Z",
     "iopub.status.idle": "2022-02-16T09:12:34.433671Z",
     "shell.execute_reply": "2022-02-16T09:12:34.433108Z"
    },
    "papermill": {
     "duration": 0.083655,
     "end_time": "2022-02-16T09:12:34.433850",
     "exception": false,
     "start_time": "2022-02-16T09:12:34.350195",
     "status": "completed"
    },
    "tags": []
   },
   "outputs": [],
   "source": [
    "train_set = train_set.drop([615, 775, 392, 1669, 1102], axis = 0)"
   ]
  },
  {
   "attachments": {},
   "cell_type": "markdown",
   "id": "dac28c7a",
   "metadata": {
    "papermill": {
     "duration": 0.073851,
     "end_time": "2022-02-16T09:12:34.581705",
     "exception": false,
     "start_time": "2022-02-16T09:12:34.507854",
     "status": "completed"
    },
    "tags": []
   },
   "source": [
    "### Checking the significance of features"
   ]
  },
  {
   "attachments": {},
   "cell_type": "markdown",
   "id": "64d1a4eb",
   "metadata": {
    "papermill": {
     "duration": 0.076639,
     "end_time": "2022-02-16T09:12:34.731983",
     "exception": false,
     "start_time": "2022-02-16T09:12:34.655344",
     "status": "completed"
    },
    "tags": []
   },
   "source": [
    "We compute the mean of each feature for a human and a bot. One interesting observation is that both humans and bots only bidded for one type of merchandise. The value for humans is skewed due to humans with no bid data.\n",
    "\n",
    "We can investigate the feature, merchandise, further to see if encoding can be performed."
   ]
  },
  {
   "cell_type": "code",
   "execution_count": null,
   "id": "28e1b394",
   "metadata": {
    "execution": {
     "iopub.execute_input": "2022-02-16T09:12:34.894088Z",
     "iopub.status.busy": "2022-02-16T09:12:34.891106Z",
     "iopub.status.idle": "2022-02-16T09:12:34.907542Z",
     "shell.execute_reply": "2022-02-16T09:12:34.908113Z"
    },
    "papermill": {
     "duration": 0.09839,
     "end_time": "2022-02-16T09:12:34.908289",
     "exception": false,
     "start_time": "2022-02-16T09:12:34.809899",
     "status": "completed"
    },
    "tags": []
   },
   "outputs": [],
   "source": [
    "train_set.groupby('outcome').mean().T"
   ]
  },
  {
   "attachments": {},
   "cell_type": "markdown",
   "id": "36b5a969",
   "metadata": {
    "papermill": {
     "duration": 0.076378,
     "end_time": "2022-02-16T09:12:35.061404",
     "exception": false,
     "start_time": "2022-02-16T09:12:34.985026",
     "status": "completed"
    },
    "tags": []
   },
   "source": [
    "The top 3 merchandises bidded by both humans and robots are the same, namely sporting goods, mobile and jewelry. Some merchandise like home goods and autoparts are not bidded by robots. However, they make up a small proportion of the human bids. We choose not to include categorical variables in our model."
   ]
  },
  {
   "cell_type": "code",
   "execution_count": null,
   "id": "a47c0ae7",
   "metadata": {
    "execution": {
     "iopub.execute_input": "2022-02-16T09:12:36.049972Z",
     "iopub.status.busy": "2022-02-16T09:12:36.049228Z",
     "iopub.status.idle": "2022-02-16T09:12:52.809083Z",
     "shell.execute_reply": "2022-02-16T09:12:52.809588Z"
    },
    "papermill": {
     "duration": 17.672644,
     "end_time": "2022-02-16T09:12:52.809794",
     "exception": false,
     "start_time": "2022-02-16T09:12:35.137150",
     "status": "completed"
    },
    "tags": []
   },
   "outputs": [],
   "source": [
    "temp_df = bids_df.merge(train_df, on = 'bidder_id', how = 'left').dropna()\n",
    "temp_df.groupby(['outcome', 'merchandise']).count()[['bid_id']].sort_values(['outcome', 'bid_id'], ascending = False)"
   ]
  },
  {
   "cell_type": "code",
   "execution_count": null,
   "id": "c7c7a0ef",
   "metadata": {
    "execution": {
     "iopub.execute_input": "2022-02-16T09:12:52.967674Z",
     "iopub.status.busy": "2022-02-16T09:12:52.966972Z",
     "iopub.status.idle": "2022-02-16T09:12:52.973540Z",
     "shell.execute_reply": "2022-02-16T09:12:52.974199Z"
    },
    "papermill": {
     "duration": 0.086989,
     "end_time": "2022-02-16T09:12:52.974396",
     "exception": false,
     "start_time": "2022-02-16T09:12:52.887407",
     "status": "completed"
    },
    "tags": []
   },
   "outputs": [],
   "source": [
    "train_set = train_set.drop('num_merch_type', axis = 1)\n",
    "\n",
    "test_set = test_set.drop('num_merch_type', axis = 1)"
   ]
  },
  {
   "cell_type": "code",
   "execution_count": null,
   "id": "8bb08965",
   "metadata": {
    "execution": {
     "iopub.execute_input": "2022-02-16T09:12:53.131388Z",
     "iopub.status.busy": "2022-02-16T09:12:53.130757Z",
     "iopub.status.idle": "2022-02-16T09:12:53.138215Z",
     "shell.execute_reply": "2022-02-16T09:12:53.137715Z"
    },
    "papermill": {
     "duration": 0.088511,
     "end_time": "2022-02-16T09:12:53.138352",
     "exception": false,
     "start_time": "2022-02-16T09:12:53.049841",
     "status": "completed"
    },
    "tags": []
   },
   "outputs": [],
   "source": [
    "all_features = train_set.columns.drop(['bidder_id', 'outcome'])\n",
    "all_features"
   ]
  },
  {
   "attachments": {},
   "cell_type": "markdown",
   "id": "c5bea4a9",
   "metadata": {
    "papermill": {
     "duration": 0.076231,
     "end_time": "2022-02-16T09:12:53.290835",
     "exception": false,
     "start_time": "2022-02-16T09:12:53.214604",
     "status": "completed"
    },
    "tags": []
   },
   "source": [
    "Another way to check the significance of the features is to use a density plot. From the plots below, the features num_url, num_concurrent_bids, num_firsthalf_bids, max_bids_per_device have similar distributions for both human and bot. Hence, we choose to exclude them from our model as they may not help to differentiate between a human and a bot well."
   ]
  },
  {
   "cell_type": "code",
   "execution_count": null,
   "id": "53ebd9a3",
   "metadata": {
    "execution": {
     "iopub.execute_input": "2022-02-16T09:12:53.467540Z",
     "iopub.status.busy": "2022-02-16T09:12:53.466780Z",
     "iopub.status.idle": "2022-02-16T09:12:59.906835Z",
     "shell.execute_reply": "2022-02-16T09:12:59.907383Z"
    },
    "papermill": {
     "duration": 6.540244,
     "end_time": "2022-02-16T09:12:59.907569",
     "exception": false,
     "start_time": "2022-02-16T09:12:53.367325",
     "status": "completed"
    },
    "tags": []
   },
   "outputs": [],
   "source": [
    "nrows = 15\n",
    "ncols = 2\n",
    "fig, axes = plt.subplots(nrows = nrows, ncols = ncols, figsize = (18, 60))\n",
    "for i, column in enumerate(all_features):\n",
    "    humans = sns.kdeplot(data = train_set[train_set['outcome'] == 0],\n",
    "                x = column,\n",
    "                ax = axes[i // ncols, i % ncols],\n",
    "                color = 'blue',\n",
    "                fill = True,\n",
    "                alpha = 0.1,\n",
    "                linewidth = 2,\n",
    "                label = 'Human').set_xlim(left = 0)\n",
    "    bots = sns.kdeplot(data = train_set[train_set['outcome'] == 1],\n",
    "                x = column,\n",
    "                ax = axes[i // ncols, i % ncols],\n",
    "                color = 'red',\n",
    "                fill = True,\n",
    "                alpha = 0.1,\n",
    "                linewidth = 2,\n",
    "                label = 'Bot').set_xlim(left = 0)\n",
    "    axes[i // ncols,i % ncols].legend()\n",
    "    \n",
    "plt.show()"
   ]
  },
  {
   "attachments": {},
   "cell_type": "markdown",
   "id": "11da1c33",
   "metadata": {
    "papermill": {
     "duration": 0.085141,
     "end_time": "2022-02-16T09:13:00.079385",
     "exception": false,
     "start_time": "2022-02-16T09:12:59.994244",
     "status": "completed"
    },
    "tags": []
   },
   "source": [
    "# Model Validation"
   ]
  },
  {
   "cell_type": "code",
   "execution_count": null,
   "id": "586c4e2a",
   "metadata": {
    "execution": {
     "iopub.execute_input": "2022-02-16T09:13:00.258994Z",
     "iopub.status.busy": "2022-02-16T09:13:00.258318Z",
     "iopub.status.idle": "2022-02-16T09:13:00.765455Z",
     "shell.execute_reply": "2022-02-16T09:13:00.764879Z"
    },
    "papermill": {
     "duration": 0.5994,
     "end_time": "2022-02-16T09:13:00.765597",
     "exception": false,
     "start_time": "2022-02-16T09:13:00.166197",
     "status": "completed"
    },
    "tags": []
   },
   "outputs": [],
   "source": [
    "import numpy as np\n",
    "from sklearn.metrics import roc_auc_score\n",
    "from sklearn.ensemble import RandomForestClassifier\n",
    "from sklearn.model_selection import GridSearchCV, RepeatedStratifiedKFold\n",
    "from time import time\n",
    "from imblearn.over_sampling import RandomOverSampler\n",
    "from imblearn.pipeline import make_pipeline"
   ]
  },
  {
   "attachments": {},
   "cell_type": "markdown",
   "id": "cb27bbaa",
   "metadata": {
    "papermill": {
     "duration": 0.086835,
     "end_time": "2022-02-16T09:13:00.938569",
     "exception": false,
     "start_time": "2022-02-16T09:13:00.851734",
     "status": "completed"
    },
    "tags": []
   },
   "source": [
    "### Imbalanced data"
   ]
  },
  {
   "cell_type": "code",
   "execution_count": null,
   "id": "f79f245c",
   "metadata": {
    "execution": {
     "iopub.execute_input": "2022-02-16T09:13:01.123098Z",
     "iopub.status.busy": "2022-02-16T09:13:01.122203Z",
     "iopub.status.idle": "2022-02-16T09:13:01.125592Z",
     "shell.execute_reply": "2022-02-16T09:13:01.126098Z"
    },
    "papermill": {
     "duration": 0.10233,
     "end_time": "2022-02-16T09:13:01.126281",
     "exception": false,
     "start_time": "2022-02-16T09:13:01.023951",
     "status": "completed"
    },
    "tags": []
   },
   "outputs": [],
   "source": [
    "train_set['outcome'].value_counts()"
   ]
  },
  {
   "attachments": {},
   "cell_type": "markdown",
   "id": "84cc8554",
   "metadata": {
    "papermill": {
     "duration": 0.085597,
     "end_time": "2022-02-16T09:13:01.298646",
     "exception": false,
     "start_time": "2022-02-16T09:13:01.213049",
     "status": "completed"
    },
    "tags": []
   },
   "source": [
    "Due to imbalanced data, we perform over-sampling using RandomOverSampler.\n",
    "\n",
    "Afterwards, we choose to do ensemble averaging of multiple Random Forest models to reduce the variance of our predictions. We do that by setting different random_state for each model. We then perform hyperparameter tuning for each model separately using GridSearchCV."
   ]
  },
  {
   "attachments": {},
   "cell_type": "markdown",
   "id": "5ace61ed",
   "metadata": {
    "papermill": {
     "duration": 0.085941,
     "end_time": "2022-02-16T09:13:01.471015",
     "exception": false,
     "start_time": "2022-02-16T09:13:01.385074",
     "status": "completed"
    },
    "tags": []
   },
   "source": [
    "### Initialize training/test data and models"
   ]
  },
  {
   "cell_type": "code",
   "execution_count": null,
   "id": "f9636f49",
   "metadata": {
    "execution": {
     "iopub.execute_input": "2022-02-16T09:13:01.647454Z",
     "iopub.status.busy": "2022-02-16T09:13:01.646367Z",
     "iopub.status.idle": "2022-02-16T09:13:01.655564Z",
     "shell.execute_reply": "2022-02-16T09:13:01.656161Z"
    },
    "papermill": {
     "duration": 0.098709,
     "end_time": "2022-02-16T09:13:01.656342",
     "exception": false,
     "start_time": "2022-02-16T09:13:01.557633",
     "status": "completed"
    },
    "tags": []
   },
   "outputs": [],
   "source": [
    "feature_col = train_set.columns.drop(['bidder_id', 'outcome',\n",
    "                                     'num_url',  'num_concurrent_bids',  'num_firsthalf_bids', 'max_bids_per_device'\n",
    "                                     ])\n",
    "print(feature_col)\n",
    "\n",
    "X = train_set[feature_col]\n",
    "y = train_set['outcome']\n",
    "\n",
    "X_kaggle = test_set[feature_col]"
   ]
  },
  {
   "attachments": {},
   "cell_type": "markdown",
   "id": "68675d3f",
   "metadata": {
    "papermill": {
     "duration": 0.08673,
     "end_time": "2022-02-16T09:13:01.828632",
     "exception": false,
     "start_time": "2022-02-16T09:13:01.741902",
     "status": "completed"
    },
    "tags": []
   },
   "source": [
    "We first initialize the base models and find out the AUC as reference."
   ]
  },
  {
   "cell_type": "code",
   "execution_count": null,
   "id": "8ea565cb",
   "metadata": {
    "execution": {
     "iopub.execute_input": "2022-02-16T09:13:02.005956Z",
     "iopub.status.busy": "2022-02-16T09:13:02.004910Z",
     "iopub.status.idle": "2022-02-16T09:13:02.012815Z",
     "shell.execute_reply": "2022-02-16T09:13:02.013335Z"
    },
    "papermill": {
     "duration": 0.097766,
     "end_time": "2022-02-16T09:13:02.013509",
     "exception": false,
     "start_time": "2022-02-16T09:13:01.915743",
     "status": "completed"
    },
    "tags": []
   },
   "outputs": [],
   "source": [
    "rf1 = RandomForestClassifier(random_state = 0)\n",
    "rf2 = RandomForestClassifier(random_state = 123)\n",
    "rf3 = RandomForestClassifier(random_state = 456)\n",
    "rf4 = RandomForestClassifier(random_state = 789)\n",
    "rf5 = RandomForestClassifier(random_state = 999)\n",
    "\n",
    "ros = RandomOverSampler(sampling_strategy = 0.1, random_state = 456)\n",
    "\n",
    "pp1 = make_pipeline(ros, rf1)\n",
    "pp2 = make_pipeline(ros, rf2)\n",
    "pp3 = make_pipeline(ros, rf3)\n",
    "pp4 = make_pipeline(ros, rf4)\n",
    "pp5 = make_pipeline(ros, rf5)\n",
    "\n",
    "base_models = [pp1, pp2, pp3, pp4, pp5]"
   ]
  },
  {
   "cell_type": "code",
   "execution_count": null,
   "id": "a4483e82",
   "metadata": {
    "execution": {
     "iopub.execute_input": "2022-02-16T09:13:02.195584Z",
     "iopub.status.busy": "2022-02-16T09:13:02.194820Z",
     "iopub.status.idle": "2022-02-16T09:13:02.197423Z",
     "shell.execute_reply": "2022-02-16T09:13:02.197972Z"
    },
    "papermill": {
     "duration": 0.098398,
     "end_time": "2022-02-16T09:13:02.198143",
     "exception": false,
     "start_time": "2022-02-16T09:13:02.099745",
     "status": "completed"
    },
    "tags": []
   },
   "outputs": [],
   "source": [
    "def cv(models, X, y):\n",
    "    start = time()\n",
    "\n",
    "    rskfold = RepeatedStratifiedKFold(n_splits = 10, n_repeats = 3, random_state = 456) \n",
    "    k_fold_AUC = []\n",
    "\n",
    "    for train_index, test_index in rskfold.split(X, y):\n",
    "        X_train, X_test = X.iloc[train_index], X.iloc[test_index]\n",
    "        y_train, y_test = y.iloc[train_index], y.iloc[test_index]\n",
    "\n",
    "        y_proba = []\n",
    "        for model in models:\n",
    "            model.fit(X_train, y_train)\n",
    "            sub_y_proba = model.predict_proba(X_test)[:, 1]\n",
    "            y_proba.append(sub_y_proba)\n",
    "        y_proba = np.mean(y_proba, axis = 0)\n",
    "\n",
    "        AUC = roc_auc_score(y_test, y_proba)\n",
    "        k_fold_AUC.append(AUC)\n",
    "    \n",
    "    mean_AUC = np.mean(k_fold_AUC)\n",
    "    \n",
    "    end = time()\n",
    "\n",
    "    print(f\"Time elapsed: {(end - start):.4f} seconds\")\n",
    "    print(f\"AUC:{mean_AUC:.4f}\")\n",
    "    \n",
    "    return k_fold_AUC"
   ]
  },
  {
   "attachments": {},
   "cell_type": "markdown",
   "id": "9cf836fa",
   "metadata": {
    "papermill": {
     "duration": 0.087947,
     "end_time": "2022-02-16T09:13:02.373971",
     "exception": false,
     "start_time": "2022-02-16T09:13:02.286024",
     "status": "completed"
    },
    "tags": []
   },
   "source": [
    "### One individual model before hyperparameter tuning"
   ]
  },
  {
   "cell_type": "code",
   "execution_count": null,
   "id": "23bce45d",
   "metadata": {
    "execution": {
     "iopub.execute_input": "2022-02-16T09:13:02.552817Z",
     "iopub.status.busy": "2022-02-16T09:13:02.552129Z",
     "iopub.status.idle": "2022-02-16T09:13:15.990453Z",
     "shell.execute_reply": "2022-02-16T09:13:15.991086Z"
    },
    "papermill": {
     "duration": 13.530414,
     "end_time": "2022-02-16T09:13:15.991288",
     "exception": false,
     "start_time": "2022-02-16T09:13:02.460874",
     "status": "completed"
    },
    "tags": []
   },
   "outputs": [],
   "source": [
    "base_individual_AUCs = cv([base_models[2]], X, y) # model with random_state = 456 used as reference"
   ]
  },
  {
   "attachments": {},
   "cell_type": "markdown",
   "id": "f847f23b",
   "metadata": {
    "papermill": {
     "duration": 0.089244,
     "end_time": "2022-02-16T09:13:16.168573",
     "exception": false,
     "start_time": "2022-02-16T09:13:16.079329",
     "status": "completed"
    },
    "tags": []
   },
   "source": [
    "### Ensemble averaging before hyperparameter tuning"
   ]
  },
  {
   "cell_type": "code",
   "execution_count": null,
   "id": "5bb90308",
   "metadata": {
    "execution": {
     "iopub.execute_input": "2022-02-16T09:13:16.348303Z",
     "iopub.status.busy": "2022-02-16T09:13:16.347522Z",
     "iopub.status.idle": "2022-02-16T09:14:23.269745Z",
     "shell.execute_reply": "2022-02-16T09:14:23.270311Z"
    },
    "papermill": {
     "duration": 67.013119,
     "end_time": "2022-02-16T09:14:23.270493",
     "exception": false,
     "start_time": "2022-02-16T09:13:16.257374",
     "status": "completed"
    },
    "tags": []
   },
   "outputs": [],
   "source": [
    "base_average_AUCs = cv(base_models, X, y)"
   ]
  },
  {
   "attachments": {},
   "cell_type": "markdown",
   "id": "18f4ab73",
   "metadata": {
    "papermill": {
     "duration": 0.094777,
     "end_time": "2022-02-16T09:14:23.457857",
     "exception": false,
     "start_time": "2022-02-16T09:14:23.363080",
     "status": "completed"
    },
    "tags": []
   },
   "source": [
    "### Hyperparameter tuning with GridSearchCV"
   ]
  },
  {
   "cell_type": "code",
   "execution_count": null,
   "id": "ab3fc3c3",
   "metadata": {
    "execution": {
     "iopub.execute_input": "2022-02-16T09:14:23.649921Z",
     "iopub.status.busy": "2022-02-16T09:14:23.649063Z",
     "iopub.status.idle": "2022-02-16T09:14:23.650576Z",
     "shell.execute_reply": "2022-02-16T09:14:23.651145Z"
    },
    "papermill": {
     "duration": 0.101352,
     "end_time": "2022-02-16T09:14:23.651347",
     "exception": false,
     "start_time": "2022-02-16T09:14:23.549995",
     "status": "completed"
    },
    "tags": []
   },
   "outputs": [],
   "source": [
    "grid = {'randomforestclassifier__n_estimators': [100, 200, 300],\n",
    "        'randomforestclassifier__max_depth': [None, 5, 8, 10],\n",
    "        'randomforestclassifier__min_samples_split': [2, 5, 10],\n",
    "        'randomforestclassifier__min_samples_leaf': [1, 2, 4],\n",
    "       }"
   ]
  },
  {
   "cell_type": "code",
   "execution_count": null,
   "id": "49977590",
   "metadata": {
    "execution": {
     "iopub.execute_input": "2022-02-16T09:14:23.836096Z",
     "iopub.status.busy": "2022-02-16T09:14:23.835401Z",
     "iopub.status.idle": "2022-02-16T09:21:50.663598Z",
     "shell.execute_reply": "2022-02-16T09:21:50.663052Z"
    },
    "papermill": {
     "duration": 446.919802,
     "end_time": "2022-02-16T09:21:50.663776",
     "exception": false,
     "start_time": "2022-02-16T09:14:23.743974",
     "status": "completed"
    },
    "tags": []
   },
   "outputs": [],
   "source": [
    "start = time()\n",
    "\n",
    "best_models = []\n",
    "\n",
    "for model in base_models:\n",
    "\n",
    "    search = GridSearchCV(estimator = model,\n",
    "                          param_grid = grid,\n",
    "                          scoring = 'roc_auc', \n",
    "                          cv = 3, # default is StratifiedKFold as estimator is classifier\n",
    "                          verbose = 2,\n",
    "                          n_jobs = -1)\n",
    "    search.fit(X,y)\n",
    "    best_models.append(search.best_estimator_)\n",
    "\n",
    "end = time()\n",
    "\n",
    "print(f\"Time Elapsed: {(end - start):.4f} seconds\")"
   ]
  },
  {
   "cell_type": "code",
   "execution_count": null,
   "id": "cc141801",
   "metadata": {
    "execution": {
     "iopub.execute_input": "2022-02-16T09:21:50.927112Z",
     "iopub.status.busy": "2022-02-16T09:21:50.926011Z",
     "iopub.status.idle": "2022-02-16T09:21:50.952796Z",
     "shell.execute_reply": "2022-02-16T09:21:50.952135Z"
    },
    "papermill": {
     "duration": 0.162195,
     "end_time": "2022-02-16T09:21:50.952938",
     "exception": false,
     "start_time": "2022-02-16T09:21:50.790743",
     "status": "completed"
    },
    "tags": []
   },
   "outputs": [],
   "source": [
    "print(best_models)"
   ]
  },
  {
   "attachments": {},
   "cell_type": "markdown",
   "id": "ae218f37",
   "metadata": {
    "papermill": {
     "duration": 0.129559,
     "end_time": "2022-02-16T09:21:51.211701",
     "exception": false,
     "start_time": "2022-02-16T09:21:51.082142",
     "status": "completed"
    },
    "tags": []
   },
   "source": [
    "### One individual model after hyperparameter tuning"
   ]
  },
  {
   "cell_type": "code",
   "execution_count": null,
   "id": "527a6497",
   "metadata": {
    "execution": {
     "iopub.execute_input": "2022-02-16T09:21:51.478704Z",
     "iopub.status.busy": "2022-02-16T09:21:51.478005Z",
     "iopub.status.idle": "2022-02-16T09:22:16.605487Z",
     "shell.execute_reply": "2022-02-16T09:22:16.606002Z"
    },
    "papermill": {
     "duration": 25.26611,
     "end_time": "2022-02-16T09:22:16.606171",
     "exception": false,
     "start_time": "2022-02-16T09:21:51.340061",
     "status": "completed"
    },
    "tags": []
   },
   "outputs": [],
   "source": [
    "individual_AUCs = cv([best_models[2]], X, y) # again, model with random_state = 456 used as reference"
   ]
  },
  {
   "attachments": {},
   "cell_type": "markdown",
   "id": "3597c86d",
   "metadata": {
    "papermill": {
     "duration": 0.127418,
     "end_time": "2022-02-16T09:22:16.862192",
     "exception": false,
     "start_time": "2022-02-16T09:22:16.734774",
     "status": "completed"
    },
    "tags": []
   },
   "source": [
    "### Ensemble averaging after hyperparameter tuning"
   ]
  },
  {
   "cell_type": "code",
   "execution_count": null,
   "id": "396cafef",
   "metadata": {
    "execution": {
     "iopub.execute_input": "2022-02-16T09:22:17.125263Z",
     "iopub.status.busy": "2022-02-16T09:22:17.122574Z",
     "iopub.status.idle": "2022-02-16T09:24:10.770511Z",
     "shell.execute_reply": "2022-02-16T09:24:10.771103Z"
    },
    "papermill": {
     "duration": 113.779888,
     "end_time": "2022-02-16T09:24:10.771293",
     "exception": false,
     "start_time": "2022-02-16T09:22:16.991405",
     "status": "completed"
    },
    "scrolled": true,
    "tags": []
   },
   "outputs": [],
   "source": [
    "average_AUCs =cv(best_models, X, y)"
   ]
  },
  {
   "attachments": {},
   "cell_type": "markdown",
   "id": "89de269a",
   "metadata": {
    "papermill": {
     "duration": 0.130014,
     "end_time": "2022-02-16T09:24:11.031715",
     "exception": false,
     "start_time": "2022-02-16T09:24:10.901701",
     "status": "completed"
    },
    "tags": []
   },
   "source": [
    "### Summary"
   ]
  },
  {
   "attachments": {},
   "cell_type": "markdown",
   "id": "3b5339ea",
   "metadata": {
    "papermill": {
     "duration": 0.128933,
     "end_time": "2022-02-16T09:24:11.289091",
     "exception": false,
     "start_time": "2022-02-16T09:24:11.160158",
     "status": "completed"
    },
    "tags": []
   },
   "source": [
    "We plot the distribution of the ROC AUC scores to compare the differences from ensemble averaging and hyperparameter tuning."
   ]
  },
  {
   "cell_type": "code",
   "execution_count": null,
   "id": "e6325c61",
   "metadata": {
    "execution": {
     "iopub.execute_input": "2022-02-16T09:24:11.576324Z",
     "iopub.status.busy": "2022-02-16T09:24:11.558634Z",
     "iopub.status.idle": "2022-02-16T09:24:11.915709Z",
     "shell.execute_reply": "2022-02-16T09:24:11.916223Z"
    },
    "papermill": {
     "duration": 0.4962,
     "end_time": "2022-02-16T09:24:11.916393",
     "exception": false,
     "start_time": "2022-02-16T09:24:11.420193",
     "status": "completed"
    },
    "tags": []
   },
   "outputs": [],
   "source": [
    "model_AUCs_list = [('Base individual RF', base_individual_AUCs), ('Base average RFs', base_average_AUCs),\n",
    "                   ('Tuned individual RF', individual_AUCs), ('Tuned average RFs', average_AUCs)]\n",
    "\n",
    "fig, ax = plt.subplots(figsize = (18, 6))\n",
    "\n",
    "for i in range(len(model_AUCs_list)):\n",
    "    color = next(ax._get_lines.prop_cycler)['color']\n",
    "    \n",
    "    AUC_distribution = sns.kdeplot(x = model_AUCs_list[i][1],\n",
    "                                   ax = ax,\n",
    "                                   label = model_AUCs_list[i][0],\n",
    "                                   color = color\n",
    "                                  )\n",
    "    \n",
    "    x_coord = ax.lines[-1].get_xdata()\n",
    "    y_coord = ax.lines[-1].get_ydata()\n",
    "    index_of_max_y = np.argmax(y_coord)\n",
    "    ax.axvline(x_coord[index_of_max_y], linestyle = '--', linewidth = 1, color = color)\n",
    "\n",
    "ax.legend(loc = 'upper left', fontsize = 'x-large')\n",
    "plt.title('ROC AUC score distribution across 4 models', fontsize = 'xx-large')\n",
    "plt.xlabel('ROC AUC score', fontsize = 'x-large')\n",
    "plt.ylabel('Density', fontsize = 'x-large')\n",
    "plt.xlim(right = 1)\n",
    "\n",
    "plt.show()"
   ]
  },
  {
   "attachments": {},
   "cell_type": "markdown",
   "id": "701978ce",
   "metadata": {
    "papermill": {
     "duration": 0.132171,
     "end_time": "2022-02-16T09:24:12.182472",
     "exception": false,
     "start_time": "2022-02-16T09:24:12.050301",
     "status": "completed"
    },
    "tags": []
   },
   "source": [
    "It is evident that hyperparameter tuning reduced the variance of ROC AUC scores as indicated by the spread of the green and red curves.\n",
    "\n",
    "Also, the ROC AUC score for tuned ensemble average of random forests (red vertical line) is more likely to be higher compared to the 3 other models, as seen by the vertical line indicators of their respective peaks."
   ]
  },
  {
   "attachments": {},
   "cell_type": "markdown",
   "id": "a8e92c52",
   "metadata": {
    "papermill": {
     "duration": 0.134318,
     "end_time": "2022-02-16T09:24:12.447969",
     "exception": false,
     "start_time": "2022-02-16T09:24:12.313651",
     "status": "completed"
    },
    "tags": []
   },
   "source": [
    "# Final Model"
   ]
  },
  {
   "cell_type": "code",
   "execution_count": null,
   "id": "e99dc77c",
   "metadata": {
    "execution": {
     "iopub.execute_input": "2022-02-16T09:24:12.716643Z",
     "iopub.status.busy": "2022-02-16T09:24:12.715615Z",
     "iopub.status.idle": "2022-02-16T09:24:12.718524Z",
     "shell.execute_reply": "2022-02-16T09:24:12.717887Z"
    },
    "papermill": {
     "duration": 0.138422,
     "end_time": "2022-02-16T09:24:12.718695",
     "exception": false,
     "start_time": "2022-02-16T09:24:12.580273",
     "status": "completed"
    },
    "tags": []
   },
   "outputs": [],
   "source": [
    "final_models = best_models"
   ]
  },
  {
   "cell_type": "code",
   "execution_count": null,
   "id": "9444a47c",
   "metadata": {
    "execution": {
     "iopub.execute_input": "2022-02-16T09:24:12.992623Z",
     "iopub.status.busy": "2022-02-16T09:24:12.991486Z",
     "iopub.status.idle": "2022-02-16T09:24:17.357965Z",
     "shell.execute_reply": "2022-02-16T09:24:17.358562Z"
    },
    "papermill": {
     "duration": 4.508153,
     "end_time": "2022-02-16T09:24:17.358753",
     "exception": false,
     "start_time": "2022-02-16T09:24:12.850600",
     "status": "completed"
    },
    "tags": []
   },
   "outputs": [],
   "source": [
    "proba = []\n",
    "\n",
    "for model in final_models:\n",
    "    model.fit(X, y)\n",
    "\n",
    "    proba_rforest = model.predict_proba(X_kaggle)[:,1]\n",
    "    proba.append(proba_rforest)\n",
    "\n",
    "result = np.mean(proba, axis = 0)\n",
    "result"
   ]
  },
  {
   "cell_type": "code",
   "execution_count": null,
   "id": "bcf1994d",
   "metadata": {
    "execution": {
     "iopub.execute_input": "2022-02-16T09:24:17.634800Z",
     "iopub.status.busy": "2022-02-16T09:24:17.634076Z",
     "iopub.status.idle": "2022-02-16T09:24:17.665944Z",
     "shell.execute_reply": "2022-02-16T09:24:17.666464Z"
    },
    "papermill": {
     "duration": 0.174766,
     "end_time": "2022-02-16T09:24:17.666636",
     "exception": false,
     "start_time": "2022-02-16T09:24:17.491870",
     "status": "completed"
    },
    "tags": []
   },
   "outputs": [],
   "source": [
    "output_dataframe = pd.DataFrame({\n",
    "    'bidder_id': test_set['bidder_id'],\n",
    "    'prediction': result\n",
    "})\n",
    "output_dataframe.to_csv('my_predictions.csv', index=False) "
   ]
  },
  {
   "attachments": {},
   "cell_type": "markdown",
   "id": "e5b65114",
   "metadata": {
    "papermill": {
     "duration": 0.139363,
     "end_time": "2022-02-16T09:24:17.938610",
     "exception": false,
     "start_time": "2022-02-16T09:24:17.799247",
     "status": "completed"
    },
    "tags": []
   },
   "source": [
    "---"
   ]
  }
 ],
 "metadata": {
  "kernelspec": {
   "display_name": "Python 3",
   "language": "python",
   "name": "python3"
  },
  "language_info": {
   "codemirror_mode": {
    "name": "ipython",
    "version": 3
   },
   "file_extension": ".py",
   "mimetype": "text/x-python",
   "name": "python",
   "nbconvert_exporter": "python",
   "pygments_lexer": "ipython3",
   "version": "3.7.12"
  },
  "papermill": {
   "default_parameters": {},
   "duration": 937.405956,
   "end_time": "2022-02-16T09:24:20.496097",
   "environment_variables": {},
   "exception": null,
   "input_path": "__notebook__.ipynb",
   "output_path": "__notebook__.ipynb",
   "parameters": {},
   "start_time": "2022-02-16T09:08:43.090141",
   "version": "2.3.3"
  }
 },
 "nbformat": 4,
 "nbformat_minor": 5
}
