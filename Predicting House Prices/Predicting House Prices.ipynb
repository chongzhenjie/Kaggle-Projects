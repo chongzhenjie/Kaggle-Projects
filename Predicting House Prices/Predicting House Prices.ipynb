{
 "cells": [
  {
   "attachments": {},
   "cell_type": "markdown",
   "id": "b38f6527",
   "metadata": {
    "papermill": {
     "duration": 0.040959,
     "end_time": "2023-03-20T08:47:32.392125",
     "exception": false,
     "start_time": "2023-03-20T08:47:32.351166",
     "status": "completed"
    },
    "tags": []
   },
   "source": [
    "# House Prices — Kernel Methods & Tree Models"
   ]
  },
  {
   "attachments": {},
   "cell_type": "markdown",
   "id": "0a1e4646",
   "metadata": {
    "papermill": {
     "duration": 0.034761,
     "end_time": "2023-03-20T08:47:32.461943",
     "exception": false,
     "start_time": "2023-03-20T08:47:32.427182",
     "status": "completed"
    },
    "tags": []
   },
   "source": [
    "_Updates: Made some parts of the code neater._"
   ]
  },
  {
   "attachments": {},
   "cell_type": "markdown",
   "id": "0734bf45",
   "metadata": {
    "papermill": {
     "duration": 0.034452,
     "end_time": "2023-03-20T08:47:32.531038",
     "exception": false,
     "start_time": "2023-03-20T08:47:32.496586",
     "status": "completed"
    },
    "tags": []
   },
   "source": [
    "Below is a summary of the approach I have taken in this notebook.\n",
    "\n",
    "**Data Preprocessing:**\n",
    "- This section mainly deals with filling the missing values in the data. A number of columns have categories NA/None to denote that the corresponding feature of the house does not exist. It could be possible that the feature exists, but there are actual missing data values. To differentiate between the two cases, I give an example using the basement feature. If its corresponding columns `BsmtQual`, `BsmtFinSF1`, `BsmtFullBath`, etc. are all filled with 0 or NA, I assume that the particular house does not have a basement, and fill using the value 0 or string \"NA\" accordingly.\n",
    "- After the first round of imputation, we still have missing values for the columns filled from the process described above, indicating that the data values are indeed missing. We fill the remaining values using some form of estimation. In particular, the log values of `LotFrontage` and `LotArea` are strongly correlated, so it is reasonable to fill the missing values using regression.\n",
    "- To keep things simple, the remaining columns with about 1-4 missing values each are filled using median/mode imputation.\n",
    "\n",
    "**Feature Engineering:**\n",
    "- [Statistical tests](https://scikit-learn.org/stable/auto_examples/feature_selection/plot_f_test_vs_mi.html) (F-test statistics and mutual information) are used to help feature selection. These are univariate tests so they do not take into account any interaction effects between the features, but they are simpler to understand and less computationally expensive than building models.\n",
    "- Thresholds are not set, but generally columns that have one dominant value, perform poorly in the statistical tests, or give similar information to other columns (e.g. `GarageCars` vs. `GarageArea`) are all dropped. \n",
    "- The usual feature creation/transformation and ordinal/one-hot encoding are performed.\n",
    "\n",
    "**Model Training:**\n",
    "- All models are implemented using sklearn. In particular, linear models (Ridge and LinearSVR) are used as benchmarks. The main models are kernel methods (KernelRidge and SVR) and tree models (RandomForest and GradientBoostingRegressor).\n",
    "- A final ensemble model, which is the average of KernelRidge, SVR, and GradientBoostingRegressor, is used for submission.\n",
    "\n",
    "**Other things not looked at:**\n",
    "- Outlier handling — my local cv results greatly improved by removing or reducing the impact of outliers, but the LB results did not improve.\n",
    "- Other established feature selection/dimensionality reduction tools.\n",
    "- Other ensemble techniques like stacking."
   ]
  },
  {
   "cell_type": "code",
   "execution_count": null,
   "id": "bb4346f9",
   "metadata": {
    "execution": {
     "iopub.execute_input": "2023-03-20T08:47:32.604188Z",
     "iopub.status.busy": "2023-03-20T08:47:32.603757Z",
     "iopub.status.idle": "2023-03-20T08:47:34.309317Z",
     "shell.execute_reply": "2023-03-20T08:47:34.307988Z"
    },
    "papermill": {
     "duration": 1.746331,
     "end_time": "2023-03-20T08:47:34.312667",
     "exception": false,
     "start_time": "2023-03-20T08:47:32.566336",
     "status": "completed"
    },
    "tags": []
   },
   "outputs": [],
   "source": [
    "import re\n",
    "import numpy as np\n",
    "import pandas as pd\n",
    "import seaborn as sns\n",
    "sns.set_theme(style=\"darkgrid\", font_scale=1.2)\n",
    "import matplotlib.pyplot as plt\n",
    "\n",
    "from scipy.stats import probplot\n",
    "from sklearn.metrics import mean_squared_error, make_scorer\n",
    "from sklearn.preprocessing import OrdinalEncoder, StandardScaler\n",
    "from sklearn.model_selection import cross_validate, GridSearchCV, KFold, RepeatedKFold\n",
    "from sklearn.feature_selection import f_classif, mutual_info_classif, mutual_info_regression\n",
    "\n",
    "from sklearn.svm import LinearSVR, SVR\n",
    "from sklearn.kernel_ridge import KernelRidge\n",
    "from sklearn.linear_model import Ridge, RidgeCV\n",
    "from sklearn.ensemble import RandomForestRegressor, GradientBoostingRegressor, VotingRegressor\n",
    "\n",
    "SEED = 0"
   ]
  },
  {
   "attachments": {},
   "cell_type": "markdown",
   "id": "d13218dc",
   "metadata": {
    "papermill": {
     "duration": 0.035312,
     "end_time": "2023-03-20T08:47:34.383918",
     "exception": false,
     "start_time": "2023-03-20T08:47:34.348606",
     "status": "completed"
    },
    "tags": []
   },
   "source": [
    "---"
   ]
  },
  {
   "attachments": {},
   "cell_type": "markdown",
   "id": "07dc57fb",
   "metadata": {
    "papermill": {
     "duration": 0.035545,
     "end_time": "2023-03-20T08:47:34.455215",
     "exception": false,
     "start_time": "2023-03-20T08:47:34.419670",
     "status": "completed"
    },
    "tags": []
   },
   "source": [
    "# 1. Loading Datasets"
   ]
  },
  {
   "cell_type": "code",
   "execution_count": null,
   "id": "c5ef6b02",
   "metadata": {
    "_kg_hide-input": false,
    "execution": {
     "iopub.execute_input": "2023-03-20T08:47:34.528730Z",
     "iopub.status.busy": "2023-03-20T08:47:34.528349Z",
     "iopub.status.idle": "2023-03-20T08:47:34.537241Z",
     "shell.execute_reply": "2023-03-20T08:47:34.536016Z"
    },
    "papermill": {
     "duration": 0.048066,
     "end_time": "2023-03-20T08:47:34.539580",
     "exception": false,
     "start_time": "2023-03-20T08:47:34.491514",
     "status": "completed"
    },
    "tags": []
   },
   "outputs": [],
   "source": [
    "PATTERN = \"\\t| \"\n",
    "INCORRECT_NAMES = {\n",
    "    \"Bedroom\": \"BedroomAbvGr\",\n",
    "    \"Kitchen\": \"KitchenAbvGr\",\n",
    "}\n",
    "    \n",
    "def extract_data_descr(filepath):\n",
    "    data_descr = {}\n",
    "    with open(filepath) as f:\n",
    "        key = None\n",
    "        val = []\n",
    "        for line in f.readlines():\n",
    "            line = line.strip()\n",
    "            if line:\n",
    "                line = re.split(PATTERN, line)[0]\n",
    "                if key and not line.endswith(\":\"):\n",
    "                    val.append(line)\n",
    "                elif key:\n",
    "                    data_descr[key] = val\n",
    "                    val = []\n",
    "                    key = line[:-1]\n",
    "                else:\n",
    "                    # for first iteration\n",
    "                    key = line[:-1]\n",
    "\n",
    "        data_descr[key] = val\n",
    "      \n",
    "    for old, new in INCORRECT_NAMES.items():\n",
    "        data_descr[new] = data_descr.pop(old)\n",
    "        \n",
    "    return data_descr"
   ]
  },
  {
   "cell_type": "code",
   "execution_count": null,
   "id": "855cca4a",
   "metadata": {
    "execution": {
     "iopub.execute_input": "2023-03-20T08:47:34.613046Z",
     "iopub.status.busy": "2023-03-20T08:47:34.612083Z",
     "iopub.status.idle": "2023-03-20T08:47:34.625808Z",
     "shell.execute_reply": "2023-03-20T08:47:34.624929Z"
    },
    "papermill": {
     "duration": 0.053989,
     "end_time": "2023-03-20T08:47:34.628588",
     "exception": false,
     "start_time": "2023-03-20T08:47:34.574599",
     "status": "completed"
    },
    "tags": []
   },
   "outputs": [],
   "source": [
    "data_descr = extract_data_descr(\"/kaggle/input/house-prices-advanced-regression-techniques/data_description.txt\")\n",
    "\n",
    "print(data_descr)"
   ]
  },
  {
   "cell_type": "code",
   "execution_count": null,
   "id": "fdc86f19",
   "metadata": {
    "execution": {
     "iopub.execute_input": "2023-03-20T08:47:34.702089Z",
     "iopub.status.busy": "2023-03-20T08:47:34.701153Z",
     "iopub.status.idle": "2023-03-20T08:47:34.787065Z",
     "shell.execute_reply": "2023-03-20T08:47:34.785825Z"
    },
    "papermill": {
     "duration": 0.125661,
     "end_time": "2023-03-20T08:47:34.789881",
     "exception": false,
     "start_time": "2023-03-20T08:47:34.664220",
     "status": "completed"
    },
    "tags": []
   },
   "outputs": [],
   "source": [
    "X_train = pd.read_csv(\"/kaggle/input/house-prices-advanced-regression-techniques/train.csv\").drop(columns=[\"Id\"])\n",
    "X_test = pd.read_csv(\"/kaggle/input/house-prices-advanced-regression-techniques/test.csv\").drop(columns=[\"Id\"])\n",
    "\n",
    "y_train = X_train.pop(\"SalePrice\")"
   ]
  },
  {
   "attachments": {},
   "cell_type": "markdown",
   "id": "c3c842cd",
   "metadata": {
    "papermill": {
     "duration": 0.035025,
     "end_time": "2023-03-20T08:47:34.860560",
     "exception": false,
     "start_time": "2023-03-20T08:47:34.825535",
     "status": "completed"
    },
    "tags": []
   },
   "source": [
    "---"
   ]
  },
  {
   "attachments": {},
   "cell_type": "markdown",
   "id": "bcd2b543",
   "metadata": {
    "papermill": {
     "duration": 0.034596,
     "end_time": "2023-03-20T08:47:34.930479",
     "exception": false,
     "start_time": "2023-03-20T08:47:34.895883",
     "status": "completed"
    },
    "tags": []
   },
   "source": [
    "# 2. Data Preprocessing"
   ]
  },
  {
   "cell_type": "code",
   "execution_count": null,
   "id": "75168436",
   "metadata": {
    "execution": {
     "iopub.execute_input": "2023-03-20T08:47:35.002575Z",
     "iopub.status.busy": "2023-03-20T08:47:35.002194Z",
     "iopub.status.idle": "2023-03-20T08:47:35.034486Z",
     "shell.execute_reply": "2023-03-20T08:47:35.032897Z"
    },
    "papermill": {
     "duration": 0.07153,
     "end_time": "2023-03-20T08:47:35.036950",
     "exception": false,
     "start_time": "2023-03-20T08:47:34.965420",
     "status": "completed"
    },
    "tags": []
   },
   "outputs": [],
   "source": [
    "X_train.info()"
   ]
  },
  {
   "attachments": {},
   "cell_type": "markdown",
   "id": "c24a79e2",
   "metadata": {
    "papermill": {
     "duration": 0.035124,
     "end_time": "2023-03-20T08:47:35.107320",
     "exception": false,
     "start_time": "2023-03-20T08:47:35.072196",
     "status": "completed"
    },
    "tags": []
   },
   "source": [
    "From the information of the dataframe above, many columns have missing values, and some columns may have their dtypes incorrectly labeled."
   ]
  },
  {
   "attachments": {},
   "cell_type": "markdown",
   "id": "80076a76",
   "metadata": {
    "papermill": {
     "duration": 0.035148,
     "end_time": "2023-03-20T08:47:35.177987",
     "exception": false,
     "start_time": "2023-03-20T08:47:35.142839",
     "status": "completed"
    },
    "tags": []
   },
   "source": [
    "### Columns with incorrect dtypes."
   ]
  },
  {
   "attachments": {},
   "cell_type": "markdown",
   "id": "c4f02c03",
   "metadata": {
    "papermill": {
     "duration": 0.035257,
     "end_time": "2023-03-20T08:47:35.248447",
     "exception": false,
     "start_time": "2023-03-20T08:47:35.213190",
     "status": "completed"
    },
    "tags": []
   },
   "source": [
    "Some columns have categories consisting of integers, resulting in them being recognized as numerical. We assign them back as objects. Date columns (concerning the year and month) are also usually categorical."
   ]
  },
  {
   "cell_type": "code",
   "execution_count": null,
   "id": "4e1915d7",
   "metadata": {
    "execution": {
     "iopub.execute_input": "2023-03-20T08:47:35.321587Z",
     "iopub.status.busy": "2023-03-20T08:47:35.320781Z",
     "iopub.status.idle": "2023-03-20T08:47:35.339579Z",
     "shell.execute_reply": "2023-03-20T08:47:35.338006Z"
    },
    "papermill": {
     "duration": 0.058476,
     "end_time": "2023-03-20T08:47:35.342232",
     "exception": false,
     "start_time": "2023-03-20T08:47:35.283756",
     "status": "completed"
    },
    "tags": []
   },
   "outputs": [],
   "source": [
    "INCORRECT_DTYPE = [\n",
    "    key for key, val in data_descr.items()\n",
    "    if val and np.issubdtype(X_train[key], np.number)\n",
    "]\n",
    "DATE_COL = [\n",
    "    col for col in X_train.columns\n",
    "    if any(date in col for date in [\"Mo\", \"Yr\", \"Year\"])\n",
    "]\n",
    "INCORRECT_DTYPE.extend(DATE_COL)\n",
    "print(INCORRECT_DTYPE)\n",
    "\n",
    "X_train[INCORRECT_DTYPE] = X_train[INCORRECT_DTYPE].astype(object)\n",
    "X_test[INCORRECT_DTYPE] = X_test[INCORRECT_DTYPE].astype(object)"
   ]
  },
  {
   "attachments": {},
   "cell_type": "markdown",
   "id": "5bf2e849",
   "metadata": {
    "papermill": {
     "duration": 0.035758,
     "end_time": "2023-03-20T08:47:35.413501",
     "exception": false,
     "start_time": "2023-03-20T08:47:35.377743",
     "status": "completed"
    },
    "tags": []
   },
   "source": [
    "### Columns with missing values."
   ]
  },
  {
   "cell_type": "code",
   "execution_count": null,
   "id": "cbce219d",
   "metadata": {
    "execution": {
     "iopub.execute_input": "2023-03-20T08:47:35.488233Z",
     "iopub.status.busy": "2023-03-20T08:47:35.487782Z",
     "iopub.status.idle": "2023-03-20T08:47:35.495160Z",
     "shell.execute_reply": "2023-03-20T08:47:35.493676Z"
    },
    "papermill": {
     "duration": 0.047992,
     "end_time": "2023-03-20T08:47:35.497783",
     "exception": false,
     "start_time": "2023-03-20T08:47:35.449791",
     "status": "completed"
    },
    "tags": []
   },
   "outputs": [],
   "source": [
    "def check_missing_values(train_df, test_df):\n",
    "    print(\"=\"*40)\n",
    "    print(f\"(TRAIN) Number of missing values:\")\n",
    "    print(\"=\"*40)\n",
    "    print(train_df.isna().sum()[train_df.isna().sum()>0])\n",
    "    print(\"=\"*40)\n",
    "    print(f\"(TEST) Number of missing values:\")\n",
    "    print(\"=\"*40)\n",
    "    print(test_df.isna().sum()[test_df.isna().sum()>0])"
   ]
  },
  {
   "cell_type": "code",
   "execution_count": null,
   "id": "baab78b2",
   "metadata": {
    "execution": {
     "iopub.execute_input": "2023-03-20T08:47:35.571722Z",
     "iopub.status.busy": "2023-03-20T08:47:35.571303Z",
     "iopub.status.idle": "2023-03-20T08:47:35.606628Z",
     "shell.execute_reply": "2023-03-20T08:47:35.604710Z"
    },
    "papermill": {
     "duration": 0.075054,
     "end_time": "2023-03-20T08:47:35.609311",
     "exception": false,
     "start_time": "2023-03-20T08:47:35.534257",
     "status": "completed"
    },
    "tags": []
   },
   "outputs": [],
   "source": [
    "check_missing_values(X_train, X_test)"
   ]
  },
  {
   "attachments": {},
   "cell_type": "markdown",
   "id": "fff08b09",
   "metadata": {
    "papermill": {
     "duration": 0.035363,
     "end_time": "2023-03-20T08:47:35.681712",
     "exception": false,
     "start_time": "2023-03-20T08:47:35.646349",
     "status": "completed"
    },
    "tags": []
   },
   "source": [
    "From the data description text file, some columns have NA categories to denote that a particular element of the house does not exist (e.g. no garage). We check below that none of the data contains the string \"NA\", so the NA categories are most likely recognized as NaN values."
   ]
  },
  {
   "cell_type": "code",
   "execution_count": null,
   "id": "d3622d0d",
   "metadata": {
    "execution": {
     "iopub.execute_input": "2023-03-20T08:47:35.755176Z",
     "iopub.status.busy": "2023-03-20T08:47:35.754736Z",
     "iopub.status.idle": "2023-03-20T08:47:35.778357Z",
     "shell.execute_reply": "2023-03-20T08:47:35.776931Z"
    },
    "papermill": {
     "duration": 0.063163,
     "end_time": "2023-03-20T08:47:35.780650",
     "exception": false,
     "start_time": "2023-03-20T08:47:35.717487",
     "status": "completed"
    },
    "tags": []
   },
   "outputs": [],
   "source": [
    "print((X_train==\"NA\").sum().sum())\n",
    "print((X_test==\"NA\").sum().sum())"
   ]
  },
  {
   "attachments": {},
   "cell_type": "markdown",
   "id": "477f704e",
   "metadata": {
    "papermill": {
     "duration": 0.040773,
     "end_time": "2023-03-20T08:47:35.859764",
     "exception": false,
     "start_time": "2023-03-20T08:47:35.818991",
     "status": "completed"
    },
    "tags": []
   },
   "source": [
    "On the other hand, it is possible that some houses have the features, but data is indeed missing. To differentiate between the two cases, we check that all related columns (of `Bsmt`, `MasVnr`, etc.) are indeed 0/NA values, indicating that the corresponding feature most likely does not exist for the house. For features with single columns (like `Alley` and `Fence`), we just fill the missing values straight.\n",
    "\n",
    "For numerical columns, we fill using the value 0. For categorical columns, we use the string \"NA\"."
   ]
  },
  {
   "cell_type": "code",
   "execution_count": null,
   "id": "b1fde523",
   "metadata": {
    "execution": {
     "iopub.execute_input": "2023-03-20T08:47:35.935077Z",
     "iopub.status.busy": "2023-03-20T08:47:35.933894Z",
     "iopub.status.idle": "2023-03-20T08:47:35.942609Z",
     "shell.execute_reply": "2023-03-20T08:47:35.941434Z"
    },
    "papermill": {
     "duration": 0.049707,
     "end_time": "2023-03-20T08:47:35.945221",
     "exception": false,
     "start_time": "2023-03-20T08:47:35.895514",
     "status": "completed"
    },
    "tags": []
   },
   "outputs": [],
   "source": [
    "def fill_with_constant(train_df, test_df, na_col):    \n",
    "    train_data = train_df.copy()\n",
    "    test_data = test_df.copy()\n",
    "    \n",
    "    # fill all specified columns except dates\n",
    "    fill_col = [\n",
    "        col for col in na_col\n",
    "        if all(not date in col for date in [\"Yr\", \"Year\", \"Mo\"])\n",
    "    ]\n",
    "    fill_values = train_data[fill_col].dtypes.apply(\n",
    "        lambda x: 0 if np.issubdtype(x, np.number) else \"NA\"\n",
    "    ).to_dict()\n",
    "    \n",
    "    train_data[~train_data[na_col].any(axis=1)] = \\\n",
    "    train_data[~train_data[na_col].any(axis=1)].fillna(fill_values)\n",
    "    test_data[~test_data[na_col].any(axis=1)] = \\\n",
    "    test_data[~test_data[na_col].any(axis=1)].fillna(fill_values)\n",
    "    \n",
    "    return train_data, test_data"
   ]
  },
  {
   "cell_type": "code",
   "execution_count": null,
   "id": "cc7674fb",
   "metadata": {
    "execution": {
     "iopub.execute_input": "2023-03-20T08:47:36.019323Z",
     "iopub.status.busy": "2023-03-20T08:47:36.018910Z",
     "iopub.status.idle": "2023-03-20T08:47:36.026623Z",
     "shell.execute_reply": "2023-03-20T08:47:36.025254Z"
    },
    "papermill": {
     "duration": 0.047527,
     "end_time": "2023-03-20T08:47:36.029070",
     "exception": false,
     "start_time": "2023-03-20T08:47:35.981543",
     "status": "completed"
    },
    "tags": []
   },
   "outputs": [],
   "source": [
    "HSE_FEAT = [\"Bsmt\", \"MasVnr\", \"Pool\", \"Fireplace\", \"Misc\", \"Garage\"]\n",
    "\n",
    "RELATED_COL = {\n",
    "    feat: [col for col in X_train if feat in col]\n",
    "    for feat in HSE_FEAT\n",
    "}\n",
    "\n",
    "print(\"=\"*40)\n",
    "print(\"Columns to fill missing values:\")\n",
    "print(\"=\"*40)\n",
    "print(RELATED_COL)"
   ]
  },
  {
   "cell_type": "code",
   "execution_count": null,
   "id": "f9b91d08",
   "metadata": {
    "execution": {
     "iopub.execute_input": "2023-03-20T08:47:36.102465Z",
     "iopub.status.busy": "2023-03-20T08:47:36.102049Z",
     "iopub.status.idle": "2023-03-20T08:47:36.525391Z",
     "shell.execute_reply": "2023-03-20T08:47:36.524086Z"
    },
    "papermill": {
     "duration": 0.463468,
     "end_time": "2023-03-20T08:47:36.528256",
     "exception": false,
     "start_time": "2023-03-20T08:47:36.064788",
     "status": "completed"
    },
    "tags": []
   },
   "outputs": [],
   "source": [
    "X_train[[\"Alley\", \"Fence\"]] = X_train[[\"Alley\", \"Fence\"]].fillna(\"NA\")\n",
    "X_test[[\"Alley\", \"Fence\"]] = X_test[[\"Alley\", \"Fence\"]].fillna(\"NA\")\n",
    "\n",
    "for cols in RELATED_COL.values():\n",
    "    X_train, X_test = fill_with_constant(X_train, X_test, cols)\n",
    "    \n",
    "X_train.MasVnrType = X_train.MasVnrType.replace({\"None\": \"NA\"})\n",
    "X_test.MasVnrType = X_test.MasVnrType.replace({\"None\": \"NA\"})"
   ]
  },
  {
   "attachments": {},
   "cell_type": "markdown",
   "id": "38e5ca7e",
   "metadata": {
    "papermill": {
     "duration": 0.036152,
     "end_time": "2023-03-20T08:47:36.601063",
     "exception": false,
     "start_time": "2023-03-20T08:47:36.564911",
     "status": "completed"
    },
    "tags": []
   },
   "source": [
    "Instead of filling the missing values in `GarageYrBlt` column with \"NA\", we fix them to the values of the `YearBuilt` column. The reason is that the date columns can be used to create useful numerical features later, so this will be a possible approximation."
   ]
  },
  {
   "cell_type": "code",
   "execution_count": null,
   "id": "3414ac03",
   "metadata": {
    "execution": {
     "iopub.execute_input": "2023-03-20T08:47:36.676313Z",
     "iopub.status.busy": "2023-03-20T08:47:36.675878Z",
     "iopub.status.idle": "2023-03-20T08:47:36.760520Z",
     "shell.execute_reply": "2023-03-20T08:47:36.758828Z"
    },
    "papermill": {
     "duration": 0.125549,
     "end_time": "2023-03-20T08:47:36.763589",
     "exception": false,
     "start_time": "2023-03-20T08:47:36.638040",
     "status": "completed"
    },
    "tags": []
   },
   "outputs": [],
   "source": [
    "fill_GarageYrBlt_fn = lambda x: x.YearBuilt if pd.isna(x.GarageYrBlt) else x.GarageYrBlt\n",
    "\n",
    "X_train.GarageYrBlt = X_train.apply(fill_GarageYrBlt_fn, axis=1).astype(object)\n",
    "X_test.GarageYrBlt = X_test.apply(fill_GarageYrBlt_fn, axis=1).astype(object)"
   ]
  },
  {
   "cell_type": "code",
   "execution_count": null,
   "id": "d6dad87b",
   "metadata": {
    "execution": {
     "iopub.execute_input": "2023-03-20T08:47:36.837393Z",
     "iopub.status.busy": "2023-03-20T08:47:36.836940Z",
     "iopub.status.idle": "2023-03-20T08:47:36.866737Z",
     "shell.execute_reply": "2023-03-20T08:47:36.864938Z"
    },
    "papermill": {
     "duration": 0.07039,
     "end_time": "2023-03-20T08:47:36.869778",
     "exception": false,
     "start_time": "2023-03-20T08:47:36.799388",
     "status": "completed"
    },
    "tags": []
   },
   "outputs": [],
   "source": [
    "check_missing_values(X_train, X_test)"
   ]
  },
  {
   "attachments": {},
   "cell_type": "markdown",
   "id": "c11edfe3",
   "metadata": {
    "papermill": {
     "duration": 0.036194,
     "end_time": "2023-03-20T08:47:36.942775",
     "exception": false,
     "start_time": "2023-03-20T08:47:36.906581",
     "status": "completed"
    },
    "tags": []
   },
   "source": [
    "We still have missing values after the first round of imputation. Without any other information, we can only fill the remaining values using some form of estimation."
   ]
  },
  {
   "attachments": {},
   "cell_type": "markdown",
   "id": "74afce44",
   "metadata": {
    "papermill": {
     "duration": 0.035614,
     "end_time": "2023-03-20T08:47:37.014199",
     "exception": false,
     "start_time": "2023-03-20T08:47:36.978585",
     "status": "completed"
    },
    "tags": []
   },
   "source": [
    "### Fill using estimated values."
   ]
  },
  {
   "attachments": {},
   "cell_type": "markdown",
   "id": "89b11c67",
   "metadata": {
    "papermill": {
     "duration": 0.035354,
     "end_time": "2023-03-20T08:47:37.085597",
     "exception": false,
     "start_time": "2023-03-20T08:47:37.050243",
     "status": "completed"
    },
    "tags": []
   },
   "source": [
    "`LotFrontage` has the largest number of missing values among the remaining columns. In general, we can expect that houses with large `LotFrontage` would also have large `LotArea`. We can verify this with the regression plot below."
   ]
  },
  {
   "cell_type": "code",
   "execution_count": null,
   "id": "b8a0b6bb",
   "metadata": {
    "_kg_hide-input": true,
    "execution": {
     "iopub.execute_input": "2023-03-20T08:47:37.161076Z",
     "iopub.status.busy": "2023-03-20T08:47:37.160596Z",
     "iopub.status.idle": "2023-03-20T08:47:37.169934Z",
     "shell.execute_reply": "2023-03-20T08:47:37.168644Z"
    },
    "papermill": {
     "duration": 0.051328,
     "end_time": "2023-03-20T08:47:37.172589",
     "exception": false,
     "start_time": "2023-03-20T08:47:37.121261",
     "status": "completed"
    },
    "tags": []
   },
   "outputs": [],
   "source": [
    "def regplot(X, y, method=\"pearson\", remove_na=False, **kwargs):\n",
    "    X = X.copy()\n",
    "    y = y.copy()\n",
    "    \n",
    "    if remove_na:\n",
    "        X, y = X[~( X.isna()|y.isna() )], y[~( X.isna()|y.isna() )]\n",
    "    \n",
    "    cc = pd.concat([X, y], axis=1).corr(method=method).values[0][1]\n",
    "    mi = mutual_info_regression(X.values.reshape(-1, 1), y, random_state=SEED)[0]\n",
    "    \n",
    "    sns.regplot(x=X, y=y, scatter_kws=dict(edgecolors=\"w\"), **kwargs)\n",
    "    plt.title(f\"Correlation Coefficient: {cc:.5f}\\nMutual Information: {mi:.5f}\", fontsize=\"large\")\n",
    "    plt.tight_layout()"
   ]
  },
  {
   "cell_type": "code",
   "execution_count": null,
   "id": "d785af3e",
   "metadata": {
    "execution": {
     "iopub.execute_input": "2023-03-20T08:47:37.246174Z",
     "iopub.status.busy": "2023-03-20T08:47:37.245735Z",
     "iopub.status.idle": "2023-03-20T08:47:38.286004Z",
     "shell.execute_reply": "2023-03-20T08:47:38.284648Z"
    },
    "papermill": {
     "duration": 1.082028,
     "end_time": "2023-03-20T08:47:38.290465",
     "exception": false,
     "start_time": "2023-03-20T08:47:37.208437",
     "status": "completed"
    },
    "tags": []
   },
   "outputs": [],
   "source": [
    "plt.figure(figsize=(18, 4.5))\n",
    "\n",
    "plt.subplot(121)\n",
    "regplot(X_train.LotArea, X_train.LotFrontage, remove_na=True)\n",
    "\n",
    "plt.subplot(122)\n",
    "regplot(np.log1p(X_train.LotArea), np.log1p(X_train.LotFrontage), remove_na=True, color=\"r\")\n",
    "plt.xlabel(\"log(LotArea)\")\n",
    "plt.ylabel(\"log(LotFrontage)\")\n",
    "\n",
    "plt.show()"
   ]
  },
  {
   "attachments": {},
   "cell_type": "markdown",
   "id": "c3d5aba2",
   "metadata": {
    "papermill": {
     "duration": 0.04286,
     "end_time": "2023-03-20T08:47:38.372737",
     "exception": false,
     "start_time": "2023-03-20T08:47:38.329877",
     "status": "completed"
    },
    "tags": []
   },
   "source": [
    "Using a log-log plot to reduce the effect of outlier values, we see that the log of the two columns are strongly correlated. We impute the missing values in `LotFrontage` using regression on the log values."
   ]
  },
  {
   "cell_type": "code",
   "execution_count": null,
   "id": "a92b65db",
   "metadata": {
    "execution": {
     "iopub.execute_input": "2023-03-20T08:47:38.453719Z",
     "iopub.status.busy": "2023-03-20T08:47:38.452561Z",
     "iopub.status.idle": "2023-03-20T08:47:38.463497Z",
     "shell.execute_reply": "2023-03-20T08:47:38.462382Z"
    },
    "papermill": {
     "duration": 0.054284,
     "end_time": "2023-03-20T08:47:38.466314",
     "exception": false,
     "start_time": "2023-03-20T08:47:38.412030",
     "status": "completed"
    },
    "tags": []
   },
   "outputs": [],
   "source": [
    "class RegressionImputer:\n",
    "    def __init__(self, model):\n",
    "        self.model = model\n",
    "    \n",
    "    def fit(self, X, y):\n",
    "        X = X.copy()\n",
    "        y = y.copy()\n",
    "        \n",
    "        X, y = X[~( X.isna()|y.isna() )], y[~( X.isna()|y.isna() )]\n",
    "        X = X.loc[y.index]\n",
    "        y = np.log1p(y.values)\n",
    "        X = np.log1p(X.values.reshape(-1, 1))\n",
    "        self.model.fit(X, y)\n",
    "        \n",
    "        return self\n",
    "    \n",
    "    def transform(self, X, y):\n",
    "        if y.isna().sum() == 0:\n",
    "            return y\n",
    "        \n",
    "        X = X.copy()\n",
    "        y = y.copy()\n",
    "        \n",
    "        idx = y[y.isna()].index\n",
    "        X = X.loc[idx]\n",
    "        X = np.log1p(X.values.reshape(-1, 1))\n",
    "        y_pred = self.model.predict(X)\n",
    "        y[y.isna()] = np.expm1(y_pred)\n",
    "        \n",
    "        return y"
   ]
  },
  {
   "cell_type": "code",
   "execution_count": null,
   "id": "572581ab",
   "metadata": {
    "execution": {
     "iopub.execute_input": "2023-03-20T08:47:38.546850Z",
     "iopub.status.busy": "2023-03-20T08:47:38.545587Z",
     "iopub.status.idle": "2023-03-20T08:47:38.564249Z",
     "shell.execute_reply": "2023-03-20T08:47:38.562934Z"
    },
    "papermill": {
     "duration": 0.062169,
     "end_time": "2023-03-20T08:47:38.567144",
     "exception": false,
     "start_time": "2023-03-20T08:47:38.504975",
     "status": "completed"
    },
    "tags": []
   },
   "outputs": [],
   "source": [
    "imputer = RegressionImputer(RidgeCV())\n",
    "imputer.fit(X_train.LotArea, X_train.LotFrontage)\n",
    "\n",
    "X_train.LotFrontage = imputer.transform(X_train.LotArea, X_train.LotFrontage)\n",
    "X_test.LotFrontage = imputer.transform(X_test.LotArea, X_test.LotFrontage)"
   ]
  },
  {
   "attachments": {},
   "cell_type": "markdown",
   "id": "7a367a3e",
   "metadata": {
    "papermill": {
     "duration": 0.039522,
     "end_time": "2023-03-20T08:47:38.646559",
     "exception": false,
     "start_time": "2023-03-20T08:47:38.607037",
     "status": "completed"
    },
    "tags": []
   },
   "source": [
    "To keep things simple, we fill the remaining missing values by computing the median/mode over the training data. We recall that the 0/\"NA\" values imputed earlier indicate that the house does not have the corresponding feature, so we need to exclude these houses for the estimations to be more representative of other houses that have such features. \n",
    "\n",
    "To give an example, we use `PoolQC` with 3 missing values left in the testing data. These 3 houses have `PoolArea` greater than 0, indicating that the houses have pools. However, the mode of `PoolQC` over the training data is \"NA\", which is a contradiction. Hence, we first remove houses without pools and then compute the mode. The same applies for other features with multiple related columns."
   ]
  },
  {
   "cell_type": "code",
   "execution_count": null,
   "id": "296b65db",
   "metadata": {
    "execution": {
     "iopub.execute_input": "2023-03-20T08:47:38.725681Z",
     "iopub.status.busy": "2023-03-20T08:47:38.725273Z",
     "iopub.status.idle": "2023-03-20T08:47:38.735835Z",
     "shell.execute_reply": "2023-03-20T08:47:38.734473Z"
    },
    "papermill": {
     "duration": 0.053033,
     "end_time": "2023-03-20T08:47:38.738423",
     "exception": false,
     "start_time": "2023-03-20T08:47:38.685390",
     "status": "completed"
    },
    "tags": []
   },
   "outputs": [],
   "source": [
    "def fill_with_estimate(train_df, test_df, related_col):\n",
    "    train_data = train_df.copy()\n",
    "    test_data = test_df.copy()\n",
    "    \n",
    "    fill_fn = lambda x: x.median() if np.issubdtype(x, np.number) else x.mode()[0]\n",
    "   \n",
    "    # remove houses without the corresponding feature before estimating the fill values\n",
    "    fill_exclude_na = {}\n",
    "    for feat, cols in related_col.items():\n",
    "        hse_no_feat_idx = (train_data[cols]==\"NA\").sum(axis=1).astype(bool)\n",
    "        fill_exclude_na.update(train_data[~hse_no_feat_idx][cols].apply(fill_fn).to_dict())\n",
    "     \n",
    "    # other columns\n",
    "    other_col = [\n",
    "        col for col in train_data.columns\n",
    "        if not any(feat in col for feat in related_col.keys())\n",
    "    ]\n",
    "    fill_other = train_data[other_col].apply(fill_fn).to_dict()\n",
    "    \n",
    "    fill_values = {**fill_exclude_na, **fill_other}\n",
    "    train_data = train_data.fillna(fill_values).astype(train_data.dtypes.to_dict())\n",
    "    test_data = test_data.fillna(fill_values).astype(train_data.dtypes.to_dict())\n",
    "    \n",
    "    return train_data, test_data"
   ]
  },
  {
   "cell_type": "code",
   "execution_count": null,
   "id": "0b096c1c",
   "metadata": {
    "execution": {
     "iopub.execute_input": "2023-03-20T08:47:38.819777Z",
     "iopub.status.busy": "2023-03-20T08:47:38.818436Z",
     "iopub.status.idle": "2023-03-20T08:47:38.964175Z",
     "shell.execute_reply": "2023-03-20T08:47:38.962967Z"
    },
    "papermill": {
     "duration": 0.189112,
     "end_time": "2023-03-20T08:47:38.967087",
     "exception": false,
     "start_time": "2023-03-20T08:47:38.777975",
     "status": "completed"
    },
    "tags": []
   },
   "outputs": [],
   "source": [
    "X_train, X_test = fill_with_estimate(X_train, X_test, related_col=RELATED_COL)"
   ]
  },
  {
   "cell_type": "code",
   "execution_count": null,
   "id": "3fb9c1e3",
   "metadata": {
    "execution": {
     "iopub.execute_input": "2023-03-20T08:47:39.048162Z",
     "iopub.status.busy": "2023-03-20T08:47:39.047726Z",
     "iopub.status.idle": "2023-03-20T08:47:39.119501Z",
     "shell.execute_reply": "2023-03-20T08:47:39.117846Z"
    },
    "papermill": {
     "duration": 0.115451,
     "end_time": "2023-03-20T08:47:39.122016",
     "exception": false,
     "start_time": "2023-03-20T08:47:39.006565",
     "status": "completed"
    },
    "tags": []
   },
   "outputs": [],
   "source": [
    "check_missing_values(X_train, X_test)"
   ]
  },
  {
   "attachments": {},
   "cell_type": "markdown",
   "id": "f856af89",
   "metadata": {
    "papermill": {
     "duration": 0.038507,
     "end_time": "2023-03-20T08:47:39.199663",
     "exception": false,
     "start_time": "2023-03-20T08:47:39.161156",
     "status": "completed"
    },
    "tags": []
   },
   "source": [
    "---"
   ]
  },
  {
   "attachments": {},
   "cell_type": "markdown",
   "id": "cb8a2aa5",
   "metadata": {
    "papermill": {
     "duration": 0.037878,
     "end_time": "2023-03-20T08:47:39.276015",
     "exception": false,
     "start_time": "2023-03-20T08:47:39.238137",
     "status": "completed"
    },
    "tags": []
   },
   "source": [
    "# 3. Feature Engineering"
   ]
  },
  {
   "cell_type": "code",
   "execution_count": null,
   "id": "21534c7f",
   "metadata": {
    "execution": {
     "iopub.execute_input": "2023-03-20T08:47:39.355898Z",
     "iopub.status.busy": "2023-03-20T08:47:39.354541Z",
     "iopub.status.idle": "2023-03-20T08:47:39.529944Z",
     "shell.execute_reply": "2023-03-20T08:47:39.528673Z"
    },
    "papermill": {
     "duration": 0.218664,
     "end_time": "2023-03-20T08:47:39.533028",
     "exception": false,
     "start_time": "2023-03-20T08:47:39.314364",
     "status": "completed"
    },
    "tags": []
   },
   "outputs": [],
   "source": [
    "pd.concat(\n",
    "    [X_train.describe().T.add_prefix(\"tr_\"),X_test.describe().T.add_prefix(\"tt_\")],\n",
    "    axis=1,\n",
    ").drop(columns=[\"tr_count\", \"tt_count\"])"
   ]
  },
  {
   "attachments": {},
   "cell_type": "markdown",
   "id": "24b3ddd0",
   "metadata": {
    "papermill": {
     "duration": 0.038911,
     "end_time": "2023-03-20T08:47:39.611215",
     "exception": false,
     "start_time": "2023-03-20T08:47:39.572304",
     "status": "completed"
    },
    "tags": []
   },
   "source": [
    "From the statistics of the numerical columns, we observe the following:\n",
    "* Skewed distributions as indicated by the large differences between the maximum and the 75th percentile.\n",
    "* Columns of different scales."
   ]
  },
  {
   "cell_type": "code",
   "execution_count": null,
   "id": "7ad26d64",
   "metadata": {
    "execution": {
     "iopub.execute_input": "2023-03-20T08:47:39.693197Z",
     "iopub.status.busy": "2023-03-20T08:47:39.692436Z",
     "iopub.status.idle": "2023-03-20T08:47:39.879716Z",
     "shell.execute_reply": "2023-03-20T08:47:39.878150Z"
    },
    "papermill": {
     "duration": 0.233425,
     "end_time": "2023-03-20T08:47:39.883804",
     "exception": false,
     "start_time": "2023-03-20T08:47:39.650379",
     "status": "completed"
    },
    "tags": []
   },
   "outputs": [],
   "source": [
    "pd.concat(\n",
    "    [X_train.describe(include=object).T.add_prefix(\"tr_\"), X_test.describe(include=object).T.add_prefix(\"tt_\")],\n",
    "    axis=1,\n",
    ").drop(columns=[\"tr_count\", \"tt_count\"])"
   ]
  },
  {
   "attachments": {},
   "cell_type": "markdown",
   "id": "891ecbed",
   "metadata": {
    "papermill": {
     "duration": 0.041895,
     "end_time": "2023-03-20T08:47:39.971728",
     "exception": false,
     "start_time": "2023-03-20T08:47:39.929833",
     "status": "completed"
    },
    "tags": []
   },
   "source": [
    "From the statistics of the categorical columns, we note the following: \n",
    "* Many columns like `PoolQC` and `Utilities` have dominant categories that take up most of the observations.\n",
    "* Many columns have a lot of unique categories."
   ]
  },
  {
   "attachments": {},
   "cell_type": "markdown",
   "id": "8bdb73c5",
   "metadata": {
    "papermill": {
     "duration": 0.040096,
     "end_time": "2023-03-20T08:47:40.056345",
     "exception": false,
     "start_time": "2023-03-20T08:47:40.016249",
     "status": "completed"
    },
    "tags": []
   },
   "source": [
    "Before moving on, we can check that the maximum `GarageYrBlt` for the testing data is 2207, which is most likely mislabeled."
   ]
  },
  {
   "cell_type": "code",
   "execution_count": null,
   "id": "3d2f0b91",
   "metadata": {
    "execution": {
     "iopub.execute_input": "2023-03-20T08:47:40.147402Z",
     "iopub.status.busy": "2023-03-20T08:47:40.147031Z",
     "iopub.status.idle": "2023-03-20T08:47:40.161603Z",
     "shell.execute_reply": "2023-03-20T08:47:40.160146Z"
    },
    "papermill": {
     "duration": 0.060598,
     "end_time": "2023-03-20T08:47:40.164343",
     "exception": false,
     "start_time": "2023-03-20T08:47:40.103745",
     "status": "completed"
    },
    "tags": []
   },
   "outputs": [],
   "source": [
    "X_test[X_test.GarageYrBlt==X_test.GarageYrBlt.max()][DATE_COL]"
   ]
  },
  {
   "attachments": {},
   "cell_type": "markdown",
   "id": "047ff0cb",
   "metadata": {
    "papermill": {
     "duration": 0.04053,
     "end_time": "2023-03-20T08:47:40.245377",
     "exception": false,
     "start_time": "2023-03-20T08:47:40.204847",
     "status": "completed"
    },
    "tags": []
   },
   "source": [
    "Judging from the other date columns, we make a guess that the correct value is most likely 2007."
   ]
  },
  {
   "cell_type": "code",
   "execution_count": null,
   "id": "e1ff4e22",
   "metadata": {
    "execution": {
     "iopub.execute_input": "2023-03-20T08:47:40.329068Z",
     "iopub.status.busy": "2023-03-20T08:47:40.327916Z",
     "iopub.status.idle": "2023-03-20T08:47:40.334851Z",
     "shell.execute_reply": "2023-03-20T08:47:40.333873Z"
    },
    "papermill": {
     "duration": 0.051683,
     "end_time": "2023-03-20T08:47:40.337491",
     "exception": false,
     "start_time": "2023-03-20T08:47:40.285808",
     "status": "completed"
    },
    "tags": []
   },
   "outputs": [],
   "source": [
    "X_test.loc[X_test.GarageYrBlt==2207, \"GarageYrBlt\"] = 2007"
   ]
  },
  {
   "attachments": {},
   "cell_type": "markdown",
   "id": "c70c0538",
   "metadata": {
    "papermill": {
     "duration": 0.040671,
     "end_time": "2023-03-20T08:47:40.419619",
     "exception": false,
     "start_time": "2023-03-20T08:47:40.378948",
     "status": "completed"
    },
    "tags": []
   },
   "source": [
    "### Ordinal encoding."
   ]
  },
  {
   "attachments": {},
   "cell_type": "markdown",
   "id": "c79ad27e",
   "metadata": {
    "papermill": {
     "duration": 0.040425,
     "end_time": "2023-03-20T08:47:40.501148",
     "exception": false,
     "start_time": "2023-03-20T08:47:40.460723",
     "status": "completed"
    },
    "tags": []
   },
   "source": [
    "There are a number of columns with natural ordered categories, like `OverallQual` ranging from 1 (Very Poor) to 10 (Very Excellent). The data description text file has the categories sorted in order already. We make use of the this to perform ordinal encoding to make analysis easier."
   ]
  },
  {
   "cell_type": "code",
   "execution_count": null,
   "id": "d5d66925",
   "metadata": {
    "execution": {
     "iopub.execute_input": "2023-03-20T08:47:40.584422Z",
     "iopub.status.busy": "2023-03-20T08:47:40.583562Z",
     "iopub.status.idle": "2023-03-20T08:47:40.592363Z",
     "shell.execute_reply": "2023-03-20T08:47:40.590835Z"
    },
    "papermill": {
     "duration": 0.053387,
     "end_time": "2023-03-20T08:47:40.594836",
     "exception": false,
     "start_time": "2023-03-20T08:47:40.541449",
     "status": "completed"
    },
    "tags": []
   },
   "outputs": [],
   "source": [
    "# ordinal columns manually selected\n",
    "ORDINAL_COL = [\n",
    "    \"LotShape\", \"LandContour\", \"Utilities\", \"LandSlope\", \"OverallQual\",\n",
    "    \"OverallCond\", \"ExterQual\", \"ExterCond\", \"BsmtQual\", \"BsmtCond\",\n",
    "    \"BsmtExposure\", \"BsmtFinType1\", \"BsmtFinType2\", \"HeatingQC\", \"Electrical\",\n",
    "    \"KitchenQual\", \"Functional\", \"FireplaceQu\", \"GarageFinish\", \"GarageQual\", \n",
    "    \"GarageCond\", \"PavedDrive\", \"PoolQC\", \"Fence\",\n",
    "]\n",
    "\n",
    "ORDINAL_CAT = [\n",
    "    val[::-1] for key, val in data_descr.items()\n",
    "    if key in ORDINAL_COL\n",
    "]\n",
    "\n",
    "print(ORDINAL_CAT)"
   ]
  },
  {
   "cell_type": "code",
   "execution_count": null,
   "id": "22b9a8d3",
   "metadata": {
    "execution": {
     "iopub.execute_input": "2023-03-20T08:47:40.681177Z",
     "iopub.status.busy": "2023-03-20T08:47:40.680442Z",
     "iopub.status.idle": "2023-03-20T08:47:40.749778Z",
     "shell.execute_reply": "2023-03-20T08:47:40.748817Z"
    },
    "papermill": {
     "duration": 0.114054,
     "end_time": "2023-03-20T08:47:40.752439",
     "exception": false,
     "start_time": "2023-03-20T08:47:40.638385",
     "status": "completed"
    },
    "tags": []
   },
   "outputs": [],
   "source": [
    "ordinal_enc = OrdinalEncoder(categories=ORDINAL_CAT)\n",
    "X_train[ORDINAL_COL] = ordinal_enc.fit_transform(X_train[ORDINAL_COL].astype(str))\n",
    "X_test[ORDINAL_COL] = ordinal_enc.transform(X_test[ORDINAL_COL].astype(str))"
   ]
  },
  {
   "attachments": {},
   "cell_type": "markdown",
   "id": "c7b17383",
   "metadata": {
    "papermill": {
     "duration": 0.040872,
     "end_time": "2023-03-20T08:47:40.904989",
     "exception": false,
     "start_time": "2023-03-20T08:47:40.864117",
     "status": "completed"
    },
    "tags": []
   },
   "source": [
    "### Feature creation and transformation."
   ]
  },
  {
   "attachments": {},
   "cell_type": "markdown",
   "id": "5763a0a6",
   "metadata": {
    "papermill": {
     "duration": 0.040383,
     "end_time": "2023-03-20T08:47:40.985956",
     "exception": false,
     "start_time": "2023-03-20T08:47:40.945573",
     "status": "completed"
    },
    "tags": []
   },
   "source": [
    "We look at creating/transforming features in the following sections to convey more useful information. To better support our analysis, we use statistical tests to determine whether or not the feature is relevant to our models. In particular, we use the Pearson's correlation coefficient/F-test statistics to measure linear correlation, and mutual information to capture nonlinear behavior. We note that these are univariate tests so they do not take into account any interaction effects between the features.\n",
    "\n",
    "Due to large number of columns in the data, we look at each group of features separately in each section. At the beginning of each section we provide a summary of the following:\n",
    "* __Features transformed__ — generally involves reducing the number of categories in each feature.\n",
    "\n",
    "* __Features added__ — new features created from existing features and the reasoning behind it.\n",
    "\n",
    "* __Features removed__ — feature has one dominant value, performs poorly in the univariate statistical tests, or provides similar information to other features."
   ]
  },
  {
   "cell_type": "code",
   "execution_count": null,
   "id": "20eff019",
   "metadata": {
    "_kg_hide-input": true,
    "execution": {
     "iopub.execute_input": "2023-03-20T08:47:41.070174Z",
     "iopub.status.busy": "2023-03-20T08:47:41.069470Z",
     "iopub.status.idle": "2023-03-20T08:47:41.083232Z",
     "shell.execute_reply": "2023-03-20T08:47:41.081847Z"
    },
    "papermill": {
     "duration": 0.059342,
     "end_time": "2023-03-20T08:47:41.086043",
     "exception": false,
     "start_time": "2023-03-20T08:47:41.026701",
     "status": "completed"
    },
    "tags": []
   },
   "outputs": [],
   "source": [
    "def multi_regplot(X, y, cols, method=\"pearson\"):\n",
    "    nrow = (len(cols)//3) + 1\n",
    "    ncol = len(cols) if len(cols)<3 else 3\n",
    "    fig = plt.figure(figsize=(18, 4.5*nrow))\n",
    "    for i, col in enumerate(cols):\n",
    "        ax = fig.add_subplot(nrow, np.max([2, ncol]), i+1)\n",
    "        regplot(X[col], y, method=method, color=sns.color_palette()[i], ax=ax)\n",
    "    if ncol == 1:\n",
    "        fig.add_subplot(nrow, np.max([2, ncol]), i+2)\n",
    "        plt.axis(\"off\")\n",
    "    plt.tight_layout()\n",
    "\n",
    "def catplot(X, y):\n",
    "    f, p = f_classif(y.values.reshape(-1, 1), X.astype(str))\n",
    "    mi = mutual_info_classif(y.values.reshape(-1, 1), X.astype(str), random_state=SEED)[0]\n",
    "    \n",
    "    num_cat = X.nunique()\n",
    "    rotation = 90 if num_cat>=7 else 0\n",
    "    fig = plt.figure(figsize=(18, 4.5))\n",
    "    \n",
    "    plt.subplot(121)\n",
    "    sns.boxplot(x=X, y=y, flierprops={\"alpha\": 0.5})\n",
    "    plt.xticks(rotation=rotation)\n",
    "    \n",
    "    plt.subplot(122)\n",
    "    ax = sns.countplot(x=X)\n",
    "    ax.bar_label(ax.containers[0])\n",
    "    plt.xticks(rotation=rotation)\n",
    "    \n",
    "    fig.suptitle(f\"F-Statistic: {f[0]:.5f}, P-Value: {p[0]:.5f}\\nMutual Information: {mi:.5f}\")\n",
    "    plt.tight_layout() \n",
    "    \n",
    "def multi_catplot(X, y, cols):\n",
    "    for col in cols:\n",
    "        catplot(X[col], y)\n",
    "    plt.tight_layout()"
   ]
  },
  {
   "attachments": {},
   "cell_type": "markdown",
   "id": "9617645b",
   "metadata": {
    "papermill": {
     "duration": 0.042309,
     "end_time": "2023-03-20T08:47:41.170459",
     "exception": false,
     "start_time": "2023-03-20T08:47:41.128150",
     "status": "completed"
    },
    "tags": []
   },
   "source": [
    "### Target column: `SalePrice`."
   ]
  },
  {
   "attachments": {},
   "cell_type": "markdown",
   "id": "79e7713e",
   "metadata": {
    "papermill": {
     "duration": 0.040283,
     "end_time": "2023-03-20T08:47:41.251807",
     "exception": false,
     "start_time": "2023-03-20T08:47:41.211524",
     "status": "completed"
    },
    "tags": []
   },
   "source": [
    "The target column seems to follow a log-normal distribution. We consider using the log of `SalePrice` instead so that the errors in predicting cheap and expensive houses are more even. Predicting log of `SalePrice` (which now takes both positive and negative values) also make certain models like linear regression viable. This is supported by the normal Q-Q plot below."
   ]
  },
  {
   "cell_type": "code",
   "execution_count": null,
   "id": "307988cf",
   "metadata": {
    "execution": {
     "iopub.execute_input": "2023-03-20T08:47:41.335193Z",
     "iopub.status.busy": "2023-03-20T08:47:41.334772Z",
     "iopub.status.idle": "2023-03-20T08:47:42.092740Z",
     "shell.execute_reply": "2023-03-20T08:47:42.091479Z"
    },
    "papermill": {
     "duration": 0.802945,
     "end_time": "2023-03-20T08:47:42.095553",
     "exception": false,
     "start_time": "2023-03-20T08:47:41.292608",
     "status": "completed"
    },
    "tags": []
   },
   "outputs": [],
   "source": [
    "plt.figure(figsize=(18, 4.5))\n",
    "\n",
    "plt.subplot(121)\n",
    "sns.histplot(y_train, bins=20, kde=True)\n",
    "plt.title(\"Distribution of SalePrice\", fontsize=\"large\")\n",
    "\n",
    "plt.subplot(122)\n",
    "sns.histplot(np.log1p(y_train), bins=20, kde=True, color=\"orange\")\n",
    "plt.xlabel(\"log(SalePrice)\")\n",
    "plt.title(\"Distribution of log(SalePrice)\", fontsize=\"large\")\n",
    "\n",
    "plt.tight_layout()\n",
    "plt.show()"
   ]
  },
  {
   "cell_type": "code",
   "execution_count": null,
   "id": "20d22161",
   "metadata": {
    "execution": {
     "iopub.execute_input": "2023-03-20T08:47:42.184029Z",
     "iopub.status.busy": "2023-03-20T08:47:42.182876Z",
     "iopub.status.idle": "2023-03-20T08:47:42.772017Z",
     "shell.execute_reply": "2023-03-20T08:47:42.770712Z"
    },
    "papermill": {
     "duration": 0.635921,
     "end_time": "2023-03-20T08:47:42.774716",
     "exception": false,
     "start_time": "2023-03-20T08:47:42.138795",
     "status": "completed"
    },
    "tags": []
   },
   "outputs": [],
   "source": [
    "fig = plt.figure(figsize=(18, 4.5))\n",
    "\n",
    "ax = fig.add_subplot(121)\n",
    "probplot(y_train, plot=ax)\n",
    "plt.title(\"Normal Q-Q Plot of SalePrice\", fontsize=\"large\")\n",
    "\n",
    "ax = fig.add_subplot(122)\n",
    "probplot(np.log1p(y_train), plot=ax)\n",
    "plt.title(\"Normal Q-Q Plot of log(SalePrice)\", fontsize=\"large\")\n",
    "\n",
    "plt.tight_layout()\n",
    "plt.show()"
   ]
  },
  {
   "cell_type": "code",
   "execution_count": null,
   "id": "da1546e5",
   "metadata": {
    "execution": {
     "iopub.execute_input": "2023-03-20T08:47:42.864247Z",
     "iopub.status.busy": "2023-03-20T08:47:42.863837Z",
     "iopub.status.idle": "2023-03-20T08:47:42.869664Z",
     "shell.execute_reply": "2023-03-20T08:47:42.868439Z"
    },
    "papermill": {
     "duration": 0.053341,
     "end_time": "2023-03-20T08:47:42.872166",
     "exception": false,
     "start_time": "2023-03-20T08:47:42.818825",
     "status": "completed"
    },
    "scrolled": true,
    "tags": []
   },
   "outputs": [],
   "source": [
    "y_train = np.log1p(y_train).rename(\"LogSalePrice\")"
   ]
  },
  {
   "attachments": {},
   "cell_type": "markdown",
   "id": "d8057c01",
   "metadata": {
    "papermill": {
     "duration": 0.043633,
     "end_time": "2023-03-20T08:47:42.960875",
     "exception": false,
     "start_time": "2023-03-20T08:47:42.917242",
     "status": "completed"
    },
    "tags": []
   },
   "source": [
    "### Date features."
   ]
  },
  {
   "attachments": {},
   "cell_type": "markdown",
   "id": "1d43d625",
   "metadata": {
    "papermill": {
     "duration": 0.043168,
     "end_time": "2023-03-20T08:47:43.048062",
     "exception": false,
     "start_time": "2023-03-20T08:47:43.004894",
     "status": "completed"
    },
    "tags": []
   },
   "source": [
    "__Features transformed__\n",
    "* None.\n",
    "\n",
    "__Features added__\n",
    "* (`BltToSold`, `RemodToSold`, `GrgBltToSold`) — computed by taking the difference between `YrSold` and each of (`YearBuilt`, `YearRemodAdd`, `GarageYrBlt`) respectively. We expect that newer houses or houses that are recently remodeled are more expensive. The same applies for newer garages.\n",
    "\n",
    "* `SeasSold` — computed by grouping the months into the corresponding seasons: spring, summer, autumn, winter. We expect that house sales may have seasonal patterns, and this also helps reduce the number of categories.\n",
    "\n",
    "__Features removed__\n",
    "* `YearBuilt`, `YearRemodAdd`, `GarageYrBlt`, `MoSold`, `SeasSold`, `YrSold`."
   ]
  },
  {
   "cell_type": "code",
   "execution_count": null,
   "id": "6ac8647d",
   "metadata": {
    "execution": {
     "iopub.execute_input": "2023-03-20T08:47:43.137415Z",
     "iopub.status.busy": "2023-03-20T08:47:43.137030Z",
     "iopub.status.idle": "2023-03-20T08:47:44.872537Z",
     "shell.execute_reply": "2023-03-20T08:47:44.871243Z"
    },
    "papermill": {
     "duration": 1.788148,
     "end_time": "2023-03-20T08:47:44.879877",
     "exception": false,
     "start_time": "2023-03-20T08:47:43.091729",
     "status": "completed"
    },
    "tags": []
   },
   "outputs": [],
   "source": [
    "YR_COL = [\"YearBuilt\", \"YearRemodAdd\", \"GarageYrBlt\"]\n",
    "RENAME_YR = {\n",
    "    \"YearBuilt\": \"BltToSold\",\n",
    "    \"YearRemodAdd\": \"RemodToSold\",\n",
    "    \"GarageYrBlt\": \"GrgBltToSold\",\n",
    "}\n",
    "\n",
    "X_train[YR_COL] = (-X_train[YR_COL].sub(X_train.YrSold, axis=0)).astype(float)\n",
    "X_test[YR_COL] = (-X_test[YR_COL].sub(X_test.YrSold, axis=0)).astype(float)\n",
    "\n",
    "X_train = X_train.rename(columns=RENAME_YR)\n",
    "X_test = X_test.rename(columns=RENAME_YR)\n",
    "\n",
    "multi_regplot(X_train, y_train, cols=RENAME_YR.values())"
   ]
  },
  {
   "cell_type": "code",
   "execution_count": null,
   "id": "335c44a0",
   "metadata": {
    "execution": {
     "iopub.execute_input": "2023-03-20T08:47:44.988130Z",
     "iopub.status.busy": "2023-03-20T08:47:44.986923Z",
     "iopub.status.idle": "2023-03-20T08:47:44.993008Z",
     "shell.execute_reply": "2023-03-20T08:47:44.991957Z"
    },
    "papermill": {
     "duration": 0.062101,
     "end_time": "2023-03-20T08:47:44.995517",
     "exception": false,
     "start_time": "2023-03-20T08:47:44.933416",
     "status": "completed"
    },
    "tags": []
   },
   "outputs": [],
   "source": [
    "def month_to_season(mth):\n",
    "    assert mth>=0 and mth<=12\n",
    "    if mth==12 or mth<=2:\n",
    "        return \"winter\"\n",
    "    elif mth<=5:\n",
    "        return \"spring\"\n",
    "    elif mth<=8:\n",
    "        return \"summer\"\n",
    "    else:\n",
    "        return \"autumn\""
   ]
  },
  {
   "cell_type": "code",
   "execution_count": null,
   "id": "c7a76544",
   "metadata": {
    "execution": {
     "iopub.execute_input": "2023-03-20T08:47:45.099188Z",
     "iopub.status.busy": "2023-03-20T08:47:45.098031Z",
     "iopub.status.idle": "2023-03-20T08:47:46.794677Z",
     "shell.execute_reply": "2023-03-20T08:47:46.793124Z"
    },
    "papermill": {
     "duration": 1.75193,
     "end_time": "2023-03-20T08:47:46.797589",
     "exception": false,
     "start_time": "2023-03-20T08:47:45.045659",
     "status": "completed"
    },
    "tags": []
   },
   "outputs": [],
   "source": [
    "X_train[\"SeasSold\"] = X_train.MoSold.apply(month_to_season)\n",
    "X_test[\"SeasSold\"] = X_test.MoSold.apply(month_to_season)\n",
    "\n",
    "multi_catplot(X_train, y_train, cols=[\"MoSold\", \"SeasSold\"])"
   ]
  },
  {
   "cell_type": "code",
   "execution_count": null,
   "id": "4035f0de",
   "metadata": {
    "execution": {
     "iopub.execute_input": "2023-03-20T08:47:46.909719Z",
     "iopub.status.busy": "2023-03-20T08:47:46.909243Z",
     "iopub.status.idle": "2023-03-20T08:47:46.920259Z",
     "shell.execute_reply": "2023-03-20T08:47:46.919269Z"
    },
    "papermill": {
     "duration": 0.068639,
     "end_time": "2023-03-20T08:47:46.922651",
     "exception": false,
     "start_time": "2023-03-20T08:47:46.854012",
     "status": "completed"
    },
    "tags": []
   },
   "outputs": [],
   "source": [
    "X_train = X_train.drop(columns=[\"MoSold\", \"SeasSold\"], errors=\"ignore\")\n",
    "X_test = X_test.drop(columns=[\"MoSold\", \"SeasSold\"], errors=\"ignore\")"
   ]
  },
  {
   "cell_type": "code",
   "execution_count": null,
   "id": "af8df9a9",
   "metadata": {
    "execution": {
     "iopub.execute_input": "2023-03-20T08:47:47.034742Z",
     "iopub.status.busy": "2023-03-20T08:47:47.033641Z",
     "iopub.status.idle": "2023-03-20T08:47:47.682463Z",
     "shell.execute_reply": "2023-03-20T08:47:47.681194Z"
    },
    "papermill": {
     "duration": 0.707769,
     "end_time": "2023-03-20T08:47:47.685218",
     "exception": false,
     "start_time": "2023-03-20T08:47:46.977449",
     "status": "completed"
    },
    "tags": []
   },
   "outputs": [],
   "source": [
    "multi_catplot(X_train, y_train, cols=[\"YrSold\"])"
   ]
  },
  {
   "cell_type": "code",
   "execution_count": null,
   "id": "c296af24",
   "metadata": {
    "execution": {
     "iopub.execute_input": "2023-03-20T08:47:47.799322Z",
     "iopub.status.busy": "2023-03-20T08:47:47.798291Z",
     "iopub.status.idle": "2023-03-20T08:47:47.807133Z",
     "shell.execute_reply": "2023-03-20T08:47:47.806047Z"
    },
    "papermill": {
     "duration": 0.067075,
     "end_time": "2023-03-20T08:47:47.809450",
     "exception": false,
     "start_time": "2023-03-20T08:47:47.742375",
     "status": "completed"
    },
    "tags": []
   },
   "outputs": [],
   "source": [
    "X_train = X_train.drop(columns=[\"YrSold\"], errors=\"ignore\")\n",
    "X_test = X_test.drop(columns=[\"YrSold\"], errors=\"ignore\")"
   ]
  },
  {
   "attachments": {},
   "cell_type": "markdown",
   "id": "52953a3f",
   "metadata": {
    "papermill": {
     "duration": 0.054783,
     "end_time": "2023-03-20T08:47:47.918623",
     "exception": false,
     "start_time": "2023-03-20T08:47:47.863840",
     "status": "completed"
    },
    "tags": []
   },
   "source": [
    "### Outdoor area features."
   ]
  },
  {
   "attachments": {},
   "cell_type": "markdown",
   "id": "08ccf369",
   "metadata": {
    "papermill": {
     "duration": 0.054468,
     "end_time": "2023-03-20T08:47:48.027389",
     "exception": false,
     "start_time": "2023-03-20T08:47:47.972921",
     "status": "completed"
    },
    "tags": []
   },
   "source": [
    "__Features transformed__\n",
    "* None.\n",
    "\n",
    "__Features added__\n",
    "* `OutArea` — computed by summing (`OpenPorchSF`, `EnclosedPorch`, `3SsnPorch`, `ScreenPorch`, `WoodDeckSF`) to indicate the total outdoor area of the house.\n",
    "\n",
    "* `NumOutType` — computed by counting how many of each (`OpenPorchSF`, `EnclosedPorch`, `3SsnPorch`, `ScreenPorch`, `WoodDeckSF`) are greater than 0. This is an alternative to `OutArea`; instead of looking at the exact area, we count the types of outdoor structures the house has.\n",
    "\n",
    "* (`HasOpenPorch`, `HasEnclosedPorch`, `Has3SsnPorch`, `HasScreenPorch`, `HasWoodDeck`) — indicator columns for each of (`OpenPorchSF`, `EnclosedPorch`, `3SsnPorch`, `ScreenPorch`, `WoodDeckSF`) respectively.\n",
    "\n",
    "__Features removed__\n",
    "* `OpenPorchSF`, `EnclosedPorch`, `3SsnPorch`, `ScreenPorch`, `WoodDeckSF`, `Has3SsnPorch`."
   ]
  },
  {
   "cell_type": "code",
   "execution_count": null,
   "id": "1b87a2cd",
   "metadata": {
    "execution": {
     "iopub.execute_input": "2023-03-20T08:47:48.139293Z",
     "iopub.status.busy": "2023-03-20T08:47:48.138475Z",
     "iopub.status.idle": "2023-03-20T08:47:51.489427Z",
     "shell.execute_reply": "2023-03-20T08:47:51.487968Z"
    },
    "papermill": {
     "duration": 3.415168,
     "end_time": "2023-03-20T08:47:51.496778",
     "exception": false,
     "start_time": "2023-03-20T08:47:48.081610",
     "status": "completed"
    },
    "tags": []
   },
   "outputs": [],
   "source": [
    "OUT_COL = [col for col in X_train.columns if \"Porch\" in col] + [\"WoodDeckSF\"]\n",
    "print(OUT_COL)\n",
    "\n",
    "X_train[\"OutArea\"] = X_train[OUT_COL].sum(axis=1)\n",
    "X_test[\"OutArea\"] = X_test[OUT_COL].sum(axis=1)\n",
    "\n",
    "multi_regplot(X_train, y_train, cols=OUT_COL+[\"OutArea\"])"
   ]
  },
  {
   "cell_type": "code",
   "execution_count": null,
   "id": "7b4338d6",
   "metadata": {
    "execution": {
     "iopub.execute_input": "2023-03-20T08:47:51.628377Z",
     "iopub.status.busy": "2023-03-20T08:47:51.627534Z",
     "iopub.status.idle": "2023-03-20T08:47:52.259765Z",
     "shell.execute_reply": "2023-03-20T08:47:52.258406Z"
    },
    "papermill": {
     "duration": 0.700714,
     "end_time": "2023-03-20T08:47:52.262609",
     "exception": false,
     "start_time": "2023-03-20T08:47:51.561895",
     "status": "completed"
    },
    "tags": []
   },
   "outputs": [],
   "source": [
    "X_train[\"NumOutType\"] = (X_train[OUT_COL]>0).sum(axis=1)\n",
    "X_test[\"NumOutType\"] = (X_test[OUT_COL]>0).sum(axis=1)\n",
    "\n",
    "multi_catplot(X_train, y_train, cols=[\"NumOutType\"])"
   ]
  },
  {
   "cell_type": "code",
   "execution_count": null,
   "id": "6c9a7cac",
   "metadata": {
    "execution": {
     "iopub.execute_input": "2023-03-20T08:47:52.393511Z",
     "iopub.status.busy": "2023-03-20T08:47:52.393117Z",
     "iopub.status.idle": "2023-03-20T08:47:55.179683Z",
     "shell.execute_reply": "2023-03-20T08:47:55.178400Z"
    },
    "papermill": {
     "duration": 2.853817,
     "end_time": "2023-03-20T08:47:55.182359",
     "exception": false,
     "start_time": "2023-03-20T08:47:52.328542",
     "status": "completed"
    },
    "tags": []
   },
   "outputs": [],
   "source": [
    "OUT_REPLACE = {\n",
    "    \"OpenPorchSF\": \"HasOpenPorch\",\n",
    "    \"EnclosedPorch\": \"HasEnclosedPorch\",\n",
    "    \"3SsnPorch\": \"Has3SsnPorch\",\n",
    "    \"ScreenPorch\": \"HasScreenPorch\",\n",
    "    \"WoodDeckSF\": \"HasWoodDeck\",\n",
    "}\n",
    "\n",
    "X_train[OUT_COL] = (X_train[OUT_COL]>0).replace({True: \"Yes\", False: \"No\"})\n",
    "X_test[OUT_COL] = (X_test[OUT_COL]>0).replace({True: \"Yes\", False: \"No\"})\n",
    "\n",
    "X_train = X_train.rename(columns=OUT_REPLACE)\n",
    "X_test = X_test.rename(columns=OUT_REPLACE)\n",
    "\n",
    "multi_catplot(X_train, y_train, cols=OUT_REPLACE.values())"
   ]
  },
  {
   "cell_type": "code",
   "execution_count": null,
   "id": "39cfa333",
   "metadata": {
    "execution": {
     "iopub.execute_input": "2023-03-20T08:47:55.323826Z",
     "iopub.status.busy": "2023-03-20T08:47:55.323426Z",
     "iopub.status.idle": "2023-03-20T08:47:55.331461Z",
     "shell.execute_reply": "2023-03-20T08:47:55.330530Z"
    },
    "papermill": {
     "duration": 0.080338,
     "end_time": "2023-03-20T08:47:55.333686",
     "exception": false,
     "start_time": "2023-03-20T08:47:55.253348",
     "status": "completed"
    },
    "tags": []
   },
   "outputs": [],
   "source": [
    "X_train = X_train.drop(columns=[\"Has3SsnPorch\"], errors=\"ignore\")\n",
    "X_test = X_test.drop(columns=[\"Has3SsnPorch\"], errors=\"ignore\")"
   ]
  },
  {
   "attachments": {},
   "cell_type": "markdown",
   "id": "9bc5bc78",
   "metadata": {
    "papermill": {
     "duration": 0.084585,
     "end_time": "2023-03-20T08:47:55.494511",
     "exception": false,
     "start_time": "2023-03-20T08:47:55.409926",
     "status": "completed"
    },
    "tags": []
   },
   "source": [
    "### Pool features."
   ]
  },
  {
   "attachments": {},
   "cell_type": "markdown",
   "id": "3c07daca",
   "metadata": {
    "papermill": {
     "duration": 0.067243,
     "end_time": "2023-03-20T08:47:55.628998",
     "exception": false,
     "start_time": "2023-03-20T08:47:55.561755",
     "status": "completed"
    },
    "tags": []
   },
   "source": [
    "__Features transformed__\n",
    "* None.\n",
    "\n",
    "__Features added__\n",
    "* None.\n",
    "\n",
    "__Features removed__\n",
    "* `PoolArea`, `PoolQC`."
   ]
  },
  {
   "cell_type": "code",
   "execution_count": null,
   "id": "bba05965",
   "metadata": {
    "execution": {
     "iopub.execute_input": "2023-03-20T08:47:55.768185Z",
     "iopub.status.busy": "2023-03-20T08:47:55.767762Z",
     "iopub.status.idle": "2023-03-20T08:47:57.198187Z",
     "shell.execute_reply": "2023-03-20T08:47:57.196877Z"
    },
    "papermill": {
     "duration": 1.503758,
     "end_time": "2023-03-20T08:47:57.200944",
     "exception": false,
     "start_time": "2023-03-20T08:47:55.697186",
     "status": "completed"
    },
    "tags": []
   },
   "outputs": [],
   "source": [
    "multi_regplot(X_train, y_train, cols=[\"PoolArea\"])\n",
    "multi_catplot(X_train, y_train, cols=[\"PoolQC\"])"
   ]
  },
  {
   "cell_type": "code",
   "execution_count": null,
   "id": "ece46b78",
   "metadata": {
    "execution": {
     "iopub.execute_input": "2023-03-20T08:47:57.354971Z",
     "iopub.status.busy": "2023-03-20T08:47:57.354504Z",
     "iopub.status.idle": "2023-03-20T08:47:57.364716Z",
     "shell.execute_reply": "2023-03-20T08:47:57.363420Z"
    },
    "papermill": {
     "duration": 0.092043,
     "end_time": "2023-03-20T08:47:57.367314",
     "exception": false,
     "start_time": "2023-03-20T08:47:57.275271",
     "status": "completed"
    },
    "tags": []
   },
   "outputs": [],
   "source": [
    "X_train = X_train.drop(columns=[\"PoolArea\", \"PoolQC\"], errors=\"ignore\")\n",
    "X_test = X_test.drop(columns=[\"PoolArea\", \"PoolQC\"], errors=\"ignore\")"
   ]
  },
  {
   "attachments": {},
   "cell_type": "markdown",
   "id": "089c3b01",
   "metadata": {
    "papermill": {
     "duration": 0.072324,
     "end_time": "2023-03-20T08:47:57.509938",
     "exception": false,
     "start_time": "2023-03-20T08:47:57.437614",
     "status": "completed"
    },
    "tags": []
   },
   "source": [
    "### Indoor area features."
   ]
  },
  {
   "attachments": {},
   "cell_type": "markdown",
   "id": "771e9f27",
   "metadata": {
    "papermill": {
     "duration": 0.069285,
     "end_time": "2023-03-20T08:47:57.649415",
     "exception": false,
     "start_time": "2023-03-20T08:47:57.580130",
     "status": "completed"
    },
    "tags": []
   },
   "source": [
    "It is worth noting that `TotalBsmtSF`=`BsmtFinSF1`+`BsmtFinSF2`+`BsmtUnfSF` and `GrLivArea`=`1stFlrSF`+`2ndFlrSF`+`LowQualFinSF`.\n",
    "\n",
    "__Features transformed__\n",
    "* None.\n",
    "\n",
    "__Features added__\n",
    "* (`Has2ndFlr`, `HasBsmt`) — indicator columns for each of (`2ndFlrSF`, `TotalBsmtSF`) respectively.\n",
    "\n",
    "__Features removed__\n",
    "* `BsmtFinSF2`, `LowQualFinSF`."
   ]
  },
  {
   "cell_type": "code",
   "execution_count": null,
   "id": "d7d96baa",
   "metadata": {
    "execution": {
     "iopub.execute_input": "2023-03-20T08:47:57.791517Z",
     "iopub.status.busy": "2023-03-20T08:47:57.791121Z",
     "iopub.status.idle": "2023-03-20T08:48:02.509665Z",
     "shell.execute_reply": "2023-03-20T08:48:02.508488Z"
    },
    "papermill": {
     "duration": 4.800057,
     "end_time": "2023-03-20T08:48:02.519189",
     "exception": false,
     "start_time": "2023-03-20T08:47:57.719132",
     "status": "completed"
    },
    "tags": []
   },
   "outputs": [],
   "source": [
    "IN_COL = [col for col in X_train if \"SF\" in col and not col in OUT_COL] + [\"GrLivArea\"]\n",
    "print(IN_COL)\n",
    "\n",
    "multi_regplot(X_train, y_train, cols=IN_COL)"
   ]
  },
  {
   "cell_type": "code",
   "execution_count": null,
   "id": "b631f7dc",
   "metadata": {
    "execution": {
     "iopub.execute_input": "2023-03-20T08:48:02.694889Z",
     "iopub.status.busy": "2023-03-20T08:48:02.694434Z",
     "iopub.status.idle": "2023-03-20T08:48:03.715424Z",
     "shell.execute_reply": "2023-03-20T08:48:03.713901Z"
    },
    "papermill": {
     "duration": 1.112782,
     "end_time": "2023-03-20T08:48:03.718073",
     "exception": false,
     "start_time": "2023-03-20T08:48:02.605291",
     "status": "completed"
    },
    "tags": []
   },
   "outputs": [],
   "source": [
    "X_train[\"Has2ndFlr\"] = X_train[\"2ndFlrSF\"].apply(lambda x: \"Yes\" if x>0 else \"No\")\n",
    "X_test[\"Has2ndFlr\"] = X_test[\"2ndFlrSF\"].apply(lambda x: \"Yes\" if x>0 else \"No\")\n",
    "\n",
    "X_train[\"HasBsmt\"] = X_train.TotalBsmtSF.apply(lambda x: \"Yes\" if x>0 else \"No\")\n",
    "X_test[\"HasBsmt\"] = X_test.TotalBsmtSF.apply(lambda x: \"Yes\" if x>0 else \"No\")\n",
    "\n",
    "multi_catplot(X_train, y_train, cols=[\"Has2ndFlr\", \"HasBsmt\"])"
   ]
  },
  {
   "cell_type": "code",
   "execution_count": null,
   "id": "b9378f59",
   "metadata": {
    "execution": {
     "iopub.execute_input": "2023-03-20T08:48:03.893312Z",
     "iopub.status.busy": "2023-03-20T08:48:03.892561Z",
     "iopub.status.idle": "2023-03-20T08:48:03.904464Z",
     "shell.execute_reply": "2023-03-20T08:48:03.903129Z"
    },
    "papermill": {
     "duration": 0.100446,
     "end_time": "2023-03-20T08:48:03.907493",
     "exception": false,
     "start_time": "2023-03-20T08:48:03.807047",
     "status": "completed"
    },
    "tags": []
   },
   "outputs": [],
   "source": [
    "X_train = X_train.drop(columns=[\"BsmtFinSF2\", \"LowQualFinSF\"], errors=\"ignore\")\n",
    "X_test = X_test.drop(columns=[\"BsmtFinSF2\", \"LowQualFinSF\"], errors=\"ignore\")"
   ]
  },
  {
   "attachments": {},
   "cell_type": "markdown",
   "id": "c205b49b",
   "metadata": {
    "papermill": {
     "duration": 0.082981,
     "end_time": "2023-03-20T08:48:04.072346",
     "exception": false,
     "start_time": "2023-03-20T08:48:03.989365",
     "status": "completed"
    },
    "tags": []
   },
   "source": [
    "### Other basement features."
   ]
  },
  {
   "attachments": {},
   "cell_type": "markdown",
   "id": "93a0f4f4",
   "metadata": {
    "papermill": {
     "duration": 0.082901,
     "end_time": "2023-03-20T08:48:04.238369",
     "exception": false,
     "start_time": "2023-03-20T08:48:04.155468",
     "status": "completed"
    },
    "tags": []
   },
   "source": [
    "__Features transformed__\n",
    "* None.\n",
    "\n",
    "__Features added__\n",
    "* None.\n",
    "\n",
    "__Features removed__\n",
    "* None."
   ]
  },
  {
   "cell_type": "code",
   "execution_count": null,
   "id": "a970b550",
   "metadata": {
    "execution": {
     "iopub.execute_input": "2023-03-20T08:48:04.404549Z",
     "iopub.status.busy": "2023-03-20T08:48:04.404172Z",
     "iopub.status.idle": "2023-03-20T08:48:08.026786Z",
     "shell.execute_reply": "2023-03-20T08:48:08.025443Z"
    },
    "papermill": {
     "duration": 3.709005,
     "end_time": "2023-03-20T08:48:08.029599",
     "exception": false,
     "start_time": "2023-03-20T08:48:04.320594",
     "status": "completed"
    },
    "tags": []
   },
   "outputs": [],
   "source": [
    "BSMT_COL = [\n",
    "    col for col in X_train.columns \n",
    "    if (not col in IN_COL+[\"HasBsmt\"])\n",
    "    and (\"Bsmt\" in col)\n",
    "    and (not \"Bath\" in col)\n",
    "]\n",
    "print(BSMT_COL)\n",
    "\n",
    "multi_catplot(X_train, y_train, BSMT_COL)"
   ]
  },
  {
   "attachments": {},
   "cell_type": "markdown",
   "id": "f3a4df17",
   "metadata": {
    "papermill": {
     "duration": 0.0951,
     "end_time": "2023-03-20T08:48:08.217566",
     "exception": false,
     "start_time": "2023-03-20T08:48:08.122466",
     "status": "completed"
    },
    "tags": []
   },
   "source": [
    "### Bathroom features."
   ]
  },
  {
   "attachments": {},
   "cell_type": "markdown",
   "id": "d8207f2c",
   "metadata": {
    "papermill": {
     "duration": 0.088841,
     "end_time": "2023-03-20T08:48:08.396921",
     "exception": false,
     "start_time": "2023-03-20T08:48:08.308080",
     "status": "completed"
    },
    "tags": []
   },
   "source": [
    "__Features transformed__\n",
    "* None.\n",
    "\n",
    "__Features added__\n",
    "* (`TtlFullBath`, `TtlHalfBath`) — computed by summing (`FullBath`, `BsmtFullBath`) and (`HalfBath`, `BsmtHalfBath`) respectively.\n",
    "\n",
    "* `TtlBath` — computed by summing `TtlFullBath` and `TtlHalfBath`. We multiply 0.5 to `TtlHalfBath` because full bathrooms and half bathrooms are fundamentally different. This acts as an approximation.\n",
    "\n",
    "* `HasHalfBath` — indicator column for `TtlHalfBath`. Having half bathrooms may be seen as additional feature that is good to have in a house.\n",
    "\n",
    "* `HasBsmtBath` — indicator column computed by checking if the sum of (`BsmtFullBath`, `BsmtHalfBath`) is greater than 0. Similarly, this may be seen as an additional feature.\n",
    "\n",
    "__Features removed__\n",
    "* `BsmtFullBath`, `BsmtHalfBath`."
   ]
  },
  {
   "cell_type": "code",
   "execution_count": null,
   "id": "7a2767fa",
   "metadata": {
    "execution": {
     "iopub.execute_input": "2023-03-20T08:48:08.577372Z",
     "iopub.status.busy": "2023-03-20T08:48:08.576961Z",
     "iopub.status.idle": "2023-03-20T08:48:12.453748Z",
     "shell.execute_reply": "2023-03-20T08:48:12.452482Z"
    },
    "papermill": {
     "duration": 3.97096,
     "end_time": "2023-03-20T08:48:12.457087",
     "exception": false,
     "start_time": "2023-03-20T08:48:08.486127",
     "status": "completed"
    },
    "tags": []
   },
   "outputs": [],
   "source": [
    "FULLBATH_COL = [\"FullBath\", \"BsmtFullBath\"]\n",
    "HALFBATH_COL = [\"HalfBath\", \"BsmtHalfBath\"]\n",
    "\n",
    "X_train[\"TtlFullBath\"] = X_train[FULLBATH_COL].sum(axis=1)\n",
    "X_test[\"TtlFullBath\"] = X_test[FULLBATH_COL].sum(axis=1)\n",
    "\n",
    "X_train[\"TtlHalfBath\"] = X_train[HALFBATH_COL].sum(axis=1)\n",
    "X_test[\"TtlHalfBath\"] = X_test[HALFBATH_COL].sum(axis=1)\n",
    "\n",
    "X_train[\"TtlBath\"] = X_train.TtlFullBath + 0.5*X_train.TtlHalfBath\n",
    "X_test[\"TtlBath\"] = X_test.TtlFullBath + 0.5*X_test.TtlHalfBath\n",
    "\n",
    "BATH_COL = [col for col in X_train.columns if \"Bath\" in col]\n",
    "print(BATH_COL)\n",
    "\n",
    "multi_catplot(X_train, y_train, cols=BATH_COL)"
   ]
  },
  {
   "cell_type": "code",
   "execution_count": null,
   "id": "aaa79dfc",
   "metadata": {
    "execution": {
     "iopub.execute_input": "2023-03-20T08:48:12.658530Z",
     "iopub.status.busy": "2023-03-20T08:48:12.658118Z",
     "iopub.status.idle": "2023-03-20T08:48:13.733362Z",
     "shell.execute_reply": "2023-03-20T08:48:13.731954Z"
    },
    "papermill": {
     "duration": 1.177365,
     "end_time": "2023-03-20T08:48:13.736296",
     "exception": false,
     "start_time": "2023-03-20T08:48:12.558931",
     "status": "completed"
    },
    "tags": []
   },
   "outputs": [],
   "source": [
    "X_train[\"HasHalfBath\"] = X_train[HALFBATH_COL].sum(axis=1).apply(lambda x: \"Yes\" if x>0 else \"No\")\n",
    "X_test[\"HasHalfBath\"] = X_test[HALFBATH_COL].sum(axis=1).apply(lambda x: \"Yes\" if x>0 else \"No\")\n",
    "\n",
    "X_train[\"HasBsmtBath\"] = X_train[[\"BsmtFullBath\", \"BsmtHalfBath\"]].sum(axis=1).apply(lambda x: \"Yes\" if x>0 else \"No\")\n",
    "X_test[\"HasBsmtBath\"] = X_test[[\"BsmtFullBath\", \"BsmtHalfBath\"]].sum(axis=1).apply(lambda x: \"Yes\" if x>0 else \"No\")\n",
    "\n",
    "multi_catplot(X_train, y_train, cols=[\"HasHalfBath\", \"HasBsmtBath\"])"
   ]
  },
  {
   "cell_type": "code",
   "execution_count": null,
   "id": "c73a065b",
   "metadata": {
    "execution": {
     "iopub.execute_input": "2023-03-20T08:48:13.942436Z",
     "iopub.status.busy": "2023-03-20T08:48:13.942020Z",
     "iopub.status.idle": "2023-03-20T08:48:13.954504Z",
     "shell.execute_reply": "2023-03-20T08:48:13.953060Z"
    },
    "papermill": {
     "duration": 0.117638,
     "end_time": "2023-03-20T08:48:13.957304",
     "exception": false,
     "start_time": "2023-03-20T08:48:13.839666",
     "status": "completed"
    },
    "tags": []
   },
   "outputs": [],
   "source": [
    "X_train = X_train.drop(columns=[\"BsmtFullBath\", \"BsmtHalfBath\"], errors=\"ignore\")\n",
    "X_test = X_test.drop(columns=[\"BsmtFullBath\", \"BsmtHalfBath\"], errors=\"ignore\")"
   ]
  },
  {
   "attachments": {},
   "cell_type": "markdown",
   "id": "147e1a33",
   "metadata": {
    "papermill": {
     "duration": 0.098133,
     "end_time": "2023-03-20T08:48:14.153319",
     "exception": false,
     "start_time": "2023-03-20T08:48:14.055186",
     "status": "completed"
    },
    "tags": []
   },
   "source": [
    "### Room features (excluding bathrooms)."
   ]
  },
  {
   "attachments": {},
   "cell_type": "markdown",
   "id": "015c4e9b",
   "metadata": {
    "papermill": {
     "duration": 0.097259,
     "end_time": "2023-03-20T08:48:14.348634",
     "exception": false,
     "start_time": "2023-03-20T08:48:14.251375",
     "status": "completed"
    },
    "tags": []
   },
   "source": [
    "__Features transformed__\n",
    "* None.\n",
    "\n",
    "__Features added__\n",
    "* `OtherRms` — computed by subtracting `BedroomAbvGr` and `KitchenAbvGr` from `TotRmsAbvGrd`. Because kitchens and bedrooms are essentials in houses, may be good to know how many additional rooms there are instead.\n",
    "\n",
    "__Features removed__\n",
    "* `KitchenAbvGr`."
   ]
  },
  {
   "cell_type": "code",
   "execution_count": null,
   "id": "21179d17",
   "metadata": {
    "execution": {
     "iopub.execute_input": "2023-03-20T08:48:14.544141Z",
     "iopub.status.busy": "2023-03-20T08:48:14.543351Z",
     "iopub.status.idle": "2023-03-20T08:48:17.205580Z",
     "shell.execute_reply": "2023-03-20T08:48:17.204423Z"
    },
    "papermill": {
     "duration": 2.7632,
     "end_time": "2023-03-20T08:48:17.208305",
     "exception": false,
     "start_time": "2023-03-20T08:48:14.445105",
     "status": "completed"
    },
    "tags": []
   },
   "outputs": [],
   "source": [
    "ROOM_COL = [\"TotRmsAbvGrd\", \"BedroomAbvGr\", \"KitchenAbvGr\"]\n",
    "\n",
    "X_train[\"OtherRms\"] = X_train.TotRmsAbvGrd-X_train.BedroomAbvGr-X_train.KitchenAbvGr\n",
    "X_test[\"OtherRms\"] = X_test.TotRmsAbvGrd-X_test.BedroomAbvGr-X_test.KitchenAbvGr\n",
    "\n",
    "multi_catplot(X_train, y_train, cols=ROOM_COL+[\"OtherRms\"])"
   ]
  },
  {
   "cell_type": "code",
   "execution_count": null,
   "id": "3f068474",
   "metadata": {
    "execution": {
     "iopub.execute_input": "2023-03-20T08:48:17.428158Z",
     "iopub.status.busy": "2023-03-20T08:48:17.427585Z",
     "iopub.status.idle": "2023-03-20T08:48:17.441218Z",
     "shell.execute_reply": "2023-03-20T08:48:17.439496Z"
    },
    "papermill": {
     "duration": 0.130092,
     "end_time": "2023-03-20T08:48:17.445901",
     "exception": false,
     "start_time": "2023-03-20T08:48:17.315809",
     "status": "completed"
    },
    "tags": []
   },
   "outputs": [],
   "source": [
    "X_train = X_train.drop(columns=[\"KitchenAbvGr\"], errors=\"ignore\")\n",
    "X_test = X_test.drop(columns=[\"KitchenAbvGr\"], errors=\"ignore\")"
   ]
  },
  {
   "cell_type": "code",
   "execution_count": null,
   "id": "f8c0afd7",
   "metadata": {
    "execution": {
     "iopub.execute_input": "2023-03-20T08:48:17.663638Z",
     "iopub.status.busy": "2023-03-20T08:48:17.663247Z",
     "iopub.status.idle": "2023-03-20T08:48:18.170921Z",
     "shell.execute_reply": "2023-03-20T08:48:18.169637Z"
    },
    "papermill": {
     "duration": 0.613885,
     "end_time": "2023-03-20T08:48:18.173809",
     "exception": false,
     "start_time": "2023-03-20T08:48:17.559924",
     "status": "completed"
    },
    "tags": []
   },
   "outputs": [],
   "source": [
    "multi_catplot(X_train, y_train, cols=[\"KitchenQual\"])"
   ]
  },
  {
   "attachments": {},
   "cell_type": "markdown",
   "id": "c8d0e1ef",
   "metadata": {
    "papermill": {
     "duration": 0.104594,
     "end_time": "2023-03-20T08:48:18.389879",
     "exception": false,
     "start_time": "2023-03-20T08:48:18.285285",
     "status": "completed"
    },
    "tags": []
   },
   "source": [
    "### Heating features."
   ]
  },
  {
   "attachments": {},
   "cell_type": "markdown",
   "id": "473778ca",
   "metadata": {
    "papermill": {
     "duration": 0.104115,
     "end_time": "2023-03-20T08:48:18.599079",
     "exception": false,
     "start_time": "2023-03-20T08:48:18.494964",
     "status": "completed"
    },
    "tags": []
   },
   "source": [
    "__Features transformed__\n",
    "* None.\n",
    "\n",
    "__Features added__\n",
    "* None.\n",
    "\n",
    "__Features removed__\n",
    "* `Heating`."
   ]
  },
  {
   "cell_type": "code",
   "execution_count": null,
   "id": "8ec3272f",
   "metadata": {
    "execution": {
     "iopub.execute_input": "2023-03-20T08:48:18.810216Z",
     "iopub.status.busy": "2023-03-20T08:48:18.809510Z",
     "iopub.status.idle": "2023-03-20T08:48:19.956256Z",
     "shell.execute_reply": "2023-03-20T08:48:19.954927Z"
    },
    "papermill": {
     "duration": 1.254651,
     "end_time": "2023-03-20T08:48:19.959435",
     "exception": false,
     "start_time": "2023-03-20T08:48:18.704784",
     "status": "completed"
    },
    "tags": []
   },
   "outputs": [],
   "source": [
    "HEATING_COL = [\"Heating\", \"HeatingQC\"]\n",
    "\n",
    "multi_catplot(X_train, y_train, cols=HEATING_COL)"
   ]
  },
  {
   "cell_type": "code",
   "execution_count": null,
   "id": "6d92fb43",
   "metadata": {
    "execution": {
     "iopub.execute_input": "2023-03-20T08:48:20.182314Z",
     "iopub.status.busy": "2023-03-20T08:48:20.180532Z",
     "iopub.status.idle": "2023-03-20T08:48:20.191161Z",
     "shell.execute_reply": "2023-03-20T08:48:20.189967Z"
    },
    "papermill": {
     "duration": 0.120613,
     "end_time": "2023-03-20T08:48:20.193911",
     "exception": false,
     "start_time": "2023-03-20T08:48:20.073298",
     "status": "completed"
    },
    "tags": []
   },
   "outputs": [],
   "source": [
    "X_train = X_train.drop(columns=[\"Heating\"], errors=\"ignore\")\n",
    "X_test = X_test.drop(columns=[\"Heating\"], errors=\"ignore\")"
   ]
  },
  {
   "attachments": {},
   "cell_type": "markdown",
   "id": "dd58d272",
   "metadata": {
    "papermill": {
     "duration": 0.10456,
     "end_time": "2023-03-20T08:48:20.404925",
     "exception": false,
     "start_time": "2023-03-20T08:48:20.300365",
     "status": "completed"
    },
    "tags": []
   },
   "source": [
    "### Fireplace features."
   ]
  },
  {
   "attachments": {},
   "cell_type": "markdown",
   "id": "656904ac",
   "metadata": {
    "papermill": {
     "duration": 0.104894,
     "end_time": "2023-03-20T08:48:20.616697",
     "exception": false,
     "start_time": "2023-03-20T08:48:20.511803",
     "status": "completed"
    },
    "tags": []
   },
   "source": [
    "__Features transformed__\n",
    "* None.\n",
    "\n",
    "__Features added__\n",
    "* `HasFirePlace` — indicator column for `Fireplaces`.\n",
    "\n",
    "__Features removed__\n",
    "* None."
   ]
  },
  {
   "cell_type": "code",
   "execution_count": null,
   "id": "eb68fe6b",
   "metadata": {
    "execution": {
     "iopub.execute_input": "2023-03-20T08:48:20.828001Z",
     "iopub.status.busy": "2023-03-20T08:48:20.827580Z",
     "iopub.status.idle": "2023-03-20T08:48:22.519688Z",
     "shell.execute_reply": "2023-03-20T08:48:22.518536Z"
    },
    "papermill": {
     "duration": 1.800796,
     "end_time": "2023-03-20T08:48:22.522009",
     "exception": false,
     "start_time": "2023-03-20T08:48:20.721213",
     "status": "completed"
    },
    "tags": []
   },
   "outputs": [],
   "source": [
    "FIREPLACE_COL = [\"Fireplaces\", \"FireplaceQu\"]\n",
    "\n",
    "X_train[\"HasFirePlace\"] = X_train.Fireplaces.apply(lambda x: \"Yes\" if x else \"No\")\n",
    "X_test[\"HasFirePlace\"] = X_test.Fireplaces.apply(lambda x: \"Yes\" if x else \"No\")\n",
    "\n",
    "multi_catplot(X_train, y_train, cols=FIREPLACE_COL+[\"HasFirePlace\"])"
   ]
  },
  {
   "attachments": {},
   "cell_type": "markdown",
   "id": "b4a6dc96",
   "metadata": {
    "papermill": {
     "duration": 0.107536,
     "end_time": "2023-03-20T08:48:22.743200",
     "exception": false,
     "start_time": "2023-03-20T08:48:22.635664",
     "status": "completed"
    },
    "tags": []
   },
   "source": [
    "### Garage features."
   ]
  },
  {
   "attachments": {},
   "cell_type": "markdown",
   "id": "18629d98",
   "metadata": {
    "papermill": {
     "duration": 0.107897,
     "end_time": "2023-03-20T08:48:22.958298",
     "exception": false,
     "start_time": "2023-03-20T08:48:22.850401",
     "status": "completed"
    },
    "tags": []
   },
   "source": [
    "__Features transformed__\n",
    "* `GarageType` — grouped some categories together.\n",
    "\n",
    "__Features added__\n",
    "* None.\n",
    "\n",
    "__Features removed__\n",
    "* `GarageCars` — removed because it gives the same information as `GarageArea`. `GarageArea` is kept as it is better at assuming continuous values."
   ]
  },
  {
   "cell_type": "code",
   "execution_count": null,
   "id": "c419c695",
   "metadata": {
    "execution": {
     "iopub.execute_input": "2023-03-20T08:48:23.177539Z",
     "iopub.status.busy": "2023-03-20T08:48:23.175981Z",
     "iopub.status.idle": "2023-03-20T08:48:25.795588Z",
     "shell.execute_reply": "2023-03-20T08:48:25.794295Z"
    },
    "papermill": {
     "duration": 2.732051,
     "end_time": "2023-03-20T08:48:25.798220",
     "exception": false,
     "start_time": "2023-03-20T08:48:23.066169",
     "status": "completed"
    },
    "tags": []
   },
   "outputs": [],
   "source": [
    "GARAGE_COL = [\n",
    "    col for col in X_train.columns \n",
    "    if \"Garage\" in col and not col in [\"GarageCars\", \"GarageArea\"]\n",
    "]\n",
    "print(GARAGE_COL)\n",
    "\n",
    "multi_catplot(X_train, y_train, cols=GARAGE_COL)"
   ]
  },
  {
   "cell_type": "code",
   "execution_count": null,
   "id": "f429d84a",
   "metadata": {
    "execution": {
     "iopub.execute_input": "2023-03-20T08:48:26.049719Z",
     "iopub.status.busy": "2023-03-20T08:48:26.049346Z",
     "iopub.status.idle": "2023-03-20T08:48:26.057154Z",
     "shell.execute_reply": "2023-03-20T08:48:26.056184Z"
    },
    "papermill": {
     "duration": 0.131235,
     "end_time": "2023-03-20T08:48:26.059590",
     "exception": false,
     "start_time": "2023-03-20T08:48:25.928355",
     "status": "completed"
    },
    "tags": []
   },
   "outputs": [],
   "source": [
    "GARAGETYPE_KEEP = [\"Attchd\", \"Detchd\", \"BuiltIn\", \"NA\"]\n",
    "\n",
    "X_train.GarageType = X_train.GarageType.apply(lambda x: x if x in GARAGETYPE_KEEP else \"Others\")\n",
    "X_test.GarageType = X_test.GarageType.apply(lambda x: x if x in GARAGETYPE_KEEP else \"Others\")"
   ]
  },
  {
   "cell_type": "code",
   "execution_count": null,
   "id": "6010624a",
   "metadata": {
    "execution": {
     "iopub.execute_input": "2023-03-20T08:48:26.287713Z",
     "iopub.status.busy": "2023-03-20T08:48:26.287070Z",
     "iopub.status.idle": "2023-03-20T08:48:27.483359Z",
     "shell.execute_reply": "2023-03-20T08:48:27.482151Z"
    },
    "papermill": {
     "duration": 1.315119,
     "end_time": "2023-03-20T08:48:27.487065",
     "exception": false,
     "start_time": "2023-03-20T08:48:26.171946",
     "status": "completed"
    },
    "tags": []
   },
   "outputs": [],
   "source": [
    "multi_regplot(X_train, y_train, cols=[\"GarageCars\", \"GarageArea\"])"
   ]
  },
  {
   "cell_type": "code",
   "execution_count": null,
   "id": "267779d8",
   "metadata": {
    "execution": {
     "iopub.execute_input": "2023-03-20T08:48:27.731314Z",
     "iopub.status.busy": "2023-03-20T08:48:27.730648Z",
     "iopub.status.idle": "2023-03-20T08:48:28.543785Z",
     "shell.execute_reply": "2023-03-20T08:48:28.542450Z"
    },
    "papermill": {
     "duration": 0.934057,
     "end_time": "2023-03-20T08:48:28.546608",
     "exception": false,
     "start_time": "2023-03-20T08:48:27.612551",
     "status": "completed"
    },
    "tags": []
   },
   "outputs": [],
   "source": [
    "multi_regplot(X_train, X_train.GarageArea, cols=[\"GarageCars\"])"
   ]
  },
  {
   "cell_type": "code",
   "execution_count": null,
   "id": "2e5153f1",
   "metadata": {
    "execution": {
     "iopub.execute_input": "2023-03-20T08:48:28.793754Z",
     "iopub.status.busy": "2023-03-20T08:48:28.792823Z",
     "iopub.status.idle": "2023-03-20T08:48:28.803722Z",
     "shell.execute_reply": "2023-03-20T08:48:28.802826Z"
    },
    "papermill": {
     "duration": 0.133009,
     "end_time": "2023-03-20T08:48:28.806374",
     "exception": false,
     "start_time": "2023-03-20T08:48:28.673365",
     "status": "completed"
    },
    "tags": []
   },
   "outputs": [],
   "source": [
    "X_train = X_train.drop(columns=[\"GarageCars\"], errors=\"ignore\")\n",
    "X_test = X_test.drop(columns=[\"GarageCars\"], errors=\"ignore\")"
   ]
  },
  {
   "attachments": {},
   "cell_type": "markdown",
   "id": "09c35bbe",
   "metadata": {
    "papermill": {
     "duration": 0.11715,
     "end_time": "2023-03-20T08:48:29.040450",
     "exception": false,
     "start_time": "2023-03-20T08:48:28.923300",
     "status": "completed"
    },
    "tags": []
   },
   "source": [
    "### Roof features."
   ]
  },
  {
   "attachments": {},
   "cell_type": "markdown",
   "id": "4d6d8402",
   "metadata": {
    "papermill": {
     "duration": 0.116154,
     "end_time": "2023-03-20T08:48:29.273331",
     "exception": false,
     "start_time": "2023-03-20T08:48:29.157177",
     "status": "completed"
    },
    "tags": []
   },
   "source": [
    "__Features transformed__\n",
    "* `RoofStyle` — grouped some categories together.\n",
    "\n",
    "__Features added__\n",
    "* None.\n",
    "\n",
    "__Features removed__\n",
    "* `RoofMatl`."
   ]
  },
  {
   "cell_type": "code",
   "execution_count": null,
   "id": "6b33d2df",
   "metadata": {
    "execution": {
     "iopub.execute_input": "2023-03-20T08:48:29.511169Z",
     "iopub.status.busy": "2023-03-20T08:48:29.510315Z",
     "iopub.status.idle": "2023-03-20T08:48:31.129923Z",
     "shell.execute_reply": "2023-03-20T08:48:31.128468Z"
    },
    "papermill": {
     "duration": 1.740578,
     "end_time": "2023-03-20T08:48:31.132681",
     "exception": false,
     "start_time": "2023-03-20T08:48:29.392103",
     "status": "completed"
    },
    "tags": []
   },
   "outputs": [],
   "source": [
    "ROOF_COL = [\"RoofStyle\", \"RoofMatl\"]\n",
    "\n",
    "multi_catplot(X_train, y_train, cols=ROOF_COL)"
   ]
  },
  {
   "cell_type": "code",
   "execution_count": null,
   "id": "2d99c4b8",
   "metadata": {
    "execution": {
     "iopub.execute_input": "2023-03-20T08:48:31.385031Z",
     "iopub.status.busy": "2023-03-20T08:48:31.384154Z",
     "iopub.status.idle": "2023-03-20T08:48:31.396647Z",
     "shell.execute_reply": "2023-03-20T08:48:31.395475Z"
    },
    "papermill": {
     "duration": 0.139021,
     "end_time": "2023-03-20T08:48:31.399591",
     "exception": false,
     "start_time": "2023-03-20T08:48:31.260570",
     "status": "completed"
    },
    "tags": []
   },
   "outputs": [],
   "source": [
    "X_train.RoofStyle = X_train.RoofStyle.apply(lambda x: x if x in [\"Gable\", \"Hip\"] else \"Others\")\n",
    "X_test.RoofStyle = X_test.RoofStyle.apply(lambda x: x if x in [\"Gable\", \"Hip\"] else \"Others\")\n",
    "\n",
    "X_train = X_train.drop(columns=[\"RoofMatl\"], errors=\"ignore\")\n",
    "X_test = X_test.drop(columns=[\"RoofMatl\"], errors=\"ignore\")"
   ]
  },
  {
   "attachments": {},
   "cell_type": "markdown",
   "id": "f6e7187f",
   "metadata": {
    "papermill": {
     "duration": 0.11836,
     "end_time": "2023-03-20T08:48:31.639613",
     "exception": false,
     "start_time": "2023-03-20T08:48:31.521253",
     "status": "completed"
    },
    "tags": []
   },
   "source": [
    "### Exterior covering features."
   ]
  },
  {
   "attachments": {},
   "cell_type": "markdown",
   "id": "96706b3c",
   "metadata": {
    "papermill": {
     "duration": 0.120031,
     "end_time": "2023-03-20T08:48:31.879145",
     "exception": false,
     "start_time": "2023-03-20T08:48:31.759114",
     "status": "completed"
    },
    "tags": []
   },
   "source": [
    "__Features transformed__\n",
    "* `Exterior1st` — grouped some categories together.\n",
    "\n",
    "* `Exterior2nd` — transformed into an indicator column by comparing against `Exterior1st`. `Exterior1st` denotes the material used for exterior covering and `Exterior2nd` indicates if more than one material is used. Since 1245 out of 1460 houses are the same, we believe that this indicates only one material is used for the 1245 houses. The remaining houses use two materials.\n",
    "\n",
    "__Features added__\n",
    "* None.\n",
    "\n",
    "__Features removed__\n",
    "* `Exterior2nd`."
   ]
  },
  {
   "cell_type": "code",
   "execution_count": null,
   "id": "337610e9",
   "metadata": {
    "execution": {
     "iopub.execute_input": "2023-03-20T08:48:32.120129Z",
     "iopub.status.busy": "2023-03-20T08:48:32.119290Z",
     "iopub.status.idle": "2023-03-20T08:48:32.128184Z",
     "shell.execute_reply": "2023-03-20T08:48:32.126959Z"
    },
    "papermill": {
     "duration": 0.132161,
     "end_time": "2023-03-20T08:48:32.131132",
     "exception": false,
     "start_time": "2023-03-20T08:48:31.998971",
     "status": "completed"
    },
    "tags": []
   },
   "outputs": [],
   "source": [
    "(X_train.Exterior1st==X_train.Exterior2nd).sum()"
   ]
  },
  {
   "cell_type": "code",
   "execution_count": null,
   "id": "f07eceb4",
   "metadata": {
    "execution": {
     "iopub.execute_input": "2023-03-20T08:48:32.372298Z",
     "iopub.status.busy": "2023-03-20T08:48:32.371427Z",
     "iopub.status.idle": "2023-03-20T08:48:32.379271Z",
     "shell.execute_reply": "2023-03-20T08:48:32.378300Z"
    },
    "papermill": {
     "duration": 0.131781,
     "end_time": "2023-03-20T08:48:32.381873",
     "exception": false,
     "start_time": "2023-03-20T08:48:32.250092",
     "status": "completed"
    },
    "tags": []
   },
   "outputs": [],
   "source": [
    "X_train.Exterior2nd = (X_train.Exterior1st!=X_train.Exterior2nd).astype(object)\n",
    "X_test.Exterior2nd = (X_test.Exterior1st!=X_test.Exterior2nd).astype(object)"
   ]
  },
  {
   "cell_type": "code",
   "execution_count": null,
   "id": "f964ace6",
   "metadata": {
    "execution": {
     "iopub.execute_input": "2023-03-20T08:48:32.625421Z",
     "iopub.status.busy": "2023-03-20T08:48:32.624248Z",
     "iopub.status.idle": "2023-03-20T08:48:35.445399Z",
     "shell.execute_reply": "2023-03-20T08:48:35.443945Z"
    },
    "papermill": {
     "duration": 2.947215,
     "end_time": "2023-03-20T08:48:35.448056",
     "exception": false,
     "start_time": "2023-03-20T08:48:32.500841",
     "status": "completed"
    },
    "tags": []
   },
   "outputs": [],
   "source": [
    "EXTER_COL = [col for col in X_train.columns if \"Exter\" in col]\n",
    "print(EXTER_COL)\n",
    "\n",
    "multi_catplot(X_train, y_train, cols=EXTER_COL)"
   ]
  },
  {
   "cell_type": "code",
   "execution_count": null,
   "id": "aa672afe",
   "metadata": {
    "execution": {
     "iopub.execute_input": "2023-03-20T08:48:35.718115Z",
     "iopub.status.busy": "2023-03-20T08:48:35.717360Z",
     "iopub.status.idle": "2023-03-20T08:48:35.730238Z",
     "shell.execute_reply": "2023-03-20T08:48:35.729156Z"
    },
    "papermill": {
     "duration": 0.149129,
     "end_time": "2023-03-20T08:48:35.732767",
     "exception": false,
     "start_time": "2023-03-20T08:48:35.583638",
     "status": "completed"
    },
    "tags": []
   },
   "outputs": [],
   "source": [
    "EXT1_KEEP = [\"VinylSd\",  \"MetalSd\", \"Wd Sdng\", \"HdBoard\", \"Plywood\"]\n",
    "\n",
    "X_train.Exterior1st = X_train.Exterior1st.apply(lambda x: x if x in EXT1_KEEP else \"Others\")\n",
    "X_test.Exterior1st = X_test.Exterior1st.apply(lambda x: x if x in EXT1_KEEP else \"Others\")\n",
    "\n",
    "X_train = X_train.drop(columns=[\"Exterior2nd\"], errors=\"ignore\")\n",
    "X_test = X_test.drop(columns=[\"Exterior2nd\"], errors=\"ignore\")"
   ]
  },
  {
   "attachments": {},
   "cell_type": "markdown",
   "id": "40ed4b2c",
   "metadata": {
    "papermill": {
     "duration": 0.126375,
     "end_time": "2023-03-20T08:48:35.984374",
     "exception": false,
     "start_time": "2023-03-20T08:48:35.857999",
     "status": "completed"
    },
    "tags": []
   },
   "source": [
    "### Masonry veneer features."
   ]
  },
  {
   "attachments": {},
   "cell_type": "markdown",
   "id": "8fc1caa5",
   "metadata": {
    "papermill": {
     "duration": 0.123837,
     "end_time": "2023-03-20T08:48:36.232260",
     "exception": false,
     "start_time": "2023-03-20T08:48:36.108423",
     "status": "completed"
    },
    "tags": []
   },
   "source": [
    "__Features transformed__\n",
    "* None.\n",
    "\n",
    "__Features added__\n",
    "* None.\n",
    "\n",
    "__Features removed__\n",
    "* None."
   ]
  },
  {
   "cell_type": "code",
   "execution_count": null,
   "id": "4d3ef83e",
   "metadata": {
    "execution": {
     "iopub.execute_input": "2023-03-20T08:48:36.486548Z",
     "iopub.status.busy": "2023-03-20T08:48:36.485364Z",
     "iopub.status.idle": "2023-03-20T08:48:37.903049Z",
     "shell.execute_reply": "2023-03-20T08:48:37.901728Z"
    },
    "papermill": {
     "duration": 1.547676,
     "end_time": "2023-03-20T08:48:37.905884",
     "exception": false,
     "start_time": "2023-03-20T08:48:36.358208",
     "status": "completed"
    },
    "tags": []
   },
   "outputs": [],
   "source": [
    "multi_regplot(X_train, y_train, cols=[\"MasVnrArea\"])\n",
    "multi_catplot(X_train, y_train, cols=[\"MasVnrType\"])"
   ]
  },
  {
   "attachments": {},
   "cell_type": "markdown",
   "id": "3a907a32",
   "metadata": {
    "papermill": {
     "duration": 0.13676,
     "end_time": "2023-03-20T08:48:38.182187",
     "exception": false,
     "start_time": "2023-03-20T08:48:38.045427",
     "status": "completed"
    },
    "tags": []
   },
   "source": [
    "### Proximity condition features."
   ]
  },
  {
   "attachments": {},
   "cell_type": "markdown",
   "id": "e226154c",
   "metadata": {
    "papermill": {
     "duration": 0.129491,
     "end_time": "2023-03-20T08:48:38.438961",
     "exception": false,
     "start_time": "2023-03-20T08:48:38.309470",
     "status": "completed"
    },
    "tags": []
   },
   "source": [
    "__Features transformed__\n",
    "* `Condition1` — grouped some categories together.\n",
    "\n",
    "* `Condition2` — transformed into an indicator column by comparing against `Condition1`. `Condition1` refers to the proximity to various conditions while `Condition2` indicates if more than one condition is present. Since 1265 out of 1460 houses are the same, we believe that this indicates that the 1265 houses only face one condition. The remaining houses face two conditions.\n",
    "\n",
    "__Features added__\n",
    "* None.\n",
    "\n",
    "__Features removed__\n",
    "* None."
   ]
  },
  {
   "cell_type": "code",
   "execution_count": null,
   "id": "11383170",
   "metadata": {
    "execution": {
     "iopub.execute_input": "2023-03-20T08:48:38.696920Z",
     "iopub.status.busy": "2023-03-20T08:48:38.695405Z",
     "iopub.status.idle": "2023-03-20T08:48:38.704916Z",
     "shell.execute_reply": "2023-03-20T08:48:38.703891Z"
    },
    "papermill": {
     "duration": 0.140457,
     "end_time": "2023-03-20T08:48:38.707286",
     "exception": false,
     "start_time": "2023-03-20T08:48:38.566829",
     "status": "completed"
    },
    "tags": []
   },
   "outputs": [],
   "source": [
    "(X_train.Condition1==X_train.Condition2).sum()"
   ]
  },
  {
   "cell_type": "code",
   "execution_count": null,
   "id": "67e26779",
   "metadata": {
    "execution": {
     "iopub.execute_input": "2023-03-20T08:48:38.966892Z",
     "iopub.status.busy": "2023-03-20T08:48:38.966025Z",
     "iopub.status.idle": "2023-03-20T08:48:40.279147Z",
     "shell.execute_reply": "2023-03-20T08:48:40.277873Z"
    },
    "papermill": {
     "duration": 1.445384,
     "end_time": "2023-03-20T08:48:40.281621",
     "exception": false,
     "start_time": "2023-03-20T08:48:38.836237",
     "status": "completed"
    },
    "tags": []
   },
   "outputs": [],
   "source": [
    "X_train.Condition2 = (X_train.Condition1!=X_train.Condition2).astype(object)\n",
    "X_test.Condition2 = (X_test.Condition1!=X_test.Condition2).astype(object)\n",
    "\n",
    "multi_catplot(X_train, y_train, cols=[\"Condition1\", \"Condition2\"])"
   ]
  },
  {
   "cell_type": "code",
   "execution_count": null,
   "id": "95d7b251",
   "metadata": {
    "execution": {
     "iopub.execute_input": "2023-03-20T08:48:40.560367Z",
     "iopub.status.busy": "2023-03-20T08:48:40.559594Z",
     "iopub.status.idle": "2023-03-20T08:48:40.568008Z",
     "shell.execute_reply": "2023-03-20T08:48:40.567106Z"
    },
    "papermill": {
     "duration": 0.147367,
     "end_time": "2023-03-20T08:48:40.570357",
     "exception": false,
     "start_time": "2023-03-20T08:48:40.422990",
     "status": "completed"
    },
    "tags": []
   },
   "outputs": [],
   "source": [
    "COND1_REPLACE = {\n",
    "    \"RRNn\": \"RR\", \"RRAn\": \"RR\",\n",
    "    \"PosN\": \"Pos\", \"PosA\": \"Pos\",\n",
    "    \"RRNe\": \"RR\", \"RRAe\": \"RR\",\n",
    "}\n",
    "\n",
    "X_train.Condition1 = X_train.Condition1.replace(COND1_REPLACE)\n",
    "X_test.Condition1 = X_test.Condition1.replace(COND1_REPLACE)"
   ]
  },
  {
   "attachments": {},
   "cell_type": "markdown",
   "id": "4649095b",
   "metadata": {
    "papermill": {
     "duration": 0.129267,
     "end_time": "2023-03-20T08:48:40.829562",
     "exception": false,
     "start_time": "2023-03-20T08:48:40.700295",
     "status": "completed"
    },
    "tags": []
   },
   "source": [
    "### House lot features."
   ]
  },
  {
   "attachments": {},
   "cell_type": "markdown",
   "id": "8a1ca351",
   "metadata": {
    "papermill": {
     "duration": 0.12811,
     "end_time": "2023-03-20T08:48:41.086307",
     "exception": false,
     "start_time": "2023-03-20T08:48:40.958197",
     "status": "completed"
    },
    "tags": []
   },
   "source": [
    "__Features transformed__\n",
    "* `LotConfig` — grouped some categories together.\n",
    "\n",
    "__Features added__\n",
    "* None.\n",
    "\n",
    "__Features removed__\n",
    "* None."
   ]
  },
  {
   "cell_type": "code",
   "execution_count": null,
   "id": "478484c0",
   "metadata": {
    "execution": {
     "iopub.execute_input": "2023-03-20T08:48:41.351333Z",
     "iopub.status.busy": "2023-03-20T08:48:41.350488Z",
     "iopub.status.idle": "2023-03-20T08:48:42.377519Z",
     "shell.execute_reply": "2023-03-20T08:48:42.376265Z"
    },
    "papermill": {
     "duration": 1.163707,
     "end_time": "2023-03-20T08:48:42.382873",
     "exception": false,
     "start_time": "2023-03-20T08:48:41.219166",
     "status": "completed"
    },
    "tags": []
   },
   "outputs": [],
   "source": [
    "LOT_NUM_COL = [\"LotFrontage\", \"LotArea\"]\n",
    "\n",
    "multi_regplot(X_train, y_train, cols=LOT_NUM_COL)"
   ]
  },
  {
   "cell_type": "code",
   "execution_count": null,
   "id": "46f7aff2",
   "metadata": {
    "execution": {
     "iopub.execute_input": "2023-03-20T08:48:42.702404Z",
     "iopub.status.busy": "2023-03-20T08:48:42.701978Z",
     "iopub.status.idle": "2023-03-20T08:48:44.170370Z",
     "shell.execute_reply": "2023-03-20T08:48:44.169078Z"
    },
    "papermill": {
     "duration": 1.621946,
     "end_time": "2023-03-20T08:48:44.173435",
     "exception": false,
     "start_time": "2023-03-20T08:48:42.551489",
     "status": "completed"
    },
    "tags": []
   },
   "outputs": [],
   "source": [
    "LOT_COL = [\"LotShape\", \"LotConfig\"]\n",
    "\n",
    "multi_catplot(X_train, y_train, cols=LOT_COL)"
   ]
  },
  {
   "cell_type": "code",
   "execution_count": null,
   "id": "db193d1f",
   "metadata": {
    "execution": {
     "iopub.execute_input": "2023-03-20T08:48:44.456966Z",
     "iopub.status.busy": "2023-03-20T08:48:44.456046Z",
     "iopub.status.idle": "2023-03-20T08:48:44.465269Z",
     "shell.execute_reply": "2023-03-20T08:48:44.464135Z"
    },
    "papermill": {
     "duration": 0.149863,
     "end_time": "2023-03-20T08:48:44.467991",
     "exception": false,
     "start_time": "2023-03-20T08:48:44.318128",
     "status": "completed"
    },
    "tags": []
   },
   "outputs": [],
   "source": [
    "LOTCONFIG_KEEP = [\"Inside\", \"Corner\", \"CulDSac\"]\n",
    "\n",
    "X_train.LotConfig = X_train.LotConfig.apply(lambda x: x if x in LOTCONFIG_KEEP else \"FR\")\n",
    "X_test.LotConfig = X_test.LotConfig.apply(lambda x: x if x in LOTCONFIG_KEEP else \"FR\")"
   ]
  },
  {
   "attachments": {},
   "cell_type": "markdown",
   "id": "ac2ed3e9",
   "metadata": {
    "papermill": {
     "duration": 0.134725,
     "end_time": "2023-03-20T08:48:44.736985",
     "exception": false,
     "start_time": "2023-03-20T08:48:44.602260",
     "status": "completed"
    },
    "tags": []
   },
   "source": [
    "### House sale features."
   ]
  },
  {
   "attachments": {},
   "cell_type": "markdown",
   "id": "133a1721",
   "metadata": {
    "papermill": {
     "duration": 0.133166,
     "end_time": "2023-03-20T08:48:45.004610",
     "exception": false,
     "start_time": "2023-03-20T08:48:44.871444",
     "status": "completed"
    },
    "tags": []
   },
   "source": [
    "__Features transformed__\n",
    "* (`SaleType`, `SaleCondition`) — grouped some categories together for each feature.\n",
    "\n",
    "__Features added__\n",
    "* None.\n",
    "\n",
    "__Features removed__\n",
    "* None."
   ]
  },
  {
   "cell_type": "code",
   "execution_count": null,
   "id": "1f15e9a6",
   "metadata": {
    "execution": {
     "iopub.execute_input": "2023-03-20T08:48:45.275392Z",
     "iopub.status.busy": "2023-03-20T08:48:45.274502Z",
     "iopub.status.idle": "2023-03-20T08:48:46.754157Z",
     "shell.execute_reply": "2023-03-20T08:48:46.752925Z"
    },
    "papermill": {
     "duration": 1.61894,
     "end_time": "2023-03-20T08:48:46.757390",
     "exception": false,
     "start_time": "2023-03-20T08:48:45.138450",
     "status": "completed"
    },
    "tags": []
   },
   "outputs": [],
   "source": [
    "SALE_COL = [\"SaleType\", \"SaleCondition\"]\n",
    "\n",
    "multi_catplot(X_train, y_train, cols=SALE_COL)"
   ]
  },
  {
   "cell_type": "code",
   "execution_count": null,
   "id": "95ca696d",
   "metadata": {
    "execution": {
     "iopub.execute_input": "2023-03-20T08:48:47.043929Z",
     "iopub.status.busy": "2023-03-20T08:48:47.043065Z",
     "iopub.status.idle": "2023-03-20T08:48:47.055732Z",
     "shell.execute_reply": "2023-03-20T08:48:47.054816Z"
    },
    "papermill": {
     "duration": 0.154102,
     "end_time": "2023-03-20T08:48:47.058388",
     "exception": false,
     "start_time": "2023-03-20T08:48:46.904286",
     "status": "completed"
    },
    "tags": []
   },
   "outputs": [],
   "source": [
    "SALETYPE_REPLACE = {\n",
    "    \"CWD\": \"WD\", \"VWD\": \"WD\",\n",
    "    \"Con\": \"Others\", \"ConLw\": \"Others\", \"ConLI\": \"Others\", \"ConLD\": \"Others\", \"Oth\": \"Others\"\n",
    "}\n",
    "\n",
    "X_train.SaleType = X_train.SaleType.replace(SALETYPE_REPLACE)\n",
    "X_test.SaleType = X_test.SaleType.replace(SALETYPE_REPLACE)\n",
    "\n",
    "SALE_COND_KEEP = [\"Normal\", \"Partial\", \"Abnorml\"]\n",
    "\n",
    "X_train.SaleCondition = X_train.SaleCondition.apply(lambda x: x if x in SALE_COND_KEEP else \"Others\")\n",
    "X_test.SaleCondition = X_test.SaleCondition.apply(lambda x: x if x in SALE_COND_KEEP else \"Others\")"
   ]
  },
  {
   "attachments": {},
   "cell_type": "markdown",
   "id": "ff7bb446",
   "metadata": {
    "papermill": {
     "duration": 0.135798,
     "end_time": "2023-03-20T08:48:47.329956",
     "exception": false,
     "start_time": "2023-03-20T08:48:47.194158",
     "status": "completed"
    },
    "tags": []
   },
   "source": [
    "### Misc features."
   ]
  },
  {
   "attachments": {},
   "cell_type": "markdown",
   "id": "13509e18",
   "metadata": {
    "papermill": {
     "duration": 0.13532,
     "end_time": "2023-03-20T08:48:47.602792",
     "exception": false,
     "start_time": "2023-03-20T08:48:47.467472",
     "status": "completed"
    },
    "tags": []
   },
   "source": [
    "__Features transformed__\n",
    "* None.\n",
    "\n",
    "__Features added__\n",
    "* None.\n",
    "\n",
    "__Features removed__\n",
    "* `MiscVal`, `MiscFeature`."
   ]
  },
  {
   "cell_type": "code",
   "execution_count": null,
   "id": "c4757e42",
   "metadata": {
    "execution": {
     "iopub.execute_input": "2023-03-20T08:48:47.877513Z",
     "iopub.status.busy": "2023-03-20T08:48:47.876639Z",
     "iopub.status.idle": "2023-03-20T08:48:49.305202Z",
     "shell.execute_reply": "2023-03-20T08:48:49.303931Z"
    },
    "papermill": {
     "duration": 1.569229,
     "end_time": "2023-03-20T08:48:49.308069",
     "exception": false,
     "start_time": "2023-03-20T08:48:47.738840",
     "status": "completed"
    },
    "tags": []
   },
   "outputs": [],
   "source": [
    "multi_regplot(X_train, y_train, cols=[\"MiscVal\"])\n",
    "multi_catplot(X_train, y_train, cols=[\"MiscFeature\"])"
   ]
  },
  {
   "cell_type": "code",
   "execution_count": null,
   "id": "ea4cc674",
   "metadata": {
    "execution": {
     "iopub.execute_input": "2023-03-20T08:48:49.600436Z",
     "iopub.status.busy": "2023-03-20T08:48:49.600026Z",
     "iopub.status.idle": "2023-03-20T08:48:49.609169Z",
     "shell.execute_reply": "2023-03-20T08:48:49.607818Z"
    },
    "papermill": {
     "duration": 0.153003,
     "end_time": "2023-03-20T08:48:49.612138",
     "exception": false,
     "start_time": "2023-03-20T08:48:49.459135",
     "status": "completed"
    },
    "tags": []
   },
   "outputs": [],
   "source": [
    "X_train = X_train.drop(columns=[\"MiscVal\", \"MiscFeature\"], errors=\"ignore\")\n",
    "X_test = X_test.drop(columns=[\"MiscVal\", \"MiscFeature\"], errors=\"ignore\")"
   ]
  },
  {
   "attachments": {},
   "cell_type": "markdown",
   "id": "21512dfa",
   "metadata": {
    "papermill": {
     "duration": 0.137737,
     "end_time": "2023-03-20T08:48:49.890399",
     "exception": false,
     "start_time": "2023-03-20T08:48:49.752662",
     "status": "completed"
    },
    "tags": []
   },
   "source": [
    "### Other location features."
   ]
  },
  {
   "attachments": {},
   "cell_type": "markdown",
   "id": "9d5de2fd",
   "metadata": {
    "papermill": {
     "duration": 0.137739,
     "end_time": "2023-03-20T08:48:50.168739",
     "exception": false,
     "start_time": "2023-03-20T08:48:50.031000",
     "status": "completed"
    },
    "tags": []
   },
   "source": [
    "__Features transformed__\n",
    "* `Alley` — grouped some categories together.\n",
    "\n",
    "__Features added__\n",
    "* None.\n",
    "\n",
    "__Features removed__\n",
    "* `Street`, `LandSlope`."
   ]
  },
  {
   "cell_type": "code",
   "execution_count": null,
   "id": "36d0d3a5",
   "metadata": {
    "execution": {
     "iopub.execute_input": "2023-03-20T08:48:50.461907Z",
     "iopub.status.busy": "2023-03-20T08:48:50.461491Z",
     "iopub.status.idle": "2023-03-20T08:48:55.133640Z",
     "shell.execute_reply": "2023-03-20T08:48:55.132410Z"
    },
    "papermill": {
     "duration": 4.829086,
     "end_time": "2023-03-20T08:48:55.136379",
     "exception": false,
     "start_time": "2023-03-20T08:48:50.307293",
     "status": "completed"
    },
    "tags": []
   },
   "outputs": [],
   "source": [
    "OTHER_LOC_COL = [\"MSZoning\", \"Street\", \"Alley\", \"LandContour\", \"LandSlope\", \"Neighborhood\"]\n",
    "\n",
    "multi_catplot(X_train, y_train, cols=OTHER_LOC_COL)"
   ]
  },
  {
   "cell_type": "code",
   "execution_count": null,
   "id": "867ea9ec",
   "metadata": {
    "execution": {
     "iopub.execute_input": "2023-03-20T08:48:55.444443Z",
     "iopub.status.busy": "2023-03-20T08:48:55.443469Z",
     "iopub.status.idle": "2023-03-20T08:48:55.456561Z",
     "shell.execute_reply": "2023-03-20T08:48:55.455452Z"
    },
    "papermill": {
     "duration": 0.165525,
     "end_time": "2023-03-20T08:48:55.459599",
     "exception": false,
     "start_time": "2023-03-20T08:48:55.294074",
     "status": "completed"
    },
    "tags": []
   },
   "outputs": [],
   "source": [
    "X_train.Alley = X_train.Alley.apply(lambda x: \"No\" if x==\"NA\" else \"Yes\")\n",
    "X_test.Alley = X_test.Alley.apply(lambda x: \"No\" if x==\"NA\" else \"Yes\")\n",
    "\n",
    "X_train = X_train.drop(columns=[\"Street\", \"LandSlope\"], errors=\"ignore\")\n",
    "X_test = X_test.drop(columns=[\"Street\", \"LandSlope\"], errors=\"ignore\")"
   ]
  },
  {
   "attachments": {},
   "cell_type": "markdown",
   "id": "76e7a368",
   "metadata": {
    "papermill": {
     "duration": 0.147168,
     "end_time": "2023-03-20T08:48:55.752724",
     "exception": false,
     "start_time": "2023-03-20T08:48:55.605556",
     "status": "completed"
    },
    "tags": []
   },
   "source": [
    "### Other house features."
   ]
  },
  {
   "attachments": {},
   "cell_type": "markdown",
   "id": "f754ddac",
   "metadata": {
    "papermill": {
     "duration": 0.146114,
     "end_time": "2023-03-20T08:48:56.047367",
     "exception": false,
     "start_time": "2023-03-20T08:48:55.901253",
     "status": "completed"
    },
    "tags": []
   },
   "source": [
    "__Features transformed__\n",
    "* (`BldgTyp`, `HouseStyle`, `OverallQual`, `OverallCond`, `CentralAir`,\n",
    "    `Electrical`, `Functional`, `PavedDrive`, `Fence`, `Foundation`) — grouped some categories together for each feature.\n",
    "\n",
    "__Features added__\n",
    "* None.\n",
    "\n",
    "__Features removed__\n",
    "* `MSSubClass` — removed because it seems to be a combination of the `BldgType`, `HouseStyle` and `YearBuilt`, want to avoid having too many columns after dummy encoding later, and also not have columns with repeated information.\n",
    "* `Utilities`."
   ]
  },
  {
   "cell_type": "code",
   "execution_count": null,
   "id": "edf530c6",
   "metadata": {
    "execution": {
     "iopub.execute_input": "2023-03-20T08:48:56.341613Z",
     "iopub.status.busy": "2023-03-20T08:48:56.340747Z",
     "iopub.status.idle": "2023-03-20T08:48:56.349913Z",
     "shell.execute_reply": "2023-03-20T08:48:56.348806Z"
    },
    "papermill": {
     "duration": 0.15966,
     "end_time": "2023-03-20T08:48:56.352900",
     "exception": false,
     "start_time": "2023-03-20T08:48:56.193240",
     "status": "completed"
    },
    "tags": []
   },
   "outputs": [],
   "source": [
    "X_train = X_train.drop(columns=[\"MSSubClass\"], errors=\"ignore\")\n",
    "X_test = X_test.drop(columns=[\"MSSubClass\"], errors=\"ignore\")"
   ]
  },
  {
   "cell_type": "code",
   "execution_count": null,
   "id": "1c0e0990",
   "metadata": {
    "execution": {
     "iopub.execute_input": "2023-03-20T08:48:56.651019Z",
     "iopub.status.busy": "2023-03-20T08:48:56.650563Z",
     "iopub.status.idle": "2023-03-20T08:49:04.167498Z",
     "shell.execute_reply": "2023-03-20T08:49:04.166514Z"
    },
    "papermill": {
     "duration": 7.667974,
     "end_time": "2023-03-20T08:49:04.169989",
     "exception": false,
     "start_time": "2023-03-20T08:48:56.502015",
     "status": "completed"
    },
    "tags": []
   },
   "outputs": [],
   "source": [
    "OTHER_HSE_COL = [\n",
    "    \"BldgType\", \"HouseStyle\", \"OverallQual\", \"OverallCond\", \"CentralAir\",\n",
    "    \"Electrical\", \"Functional\", \"PavedDrive\", \"Fence\", \"Foundation\",\n",
    "    \"Utilities\",\n",
    "]\n",
    "\n",
    "multi_catplot(X_train, y_train, cols=OTHER_HSE_COL)"
   ]
  },
  {
   "cell_type": "code",
   "execution_count": null,
   "id": "319e9205",
   "metadata": {
    "execution": {
     "iopub.execute_input": "2023-03-20T08:49:04.507672Z",
     "iopub.status.busy": "2023-03-20T08:49:04.507278Z",
     "iopub.status.idle": "2023-03-20T08:49:04.540996Z",
     "shell.execute_reply": "2023-03-20T08:49:04.539663Z"
    },
    "papermill": {
     "duration": 0.201296,
     "end_time": "2023-03-20T08:49:04.543720",
     "exception": false,
     "start_time": "2023-03-20T08:49:04.342424",
     "status": "completed"
    },
    "tags": []
   },
   "outputs": [],
   "source": [
    "BLDGTYPE_REPLACE = {\n",
    "    \"2fmCon\": \"2Fam\",\n",
    "    \"Duplex\": \"2Fam\",\n",
    "    \"TwnhsE\": \"Twnhs\",\n",
    "}\n",
    "\n",
    "X_train.BldgType = X_train.BldgType.replace(BLDGTYPE_REPLACE)\n",
    "X_test.BldgType = X_test.BldgType.replace(BLDGTYPE_REPLACE)\n",
    "\n",
    "HOUSESTYLE_REPLACE = {\n",
    "    \"1.5Fin\": \"1.5Story\", \"1.5Unf\": \"1.5Story\",\n",
    "    \"2.5Unf\": \"Others\", \"2.5Fin\": \"Others\",\n",
    "    \"SLvl\": \"Others\", \"SFoyer\": \"Others\",\n",
    "}\n",
    "\n",
    "X_train.HouseStyle = X_train.HouseStyle.replace(HOUSESTYLE_REPLACE)\n",
    "X_test.HouseStyle = X_test.HouseStyle.replace(HOUSESTYLE_REPLACE)\n",
    "\n",
    "X_train.Electrical = X_train.Electrical.apply(lambda x: \"Yes\" if x==4 else \"No\")\n",
    "X_test.Electrical = X_test.Electrical.apply(lambda x: \"Yes\" if x==4 else \"No\")\n",
    "\n",
    "X_train.Functional = X_train.Functional.apply(lambda x: \"Yes\" if x==7 else \"No\")\n",
    "X_test.Functional = X_test.Functional.apply(lambda x: \"Yes\" if x==7 else \"No\")\n",
    "\n",
    "X_train.PavedDrive = X_train.PavedDrive.apply(lambda x: \"No\" if x==0 else \"Yes\")\n",
    "X_test.PavedDrive = X_test.PavedDrive.apply(lambda x: \"No\" if x==0 else \"Yes\")\n",
    "\n",
    "X_train.Fence = X_train.Fence.apply(lambda x: \"Yes\" if x else \"No\")\n",
    "X_test.Fence = X_test.Fence.apply(lambda x: \"Yes\" if x else \"No\")\n",
    "\n",
    "X_train.Foundation = X_train.Foundation.apply(lambda x: x if x in [\"PConc\", \"CBlock\", \"BrkTil\"] else \"Others\")\n",
    "X_test.Foundation = X_test.Foundation.apply(lambda x: x if x in [\"PConc\", \"CBlock\", \"BrkTil\"] else \"Others\")\n",
    "\n",
    "X_train = X_train.drop(columns=[\"Utilities\"], errors=\"ignore\")\n",
    "X_test = X_test.drop(columns=[\"Utilities\"], errors=\"ignore\")"
   ]
  },
  {
   "attachments": {},
   "cell_type": "markdown",
   "id": "d2043023",
   "metadata": {
    "papermill": {
     "duration": 0.162285,
     "end_time": "2023-03-20T08:49:04.867486",
     "exception": false,
     "start_time": "2023-03-20T08:49:04.705201",
     "status": "completed"
    },
    "tags": []
   },
   "source": [
    "### Recording columns by types."
   ]
  },
  {
   "cell_type": "code",
   "execution_count": null,
   "id": "d85bbe52",
   "metadata": {
    "execution": {
     "iopub.execute_input": "2023-03-20T08:49:05.193493Z",
     "iopub.status.busy": "2023-03-20T08:49:05.193057Z",
     "iopub.status.idle": "2023-03-20T08:49:05.205104Z",
     "shell.execute_reply": "2023-03-20T08:49:05.203468Z"
    },
    "papermill": {
     "duration": 0.179565,
     "end_time": "2023-03-20T08:49:05.207482",
     "exception": false,
     "start_time": "2023-03-20T08:49:05.027917",
     "status": "completed"
    },
    "tags": []
   },
   "outputs": [],
   "source": [
    "NOMINAL_COL = X_train.select_dtypes(include=object).columns.to_list()\n",
    "print(\"=\"*40)\n",
    "print(\"List of nominal columns:\")\n",
    "print(\"=\"*40)\n",
    "print(NOMINAL_COL)\n",
    "\n",
    "ORDINAL_COL = [col for col in X_train.columns if not col in NOMINAL_COL and col in ORDINAL_COL]\n",
    "print(\"=\"*40)\n",
    "print(\"List of ordinal columns:\")\n",
    "print(\"=\"*40)\n",
    "print(ORDINAL_COL)\n",
    "\n",
    "NUMERICAL_COL = [col for col in X_train.columns if not col in NOMINAL_COL and not col in ORDINAL_COL]\n",
    "print(\"=\"*40)\n",
    "print(\"List of numerical columns:\")\n",
    "print(\"=\"*40)\n",
    "print(NUMERICAL_COL)"
   ]
  },
  {
   "attachments": {},
   "cell_type": "markdown",
   "id": "96a0409e",
   "metadata": {
    "papermill": {
     "duration": 0.159019,
     "end_time": "2023-03-20T08:49:05.527778",
     "exception": false,
     "start_time": "2023-03-20T08:49:05.368759",
     "status": "completed"
    },
    "tags": []
   },
   "source": [
    "### Dummy encoding."
   ]
  },
  {
   "attachments": {},
   "cell_type": "markdown",
   "id": "7e15ebe9",
   "metadata": {
    "papermill": {
     "duration": 0.15813,
     "end_time": "2023-03-20T08:49:05.844511",
     "exception": false,
     "start_time": "2023-03-20T08:49:05.686381",
     "status": "completed"
    },
    "tags": []
   },
   "source": [
    "We perform dummy encoding on the categorical columns. We first combine the training data and testing data together before generating the dummy columns. This ensures that all possible categories in the columns will not be left out."
   ]
  },
  {
   "cell_type": "code",
   "execution_count": null,
   "id": "5300aa11",
   "metadata": {
    "execution": {
     "iopub.execute_input": "2023-03-20T08:49:06.163034Z",
     "iopub.status.busy": "2023-03-20T08:49:06.162373Z",
     "iopub.status.idle": "2023-03-20T08:49:06.173367Z",
     "shell.execute_reply": "2023-03-20T08:49:06.172240Z"
    },
    "papermill": {
     "duration": 0.173422,
     "end_time": "2023-03-20T08:49:06.176191",
     "exception": false,
     "start_time": "2023-03-20T08:49:06.002769",
     "status": "completed"
    },
    "tags": []
   },
   "outputs": [],
   "source": [
    "def dummy_encoder(train_df, test_df):    \n",
    "    train_data = train_df.copy() \n",
    "    test_data = test_df.copy()\n",
    "    \n",
    "    # combine training and testing data to ensure all possible categories are present\n",
    "    train_data[\"Train\"] = 1\n",
    "    test_data[\"Train\"] = 0\n",
    "    data = pd.concat([train_data, test_data], ignore_index=True)\n",
    "    cat_data = data.select_dtypes(include=object).astype(str)\n",
    "    if len(cat_data.columns) == 0:\n",
    "        raise Exception(\"Missing categorical columns in training/testing data\")\n",
    "        \n",
    "    # convert categorical columns to dummy columns\n",
    "    dummies_df = pd.get_dummies(cat_data, drop_first=True)\n",
    "    data = pd.concat([dummies_df, data.select_dtypes(exclude=object)], axis=1)\n",
    "    train_data = data[data.Train==1].drop(columns=[\"Train\"])\n",
    "    test_data = data[data.Train==0].drop(columns=[\"Train\"])\n",
    "    \n",
    "    # remove constant columns in training data\n",
    "    const_col = train_data.nunique()[train_data.nunique()==1].index.tolist()\n",
    "    train_data = train_data.drop(columns=const_col)\n",
    "    test_data = test_data.drop(columns=const_col)\n",
    "    \n",
    "    train_data = train_data.astype(float)\n",
    "    test_data = test_data.astype(float)\n",
    "    \n",
    "    print(\"Dimensions of training data from\", train_df.shape, \"to\", train_data.shape)\n",
    "    print(\"Dimensions of testing data from\", test_df.shape, \"to\", test_data.shape)\n",
    "    \n",
    "    return train_data, test_data"
   ]
  },
  {
   "cell_type": "code",
   "execution_count": null,
   "id": "7c1b1b94",
   "metadata": {
    "execution": {
     "iopub.execute_input": "2023-03-20T08:49:06.504240Z",
     "iopub.status.busy": "2023-03-20T08:49:06.503521Z",
     "iopub.status.idle": "2023-03-20T08:49:06.598500Z",
     "shell.execute_reply": "2023-03-20T08:49:06.597103Z"
    },
    "papermill": {
     "duration": 0.259717,
     "end_time": "2023-03-20T08:49:06.601186",
     "exception": false,
     "start_time": "2023-03-20T08:49:06.341469",
     "status": "completed"
    },
    "tags": []
   },
   "outputs": [],
   "source": [
    "X_train, X_test = dummy_encoder(X_train, X_test)"
   ]
  },
  {
   "attachments": {},
   "cell_type": "markdown",
   "id": "a1a87ef8",
   "metadata": {
    "papermill": {
     "duration": 0.159903,
     "end_time": "2023-03-20T08:49:06.920656",
     "exception": false,
     "start_time": "2023-03-20T08:49:06.760753",
     "status": "completed"
    },
    "tags": []
   },
   "source": [
    "### Scaling data."
   ]
  },
  {
   "attachments": {},
   "cell_type": "markdown",
   "id": "af5bf61a",
   "metadata": {
    "papermill": {
     "duration": 0.157452,
     "end_time": "2023-03-20T08:49:07.237550",
     "exception": false,
     "start_time": "2023-03-20T08:49:07.080098",
     "status": "completed"
    },
    "tags": []
   },
   "source": [
    "Before we move on to train our regression models, we scale the data to let the models treat them with equal importance (needed for some models). It does not make sense to standardize nominal columns because there is no intrinsic ordering. Here we treat the ordinal columns as numerical, that is we assume the difference between categories 0 and 1 and the difference between categories 1 and 2 are equal. Thus, we scale only the numerical and ordinal columns."
   ]
  },
  {
   "cell_type": "code",
   "execution_count": null,
   "id": "2d932ff3",
   "metadata": {
    "execution": {
     "iopub.execute_input": "2023-03-20T08:49:07.558809Z",
     "iopub.status.busy": "2023-03-20T08:49:07.558234Z",
     "iopub.status.idle": "2023-03-20T08:49:07.579094Z",
     "shell.execute_reply": "2023-03-20T08:49:07.577690Z"
    },
    "papermill": {
     "duration": 0.18643,
     "end_time": "2023-03-20T08:49:07.581884",
     "exception": false,
     "start_time": "2023-03-20T08:49:07.395454",
     "status": "completed"
    },
    "tags": []
   },
   "outputs": [],
   "source": [
    "scaler = StandardScaler()\n",
    "\n",
    "X_train[NUMERICAL_COL+ORDINAL_COL] = scaler.fit_transform(X_train[NUMERICAL_COL+ORDINAL_COL])\n",
    "X_test[NUMERICAL_COL+ORDINAL_COL] = scaler.transform(X_test[NUMERICAL_COL+ORDINAL_COL])"
   ]
  },
  {
   "attachments": {},
   "cell_type": "markdown",
   "id": "633d4338",
   "metadata": {
    "papermill": {
     "duration": 0.16064,
     "end_time": "2023-03-20T08:49:07.900369",
     "exception": false,
     "start_time": "2023-03-20T08:49:07.739729",
     "status": "completed"
    },
    "tags": []
   },
   "source": [
    "---"
   ]
  },
  {
   "attachments": {},
   "cell_type": "markdown",
   "id": "9bf37fc1",
   "metadata": {
    "papermill": {
     "duration": 0.157468,
     "end_time": "2023-03-20T08:49:08.216594",
     "exception": false,
     "start_time": "2023-03-20T08:49:08.059126",
     "status": "completed"
    },
    "tags": []
   },
   "source": [
    "# 4. Model Training"
   ]
  },
  {
   "attachments": {},
   "cell_type": "markdown",
   "id": "efa3ed07",
   "metadata": {
    "papermill": {
     "duration": 0.158049,
     "end_time": "2023-03-20T08:49:08.532791",
     "exception": false,
     "start_time": "2023-03-20T08:49:08.374742",
     "status": "completed"
    },
    "tags": []
   },
   "source": [
    "We look at the performance of the following individual models:\n",
    "* __Linear models__ — Ridge and Linear SVR.\n",
    "\n",
    "* __Kernel methods__ — Kernel Ridge and Kernel SVR.\n",
    "\n",
    "* __Tree models__ — Random Forest and Gradient Boosting.\n",
    "\n",
    "The linear models will be used as a benchmark against the more sophisticated models. To tune the models, we perform a simple cross-validated grid search."
   ]
  },
  {
   "cell_type": "code",
   "execution_count": null,
   "id": "969bed69",
   "metadata": {
    "execution": {
     "iopub.execute_input": "2023-03-20T08:49:08.853940Z",
     "iopub.status.busy": "2023-03-20T08:49:08.853032Z",
     "iopub.status.idle": "2023-03-20T08:49:08.879180Z",
     "shell.execute_reply": "2023-03-20T08:49:08.878051Z"
    },
    "papermill": {
     "duration": 0.190658,
     "end_time": "2023-03-20T08:49:08.882048",
     "exception": false,
     "start_time": "2023-03-20T08:49:08.691390",
     "status": "completed"
    },
    "tags": []
   },
   "outputs": [],
   "source": [
    "class ModelTuner:\n",
    "    def __init__(self, models, X, y, cv, loss):\n",
    "        self.init_models = models.copy()\n",
    "        self.models = models.copy()\n",
    "        self.X_train = X.copy()\n",
    "        self.y_train = y.copy()\n",
    "        self.cv = cv\n",
    "        self.loss = loss\n",
    "        self.train_scores = {}\n",
    "        self.valid_scores = {}\n",
    "        \n",
    "    def tune_model(self, model_name, grid, verbose=1, n_jobs=-1):\n",
    "        self.models[model_name] = self.init_models[model_name]\n",
    "        search = GridSearchCV(\n",
    "            self.models[model_name],\n",
    "            param_grid=grid,\n",
    "            scoring=self.loss,\n",
    "            cv=self.cv,\n",
    "            return_train_score=True,\n",
    "            verbose=verbose,\n",
    "            n_jobs=n_jobs,\n",
    "        )\n",
    "        search.fit(self.X_train, self.y_train)\n",
    "        self.models[model_name] = search.best_estimator_\n",
    "        \n",
    "        rename_metric = {\n",
    "            \"mean_train_score\": \"mean_train_RMSE\",\n",
    "            \"mean_test_score\": \"mean_valid_RMSE\",\n",
    "        }        \n",
    "        \n",
    "        cv_results = pd.DataFrame(search.cv_results_)\n",
    "        columns = [f\"param_{param}\" for param, val in grid.items() if len(val)>1]\n",
    "        columns.extend(rename_metric.keys())\n",
    "        cv_results = cv_results[columns].rename(columns=rename_metric)\n",
    "        cv_results[list(rename_metric.values())] = -cv_results[list(rename_metric.values())]\n",
    "        cv_results = cv_results.sort_values(by=\"mean_valid_RMSE\", ignore_index=True)\n",
    "\n",
    "        train_score = cv_results.mean_train_RMSE.iloc[0]\n",
    "        valid_score = cv_results.mean_valid_RMSE.iloc[0]\n",
    "        self.train_scores[model_name] = train_score\n",
    "        self.valid_scores[model_name] = valid_score\n",
    "        \n",
    "        print(\"=\"*40)\n",
    "        print(f\"Model: {search.best_estimator_}\")\n",
    "        print(f\"Train RMSE: {train_score:.5f}\")\n",
    "        print(f\"Valid RMSE: {valid_score:.5f}\")\n",
    "        print(\"=\"*40)\n",
    "\n",
    "        return cv_results\n",
    "    \n",
    "    def collate_results(self):\n",
    "        train_results = pd.DataFrame.from_dict(\n",
    "            self.train_scores,\n",
    "            orient=\"index\",\n",
    "            columns=[\"mean_train_RMSE\"],\n",
    "        )\n",
    "        valid_results = pd.DataFrame.from_dict(\n",
    "            self.valid_scores,\n",
    "            orient=\"index\",\n",
    "            columns=[\"mean_valid_RMSE\"],\n",
    "        )\n",
    "        results = pd.concat(\n",
    "            [train_results, valid_results],\n",
    "            axis=1,\n",
    "        ).sort_values(by=\"mean_valid_RMSE\")\n",
    "        \n",
    "        return results\n",
    "    \n",
    "    def get_models(self, model_names=None):\n",
    "        if not model_names:\n",
    "            model_names = self.models.keys()\n",
    "            \n",
    "        models = [(name, self.models[name]) for name in model_names]\n",
    "        \n",
    "        return models\n",
    "    \n",
    "    def run_cv(self, model, n_jobs=-1):\n",
    "        model = self.models[model] if model in self.models else model\n",
    "        scores = cross_validate(\n",
    "            model,\n",
    "            X=self.X_train,\n",
    "            y=self.y_train,\n",
    "            cv=self.cv,\n",
    "            return_train_score=True,\n",
    "            scoring=self.loss,\n",
    "            n_jobs=n_jobs,\n",
    "        )\n",
    "        train_scores = scores[\"train_score\"]\n",
    "        valid_scores = scores[\"test_score\"]\n",
    "        \n",
    "        print(f\"Model: {model}\")\n",
    "        print(f\"Train RMSE: {-np.mean(train_scores):.5f}\")\n",
    "        print(f\"Valid RMSE: {-np.mean(valid_scores):.5f}\")\n",
    "\n",
    "    \n",
    "    def model_predict(self, model, X):\n",
    "        model = self.models[model] if model in self.models else model\n",
    "        model.fit(self.X_train, self.y_train)\n",
    "        y_pred = model.predict(X)\n",
    "        y_pred = pd.DataFrame({\n",
    "            \"Id\": range(1461, 1461+len(y_pred)),\n",
    "            \"SalePrice\": np.expm1(y_pred),\n",
    "        })\n",
    "\n",
    "        return y_pred\n",
    "    \n",
    "    def perf_boxplot(self, add_models=None, cv=None, n_jobs=-1):\n",
    "        models = self.models.copy()\n",
    "        if add_models:\n",
    "            for name, model in add_models:\n",
    "                models[name] = model\n",
    "            \n",
    "        perf_df = pd.DataFrame()\n",
    "        for name, model in models.items():\n",
    "            valid_scores = cross_validate(\n",
    "                model,\n",
    "                X=self.X_train,\n",
    "                y=self.y_train,\n",
    "                cv=cv if cv else self.cv,\n",
    "                scoring=self.loss,\n",
    "                n_jobs=n_jobs,\n",
    "            )[\"test_score\"]\n",
    "            \n",
    "            model_perf = pd.DataFrame({\"Model\": name, \"Validation RMSE\": -valid_scores})\n",
    "            perf_df = pd.concat([perf_df, model_perf])\n",
    "        \n",
    "        min_median = perf_df.groupby(\"Model\").median().min()[0]\n",
    "        \n",
    "        plt.figure(figsize=(18, 8))\n",
    "        \n",
    "        sns.boxplot(\n",
    "            x=perf_df[\"Validation RMSE\"],\n",
    "            y=perf_df[\"Model\"],\n",
    "            flierprops={\"alpha\": 0.5},\n",
    "        )\n",
    "        plt.axvline(x=min_median, ls=\"--\", color=\"coral\")\n",
    "        plt.ylabel(\"\")\n",
    "        plt.title(\"Model Performance\", fontsize=\"large\")\n",
    "        plt.tight_layout()"
   ]
  },
  {
   "cell_type": "code",
   "execution_count": null,
   "id": "c484d708",
   "metadata": {
    "execution": {
     "iopub.execute_input": "2023-03-20T08:49:09.202719Z",
     "iopub.status.busy": "2023-03-20T08:49:09.201847Z",
     "iopub.status.idle": "2023-03-20T08:49:09.210004Z",
     "shell.execute_reply": "2023-03-20T08:49:09.209073Z"
    },
    "papermill": {
     "duration": 0.170922,
     "end_time": "2023-03-20T08:49:09.212751",
     "exception": false,
     "start_time": "2023-03-20T08:49:09.041829",
     "status": "completed"
    },
    "tags": []
   },
   "outputs": [],
   "source": [
    "kfold = KFold(n_splits=10, shuffle=True, random_state=SEED)\n",
    "rmse_loss = make_scorer(mean_squared_error, squared=False, greater_is_better=False)\n",
    "\n",
    "MODELS = {\n",
    "    \"Ridge\": Ridge(random_state=SEED),\n",
    "    \"Linear SVR\": LinearSVR(random_state=SEED),\n",
    "    \"Kernel Ridge\": KernelRidge(),\n",
    "    \"Kernel SVR\": SVR(),\n",
    "    \"Random Forest\": RandomForestRegressor(random_state=SEED),\n",
    "    \"Gradient Boosting\": GradientBoostingRegressor(random_state=SEED),\n",
    "}\n",
    "\n",
    "tuner = ModelTuner(MODELS, X=X_train, y=y_train, cv=kfold, loss=rmse_loss)"
   ]
  },
  {
   "attachments": {},
   "cell_type": "markdown",
   "id": "cdf3e8ce",
   "metadata": {
    "papermill": {
     "duration": 0.157928,
     "end_time": "2023-03-20T08:49:09.529656",
     "exception": false,
     "start_time": "2023-03-20T08:49:09.371728",
     "status": "completed"
    },
    "tags": []
   },
   "source": [
    "### Ridge."
   ]
  },
  {
   "cell_type": "code",
   "execution_count": null,
   "id": "f8764acb",
   "metadata": {
    "execution": {
     "iopub.execute_input": "2023-03-20T08:49:09.850559Z",
     "iopub.status.busy": "2023-03-20T08:49:09.849688Z",
     "iopub.status.idle": "2023-03-20T08:49:12.039791Z",
     "shell.execute_reply": "2023-03-20T08:49:12.037844Z"
    },
    "papermill": {
     "duration": 2.356064,
     "end_time": "2023-03-20T08:49:12.044479",
     "exception": false,
     "start_time": "2023-03-20T08:49:09.688415",
     "status": "completed"
    },
    "tags": []
   },
   "outputs": [],
   "source": [
    "RR_PARAM = {\n",
    "    \"alpha\": [1e-4, 1e-3, 1e-2, 1e-1, 1., 1e1],\n",
    "}\n",
    "\n",
    "rr_results = tuner.tune_model(\"Ridge\", grid=RR_PARAM)\n",
    "\n",
    "rr_results"
   ]
  },
  {
   "attachments": {},
   "cell_type": "markdown",
   "id": "0787a909",
   "metadata": {
    "papermill": {
     "duration": 0.16618,
     "end_time": "2023-03-20T08:49:12.417460",
     "exception": false,
     "start_time": "2023-03-20T08:49:12.251280",
     "status": "completed"
    },
    "tags": []
   },
   "source": [
    "### Linear SVR."
   ]
  },
  {
   "cell_type": "code",
   "execution_count": null,
   "id": "b051c2a2",
   "metadata": {
    "execution": {
     "iopub.execute_input": "2023-03-20T08:49:12.754420Z",
     "iopub.status.busy": "2023-03-20T08:49:12.753988Z",
     "iopub.status.idle": "2023-03-20T08:49:19.122618Z",
     "shell.execute_reply": "2023-03-20T08:49:19.121292Z"
    },
    "papermill": {
     "duration": 6.532443,
     "end_time": "2023-03-20T08:49:19.125266",
     "exception": false,
     "start_time": "2023-03-20T08:49:12.592823",
     "status": "completed"
    },
    "tags": []
   },
   "outputs": [],
   "source": [
    "SVR_PARAM = {\n",
    "    \"C\": [1e-4, 1e-3, 1e-2, 1e-1, 1., 1e1],\n",
    "    \"epsilon\": [0., 1e-2, 1e-1],\n",
    "    \"dual\": [False],\n",
    "    \"loss\": [\"squared_epsilon_insensitive\"],\n",
    "    \"tol\": [1e-7],\n",
    "\n",
    "}\n",
    "\n",
    "svr_results = tuner.tune_model(\"Linear SVR\", grid=SVR_PARAM)\n",
    "\n",
    "svr_results"
   ]
  },
  {
   "attachments": {},
   "cell_type": "markdown",
   "id": "8b4718c8",
   "metadata": {
    "papermill": {
     "duration": 0.160766,
     "end_time": "2023-03-20T08:49:19.447111",
     "exception": false,
     "start_time": "2023-03-20T08:49:19.286345",
     "status": "completed"
    },
    "tags": []
   },
   "source": [
    "### Kernel Ridge."
   ]
  },
  {
   "cell_type": "code",
   "execution_count": null,
   "id": "bc43fd8d",
   "metadata": {
    "execution": {
     "iopub.execute_input": "2023-03-20T08:49:19.771914Z",
     "iopub.status.busy": "2023-03-20T08:49:19.771460Z",
     "iopub.status.idle": "2023-03-20T08:49:56.430062Z",
     "shell.execute_reply": "2023-03-20T08:49:56.427985Z"
    },
    "papermill": {
     "duration": 37.006835,
     "end_time": "2023-03-20T08:49:56.616210",
     "exception": false,
     "start_time": "2023-03-20T08:49:19.609375",
     "status": "completed"
    },
    "tags": []
   },
   "outputs": [],
   "source": [
    "KRR_PARAM = {\n",
    "    \"alpha\": [1e-4, 1e-3, 1e-2, 1e-1, 1., 1e1],\n",
    "    \"gamma\": [1e-4, 1e-3, 1e-2, 1e-1],\n",
    "    \"kernel\": [\"poly\", \"rbf\"],\n",
    "}\n",
    "\n",
    "krr_results = tuner.tune_model(\"Kernel Ridge\", grid=KRR_PARAM)\n",
    "\n",
    "krr_results"
   ]
  },
  {
   "attachments": {},
   "cell_type": "markdown",
   "id": "587e5987",
   "metadata": {
    "papermill": {
     "duration": 0.166188,
     "end_time": "2023-03-20T08:49:56.943960",
     "exception": false,
     "start_time": "2023-03-20T08:49:56.777772",
     "status": "completed"
    },
    "tags": []
   },
   "source": [
    "### Kernel SVR."
   ]
  },
  {
   "cell_type": "code",
   "execution_count": null,
   "id": "98a32a87",
   "metadata": {
    "execution": {
     "iopub.execute_input": "2023-03-20T08:49:57.274508Z",
     "iopub.status.busy": "2023-03-20T08:49:57.274034Z",
     "iopub.status.idle": "2023-03-20T08:53:30.412455Z",
     "shell.execute_reply": "2023-03-20T08:53:30.411101Z"
    },
    "papermill": {
     "duration": 213.545046,
     "end_time": "2023-03-20T08:53:30.653113",
     "exception": false,
     "start_time": "2023-03-20T08:49:57.108067",
     "status": "completed"
    },
    "tags": []
   },
   "outputs": [],
   "source": [
    "KSVR_PARAM = {\n",
    "    \"C\": [1e-4, 1e-3, 1e-2, 1e-1, 1., 1e1],\n",
    "    \"epsilon\": [0., 1e-2, 1e-1],\n",
    "    \"gamma\": [1e-4, 1e-3, 1e-2, 1e-1],\n",
    "    \"kernel\": [\"poly\", \"rbf\"],\n",
    "}\n",
    "\n",
    "ksvr_results = tuner.tune_model(\"Kernel SVR\", grid=KSVR_PARAM)\n",
    "\n",
    "ksvr_results.head(50)"
   ]
  },
  {
   "attachments": {},
   "cell_type": "markdown",
   "id": "636c20c7",
   "metadata": {
    "papermill": {
     "duration": 0.1819,
     "end_time": "2023-03-20T08:53:31.007044",
     "exception": false,
     "start_time": "2023-03-20T08:53:30.825144",
     "status": "completed"
    },
    "tags": []
   },
   "source": [
    "### Random Forest."
   ]
  },
  {
   "cell_type": "code",
   "execution_count": null,
   "id": "ef0a9ee6",
   "metadata": {
    "execution": {
     "iopub.execute_input": "2023-03-20T08:53:31.333517Z",
     "iopub.status.busy": "2023-03-20T08:53:31.333090Z",
     "iopub.status.idle": "2023-03-20T08:54:25.231047Z",
     "shell.execute_reply": "2023-03-20T08:54:25.229876Z"
    },
    "papermill": {
     "duration": 54.230286,
     "end_time": "2023-03-20T08:54:25.399561",
     "exception": false,
     "start_time": "2023-03-20T08:53:31.169275",
     "status": "completed"
    },
    "tags": []
   },
   "outputs": [],
   "source": [
    "RF_PARAM = {\n",
    "    \"max_depth\": [8, 16, 32, 64],\n",
    "    \"n_estimators\": [100, 200, 400],\n",
    "    \"max_features\": [\"sqrt\"],\n",
    "    \"bootstrap\": [False],\n",
    "}\n",
    "\n",
    "rf_results = tuner.tune_model(\"Random Forest\", grid=RF_PARAM)\n",
    "\n",
    "rf_results"
   ]
  },
  {
   "attachments": {},
   "cell_type": "markdown",
   "id": "6faa5668",
   "metadata": {
    "papermill": {
     "duration": 0.164497,
     "end_time": "2023-03-20T08:54:25.725914",
     "exception": false,
     "start_time": "2023-03-20T08:54:25.561417",
     "status": "completed"
    },
    "tags": []
   },
   "source": [
    "### Gradient Boosting."
   ]
  },
  {
   "cell_type": "code",
   "execution_count": null,
   "id": "95a6b4df",
   "metadata": {
    "execution": {
     "iopub.execute_input": "2023-03-20T08:54:26.064247Z",
     "iopub.status.busy": "2023-03-20T08:54:26.063844Z",
     "iopub.status.idle": "2023-03-20T09:02:12.199873Z",
     "shell.execute_reply": "2023-03-20T09:02:12.198632Z"
    },
    "papermill": {
     "duration": 466.469879,
     "end_time": "2023-03-20T09:02:12.366442",
     "exception": false,
     "start_time": "2023-03-20T08:54:25.896563",
     "status": "completed"
    },
    "tags": []
   },
   "outputs": [],
   "source": [
    "GB_PARAM = {\n",
    "    \"max_depth\": [3, 5, 10],\n",
    "    \"min_samples_split\": [2, 5],\n",
    "    \"min_samples_leaf\": [1, 4],\n",
    "    \"learning_rate\": [1e-2, 1e-1],\n",
    "    \"n_estimators\": [3200],\n",
    "    \"max_features\": [\"sqrt\"],\n",
    "}\n",
    "\n",
    "gb_results = tuner.tune_model(\"Gradient Boosting\", grid=GB_PARAM)\n",
    "\n",
    "gb_results"
   ]
  },
  {
   "attachments": {},
   "cell_type": "markdown",
   "id": "4d0a2ed9",
   "metadata": {
    "papermill": {
     "duration": 0.164824,
     "end_time": "2023-03-20T09:02:12.708671",
     "exception": false,
     "start_time": "2023-03-20T09:02:12.543847",
     "status": "completed"
    },
    "tags": []
   },
   "source": [
    "### Ensemble Average."
   ]
  },
  {
   "cell_type": "code",
   "execution_count": null,
   "id": "8d2134e3",
   "metadata": {
    "execution": {
     "iopub.execute_input": "2023-03-20T09:02:13.041639Z",
     "iopub.status.busy": "2023-03-20T09:02:13.040950Z",
     "iopub.status.idle": "2023-03-20T09:02:13.054479Z",
     "shell.execute_reply": "2023-03-20T09:02:13.053379Z"
    },
    "papermill": {
     "duration": 0.182807,
     "end_time": "2023-03-20T09:02:13.057006",
     "exception": false,
     "start_time": "2023-03-20T09:02:12.874199",
     "status": "completed"
    },
    "tags": []
   },
   "outputs": [],
   "source": [
    "tuner.collate_results()"
   ]
  },
  {
   "attachments": {},
   "cell_type": "markdown",
   "id": "ef2dce7d",
   "metadata": {
    "papermill": {
     "duration": 0.165088,
     "end_time": "2023-03-20T09:02:13.385312",
     "exception": false,
     "start_time": "2023-03-20T09:02:13.220224",
     "status": "completed"
    },
    "tags": []
   },
   "source": [
    "Ensemble averaging involves averaging the predictions of individual models to obtain the final prediction. Before selecting the appropriate models to include in our ensemble, we look at the model results above.\n",
    "* __Bottom three models__: The bottom two are Ridge and Linear SVR, showing similar performance. It appears that there is some nonlinearity in the data which thus cannot be captured by the linear models. Random Forest performs only slightly better and shows signs of overfitting, with the train RMSE being significantly smaller than all other models.\n",
    "\n",
    "* __Top three models__: The top three show similar performance in terms of the valid RMSE, but Gradient Boosting has much better train RMSE than both Kernel Ridge and Kernel SVR.\n",
    "\n",
    "For our ensemble model, we choose to include only the top three models. The bottom three models appear to have relatively poor fit and may end up pulling down the performance instead of achieving the intended effect of \"averaging out\" the errors."
   ]
  },
  {
   "cell_type": "code",
   "execution_count": null,
   "id": "847789a6",
   "metadata": {
    "execution": {
     "iopub.execute_input": "2023-03-20T09:02:13.731835Z",
     "iopub.status.busy": "2023-03-20T09:02:13.731473Z",
     "iopub.status.idle": "2023-03-20T09:02:36.791113Z",
     "shell.execute_reply": "2023-03-20T09:02:36.789941Z"
    },
    "papermill": {
     "duration": 23.226058,
     "end_time": "2023-03-20T09:02:36.793604",
     "exception": false,
     "start_time": "2023-03-20T09:02:13.567546",
     "status": "completed"
    },
    "tags": []
   },
   "outputs": [],
   "source": [
    "models_selected = [\"Kernel Ridge\", \"Kernel SVR\", \"Gradient Boosting\"]\n",
    "indv_models = tuner.get_models(model_names=models_selected)\n",
    "ensemble = VotingRegressor(indv_models)\n",
    "\n",
    "tuner.run_cv(ensemble)"
   ]
  },
  {
   "attachments": {},
   "cell_type": "markdown",
   "id": "974fa97b",
   "metadata": {
    "papermill": {
     "duration": 0.163804,
     "end_time": "2023-03-20T09:02:37.123123",
     "exception": false,
     "start_time": "2023-03-20T09:02:36.959319",
     "status": "completed"
    },
    "tags": []
   },
   "source": [
    "### Summary."
   ]
  },
  {
   "attachments": {},
   "cell_type": "markdown",
   "id": "b71e81c6",
   "metadata": {
    "papermill": {
     "duration": 0.164058,
     "end_time": "2023-03-20T09:02:37.448809",
     "exception": false,
     "start_time": "2023-03-20T09:02:37.284751",
     "status": "completed"
    },
    "tags": []
   },
   "source": [
    "We look at the overall validation performance of all the models. To have a better picture, we repeat the cross-validation process using RepeatedKFold to get more samples of the valid RMSE for each model. The ensemble model has the smallest median value of the validation RMSE as indicated by the red vertical dashed line."
   ]
  },
  {
   "cell_type": "code",
   "execution_count": null,
   "id": "9dc4e653",
   "metadata": {
    "execution": {
     "iopub.execute_input": "2023-03-20T09:02:37.778547Z",
     "iopub.status.busy": "2023-03-20T09:02:37.777651Z",
     "iopub.status.idle": "2023-03-20T09:10:39.911666Z",
     "shell.execute_reply": "2023-03-20T09:10:39.910188Z"
    },
    "papermill": {
     "duration": 482.478558,
     "end_time": "2023-03-20T09:10:40.089302",
     "exception": false,
     "start_time": "2023-03-20T09:02:37.610744",
     "status": "completed"
    },
    "tags": []
   },
   "outputs": [],
   "source": [
    "rkfold = RepeatedKFold(n_splits=10, n_repeats=10, random_state=SEED)\n",
    "\n",
    "tuner.perf_boxplot(add_models=[(\"Ensemble Average\", ensemble)], cv=rkfold)"
   ]
  },
  {
   "attachments": {},
   "cell_type": "markdown",
   "id": "2fe0d73c",
   "metadata": {
    "papermill": {
     "duration": 0.167429,
     "end_time": "2023-03-20T09:10:40.420212",
     "exception": false,
     "start_time": "2023-03-20T09:10:40.252783",
     "status": "completed"
    },
    "tags": []
   },
   "source": [
    "---"
   ]
  },
  {
   "attachments": {},
   "cell_type": "markdown",
   "id": "b1debe44",
   "metadata": {
    "papermill": {
     "duration": 0.16541,
     "end_time": "2023-03-20T09:10:40.751054",
     "exception": false,
     "start_time": "2023-03-20T09:10:40.585644",
     "status": "completed"
    },
    "tags": []
   },
   "source": [
    "# 5. Submission"
   ]
  },
  {
   "attachments": {},
   "cell_type": "markdown",
   "id": "3beae569",
   "metadata": {
    "papermill": {
     "duration": 0.16603,
     "end_time": "2023-03-20T09:10:41.084570",
     "exception": false,
     "start_time": "2023-03-20T09:10:40.918540",
     "status": "completed"
    },
    "tags": []
   },
   "source": [
    "We use the ensemble average as our final model."
   ]
  },
  {
   "cell_type": "code",
   "execution_count": null,
   "id": "81ae319d",
   "metadata": {
    "execution": {
     "iopub.execute_input": "2023-03-20T09:10:41.426133Z",
     "iopub.status.busy": "2023-03-20T09:10:41.425369Z",
     "iopub.status.idle": "2023-03-20T09:10:47.937508Z",
     "shell.execute_reply": "2023-03-20T09:10:47.936313Z"
    },
    "papermill": {
     "duration": 6.6881,
     "end_time": "2023-03-20T09:10:47.940391",
     "exception": false,
     "start_time": "2023-03-20T09:10:41.252291",
     "status": "completed"
    },
    "tags": []
   },
   "outputs": [],
   "source": [
    "submission = tuner.model_predict(ensemble, X_test)\n",
    "\n",
    "submission.head()"
   ]
  },
  {
   "cell_type": "code",
   "execution_count": null,
   "id": "27adf2b1",
   "metadata": {
    "execution": {
     "iopub.execute_input": "2023-03-20T09:10:48.272897Z",
     "iopub.status.busy": "2023-03-20T09:10:48.272099Z",
     "iopub.status.idle": "2023-03-20T09:10:48.287173Z",
     "shell.execute_reply": "2023-03-20T09:10:48.285925Z"
    },
    "papermill": {
     "duration": 0.18366,
     "end_time": "2023-03-20T09:10:48.289765",
     "exception": false,
     "start_time": "2023-03-20T09:10:48.106105",
     "status": "completed"
    },
    "tags": []
   },
   "outputs": [],
   "source": [
    "submission.to_csv(\"submission.csv\", index=False)"
   ]
  },
  {
   "attachments": {},
   "cell_type": "markdown",
   "id": "7069eda0",
   "metadata": {
    "papermill": {
     "duration": 0.165024,
     "end_time": "2023-03-20T09:10:48.621073",
     "exception": false,
     "start_time": "2023-03-20T09:10:48.456049",
     "status": "completed"
    },
    "tags": []
   },
   "source": [
    "---"
   ]
  }
 ],
 "metadata": {
  "kernelspec": {
   "display_name": "Python 3",
   "language": "python",
   "name": "python3"
  },
  "language_info": {
   "codemirror_mode": {
    "name": "ipython",
    "version": 3
   },
   "file_extension": ".py",
   "mimetype": "text/x-python",
   "name": "python",
   "nbconvert_exporter": "python",
   "pygments_lexer": "ipython3",
   "version": "3.7.12"
  },
  "papermill": {
   "default_parameters": {},
   "duration": 1408.968594,
   "end_time": "2023-03-20T09:10:51.413189",
   "environment_variables": {},
   "exception": null,
   "input_path": "__notebook__.ipynb",
   "output_path": "__notebook__.ipynb",
   "parameters": {},
   "start_time": "2023-03-20T08:47:22.444595",
   "version": "2.4.0"
  }
 },
 "nbformat": 4,
 "nbformat_minor": 5
}
