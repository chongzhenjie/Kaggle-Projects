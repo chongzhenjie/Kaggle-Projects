{
 "cells": [
  {
   "attachments": {},
   "cell_type": "markdown",
   "id": "7e27db0f",
   "metadata": {
    "papermill": {
     "duration": 0.010364,
     "end_time": "2023-05-06T15:41:10.140107",
     "exception": false,
     "start_time": "2023-05-06T15:41:10.129743",
     "status": "completed"
    },
    "tags": []
   },
   "source": [
    "# Photo to Monet — CycleGAN⚡PyTorch Lightning"
   ]
  },
  {
   "attachments": {},
   "cell_type": "markdown",
   "id": "1a23b4c6",
   "metadata": {
    "papermill": {
     "duration": 0.009364,
     "end_time": "2023-05-06T15:41:10.159366",
     "exception": false,
     "start_time": "2023-05-06T15:41:10.150002",
     "status": "completed"
    },
    "tags": []
   },
   "source": [
    "*Updates: Upgraded code for compatibility with Lightning 2.0.*"
   ]
  },
  {
   "attachments": {},
   "cell_type": "markdown",
   "id": "3948742b",
   "metadata": {
    "papermill": {
     "duration": 0.009438,
     "end_time": "2023-05-06T15:41:10.178304",
     "exception": false,
     "start_time": "2023-05-06T15:41:10.168866",
     "status": "completed"
    },
    "tags": []
   },
   "source": [
    "This notebook aims to implement CycleGAN in PyTorch Lightning. For simplicity, we only look at the results in a single direction (photo-to-Monet translation) here. The list of references is as follows:\n",
    "* [Documentation](https://pytorch-lightning.readthedocs.io/en/stable/notebooks/lightning_examples/basic-gan.html) for basic GAN in PyTorch Lightning.\n",
    "* [Kaggle tutorial](https://www.kaggle.com/code/amyjang/monet-cyclegan-tutorial/notebook). We adapt the U-Net generator from here.\n",
    "* Original [paper](https://arxiv.org/abs/1703.10593) and [code](https://github.com/junyanz/pytorch-CycleGAN-and-pix2pix) for CycleGAN. We also examine the ResNet generator used in the original implementation. To stabilize training, the author used an image buffer to store previously generated images to update the discriminator.\n",
    "* Original [paper](https://arxiv.org/abs/1611.04076) for LSGAN, which has shown to outperform BCE loss and is used in the original CycleGAN implementation. BCE loss may be susceptible to vanishing gradient problems and cause ineffective learning. For better training stability, we use LSGAN, which adopts the mean squared error for the adversarial criterion.\n",
    "\n",
    "More work can be done to include evaluation metrics like the inception score (IS) or Fréchet inception distance (FID)."
   ]
  },
  {
   "cell_type": "code",
   "execution_count": null,
   "id": "0007394d",
   "metadata": {
    "_kg_hide-output": true,
    "execution": {
     "iopub.execute_input": "2023-05-06T15:41:10.199533Z",
     "iopub.status.busy": "2023-05-06T15:41:10.198836Z",
     "iopub.status.idle": "2023-05-06T15:41:33.402794Z",
     "shell.execute_reply": "2023-05-06T15:41:33.401713Z"
    },
    "papermill": {
     "duration": 23.217263,
     "end_time": "2023-05-06T15:41:33.405189",
     "exception": false,
     "start_time": "2023-05-06T15:41:10.187926",
     "status": "completed"
    },
    "tags": []
   },
   "outputs": [],
   "source": [
    "!pip install deepspeed"
   ]
  },
  {
   "cell_type": "code",
   "execution_count": null,
   "id": "eee259c5",
   "metadata": {
    "_cell_guid": "b1076dfc-b9ad-4769-8c92-a6c4dae69d19",
    "_uuid": "8f2839f25d086af736a60e9eeb907d3b93b6e0e5",
    "execution": {
     "iopub.execute_input": "2023-05-06T15:41:33.428221Z",
     "iopub.status.busy": "2023-05-06T15:41:33.427921Z",
     "iopub.status.idle": "2023-05-06T15:41:47.487901Z",
     "shell.execute_reply": "2023-05-06T15:41:47.486930Z"
    },
    "papermill": {
     "duration": 14.074056,
     "end_time": "2023-05-06T15:41:47.490429",
     "exception": false,
     "start_time": "2023-05-06T15:41:33.416373",
     "status": "completed"
    },
    "tags": []
   },
   "outputs": [],
   "source": [
    "import glob\n",
    "import os\n",
    "import shutil\n",
    "\n",
    "import deepspeed as ds\n",
    "import matplotlib.pyplot as plt\n",
    "import numpy as np\n",
    "import pytorch_lightning as L\n",
    "import torch\n",
    "import torch.nn.functional as F\n",
    "import torchvision.transforms as T\n",
    "from pytorch_lightning.utilities import CombinedLoader\n",
    "from torch import nn\n",
    "from torch.utils.data import DataLoader, Dataset\n",
    "from torchvision.io import read_image\n",
    "from torchvision.utils import make_grid, save_image\n",
    "\n",
    "_ = L.seed_everything(0, workers=True)"
   ]
  },
  {
   "attachments": {},
   "cell_type": "markdown",
   "id": "184d4a62",
   "metadata": {
    "papermill": {
     "duration": 0.010996,
     "end_time": "2023-05-06T15:41:47.513845",
     "exception": false,
     "start_time": "2023-05-06T15:41:47.502849",
     "status": "completed"
    },
    "tags": []
   },
   "source": [
    "---"
   ]
  },
  {
   "attachments": {},
   "cell_type": "markdown",
   "id": "6af6c7cf",
   "metadata": {
    "papermill": {
     "duration": 0.010903,
     "end_time": "2023-05-06T15:41:47.535664",
     "exception": false,
     "start_time": "2023-05-06T15:41:47.524761",
     "status": "completed"
    },
    "tags": []
   },
   "source": [
    "# 1. Data Preprocessing"
   ]
  },
  {
   "cell_type": "code",
   "execution_count": null,
   "id": "9afff64a",
   "metadata": {
    "_kg_hide-input": false,
    "execution": {
     "iopub.execute_input": "2023-05-06T15:41:47.558638Z",
     "iopub.status.busy": "2023-05-06T15:41:47.558315Z",
     "iopub.status.idle": "2023-05-06T15:41:47.563731Z",
     "shell.execute_reply": "2023-05-06T15:41:47.562718Z"
    },
    "papermill": {
     "duration": 0.019279,
     "end_time": "2023-05-06T15:41:47.566068",
     "exception": false,
     "start_time": "2023-05-06T15:41:47.546789",
     "status": "completed"
    },
    "tags": []
   },
   "outputs": [],
   "source": [
    "def show_img(img_tensor, nrow, title=\"\"):\n",
    "    img_tensor = img_tensor.detach().cpu() * 0.5 + 0.5\n",
    "    img_grid = make_grid(img_tensor, nrow=nrow).permute(1, 2, 0)\n",
    "    plt.figure(figsize=(18, 8))\n",
    "    plt.imshow(img_grid)\n",
    "    plt.axis(\"off\")\n",
    "    plt.title(title)\n",
    "    plt.show()"
   ]
  },
  {
   "attachments": {},
   "cell_type": "markdown",
   "id": "14a9c9ea",
   "metadata": {
    "papermill": {
     "duration": 0.010856,
     "end_time": "2023-05-06T15:41:47.587930",
     "exception": false,
     "start_time": "2023-05-06T15:41:47.577074",
     "status": "completed"
    },
    "tags": []
   },
   "source": [
    "### Augmenting the images."
   ]
  },
  {
   "attachments": {},
   "cell_type": "markdown",
   "id": "e54c83a3",
   "metadata": {
    "papermill": {
     "duration": 0.010236,
     "end_time": "2023-05-06T15:41:47.608790",
     "exception": false,
     "start_time": "2023-05-06T15:41:47.598554",
     "status": "completed"
    },
    "tags": []
   },
   "source": [
    "Before loading the datasets, we define `CustomTransform` for image augmentation. This improves learning by introducing more variety in the images during training instead of learning from the same set of images, especially when we only have 300 Monet paintings. We look at some basic image transformations:\n",
    "* Scaling the images larger using `Resize` and then randomly cropping to the original size of 256 with `RandomCrop` to obtain slightly different images.\n",
    "* Randomly flipping the images horizontally using `RandomHorizontalFlip`. The photos and Monet paintings do not greatly depend on the horizontal orientation.\n",
    "* Randomly changing the colors of the images using `ColorJitter`. This could mimic different lighting conditions for the photos and introduce variability in the colors of the Monet paintings.\n",
    "\n",
    "Other possible transformations can be found [here](https://pytorch.org/vision/stable/transforms.html). These transformations are only needed during model training/fitting, and we specify this using the `stage` argument. Finally, the images are scaled down for better convergence."
   ]
  },
  {
   "cell_type": "code",
   "execution_count": null,
   "id": "a8dda182",
   "metadata": {
    "execution": {
     "iopub.execute_input": "2023-05-06T15:41:47.631275Z",
     "iopub.status.busy": "2023-05-06T15:41:47.630980Z",
     "iopub.status.idle": "2023-05-06T15:41:47.637423Z",
     "shell.execute_reply": "2023-05-06T15:41:47.636462Z"
    },
    "papermill": {
     "duration": 0.019816,
     "end_time": "2023-05-06T15:41:47.639289",
     "exception": false,
     "start_time": "2023-05-06T15:41:47.619473",
     "status": "completed"
    },
    "tags": []
   },
   "outputs": [],
   "source": [
    "class CustomTransform(object):\n",
    "    def __init__(self, load_dim=286, target_dim=256):\n",
    "        self.transform_train = T.Compose([\n",
    "            T.Resize((load_dim, load_dim), antialias=True),\n",
    "            T.RandomCrop((target_dim, target_dim)),\n",
    "            T.RandomHorizontalFlip(p=0.5),\n",
    "            T.ColorJitter(brightness=0.2, contrast=0.2,\n",
    "                          saturation=0.2, hue=0.1),\n",
    "        ])\n",
    "        \n",
    "        # ensure images outside of training dataset are also of the same size\n",
    "        self.transform = T.Resize((target_dim, target_dim), antialias=True)\n",
    "        \n",
    "    def __call__(self, img, stage):\n",
    "        if stage == \"fit\":\n",
    "            img = self.transform_train(img)\n",
    "        else:\n",
    "            img = self.transform(img)\n",
    "        return img * 2 - 1"
   ]
  },
  {
   "attachments": {},
   "cell_type": "markdown",
   "id": "ecb3197c",
   "metadata": {
    "papermill": {
     "duration": 0.010333,
     "end_time": "2023-05-06T15:41:47.660352",
     "exception": false,
     "start_time": "2023-05-06T15:41:47.650019",
     "status": "completed"
    },
    "tags": []
   },
   "source": [
    "### Storing the datasets."
   ]
  },
  {
   "attachments": {},
   "cell_type": "markdown",
   "id": "6761d735",
   "metadata": {
    "papermill": {
     "duration": 0.009952,
     "end_time": "2023-05-06T15:41:47.680328",
     "exception": false,
     "start_time": "2023-05-06T15:41:47.670376",
     "status": "completed"
    },
    "tags": []
   },
   "source": [
    "To load and store the datasets, we define a custom `Dataset` involving two main methods:\n",
    "* `__len__` to retrieve the size of the dataset.\n",
    "* `__getitem__` to get the i-th sample of images after performing the transformations described above.\n",
    "\n",
    "Similarly, we define the `stage` argument to differentiate between the training dataset and prediction dataset when performing the transformations. Different instances of `CustomDataset` will be used to retrieve the photos and Monet paintings separately. We look at combining them while iterating through the datasets later."
   ]
  },
  {
   "cell_type": "code",
   "execution_count": null,
   "id": "50c53635",
   "metadata": {
    "execution": {
     "iopub.execute_input": "2023-05-06T15:41:47.701966Z",
     "iopub.status.busy": "2023-05-06T15:41:47.701682Z",
     "iopub.status.idle": "2023-05-06T15:41:47.706904Z",
     "shell.execute_reply": "2023-05-06T15:41:47.706023Z"
    },
    "papermill": {
     "duration": 0.018605,
     "end_time": "2023-05-06T15:41:47.708900",
     "exception": false,
     "start_time": "2023-05-06T15:41:47.690295",
     "status": "completed"
    },
    "tags": []
   },
   "outputs": [],
   "source": [
    "class CustomDataset(Dataset):\n",
    "    def __init__(self, filenames, transform, stage):\n",
    "        self.filenames = filenames\n",
    "        self.transform = transform\n",
    "        self.stage = stage\n",
    "        \n",
    "    def __len__(self):\n",
    "        return len(self.filenames)\n",
    "    \n",
    "    def __getitem__(self, idx):\n",
    "        img_name = self.filenames[idx]\n",
    "        img = read_image(img_name) / 255.0\n",
    "        return self.transform(img, stage=self.stage)"
   ]
  },
  {
   "attachments": {},
   "cell_type": "markdown",
   "id": "e344b5ce",
   "metadata": {
    "papermill": {
     "duration": 0.01058,
     "end_time": "2023-05-06T15:41:47.730266",
     "exception": false,
     "start_time": "2023-05-06T15:41:47.719686",
     "status": "completed"
    },
    "tags": []
   },
   "source": [
    "### Iterating through the datasets."
   ]
  },
  {
   "attachments": {},
   "cell_type": "markdown",
   "id": "1dbf1706",
   "metadata": {
    "papermill": {
     "duration": 0.010362,
     "end_time": "2023-05-06T15:41:47.751315",
     "exception": false,
     "start_time": "2023-05-06T15:41:47.740953",
     "status": "completed"
    },
    "tags": []
   },
   "source": [
    "To prepare the datasets, we load them into `DataLoader` separately, which can then iterate through the datasets as needed. Because the training dataset contains both the Monet paintings and photos, we pass both dataloaders into `CombinedLoader` for training. We specify the sampling mode using `mode=\"max_size_cycle\"` to stop after one complete pass of the larger dataset of photos while cycling through the smaller dataset of Monet paintings. Other modes can be found [here](https://lightning.ai/docs/pytorch/stable/api/lightning.pytorch.utilities.combined_loader.html). In contrast, we fix the validation, test and prediction datasets to only contain photos for simplicity since we are trying to generate Monet-style images in this notebook.\n",
    "\n",
    "To organize all the steps described above for processing data, we define a custom `LightningDataModule`. A datamodule involves many methods, but we are mainly concerned with:\n",
    "* `setup` to create the different instances of `CustomDataset` defined above.\n",
    "* `train_dataloader` to load both the Monet paintings and photos for training.\n",
    "* `val_dataloader` to load only 1 batch of photos and use it repeatedly to visualize the progress of adding Monet style at different points of training.\n",
    "* `test_dataloader` to load a small subset of photos to test the results of photo-to-Monet translation on different sample photos after training. \n",
    "* `predict_dataloader` to load the entire dataset of photos and add Monet style for submission.\n",
    "\n",
    "Other possible methods can be found [here](https://pytorch-lightning.readthedocs.io/en/stable/data/datamodule.html). We limit the number of batches to be loaded for the validation and test datasets later on instead of manually extracting here."
   ]
  },
  {
   "cell_type": "code",
   "execution_count": null,
   "id": "814be13c",
   "metadata": {
    "execution": {
     "iopub.execute_input": "2023-05-06T15:41:47.773951Z",
     "iopub.status.busy": "2023-05-06T15:41:47.773136Z",
     "iopub.status.idle": "2023-05-06T15:41:47.793339Z",
     "shell.execute_reply": "2023-05-06T15:41:47.792502Z"
    },
    "papermill": {
     "duration": 0.033402,
     "end_time": "2023-05-06T15:41:47.795261",
     "exception": false,
     "start_time": "2023-05-06T15:41:47.761859",
     "status": "completed"
    },
    "tags": []
   },
   "outputs": [],
   "source": [
    "# change to True to set the configuration for debugging mode\n",
    "DEBUG = False\n",
    "\n",
    "DM_CONFIG = {    \n",
    "    # the directories where the Monet paintings and photos are loaded from\n",
    "    \"monet_dir\": os.path.join(\"/kaggle/input/gan-getting-started/monet_jpg\", \"*.jpg\"),\n",
    "    \"photo_dir\": os.path.join(\"/kaggle/input/gan-getting-started/photo_jpg\", \"*.jpg\"),\n",
    "    \n",
    "    \"loader_config\": {\n",
    "        # the number of subprocesses (excluding the main process) used for data loading\n",
    "        \"num_workers\": os.cpu_count(),\n",
    "        \n",
    "        # enable faster data transfer to GPU during training\n",
    "        \"pin_memory\": torch.cuda.is_available(),\n",
    "    },\n",
    "    \n",
    "    # the validation/test batch size (mainly for visualization purposes)\n",
    "    \"sample_size\": 5,\n",
    "    \n",
    "    # the training/prediction batch size\n",
    "    \"batch_size\": 1 if not DEBUG else 1,\n",
    "}"
   ]
  },
  {
   "cell_type": "code",
   "execution_count": null,
   "id": "65845535",
   "metadata": {
    "execution": {
     "iopub.execute_input": "2023-05-06T15:41:47.818138Z",
     "iopub.status.busy": "2023-05-06T15:41:47.817884Z",
     "iopub.status.idle": "2023-05-06T15:41:47.826707Z",
     "shell.execute_reply": "2023-05-06T15:41:47.825708Z"
    },
    "papermill": {
     "duration": 0.023009,
     "end_time": "2023-05-06T15:41:47.828920",
     "exception": false,
     "start_time": "2023-05-06T15:41:47.805911",
     "status": "completed"
    },
    "tags": []
   },
   "outputs": [],
   "source": [
    "class CustomDataModule(L.LightningDataModule):\n",
    "    def __init__(\n",
    "        self,\n",
    "        monet_dir,\n",
    "        photo_dir, \n",
    "        loader_config,\n",
    "        sample_size,\n",
    "        batch_size,\n",
    "    ):\n",
    "        super().__init__()\n",
    "        self.loader_config = loader_config\n",
    "        self.sample_size = sample_size\n",
    "        self.batch_size = batch_size       \n",
    "            \n",
    "        # store file paths\n",
    "        self.monet_filenames = sorted(glob.glob(monet_dir))\n",
    "        self.photo_filenames = sorted(glob.glob(photo_dir))\n",
    "        \n",
    "        # define transformations for image augmentation\n",
    "        self.transform = CustomTransform()\n",
    "        \n",
    "    def setup(self, stage):\n",
    "        if stage == \"fit\":\n",
    "            self.train_monet = CustomDataset(self.monet_filenames, self.transform, stage)\n",
    "            self.train_photo = CustomDataset(self.photo_filenames, self.transform, stage)\n",
    "            \n",
    "        if stage in [\"fit\", \"test\", \"predict\"]:\n",
    "            # to be used for test and prediction datasets as well\n",
    "            self.valid_photo = CustomDataset(self.photo_filenames, self.transform, None)\n",
    "            \n",
    "    def train_dataloader(self):\n",
    "        loader_config = {\n",
    "            \"shuffle\": True,\n",
    "            \"drop_last\": True,\n",
    "            \"batch_size\": self.batch_size,\n",
    "            **self.loader_config,\n",
    "        }\n",
    "        loader_monet = DataLoader(self.train_monet, **loader_config)\n",
    "        loader_photo = DataLoader(self.train_photo, **loader_config)\n",
    "        loaders = {\"monet\": loader_monet, \"photo\": loader_photo}\n",
    "        return CombinedLoader(loaders, mode=\"max_size_cycle\")\n",
    "    \n",
    "    def val_dataloader(self):\n",
    "        return DataLoader(\n",
    "            self.valid_photo,\n",
    "            batch_size=self.sample_size,\n",
    "            **self.loader_config,\n",
    "        )\n",
    "    \n",
    "    def test_dataloader(self):\n",
    "        return self.val_dataloader()\n",
    "    \n",
    "    def predict_dataloader(self):\n",
    "        return DataLoader(\n",
    "            self.valid_photo,\n",
    "            batch_size=self.batch_size,\n",
    "            **self.loader_config,\n",
    "        )"
   ]
  },
  {
   "attachments": {},
   "cell_type": "markdown",
   "id": "b092db2d",
   "metadata": {
    "papermill": {
     "duration": 0.010302,
     "end_time": "2023-05-06T15:41:47.849762",
     "exception": false,
     "start_time": "2023-05-06T15:41:47.839460",
     "status": "completed"
    },
    "tags": []
   },
   "source": [
    "We check that the datamodule defined is working as intended by visualizing samples of the images below."
   ]
  },
  {
   "cell_type": "code",
   "execution_count": null,
   "id": "988a80c0",
   "metadata": {
    "execution": {
     "iopub.execute_input": "2023-05-06T15:41:47.871886Z",
     "iopub.status.busy": "2023-05-06T15:41:47.871623Z",
     "iopub.status.idle": "2023-05-06T15:41:55.973812Z",
     "shell.execute_reply": "2023-05-06T15:41:55.972781Z"
    },
    "papermill": {
     "duration": 8.120885,
     "end_time": "2023-05-06T15:41:55.981118",
     "exception": false,
     "start_time": "2023-05-06T15:41:47.860233",
     "status": "completed"
    },
    "tags": []
   },
   "outputs": [],
   "source": [
    "dm_sample = CustomDataModule(batch_size=5, **{k: v for k, v in DM_CONFIG.items() if k != \"batch_size\"})\n",
    "dm_sample.setup(\"fit\")\n",
    "\n",
    "train_loader = dm_sample.train_dataloader()\n",
    "imgs = next(iter(train_loader))\n",
    "\n",
    "show_img(imgs[\"monet\"], nrow=5, title=\"Augmented Monet Paintings\")\n",
    "show_img(imgs[\"photo\"], nrow=5, title=\"Augmented Photos\")"
   ]
  },
  {
   "attachments": {},
   "cell_type": "markdown",
   "id": "77de126d",
   "metadata": {
    "papermill": {
     "duration": 0.042038,
     "end_time": "2023-05-06T15:41:56.055450",
     "exception": false,
     "start_time": "2023-05-06T15:41:56.013412",
     "status": "completed"
    },
    "tags": []
   },
   "source": [
    "---"
   ]
  },
  {
   "attachments": {},
   "cell_type": "markdown",
   "id": "6a5a4269",
   "metadata": {
    "papermill": {
     "duration": 0.034325,
     "end_time": "2023-05-06T15:41:56.137049",
     "exception": false,
     "start_time": "2023-05-06T15:41:56.102724",
     "status": "completed"
    },
    "tags": []
   },
   "source": [
    "# 2. Building CycleGAN Architecture"
   ]
  },
  {
   "attachments": {},
   "cell_type": "markdown",
   "id": "6b669e52",
   "metadata": {
    "papermill": {
     "duration": 0.029151,
     "end_time": "2023-05-06T15:41:56.194552",
     "exception": false,
     "start_time": "2023-05-06T15:41:56.165401",
     "status": "completed"
    },
    "tags": []
   },
   "source": [
    "### U-Net generator."
   ]
  },
  {
   "attachments": {},
   "cell_type": "markdown",
   "id": "05aa70db",
   "metadata": {
    "papermill": {
     "duration": 0.030232,
     "end_time": "2023-05-06T15:41:56.254595",
     "exception": false,
     "start_time": "2023-05-06T15:41:56.224363",
     "status": "completed"
    },
    "tags": []
   },
   "source": [
    "<img src=\"https://lh5.googleusercontent.com/9kNO6hxYJmpcfG5bOjnDazieeLC7Q8jZJi3gTtnJelbkOUL7Xz9e-3F_SNuxPpo4fZ4=w2400\" width=\"600\"/>\n",
    "\n",
    "*Example of the U-Net architecture [[source](https://paperswithcode.com/method/u-net)].*"
   ]
  },
  {
   "attachments": {},
   "cell_type": "markdown",
   "id": "395c4998",
   "metadata": {
    "papermill": {
     "duration": 0.029692,
     "end_time": "2023-05-06T15:41:56.313326",
     "exception": false,
     "start_time": "2023-05-06T15:41:56.283634",
     "status": "completed"
    },
    "tags": []
   },
   "source": [
    "A common architecture for the CycleGAN generator is the U-Net. U-Net is a network which consists of a sequence of downsampling blocks followed by a sequence of upsampling blocks, giving it the U-shaped architecture. In the upsampling path, we concatenate the outputs of the upsampling blocks and the outputs of the downsampling blocks symmetrically. This can be seen as a kind of skip connection, facilitating information flow in deep networks and reducing the impact of vanishing gradients."
   ]
  },
  {
   "attachments": {},
   "cell_type": "markdown",
   "id": "741c043b",
   "metadata": {
    "papermill": {
     "duration": 0.028901,
     "end_time": "2023-05-06T15:41:56.371263",
     "exception": false,
     "start_time": "2023-05-06T15:41:56.342362",
     "status": "completed"
    },
    "tags": []
   },
   "source": [
    "### ResNet generator."
   ]
  },
  {
   "attachments": {},
   "cell_type": "markdown",
   "id": "6287846e",
   "metadata": {
    "papermill": {
     "duration": 0.029195,
     "end_time": "2023-05-06T15:41:56.429938",
     "exception": false,
     "start_time": "2023-05-06T15:41:56.400743",
     "status": "completed"
    },
    "tags": []
   },
   "source": [
    "<img src=\"https://lh3.googleusercontent.com/drive-viewer/AAOQEOR8E8EPpiR5A_GVPeY6B6-6RJIymhoJy8Jf2ERMK8sbuIEKz1Z1uQZ9HEAOR9S8ZNzR6SLNHH69ooVwYgvfSxDMnrBFfQ=s1600\" width=\"300\"/>\n",
    "\n",
    "*Example of a residual block [[source](https://paperswithcode.com/method/residual-block)].*"
   ]
  },
  {
   "attachments": {},
   "cell_type": "markdown",
   "id": "76aa29d0",
   "metadata": {
    "papermill": {
     "duration": 0.029779,
     "end_time": "2023-05-06T15:41:56.489135",
     "exception": false,
     "start_time": "2023-05-06T15:41:56.459356",
     "status": "completed"
    },
    "tags": []
   },
   "source": [
    "In the original CycleGAN implementation, the author used a ResNet generator. Similar to the U-Net architecture, the ResNet generator consists of the downsampling path and upsampling path. The difference is that the ResNet generator does not have the long skip connections from the concatenations of outputs. Instead, the ResNet generator uses residual blocks between the two paths. These residual blocks have short skip connections where the original input is added to the output."
   ]
  },
  {
   "attachments": {},
   "cell_type": "markdown",
   "id": "b57d4ed1",
   "metadata": {
    "papermill": {
     "duration": 0.029087,
     "end_time": "2023-05-06T15:41:56.549905",
     "exception": false,
     "start_time": "2023-05-06T15:41:56.520818",
     "status": "completed"
    },
    "tags": []
   },
   "source": [
    "### Downsampling blocks."
   ]
  },
  {
   "attachments": {},
   "cell_type": "markdown",
   "id": "23634a6d",
   "metadata": {
    "papermill": {
     "duration": 0.030754,
     "end_time": "2023-05-06T15:41:56.610262",
     "exception": false,
     "start_time": "2023-05-06T15:41:56.579508",
     "status": "completed"
    },
    "tags": []
   },
   "source": [
    "The downsampling blocks use convolution layers to increase the number of feature maps while reducing the dimensions of the 2D image."
   ]
  },
  {
   "cell_type": "code",
   "execution_count": null,
   "id": "f817192a",
   "metadata": {
    "execution": {
     "iopub.execute_input": "2023-05-06T15:41:56.675431Z",
     "iopub.status.busy": "2023-05-06T15:41:56.675020Z",
     "iopub.status.idle": "2023-05-06T15:41:56.682342Z",
     "shell.execute_reply": "2023-05-06T15:41:56.681394Z"
    },
    "papermill": {
     "duration": 0.043319,
     "end_time": "2023-05-06T15:41:56.684430",
     "exception": false,
     "start_time": "2023-05-06T15:41:56.641111",
     "status": "completed"
    },
    "tags": []
   },
   "outputs": [],
   "source": [
    "class Downsampling(nn.Module):\n",
    "    def __init__(\n",
    "        self,\n",
    "        in_channels,\n",
    "        out_channels,\n",
    "        kernel_size=4,\n",
    "        stride=2,\n",
    "        padding=1,\n",
    "        norm=True,\n",
    "        lrelu=True,\n",
    "    ):\n",
    "        super().__init__()\n",
    "        self.block = nn.Sequential(\n",
    "            nn.Conv2d(in_channels, out_channels,\n",
    "                      kernel_size=kernel_size, stride=stride, padding=padding, bias=not norm),\n",
    "        )\n",
    "        if norm:\n",
    "            self.block.append(nn.InstanceNorm2d(out_channels, affine=True))\n",
    "        if lrelu is not None:\n",
    "            self.block.append(nn.LeakyReLU(0.2, True) if lrelu else nn.ReLU(True))\n",
    "        \n",
    "    def forward(self, x):\n",
    "        return self.block(x)"
   ]
  },
  {
   "attachments": {},
   "cell_type": "markdown",
   "id": "a4b46255",
   "metadata": {
    "papermill": {
     "duration": 0.030013,
     "end_time": "2023-05-06T15:41:56.744810",
     "exception": false,
     "start_time": "2023-05-06T15:41:56.714797",
     "status": "completed"
    },
    "tags": []
   },
   "source": [
    "### Upsampling blocks."
   ]
  },
  {
   "attachments": {},
   "cell_type": "markdown",
   "id": "e26b8bbe",
   "metadata": {
    "papermill": {
     "duration": 0.028924,
     "end_time": "2023-05-06T15:41:56.803100",
     "exception": false,
     "start_time": "2023-05-06T15:41:56.774176",
     "status": "completed"
    },
    "tags": []
   },
   "source": [
    "On the other hand, the upsampling blocks contain transposed convolution layers, which combine the learned features to output an image with the original size."
   ]
  },
  {
   "cell_type": "code",
   "execution_count": null,
   "id": "d3755ee2",
   "metadata": {
    "execution": {
     "iopub.execute_input": "2023-05-06T15:41:56.865104Z",
     "iopub.status.busy": "2023-05-06T15:41:56.864154Z",
     "iopub.status.idle": "2023-05-06T15:41:56.870767Z",
     "shell.execute_reply": "2023-05-06T15:41:56.870203Z"
    },
    "papermill": {
     "duration": 0.039512,
     "end_time": "2023-05-06T15:41:56.872670",
     "exception": false,
     "start_time": "2023-05-06T15:41:56.833158",
     "status": "completed"
    },
    "tags": []
   },
   "outputs": [],
   "source": [
    "class Upsampling(nn.Module):\n",
    "    def __init__(\n",
    "        self,\n",
    "        in_channels,\n",
    "        out_channels,\n",
    "        kernel_size=4,\n",
    "        stride=2,\n",
    "        padding=1,\n",
    "        output_padding=0,\n",
    "        dropout=False,\n",
    "    ):\n",
    "        super().__init__()\n",
    "        self.block = nn.Sequential(\n",
    "            nn.ConvTranspose2d(in_channels, out_channels,\n",
    "                               kernel_size=kernel_size, stride=stride, \n",
    "                               padding=padding, output_padding=output_padding, bias=False),\n",
    "            nn.InstanceNorm2d(out_channels, affine=True),\n",
    "        )\n",
    "        if dropout:\n",
    "            self.block.append(nn.Dropout(0.5))\n",
    "        self.block.append(nn.ReLU(True))\n",
    "        \n",
    "    def forward(self, x):\n",
    "        return self.block(x)"
   ]
  },
  {
   "attachments": {},
   "cell_type": "markdown",
   "id": "871e72b2",
   "metadata": {
    "papermill": {
     "duration": 0.028199,
     "end_time": "2023-05-06T15:41:56.929093",
     "exception": false,
     "start_time": "2023-05-06T15:41:56.900894",
     "status": "completed"
    },
    "tags": []
   },
   "source": [
    "### Residual blocks."
   ]
  },
  {
   "attachments": {},
   "cell_type": "markdown",
   "id": "73d55c4a",
   "metadata": {
    "papermill": {
     "duration": 0.028193,
     "end_time": "2023-05-06T15:41:56.986028",
     "exception": false,
     "start_time": "2023-05-06T15:41:56.957835",
     "status": "completed"
    },
    "tags": []
   },
   "source": [
    "As described above, the residual blocks have convolution layers where the original input is added to the output."
   ]
  },
  {
   "cell_type": "code",
   "execution_count": null,
   "id": "4b48ea88",
   "metadata": {
    "execution": {
     "iopub.execute_input": "2023-05-06T15:41:57.046346Z",
     "iopub.status.busy": "2023-05-06T15:41:57.045959Z",
     "iopub.status.idle": "2023-05-06T15:41:57.054361Z",
     "shell.execute_reply": "2023-05-06T15:41:57.053310Z"
    },
    "papermill": {
     "duration": 0.041519,
     "end_time": "2023-05-06T15:41:57.056461",
     "exception": false,
     "start_time": "2023-05-06T15:41:57.014942",
     "status": "completed"
    },
    "tags": []
   },
   "outputs": [],
   "source": [
    "class ResBlock(nn.Module):\n",
    "    def __init__(self, in_channels, kernel_size=3, padding=1):\n",
    "        super().__init__()\n",
    "        self.block = nn.Sequential(\n",
    "            nn.ReflectionPad2d(padding),\n",
    "            Downsampling(in_channels, in_channels,\n",
    "                         kernel_size=kernel_size, stride=1, padding=0, lrelu=False),\n",
    "            nn.ReflectionPad2d(padding),\n",
    "            Downsampling(in_channels, in_channels,\n",
    "                         kernel_size=kernel_size, stride=1, padding=0, lrelu=None),\n",
    "        )\n",
    "        \n",
    "    def forward(self, x):\n",
    "        return x + self.block(x)"
   ]
  },
  {
   "attachments": {},
   "cell_type": "markdown",
   "id": "c32ac078",
   "metadata": {
    "papermill": {
     "duration": 0.030558,
     "end_time": "2023-05-06T15:41:57.116985",
     "exception": false,
     "start_time": "2023-05-06T15:41:57.086427",
     "status": "completed"
    },
    "tags": []
   },
   "source": [
    "### Building the generator."
   ]
  },
  {
   "attachments": {},
   "cell_type": "markdown",
   "id": "36f9e10a",
   "metadata": {
    "papermill": {
     "duration": 0.028995,
     "end_time": "2023-05-06T15:41:57.175683",
     "exception": false,
     "start_time": "2023-05-06T15:41:57.146688",
     "status": "completed"
    },
    "tags": []
   },
   "source": [
    "With the building blocks defined, we can now build our CycleGAN generator. For reference, the output size of each block is commented below."
   ]
  },
  {
   "cell_type": "code",
   "execution_count": null,
   "id": "e93f7e26",
   "metadata": {
    "execution": {
     "iopub.execute_input": "2023-05-06T15:41:57.236761Z",
     "iopub.status.busy": "2023-05-06T15:41:57.236201Z",
     "iopub.status.idle": "2023-05-06T15:41:57.253385Z",
     "shell.execute_reply": "2023-05-06T15:41:57.252468Z"
    },
    "papermill": {
     "duration": 0.05082,
     "end_time": "2023-05-06T15:41:57.255420",
     "exception": false,
     "start_time": "2023-05-06T15:41:57.204600",
     "status": "completed"
    },
    "tags": []
   },
   "outputs": [],
   "source": [
    "class UNetGenerator(nn.Module):\n",
    "    def __init__(self, hid_channels, in_channels, out_channels):\n",
    "        super().__init__()\n",
    "        self.downsampling_path = nn.Sequential(\n",
    "            Downsampling(in_channels, hid_channels, norm=False), # 64x128x128\n",
    "            Downsampling(hid_channels, hid_channels*2), # 128x64x64\n",
    "            Downsampling(hid_channels*2, hid_channels*4), # 256x32x32\n",
    "            Downsampling(hid_channels*4, hid_channels*8), # 512x16x16\n",
    "            Downsampling(hid_channels*8, hid_channels*8), # 512x8x8\n",
    "            Downsampling(hid_channels*8, hid_channels*8), # 512x4x4\n",
    "            Downsampling(hid_channels*8, hid_channels*8), # 512x2x2\n",
    "            Downsampling(hid_channels*8, hid_channels*8, norm=False), # 512x1x1, instance norm does not work on 1x1\n",
    "        )\n",
    "        self.upsampling_path = nn.Sequential(\n",
    "            Upsampling(hid_channels*8, hid_channels*8, dropout=True), # (512+512)x2x2\n",
    "            Upsampling(hid_channels*16, hid_channels*8, dropout=True), # (512+512)x4x4\n",
    "            Upsampling(hid_channels*16, hid_channels*8, dropout=True), # (512+512)x8x8\n",
    "            Upsampling(hid_channels*16, hid_channels*8), # (512+512)x16x16\n",
    "            Upsampling(hid_channels*16, hid_channels*4), # (256+256)x32x32\n",
    "            Upsampling(hid_channels*8, hid_channels*2), # (128+128)x64x64\n",
    "            Upsampling(hid_channels*4, hid_channels), # (64+64)x128x128\n",
    "        )\n",
    "        self.feature_block = nn.Sequential(\n",
    "            nn.ConvTranspose2d(hid_channels*2, out_channels,\n",
    "                               kernel_size=4, stride=2, padding=1), # 3x256x256\n",
    "            nn.Tanh(),\n",
    "        )\n",
    "        \n",
    "    def forward(self, x):\n",
    "        skips = []\n",
    "        for down in self.downsampling_path:\n",
    "            x = down(x)\n",
    "            skips.append(x)\n",
    "        skips = reversed(skips[:-1])\n",
    "\n",
    "        for up, skip in zip(self.upsampling_path, skips):\n",
    "            x = up(x)\n",
    "            x = torch.cat([x, skip], dim=1)\n",
    "        return self.feature_block(x)\n",
    "    \n",
    "class ResNetGenerator(nn.Module):\n",
    "    def __init__(self, hid_channels, in_channels, out_channels, num_resblocks):\n",
    "        super().__init__()\n",
    "        self.model = nn.Sequential(\n",
    "            # downsampling path\n",
    "            nn.ReflectionPad2d(3),\n",
    "            Downsampling(in_channels, hid_channels,\n",
    "                         kernel_size=7, stride=1, padding=0, lrelu=False), # 64x256x256\n",
    "            Downsampling(hid_channels, hid_channels*2, kernel_size=3, lrelu=False), # 128x128x128\n",
    "            Downsampling(hid_channels*2, hid_channels*4, kernel_size=3, lrelu=False), # 256x64x64\n",
    "            \n",
    "            # residual blocks\n",
    "            *[ResBlock(hid_channels*4) for _ in range(num_resblocks)], # 256x64x64\n",
    "            \n",
    "            # upsampling path\n",
    "            Upsampling(hid_channels*4, hid_channels*2, kernel_size=3, output_padding=1), # 128x128x128\n",
    "            Upsampling(hid_channels*2, hid_channels, kernel_size=3, output_padding=1), # 64x256x256\n",
    "            nn.ReflectionPad2d(3),\n",
    "            nn.Conv2d(hid_channels, out_channels, kernel_size=7, stride=1, padding=0), # 3x256x256\n",
    "            nn.Tanh(),\n",
    "        )\n",
    "        \n",
    "    def forward(self, x):\n",
    "        return self.model(x)\n",
    "    \n",
    "def get_gen(gen_name, hid_channels, num_resblocks, in_channels=3, out_channels=3):\n",
    "    if gen_name == \"unet\":\n",
    "        return UNetGenerator(hid_channels, in_channels, out_channels)\n",
    "    elif gen_name == \"resnet\":\n",
    "        return ResNetGenerator(hid_channels, in_channels, out_channels, num_resblocks)\n",
    "    else:\n",
    "        raise NotImplementedError(f\"Generator name '{gen_name}' not recognized.\")"
   ]
  },
  {
   "attachments": {},
   "cell_type": "markdown",
   "id": "e52fe3c0",
   "metadata": {
    "papermill": {
     "duration": 0.029748,
     "end_time": "2023-05-06T15:41:57.314596",
     "exception": false,
     "start_time": "2023-05-06T15:41:57.284848",
     "status": "completed"
    },
    "tags": []
   },
   "source": [
    "### PatchGAN discriminator."
   ]
  },
  {
   "attachments": {},
   "cell_type": "markdown",
   "id": "41ebe05f",
   "metadata": {
    "papermill": {
     "duration": 0.029698,
     "end_time": "2023-05-06T15:41:57.373617",
     "exception": false,
     "start_time": "2023-05-06T15:41:57.343919",
     "status": "completed"
    },
    "tags": []
   },
   "source": [
    "<img src=\"https://lh6.googleusercontent.com/UhJiaTOQWgfHQlWq50IMGBvdkJ3NDggC449cxud8XVlSxUrule8f5LyoLUV8aaYemGw=w2400\" width=\"300\"/>\n",
    "\n",
    "*Diagram of how the PatchGAN discriminator works [[source](https://www.researchgate.net/figure/PatchGAN-discriminator-Each-value-of-the-output-matrix-represents-the-probability-of_fig1_323904616)].*"
   ]
  },
  {
   "attachments": {},
   "cell_type": "markdown",
   "id": "d17871f5",
   "metadata": {
    "papermill": {
     "duration": 0.029263,
     "end_time": "2023-05-06T15:41:57.432647",
     "exception": false,
     "start_time": "2023-05-06T15:41:57.403384",
     "status": "completed"
    },
    "tags": []
   },
   "source": [
    "Unlike conventional networks that output a single probability of the input image being real or fake, CycleGAN uses the PatchGAN discriminator that outputs a matrix of values. Intuitively, each value of the output matrix checks the corresponding portion of the input image. Values closer to 1 indicate real classification and values closer to 0 indicate fake classification."
   ]
  },
  {
   "attachments": {},
   "cell_type": "markdown",
   "id": "3831ab1d",
   "metadata": {
    "papermill": {
     "duration": 0.028607,
     "end_time": "2023-05-06T15:41:57.490310",
     "exception": false,
     "start_time": "2023-05-06T15:41:57.461703",
     "status": "completed"
    },
    "tags": []
   },
   "source": [
    "### Building the discriminator."
   ]
  },
  {
   "attachments": {},
   "cell_type": "markdown",
   "id": "a5c9b712",
   "metadata": {
    "papermill": {
     "duration": 0.029447,
     "end_time": "2023-05-06T15:41:57.548419",
     "exception": false,
     "start_time": "2023-05-06T15:41:57.518972",
     "status": "completed"
    },
    "tags": []
   },
   "source": [
    "In general, the PatchGAN discriminator consists of a sequence of convolution layers, which can be built using the downsampling blocks defined earlier. For reference, the output size of each block is commented below."
   ]
  },
  {
   "cell_type": "code",
   "execution_count": null,
   "id": "345ee6f3",
   "metadata": {
    "execution": {
     "iopub.execute_input": "2023-05-06T15:41:57.609221Z",
     "iopub.status.busy": "2023-05-06T15:41:57.608784Z",
     "iopub.status.idle": "2023-05-06T15:41:57.614940Z",
     "shell.execute_reply": "2023-05-06T15:41:57.613964Z"
    },
    "papermill": {
     "duration": 0.039844,
     "end_time": "2023-05-06T15:41:57.616840",
     "exception": false,
     "start_time": "2023-05-06T15:41:57.576996",
     "status": "completed"
    },
    "tags": []
   },
   "outputs": [],
   "source": [
    "class Discriminator(nn.Module):\n",
    "    def __init__(self, hid_channels, in_channels=3):\n",
    "        super().__init__()\n",
    "        self.block = nn.Sequential(\n",
    "            Downsampling(in_channels, hid_channels, norm=False), # 64x128x128\n",
    "            Downsampling(hid_channels, hid_channels*2), # 128x64x64\n",
    "            Downsampling(hid_channels*2, hid_channels*4), # 256x32x32\n",
    "            Downsampling(hid_channels*4, hid_channels*8, stride=1), # 512x31x31\n",
    "            nn.Conv2d(hid_channels*8, 1, kernel_size=4, padding=1), # 1x30x30\n",
    "        )\n",
    "        \n",
    "    def forward(self, x):\n",
    "        return self.block(x)"
   ]
  },
  {
   "attachments": {},
   "cell_type": "markdown",
   "id": "29ae6e2d",
   "metadata": {
    "papermill": {
     "duration": 0.02858,
     "end_time": "2023-05-06T15:41:57.673871",
     "exception": false,
     "start_time": "2023-05-06T15:41:57.645291",
     "status": "completed"
    },
    "tags": []
   },
   "source": [
    "### Image buffer."
   ]
  },
  {
   "attachments": {},
   "cell_type": "markdown",
   "id": "d531a5b1",
   "metadata": {
    "papermill": {
     "duration": 0.029856,
     "end_time": "2023-05-06T15:41:57.732493",
     "exception": false,
     "start_time": "2023-05-06T15:41:57.702637",
     "status": "completed"
    },
    "tags": []
   },
   "source": [
    "The original CycleGAN implementation updates the discriminator using a history of generated images instead of the latest images generated. This is done by setting up an image buffer that stores previously generated images. With probability 0.5, each newly generated image is swapped with a previously generated image stored in the buffer. This stabilizes training by giving the discriminator access to past information."
   ]
  },
  {
   "cell_type": "code",
   "execution_count": null,
   "id": "bc41f113",
   "metadata": {
    "execution": {
     "iopub.execute_input": "2023-05-06T15:41:57.794967Z",
     "iopub.status.busy": "2023-05-06T15:41:57.794063Z",
     "iopub.status.idle": "2023-05-06T15:41:57.802536Z",
     "shell.execute_reply": "2023-05-06T15:41:57.801398Z"
    },
    "papermill": {
     "duration": 0.042187,
     "end_time": "2023-05-06T15:41:57.805105",
     "exception": false,
     "start_time": "2023-05-06T15:41:57.762918",
     "status": "completed"
    },
    "tags": []
   },
   "outputs": [],
   "source": [
    "# adapted from https://github.com/junyanz/pytorch-CycleGAN-and-pix2pix/blob/master/util/image_pool.py\n",
    "class ImageBuffer(object):\n",
    "    def __init__(self, buffer_size):\n",
    "        self.buffer_size = buffer_size\n",
    "        if self.buffer_size > 0:\n",
    "            # the current capacity of the buffer\n",
    "            self.curr_cap = 0\n",
    "            # initialize buffer as empty list\n",
    "            self.buffer = []\n",
    "    \n",
    "    def __call__(self, imgs):\n",
    "        # the buffer is not used\n",
    "        if self.buffer_size == 0:\n",
    "            return imgs\n",
    "        \n",
    "        return_imgs = []\n",
    "        for img in imgs:\n",
    "            img = img.unsqueeze(dim=0)\n",
    "            \n",
    "            # fill buffer to maximum capacity\n",
    "            if self.curr_cap < self.buffer_size:\n",
    "                self.curr_cap += 1\n",
    "                self.buffer.append(img)\n",
    "                return_imgs.append(img)\n",
    "            else:\n",
    "                p = np.random.uniform(low=0., high=1.)\n",
    "                \n",
    "                # swap images between input and buffer with probability 0.5\n",
    "                if p > 0.5:\n",
    "                    idx = np.random.randint(low=0, high=self.buffer_size)\n",
    "                    tmp = self.buffer[idx].clone()\n",
    "                    self.buffer[idx] = img\n",
    "                    return_imgs.append(tmp)\n",
    "                else:\n",
    "                    return_imgs.append(img)\n",
    "        return torch.cat(return_imgs, dim=0)"
   ]
  },
  {
   "attachments": {},
   "cell_type": "markdown",
   "id": "19f3a786",
   "metadata": {
    "papermill": {
     "duration": 0.029657,
     "end_time": "2023-05-06T15:41:57.864258",
     "exception": false,
     "start_time": "2023-05-06T15:41:57.834601",
     "status": "completed"
    },
    "tags": []
   },
   "source": [
    "### CycleGAN."
   ]
  },
  {
   "attachments": {},
   "cell_type": "markdown",
   "id": "e27cff2b",
   "metadata": {
    "papermill": {
     "duration": 0.028495,
     "end_time": "2023-05-06T15:41:57.921441",
     "exception": false,
     "start_time": "2023-05-06T15:41:57.892946",
     "status": "completed"
    },
    "tags": []
   },
   "source": [
    "With the generator and discriminator architectures defined, we can now build CycleGAN, which consists of two generators and two discriminators:\n",
    "* Generator for photo-to-Monet translation (`gen_PM`).\n",
    "* Generator for Monet-to-photo translation (`gen_MP`).\n",
    "* Discriminator for Monet paintings (`disc_M`).\n",
    "* Discriminator for photos (`disc_P`).\n",
    "\n",
    "We use the Adam optimizer for model training. To optimize the parameters, we need to define the loss functions:\n",
    "* **Discriminator loss**. For real images fed into the discriminator, the output matrix is compared against a matrix of 1s using the mean squared error. For fake images, the output matrix is compared against a matrix of 0s. This suggests that to minimize loss, the perfect discriminator outputs a matrix of 1s for real images and a matrix of 0s for fake images.\n",
    "* **Generator loss**. This is composed of three different loss functions below.\n",
    "  * **Adversarial loss**. Fake images are fed into the discriminator and the output matrix is compared against a matrix of 1s using the mean squared error. To minimize loss, the generator needs to 'fool' the discriminator into thinking that the fake images are real and output a matrix of 1s.\n",
    "  * **Identity loss**. When a Monet painting is fed into the photo-to-Monet generator, we should get back the same Monet painting because nothing needs to be transformed. The same applies for photos fed into the Monet-to-photo generator. To encourage identity mapping, the difference in pixel values between the input image and generated image is measured using the l1 loss.\n",
    "  * **Cycle loss**. When a Monet painting is fed into the Monet-to-photo generator, and the generated image is fed back into the photo-to-Monet generator, it should transform back into the original Monet painting. The same applies for photos passed to the two generators to get back the original photos. To preserve information throughout this cycle, the l1 loss is used to measure the difference between the original image and the reconstructed image.\n",
    "\n",
    "From the above, the mean squared error and the l1 loss are defined as the **adversarial criterion** and the **reconstruction criterion** respectively."
   ]
  },
  {
   "attachments": {},
   "cell_type": "markdown",
   "id": "a07d6854",
   "metadata": {
    "papermill": {
     "duration": 0.028719,
     "end_time": "2023-05-06T15:41:57.978938",
     "exception": false,
     "start_time": "2023-05-06T15:41:57.950219",
     "status": "completed"
    },
    "tags": []
   },
   "source": [
    "### Building the CycleGAN model."
   ]
  },
  {
   "attachments": {},
   "cell_type": "markdown",
   "id": "54ef097e",
   "metadata": {
    "papermill": {
     "duration": 0.028584,
     "end_time": "2023-05-06T15:41:58.036463",
     "exception": false,
     "start_time": "2023-05-06T15:41:58.007879",
     "status": "completed"
    },
    "tags": []
   },
   "source": [
    "To organize the code for modeling, we define the loss functions within `LightningModule`, together with the following methods:\n",
    "* `forward` to generate Monet-style images given input photos.\n",
    "* `setup` to initialize the weights using the normal distribution and the biases to 0s.\n",
    "* `configure_optimizers` to set up the Adam optimizers and learning rate schedules. We use a constant learning rate and then linearly decay over the remaining training steps.\n",
    "* `training_step` to compute the loss functions for the generators and discriminators and update weights.\n",
    "* `validation_step` to visualize the progress of adding Monet style to the same batch of photos during different points of training.\n",
    "* `test_step` to test the results of photo-to-Monet translation on other sample photos after training.\n",
    "* `predict_step` to run the `forward` method during prediction.\n",
    "* `on_train_epoch_start` to record the learning rates used in the current epoch.\n",
    "* `on_train_epoch_end` to print the state of the current epoch and update learning rates.\n",
    "* `on_train_end` to print a simple message indicating the end of training.\n",
    "* `on_predict_epoch_end` to print a message specifying the number of images generated.\n",
    "\n",
    "Other useful methods can be found [here](https://pytorch-lightning.readthedocs.io/en/stable/common/lightning_module.html)."
   ]
  },
  {
   "cell_type": "code",
   "execution_count": null,
   "id": "3727b3b6",
   "metadata": {
    "execution": {
     "iopub.execute_input": "2023-05-06T15:41:58.097064Z",
     "iopub.status.busy": "2023-05-06T15:41:58.096707Z",
     "iopub.status.idle": "2023-05-06T15:41:58.102481Z",
     "shell.execute_reply": "2023-05-06T15:41:58.101556Z"
    },
    "papermill": {
     "duration": 0.038572,
     "end_time": "2023-05-06T15:41:58.104496",
     "exception": false,
     "start_time": "2023-05-06T15:41:58.065924",
     "status": "completed"
    },
    "tags": []
   },
   "outputs": [],
   "source": [
    "MODEL_CONFIG = {\n",
    "    # the type of generator, and the number of residual blocks if ResNet generator is used\n",
    "    \"gen_name\": \"unet\", # types: 'unet', 'resnet'\n",
    "    \"num_resblocks\": 6,\n",
    "    \n",
    "    # the number of filters in the first layer for the generators and discriminators\n",
    "    \"hid_channels\": 64,\n",
    "    \n",
    "    # using DeepSpeed's FusedAdam (currently GPU only) is slightly faster\n",
    "    \"optimizer\": ds.ops.adam.FusedAdam if torch.cuda.is_available() else torch.optim.Adam,\n",
    "    \n",
    "    # the learning rate and beta parameters for the Adam optimizer\n",
    "    \"lr\": 2e-4,\n",
    "    \"betas\": (0.5, 0.999),\n",
    "    \n",
    "    # the weights used in the identity loss and cycle loss\n",
    "    \"lambda_idt\": 0.5,\n",
    "    \"lambda_cycle\": (10, 10), # (MPM direction, PMP direction)\n",
    "    \n",
    "    # the size of the buffer that stores previously generated images\n",
    "    \"buffer_size\": 100,\n",
    "    \n",
    "    # the number of epochs for training\n",
    "    \"num_epochs\": 18 if not DEBUG else 2,\n",
    "    \n",
    "    # the number of epochs before starting the learning rate decay\n",
    "    \"decay_epochs\": 18 if not DEBUG else 1,\n",
    "}"
   ]
  },
  {
   "cell_type": "code",
   "execution_count": null,
   "id": "ee3d80af",
   "metadata": {
    "execution": {
     "iopub.execute_input": "2023-05-06T15:41:58.167431Z",
     "iopub.status.busy": "2023-05-06T15:41:58.167080Z",
     "iopub.status.idle": "2023-05-06T15:41:58.194004Z",
     "shell.execute_reply": "2023-05-06T15:41:58.193128Z"
    },
    "papermill": {
     "duration": 0.061868,
     "end_time": "2023-05-06T15:41:58.196016",
     "exception": false,
     "start_time": "2023-05-06T15:41:58.134148",
     "status": "completed"
    },
    "tags": []
   },
   "outputs": [],
   "source": [
    "class CycleGAN(L.LightningModule):\n",
    "    def __init__(\n",
    "        self,\n",
    "        gen_name,\n",
    "        num_resblocks,\n",
    "        hid_channels,\n",
    "        optimizer,\n",
    "        lr,\n",
    "        betas,\n",
    "        lambda_idt,\n",
    "        lambda_cycle,\n",
    "        buffer_size,\n",
    "        num_epochs,\n",
    "        decay_epochs,\n",
    "    ):\n",
    "        super().__init__()\n",
    "        self.save_hyperparameters(ignore=[\"optimizer\"])\n",
    "        self.optimizer = optimizer\n",
    "        self.automatic_optimization = False\n",
    "        \n",
    "        # define generators and discriminators\n",
    "        self.gen_PM = get_gen(gen_name, hid_channels, num_resblocks)\n",
    "        self.gen_MP = get_gen(gen_name, hid_channels, num_resblocks)\n",
    "        self.disc_M = Discriminator(hid_channels)\n",
    "        self.disc_P = Discriminator(hid_channels)\n",
    "        \n",
    "        # initialize buffers to store fake images\n",
    "        self.buffer_fake_M = ImageBuffer(buffer_size)\n",
    "        self.buffer_fake_P = ImageBuffer(buffer_size)\n",
    "        \n",
    "    def forward(self, img):\n",
    "        return self.gen_PM(img)   \n",
    "            \n",
    "    def init_weights(self):\n",
    "        def init_fn(m):\n",
    "            if isinstance(m, (nn.Conv2d, nn.ConvTranspose2d, nn.InstanceNorm2d)):\n",
    "                nn.init.normal_(m.weight, 0.0, 0.02)\n",
    "                if m.bias is not None:\n",
    "                    nn.init.constant_(m.bias, 0.0)\n",
    "        \n",
    "        for net in [self.gen_PM, self.gen_MP, self.disc_M, self.disc_P]:\n",
    "            net.apply(init_fn)\n",
    "        \n",
    "    def setup(self, stage):\n",
    "        if stage == \"fit\":\n",
    "            self.init_weights()\n",
    "            print(\"Model initialized.\")\n",
    "            \n",
    "    def get_lr_scheduler(self, optimizer):\n",
    "        def lr_lambda(epoch):\n",
    "            len_decay_phase = self.hparams.num_epochs - self.hparams.decay_epochs + 1.0\n",
    "            curr_decay_step = max(0, epoch - self.hparams.decay_epochs + 1.0)\n",
    "            val = 1.0 - curr_decay_step / len_decay_phase\n",
    "            return max(0.0, val)\n",
    "        \n",
    "        return torch.optim.lr_scheduler.LambdaLR(optimizer, lr_lambda=lr_lambda)\n",
    "    \n",
    "    def configure_optimizers(self):\n",
    "        opt_config = {\n",
    "            \"lr\": self.hparams.lr,\n",
    "            \"betas\": self.hparams.betas,\n",
    "        }\n",
    "        opt_gen = self.optimizer(\n",
    "            list(self.gen_PM.parameters()) + list(self.gen_MP.parameters()),\n",
    "            **opt_config,\n",
    "        )\n",
    "        opt_disc = self.optimizer(\n",
    "            list(self.disc_M.parameters()) + list(self.disc_P.parameters()),\n",
    "            **opt_config,\n",
    "        )\n",
    "        optimizers = [opt_gen, opt_disc]\n",
    "        schedulers = [self.get_lr_scheduler(opt) for opt in optimizers]\n",
    "        return optimizers, schedulers\n",
    "        \n",
    "    def adv_criterion(self, y_hat, y):\n",
    "        return F.mse_loss(y_hat, y)\n",
    "    \n",
    "    def recon_criterion(self, y_hat, y):\n",
    "        return F.l1_loss(y_hat, y)\n",
    "    \n",
    "    def get_adv_loss(self, fake, disc):\n",
    "        fake_hat = disc(fake)\n",
    "        real_labels = torch.ones_like(fake_hat)\n",
    "        adv_loss = self.adv_criterion(fake_hat, real_labels)\n",
    "        return adv_loss\n",
    "    \n",
    "    def get_idt_loss(self, real, idt, lambda_cycle):\n",
    "        idt_loss = self.recon_criterion(idt, real)\n",
    "        return self.hparams.lambda_idt * lambda_cycle * idt_loss\n",
    "    \n",
    "    def get_cycle_loss(self, real, recon, lambda_cycle):\n",
    "        cycle_loss = self.recon_criterion(recon, real)\n",
    "        return lambda_cycle * cycle_loss\n",
    "    \n",
    "    def get_gen_loss(self):\n",
    "        # calculate adversarial loss\n",
    "        adv_loss_PM = self.get_adv_loss(self.fake_M, self.disc_M)\n",
    "        adv_loss_MP = self.get_adv_loss(self.fake_P, self.disc_P)\n",
    "        total_adv_loss = adv_loss_PM + adv_loss_MP\n",
    "        \n",
    "        # calculate identity loss\n",
    "        lambda_cycle = self.hparams.lambda_cycle\n",
    "        idt_loss_MM = self.get_idt_loss(self.real_M, self.idt_M, lambda_cycle[0])\n",
    "        idt_loss_PP = self.get_idt_loss(self.real_P, self.idt_P, lambda_cycle[1])\n",
    "        total_idt_loss = idt_loss_MM + idt_loss_PP\n",
    "        \n",
    "        # calculate cycle loss\n",
    "        cycle_loss_MPM = self.get_cycle_loss(self.real_M, self.recon_M, lambda_cycle[0])\n",
    "        cycle_loss_PMP = self.get_cycle_loss(self.real_P, self.recon_P, lambda_cycle[1])\n",
    "        total_cycle_loss = cycle_loss_MPM + cycle_loss_PMP\n",
    "        \n",
    "        # combine losses\n",
    "        gen_loss = total_adv_loss + total_idt_loss + total_cycle_loss\n",
    "        return gen_loss\n",
    "    \n",
    "    def get_disc_loss(self, real, fake, disc):\n",
    "        # calculate loss on real images\n",
    "        real_hat = disc(real)\n",
    "        real_labels = torch.ones_like(real_hat)\n",
    "        real_loss = self.adv_criterion(real_hat, real_labels)\n",
    "        \n",
    "        # calculate loss on fake images\n",
    "        fake_hat = disc(fake.detach())\n",
    "        fake_labels = torch.zeros_like(fake_hat)\n",
    "        fake_loss = self.adv_criterion(fake_hat, fake_labels)\n",
    "        \n",
    "        # combine losses\n",
    "        disc_loss = (fake_loss + real_loss) * 0.5\n",
    "        return disc_loss\n",
    "    \n",
    "    def get_disc_loss_M(self):\n",
    "        fake_M = self.buffer_fake_M(self.fake_M)\n",
    "        return self.get_disc_loss(self.real_M, fake_M, self.disc_M)\n",
    "    \n",
    "    def get_disc_loss_P(self):\n",
    "        fake_P = self.buffer_fake_P(self.fake_P)\n",
    "        return self.get_disc_loss(self.real_P, fake_P, self.disc_P)\n",
    "    \n",
    "    def training_step(self, batch, batch_idx):\n",
    "        self.real_M = batch[\"monet\"]\n",
    "        self.real_P = batch[\"photo\"]\n",
    "        opt_gen, opt_disc = self.optimizers()\n",
    "\n",
    "        # generate fake images\n",
    "        self.fake_M = self.gen_PM(self.real_P)\n",
    "        self.fake_P = self.gen_MP(self.real_M)\n",
    "        \n",
    "        # generate identity images\n",
    "        self.idt_M = self.gen_PM(self.real_M)\n",
    "        self.idt_P = self.gen_MP(self.real_P)\n",
    "        \n",
    "        # reconstruct images\n",
    "        self.recon_M = self.gen_PM(self.fake_P)\n",
    "        self.recon_P = self.gen_MP(self.fake_M)\n",
    "    \n",
    "        # train generators\n",
    "        self.toggle_optimizer(opt_gen)\n",
    "        gen_loss = self.get_gen_loss()        \n",
    "        opt_gen.zero_grad()\n",
    "        self.manual_backward(gen_loss)\n",
    "        opt_gen.step()\n",
    "        self.untoggle_optimizer(opt_gen)\n",
    "        \n",
    "        # train discriminators\n",
    "        self.toggle_optimizer(opt_disc)\n",
    "        disc_loss_M = self.get_disc_loss_M()\n",
    "        disc_loss_P = self.get_disc_loss_P()\n",
    "        opt_disc.zero_grad()\n",
    "        self.manual_backward(disc_loss_M)\n",
    "        self.manual_backward(disc_loss_P)\n",
    "        opt_disc.step()\n",
    "        self.untoggle_optimizer(opt_disc)\n",
    "        \n",
    "        # record training losses\n",
    "        metrics = {\n",
    "            \"gen_loss\": gen_loss,\n",
    "            \"disc_loss_M\": disc_loss_M,\n",
    "            \"disc_loss_P\": disc_loss_P,\n",
    "        }\n",
    "        self.log_dict(metrics, on_step=False, on_epoch=True, prog_bar=True)\n",
    "        \n",
    "    def validation_step(self, batch, batch_idx):\n",
    "        self.display_results(batch, batch_idx, \"validate\")\n",
    "    \n",
    "    def test_step(self, batch, batch_idx):\n",
    "        self.display_results(batch, batch_idx, \"test\")\n",
    "        \n",
    "    def predict_step(self, batch, batch_idx):\n",
    "        return self(batch)\n",
    "    \n",
    "    def display_results(self, batch, batch_idx, stage):\n",
    "        real_P = batch\n",
    "        fake_M = self(real_P)\n",
    "        \n",
    "        if stage == \"validate\":\n",
    "            title = f\"Epoch {self.current_epoch+1}: Photo-to-Monet Translation\"\n",
    "        else:\n",
    "            title = f\"Sample {batch_idx+1}: Photo-to-Monet Translation\"\n",
    "\n",
    "        show_img(\n",
    "            torch.cat([real_P, fake_M], dim=0),\n",
    "            nrow=len(real_P),\n",
    "            title=title,\n",
    "        )\n",
    "    \n",
    "    def on_train_epoch_start(self):\n",
    "        # record learning rates\n",
    "        curr_lr = self.lr_schedulers()[0].get_last_lr()[0]\n",
    "        self.log(\"lr\", curr_lr, on_step=False, on_epoch=True, prog_bar=True)\n",
    "        \n",
    "    def on_train_epoch_end(self):\n",
    "        # update learning rates\n",
    "        for sch in self.lr_schedulers():\n",
    "            sch.step()\n",
    "        \n",
    "        # print current state of epoch\n",
    "        logged_values = self.trainer.progress_bar_metrics\n",
    "        print(\n",
    "            f\"Epoch {self.current_epoch+1}\",\n",
    "            *[f\"{k}: {v:.5f}\" for k, v in logged_values.items()],\n",
    "            sep=\" - \",\n",
    "        )\n",
    "        \n",
    "    def on_train_end(self):\n",
    "        print(\"Training ended.\")\n",
    "        \n",
    "    def on_predict_epoch_end(self):\n",
    "        predictions = self.trainer.predict_loop.predictions\n",
    "        num_batches = len(predictions)\n",
    "        batch_size = predictions[0].shape[0]\n",
    "        last_batch_diff = batch_size - predictions[-1].shape[0]\n",
    "        print(f\"Number of images generated: {num_batches*batch_size-last_batch_diff}.\")"
   ]
  },
  {
   "attachments": {},
   "cell_type": "markdown",
   "id": "a82da07a",
   "metadata": {
    "papermill": {
     "duration": 0.029099,
     "end_time": "2023-05-06T15:41:58.255069",
     "exception": false,
     "start_time": "2023-05-06T15:41:58.225970",
     "status": "completed"
    },
    "tags": []
   },
   "source": [
    "---"
   ]
  },
  {
   "attachments": {},
   "cell_type": "markdown",
   "id": "7e539010",
   "metadata": {
    "papermill": {
     "duration": 0.030994,
     "end_time": "2023-05-06T15:41:58.315795",
     "exception": false,
     "start_time": "2023-05-06T15:41:58.284801",
     "status": "completed"
    },
    "tags": []
   },
   "source": [
    "# 3. Model Training"
   ]
  },
  {
   "attachments": {},
   "cell_type": "markdown",
   "id": "2a3305bc",
   "metadata": {
    "papermill": {
     "duration": 0.029441,
     "end_time": "2023-05-06T15:41:58.375312",
     "exception": false,
     "start_time": "2023-05-06T15:41:58.345871",
     "status": "completed"
    },
    "tags": []
   },
   "source": [
    "To start training the model, we use `Trainer` to automatically handle the training loop by running the `fit` method."
   ]
  },
  {
   "cell_type": "code",
   "execution_count": null,
   "id": "694f5aab",
   "metadata": {
    "execution": {
     "iopub.execute_input": "2023-05-06T15:41:58.435420Z",
     "iopub.status.busy": "2023-05-06T15:41:58.434959Z",
     "iopub.status.idle": "2023-05-06T15:41:58.440838Z",
     "shell.execute_reply": "2023-05-06T15:41:58.439875Z"
    },
    "papermill": {
     "duration": 0.038532,
     "end_time": "2023-05-06T15:41:58.442912",
     "exception": false,
     "start_time": "2023-05-06T15:41:58.404380",
     "status": "completed"
    },
    "tags": []
   },
   "outputs": [],
   "source": [
    "TRAIN_CONFIG = {\n",
    "    \"accelerator\": \"gpu\" if torch.cuda.is_available() else \"cpu\",\n",
    "    \n",
    "    # train on 16-bit precision\n",
    "    \"precision\": \"16-mixed\" if torch.cuda.is_available() else 32,\n",
    "    \n",
    "    # train on single GPU\n",
    "    \"devices\": 1,\n",
    "    \n",
    "    # save checkpoint only for last epoch by default\n",
    "    \"enable_checkpointing\": True,\n",
    "    \n",
    "    # disable logging for simplicity\n",
    "    \"logger\": False,\n",
    "    \n",
    "    # the number of epochs for training (we limit the number of train/predict batches during debugging)\n",
    "    \"max_epochs\": MODEL_CONFIG[\"num_epochs\"],\n",
    "    \"limit_train_batches\": 1.0 if not DEBUG else 2,\n",
    "    \"limit_predict_batches\": 1.0 if not DEBUG else 5,\n",
    "    \n",
    "    # the maximum amount of time for training, in case we exceed run-time of 5 hours\n",
    "    \"max_time\": {\"hours\": 4, \"minutes\": 55},\n",
    "    \n",
    "    # use a small subset of photos for validation/testing (we limit here for flexibility)\n",
    "    \"limit_val_batches\": 1,\n",
    "    \"limit_test_batches\": 5,\n",
    "    \n",
    "    # disable sanity check before starting the training routine\n",
    "    \"num_sanity_val_steps\": 0,\n",
    "    \n",
    "    # the frequency to visualize the progress of adding Monet style\n",
    "    \"check_val_every_n_epoch\": 6 if not DEBUG else 1,\n",
    "}"
   ]
  },
  {
   "cell_type": "code",
   "execution_count": null,
   "id": "49851284",
   "metadata": {
    "execution": {
     "iopub.execute_input": "2023-05-06T15:41:58.503644Z",
     "iopub.status.busy": "2023-05-06T15:41:58.503312Z",
     "iopub.status.idle": "2023-05-06T20:32:51.966223Z",
     "shell.execute_reply": "2023-05-06T20:32:51.965189Z"
    },
    "papermill": {
     "duration": 17453.497038,
     "end_time": "2023-05-06T20:32:51.968777",
     "exception": false,
     "start_time": "2023-05-06T15:41:58.471739",
     "status": "completed"
    },
    "tags": []
   },
   "outputs": [],
   "source": [
    "dm = CustomDataModule(**DM_CONFIG)\n",
    "model = CycleGAN(**MODEL_CONFIG)\n",
    "trainer = L.Trainer(**TRAIN_CONFIG)\n",
    "\n",
    "trainer.fit(model, datamodule=dm)"
   ]
  },
  {
   "attachments": {},
   "cell_type": "markdown",
   "id": "095ef1fa",
   "metadata": {
    "papermill": {
     "duration": 0.092158,
     "end_time": "2023-05-06T20:32:52.163663",
     "exception": false,
     "start_time": "2023-05-06T20:32:52.071505",
     "status": "completed"
    },
    "tags": []
   },
   "source": [
    "### Testing the model on other sample photos."
   ]
  },
  {
   "cell_type": "code",
   "execution_count": null,
   "id": "c5b95156",
   "metadata": {
    "execution": {
     "iopub.execute_input": "2023-05-06T20:32:52.349961Z",
     "iopub.status.busy": "2023-05-06T20:32:52.348637Z",
     "iopub.status.idle": "2023-05-06T20:32:59.014056Z",
     "shell.execute_reply": "2023-05-06T20:32:59.012994Z"
    },
    "papermill": {
     "duration": 6.759582,
     "end_time": "2023-05-06T20:32:59.016405",
     "exception": false,
     "start_time": "2023-05-06T20:32:52.256823",
     "status": "completed"
    },
    "tags": []
   },
   "outputs": [],
   "source": [
    "_ = trainer.test(model, datamodule=dm)"
   ]
  },
  {
   "attachments": {},
   "cell_type": "markdown",
   "id": "5554d137",
   "metadata": {
    "papermill": {
     "duration": 0.217453,
     "end_time": "2023-05-06T20:32:59.447765",
     "exception": false,
     "start_time": "2023-05-06T20:32:59.230312",
     "status": "completed"
    },
    "tags": []
   },
   "source": [
    "---"
   ]
  },
  {
   "attachments": {},
   "cell_type": "markdown",
   "id": "b12d7d2b",
   "metadata": {
    "papermill": {
     "duration": 0.244018,
     "end_time": "2023-05-06T20:32:59.987201",
     "exception": false,
     "start_time": "2023-05-06T20:32:59.743183",
     "status": "completed"
    },
    "tags": []
   },
   "source": [
    "# 4. Submission"
   ]
  },
  {
   "attachments": {},
   "cell_type": "markdown",
   "id": "a21fff43",
   "metadata": {
    "papermill": {
     "duration": 0.210884,
     "end_time": "2023-05-06T20:33:00.414290",
     "exception": false,
     "start_time": "2023-05-06T20:33:00.203406",
     "status": "completed"
    },
    "tags": []
   },
   "source": [
    "Computing the predictions can be done by running the `predict` method to generate the Monet-style images given the input photos."
   ]
  },
  {
   "cell_type": "code",
   "execution_count": null,
   "id": "7dabdb06",
   "metadata": {
    "execution": {
     "iopub.execute_input": "2023-05-06T20:33:00.831456Z",
     "iopub.status.busy": "2023-05-06T20:33:00.831034Z",
     "iopub.status.idle": "2023-05-06T20:34:08.977712Z",
     "shell.execute_reply": "2023-05-06T20:34:08.976567Z"
    },
    "papermill": {
     "duration": 68.360211,
     "end_time": "2023-05-06T20:34:08.980160",
     "exception": false,
     "start_time": "2023-05-06T20:33:00.619949",
     "status": "completed"
    },
    "tags": []
   },
   "outputs": [],
   "source": [
    "predictions = trainer.predict(model, datamodule=dm)"
   ]
  },
  {
   "attachments": {},
   "cell_type": "markdown",
   "id": "33417fd9",
   "metadata": {
    "papermill": {
     "duration": 0.253532,
     "end_time": "2023-05-06T20:34:09.449205",
     "exception": false,
     "start_time": "2023-05-06T20:34:09.195673",
     "status": "completed"
    },
    "tags": []
   },
   "source": [
    "### Saving the generated images."
   ]
  },
  {
   "cell_type": "code",
   "execution_count": null,
   "id": "b77cb738",
   "metadata": {
    "execution": {
     "iopub.execute_input": "2023-05-06T20:34:09.869247Z",
     "iopub.status.busy": "2023-05-06T20:34:09.868688Z",
     "iopub.status.idle": "2023-05-06T20:34:31.920986Z",
     "shell.execute_reply": "2023-05-06T20:34:31.920116Z"
    },
    "papermill": {
     "duration": 22.267701,
     "end_time": "2023-05-06T20:34:31.922965",
     "exception": false,
     "start_time": "2023-05-06T20:34:09.655264",
     "status": "completed"
    },
    "tags": []
   },
   "outputs": [],
   "source": [
    "os.makedirs(\"../images\", exist_ok=True)\n",
    "\n",
    "idx = 0\n",
    "for tensor in predictions:\n",
    "    for monet in tensor:\n",
    "        save_image(\n",
    "            monet.float().squeeze() * 0.5 + 0.5, \n",
    "            fp=f\"../images/{idx}.jpg\",\n",
    "        )\n",
    "        idx += 1\n",
    "\n",
    "shutil.make_archive(\"/kaggle/working/images\", \"zip\", \"/kaggle/images\")"
   ]
  },
  {
   "attachments": {},
   "cell_type": "markdown",
   "id": "b1abf8cd",
   "metadata": {
    "papermill": {
     "duration": 0.206016,
     "end_time": "2023-05-06T20:34:32.349615",
     "exception": false,
     "start_time": "2023-05-06T20:34:32.143599",
     "status": "completed"
    },
    "tags": []
   },
   "source": [
    " ---"
   ]
  }
 ],
 "metadata": {
  "kernelspec": {
   "display_name": "Python 3",
   "language": "python",
   "name": "python3"
  },
  "language_info": {
   "codemirror_mode": {
    "name": "ipython",
    "version": 3
   },
   "file_extension": ".py",
   "mimetype": "text/x-python",
   "name": "python",
   "nbconvert_exporter": "python",
   "pygments_lexer": "ipython3",
   "version": "3.10.10"
  },
  "papermill": {
   "default_parameters": {},
   "duration": 17616.02533,
   "end_time": "2023-05-06T20:34:35.714136",
   "environment_variables": {},
   "exception": null,
   "input_path": "__notebook__.ipynb",
   "output_path": "__notebook__.ipynb",
   "parameters": {},
   "start_time": "2023-05-06T15:40:59.688806",
   "version": "2.4.0"
  },
  "widgets": {
   "application/vnd.jupyter.widget-state+json": {
    "state": {
     "00941cbc743344f0b482f89029318cb0": {
      "model_module": "@jupyter-widgets/base",
      "model_module_version": "1.2.0",
      "model_name": "LayoutModel",
      "state": {
       "_model_module": "@jupyter-widgets/base",
       "_model_module_version": "1.2.0",
       "_model_name": "LayoutModel",
       "_view_count": null,
       "_view_module": "@jupyter-widgets/base",
       "_view_module_version": "1.2.0",
       "_view_name": "LayoutView",
       "align_content": null,
       "align_items": null,
       "align_self": null,
       "border": null,
       "bottom": null,
       "display": null,
       "flex": null,
       "flex_flow": null,
       "grid_area": null,
       "grid_auto_columns": null,
       "grid_auto_flow": null,
       "grid_auto_rows": null,
       "grid_column": null,
       "grid_gap": null,
       "grid_row": null,
       "grid_template_areas": null,
       "grid_template_columns": null,
       "grid_template_rows": null,
       "height": null,
       "justify_content": null,
       "justify_items": null,
       "left": null,
       "margin": null,
       "max_height": null,
       "max_width": null,
       "min_height": null,
       "min_width": null,
       "object_fit": null,
       "object_position": null,
       "order": null,
       "overflow": null,
       "overflow_x": null,
       "overflow_y": null,
       "padding": null,
       "right": null,
       "top": null,
       "visibility": null,
       "width": null
      }
     },
     "066af193ecf14853b77fabab45aefbfc": {
      "model_module": "@jupyter-widgets/controls",
      "model_module_version": "1.5.0",
      "model_name": "DescriptionStyleModel",
      "state": {
       "_model_module": "@jupyter-widgets/controls",
       "_model_module_version": "1.5.0",
       "_model_name": "DescriptionStyleModel",
       "_view_count": null,
       "_view_module": "@jupyter-widgets/base",
       "_view_module_version": "1.2.0",
       "_view_name": "StyleView",
       "description_width": ""
      }
     },
     "0774574450084b35b9f8c9d13fd154bd": {
      "model_module": "@jupyter-widgets/controls",
      "model_module_version": "1.5.0",
      "model_name": "HTMLModel",
      "state": {
       "_dom_classes": [],
       "_model_module": "@jupyter-widgets/controls",
       "_model_module_version": "1.5.0",
       "_model_name": "HTMLModel",
       "_view_count": null,
       "_view_module": "@jupyter-widgets/controls",
       "_view_module_version": "1.5.0",
       "_view_name": "HTMLView",
       "description": "",
       "description_tooltip": null,
       "layout": "IPY_MODEL_86a87b5d483646118831fa395302b0c2",
       "placeholder": "​",
       "style": "IPY_MODEL_741a187d646448c8be40546bffbd2258",
       "value": " 1/1 [00:00&lt;00:00,  1.15it/s]"
      }
     },
     "07b0fd0137754c04a948bcc6023471d9": {
      "model_module": "@jupyter-widgets/base",
      "model_module_version": "1.2.0",
      "model_name": "LayoutModel",
      "state": {
       "_model_module": "@jupyter-widgets/base",
       "_model_module_version": "1.2.0",
       "_model_name": "LayoutModel",
       "_view_count": null,
       "_view_module": "@jupyter-widgets/base",
       "_view_module_version": "1.2.0",
       "_view_name": "LayoutView",
       "align_content": null,
       "align_items": null,
       "align_self": null,
       "border": null,
       "bottom": null,
       "display": "inline-flex",
       "flex": null,
       "flex_flow": "row wrap",
       "grid_area": null,
       "grid_auto_columns": null,
       "grid_auto_flow": null,
       "grid_auto_rows": null,
       "grid_column": null,
       "grid_gap": null,
       "grid_row": null,
       "grid_template_areas": null,
       "grid_template_columns": null,
       "grid_template_rows": null,
       "height": null,
       "justify_content": null,
       "justify_items": null,
       "left": null,
       "margin": null,
       "max_height": null,
       "max_width": null,
       "min_height": null,
       "min_width": null,
       "object_fit": null,
       "object_position": null,
       "order": null,
       "overflow": null,
       "overflow_x": null,
       "overflow_y": null,
       "padding": null,
       "right": null,
       "top": null,
       "visibility": null,
       "width": "100%"
      }
     },
     "0a08a3bf0fbc4dd2a5cb7008d16cdaac": {
      "model_module": "@jupyter-widgets/base",
      "model_module_version": "1.2.0",
      "model_name": "LayoutModel",
      "state": {
       "_model_module": "@jupyter-widgets/base",
       "_model_module_version": "1.2.0",
       "_model_name": "LayoutModel",
       "_view_count": null,
       "_view_module": "@jupyter-widgets/base",
       "_view_module_version": "1.2.0",
       "_view_name": "LayoutView",
       "align_content": null,
       "align_items": null,
       "align_self": null,
       "border": null,
       "bottom": null,
       "display": "inline-flex",
       "flex": null,
       "flex_flow": "row wrap",
       "grid_area": null,
       "grid_auto_columns": null,
       "grid_auto_flow": null,
       "grid_auto_rows": null,
       "grid_column": null,
       "grid_gap": null,
       "grid_row": null,
       "grid_template_areas": null,
       "grid_template_columns": null,
       "grid_template_rows": null,
       "height": null,
       "justify_content": null,
       "justify_items": null,
       "left": null,
       "margin": null,
       "max_height": null,
       "max_width": null,
       "min_height": null,
       "min_width": null,
       "object_fit": null,
       "object_position": null,
       "order": null,
       "overflow": null,
       "overflow_x": null,
       "overflow_y": null,
       "padding": null,
       "right": null,
       "top": null,
       "visibility": null,
       "width": "100%"
      }
     },
     "0f4529c4e0ec42cdbd1234eabafbcc53": {
      "model_module": "@jupyter-widgets/controls",
      "model_module_version": "1.5.0",
      "model_name": "HBoxModel",
      "state": {
       "_dom_classes": [],
       "_model_module": "@jupyter-widgets/controls",
       "_model_module_version": "1.5.0",
       "_model_name": "HBoxModel",
       "_view_count": null,
       "_view_module": "@jupyter-widgets/controls",
       "_view_module_version": "1.5.0",
       "_view_name": "HBoxView",
       "box_style": "",
       "children": [
        "IPY_MODEL_bd6229e65d9049b0be64d99fdb6e6ce8",
        "IPY_MODEL_f42fc4bd70394fdaae3244d886e1f34e",
        "IPY_MODEL_a3b56fe192e64fd09bf4677e237ae110"
       ],
       "layout": "IPY_MODEL_0a08a3bf0fbc4dd2a5cb7008d16cdaac"
      }
     },
     "177d2a4adc254af0a1b74db8e41c03d3": {
      "model_module": "@jupyter-widgets/base",
      "model_module_version": "1.2.0",
      "model_name": "LayoutModel",
      "state": {
       "_model_module": "@jupyter-widgets/base",
       "_model_module_version": "1.2.0",
       "_model_name": "LayoutModel",
       "_view_count": null,
       "_view_module": "@jupyter-widgets/base",
       "_view_module_version": "1.2.0",
       "_view_name": "LayoutView",
       "align_content": null,
       "align_items": null,
       "align_self": null,
       "border": null,
       "bottom": null,
       "display": "inline-flex",
       "flex": null,
       "flex_flow": "row wrap",
       "grid_area": null,
       "grid_auto_columns": null,
       "grid_auto_flow": null,
       "grid_auto_rows": null,
       "grid_column": null,
       "grid_gap": null,
       "grid_row": null,
       "grid_template_areas": null,
       "grid_template_columns": null,
       "grid_template_rows": null,
       "height": null,
       "justify_content": null,
       "justify_items": null,
       "left": null,
       "margin": null,
       "max_height": null,
       "max_width": null,
       "min_height": null,
       "min_width": null,
       "object_fit": null,
       "object_position": null,
       "order": null,
       "overflow": null,
       "overflow_x": null,
       "overflow_y": null,
       "padding": null,
       "right": null,
       "top": null,
       "visibility": null,
       "width": "100%"
      }
     },
     "1958ae9a8ec340ef9031e057bf0d549c": {
      "model_module": "@jupyter-widgets/controls",
      "model_module_version": "1.5.0",
      "model_name": "DescriptionStyleModel",
      "state": {
       "_model_module": "@jupyter-widgets/controls",
       "_model_module_version": "1.5.0",
       "_model_name": "DescriptionStyleModel",
       "_view_count": null,
       "_view_module": "@jupyter-widgets/base",
       "_view_module_version": "1.2.0",
       "_view_name": "StyleView",
       "description_width": ""
      }
     },
     "198ad675fadc42428c79f335a68fd251": {
      "model_module": "@jupyter-widgets/base",
      "model_module_version": "1.2.0",
      "model_name": "LayoutModel",
      "state": {
       "_model_module": "@jupyter-widgets/base",
       "_model_module_version": "1.2.0",
       "_model_name": "LayoutModel",
       "_view_count": null,
       "_view_module": "@jupyter-widgets/base",
       "_view_module_version": "1.2.0",
       "_view_name": "LayoutView",
       "align_content": null,
       "align_items": null,
       "align_self": null,
       "border": null,
       "bottom": null,
       "display": "inline-flex",
       "flex": null,
       "flex_flow": "row wrap",
       "grid_area": null,
       "grid_auto_columns": null,
       "grid_auto_flow": null,
       "grid_auto_rows": null,
       "grid_column": null,
       "grid_gap": null,
       "grid_row": null,
       "grid_template_areas": null,
       "grid_template_columns": null,
       "grid_template_rows": null,
       "height": null,
       "justify_content": null,
       "justify_items": null,
       "left": null,
       "margin": null,
       "max_height": null,
       "max_width": null,
       "min_height": null,
       "min_width": null,
       "object_fit": null,
       "object_position": null,
       "order": null,
       "overflow": null,
       "overflow_x": null,
       "overflow_y": null,
       "padding": null,
       "right": null,
       "top": null,
       "visibility": "hidden",
       "width": "100%"
      }
     },
     "1ac758f6dd7e4df3af79953bebb5af83": {
      "model_module": "@jupyter-widgets/controls",
      "model_module_version": "1.5.0",
      "model_name": "ProgressStyleModel",
      "state": {
       "_model_module": "@jupyter-widgets/controls",
       "_model_module_version": "1.5.0",
       "_model_name": "ProgressStyleModel",
       "_view_count": null,
       "_view_module": "@jupyter-widgets/base",
       "_view_module_version": "1.2.0",
       "_view_name": "StyleView",
       "bar_color": null,
       "description_width": ""
      }
     },
     "21ea3a4e93004940bc1335316cd70f8e": {
      "model_module": "@jupyter-widgets/controls",
      "model_module_version": "1.5.0",
      "model_name": "HTMLModel",
      "state": {
       "_dom_classes": [],
       "_model_module": "@jupyter-widgets/controls",
       "_model_module_version": "1.5.0",
       "_model_name": "HTMLModel",
       "_view_count": null,
       "_view_module": "@jupyter-widgets/controls",
       "_view_module_version": "1.5.0",
       "_view_name": "HTMLView",
       "description": "",
       "description_tooltip": null,
       "layout": "IPY_MODEL_f564971e7add43efad5575e03c028228",
       "placeholder": "​",
       "style": "IPY_MODEL_066af193ecf14853b77fabab45aefbfc",
       "value": "Epoch 17: 100%"
      }
     },
     "225613ca91e34529b594c441e8572919": {
      "model_module": "@jupyter-widgets/base",
      "model_module_version": "1.2.0",
      "model_name": "LayoutModel",
      "state": {
       "_model_module": "@jupyter-widgets/base",
       "_model_module_version": "1.2.0",
       "_model_name": "LayoutModel",
       "_view_count": null,
       "_view_module": "@jupyter-widgets/base",
       "_view_module_version": "1.2.0",
       "_view_name": "LayoutView",
       "align_content": null,
       "align_items": null,
       "align_self": null,
       "border": null,
       "bottom": null,
       "display": null,
       "flex": null,
       "flex_flow": null,
       "grid_area": null,
       "grid_auto_columns": null,
       "grid_auto_flow": null,
       "grid_auto_rows": null,
       "grid_column": null,
       "grid_gap": null,
       "grid_row": null,
       "grid_template_areas": null,
       "grid_template_columns": null,
       "grid_template_rows": null,
       "height": null,
       "justify_content": null,
       "justify_items": null,
       "left": null,
       "margin": null,
       "max_height": null,
       "max_width": null,
       "min_height": null,
       "min_width": null,
       "object_fit": null,
       "object_position": null,
       "order": null,
       "overflow": null,
       "overflow_x": null,
       "overflow_y": null,
       "padding": null,
       "right": null,
       "top": null,
       "visibility": null,
       "width": null
      }
     },
     "2878f0021f76415cabc7b0176848f10a": {
      "model_module": "@jupyter-widgets/controls",
      "model_module_version": "1.5.0",
      "model_name": "DescriptionStyleModel",
      "state": {
       "_model_module": "@jupyter-widgets/controls",
       "_model_module_version": "1.5.0",
       "_model_name": "DescriptionStyleModel",
       "_view_count": null,
       "_view_module": "@jupyter-widgets/base",
       "_view_module_version": "1.2.0",
       "_view_name": "StyleView",
       "description_width": ""
      }
     },
     "28a5275464f64b15827ea1b5c6118730": {
      "model_module": "@jupyter-widgets/controls",
      "model_module_version": "1.5.0",
      "model_name": "HTMLModel",
      "state": {
       "_dom_classes": [],
       "_model_module": "@jupyter-widgets/controls",
       "_model_module_version": "1.5.0",
       "_model_name": "HTMLModel",
       "_view_count": null,
       "_view_module": "@jupyter-widgets/controls",
       "_view_module_version": "1.5.0",
       "_view_name": "HTMLView",
       "description": "",
       "description_tooltip": null,
       "layout": "IPY_MODEL_00941cbc743344f0b482f89029318cb0",
       "placeholder": "​",
       "style": "IPY_MODEL_46b2b33f248b43988deec5b9378d7e58",
       "value": "Testing DataLoader 0: 100%"
      }
     },
     "2b82e4758f4e44a9855f2518812bb59f": {
      "model_module": "@jupyter-widgets/controls",
      "model_module_version": "1.5.0",
      "model_name": "DescriptionStyleModel",
      "state": {
       "_model_module": "@jupyter-widgets/controls",
       "_model_module_version": "1.5.0",
       "_model_name": "DescriptionStyleModel",
       "_view_count": null,
       "_view_module": "@jupyter-widgets/base",
       "_view_module_version": "1.2.0",
       "_view_name": "StyleView",
       "description_width": ""
      }
     },
     "2f859b5122fe409ca6f8d613d4631379": {
      "model_module": "@jupyter-widgets/controls",
      "model_module_version": "1.5.0",
      "model_name": "HBoxModel",
      "state": {
       "_dom_classes": [],
       "_model_module": "@jupyter-widgets/controls",
       "_model_module_version": "1.5.0",
       "_model_name": "HBoxModel",
       "_view_count": null,
       "_view_module": "@jupyter-widgets/controls",
       "_view_module_version": "1.5.0",
       "_view_name": "HBoxView",
       "box_style": "",
       "children": [
        "IPY_MODEL_3659c26970ed4aff88e79b02e18ebb62",
        "IPY_MODEL_53c34c87a5644044aaeffc9a1381d18f",
        "IPY_MODEL_b043d888cf684afba26b88dc9289b828"
       ],
       "layout": "IPY_MODEL_198ad675fadc42428c79f335a68fd251"
      }
     },
     "36309a1093e647f7942443644e2ce3cc": {
      "model_module": "@jupyter-widgets/controls",
      "model_module_version": "1.5.0",
      "model_name": "HTMLModel",
      "state": {
       "_dom_classes": [],
       "_model_module": "@jupyter-widgets/controls",
       "_model_module_version": "1.5.0",
       "_model_name": "HTMLModel",
       "_view_count": null,
       "_view_module": "@jupyter-widgets/controls",
       "_view_module_version": "1.5.0",
       "_view_name": "HTMLView",
       "description": "",
       "description_tooltip": null,
       "layout": "IPY_MODEL_f788b01481b74a529a87d01343498cab",
       "placeholder": "​",
       "style": "IPY_MODEL_2b82e4758f4e44a9855f2518812bb59f",
       "value": " 1/1 [00:00&lt;00:00,  1.07it/s]"
      }
     },
     "3659c26970ed4aff88e79b02e18ebb62": {
      "model_module": "@jupyter-widgets/controls",
      "model_module_version": "1.5.0",
      "model_name": "HTMLModel",
      "state": {
       "_dom_classes": [],
       "_model_module": "@jupyter-widgets/controls",
       "_model_module_version": "1.5.0",
       "_model_name": "HTMLModel",
       "_view_count": null,
       "_view_module": "@jupyter-widgets/controls",
       "_view_module_version": "1.5.0",
       "_view_name": "HTMLView",
       "description": "",
       "description_tooltip": null,
       "layout": "IPY_MODEL_f00e2ff941de4729abafd936705813e9",
       "placeholder": "​",
       "style": "IPY_MODEL_1958ae9a8ec340ef9031e057bf0d549c",
       "value": "Validation DataLoader 0: 100%"
      }
     },
     "41505229d7bc4d028afebd50f3f8bf2b": {
      "model_module": "@jupyter-widgets/base",
      "model_module_version": "1.2.0",
      "model_name": "LayoutModel",
      "state": {
       "_model_module": "@jupyter-widgets/base",
       "_model_module_version": "1.2.0",
       "_model_name": "LayoutModel",
       "_view_count": null,
       "_view_module": "@jupyter-widgets/base",
       "_view_module_version": "1.2.0",
       "_view_name": "LayoutView",
       "align_content": null,
       "align_items": null,
       "align_self": null,
       "border": null,
       "bottom": null,
       "display": "inline-flex",
       "flex": null,
       "flex_flow": "row wrap",
       "grid_area": null,
       "grid_auto_columns": null,
       "grid_auto_flow": null,
       "grid_auto_rows": null,
       "grid_column": null,
       "grid_gap": null,
       "grid_row": null,
       "grid_template_areas": null,
       "grid_template_columns": null,
       "grid_template_rows": null,
       "height": null,
       "justify_content": null,
       "justify_items": null,
       "left": null,
       "margin": null,
       "max_height": null,
       "max_width": null,
       "min_height": null,
       "min_width": null,
       "object_fit": null,
       "object_position": null,
       "order": null,
       "overflow": null,
       "overflow_x": null,
       "overflow_y": null,
       "padding": null,
       "right": null,
       "top": null,
       "visibility": "hidden",
       "width": "100%"
      }
     },
     "43e56bfaf47649e79e5872a4152661f2": {
      "model_module": "@jupyter-widgets/controls",
      "model_module_version": "1.5.0",
      "model_name": "DescriptionStyleModel",
      "state": {
       "_model_module": "@jupyter-widgets/controls",
       "_model_module_version": "1.5.0",
       "_model_name": "DescriptionStyleModel",
       "_view_count": null,
       "_view_module": "@jupyter-widgets/base",
       "_view_module_version": "1.2.0",
       "_view_name": "StyleView",
       "description_width": ""
      }
     },
     "46b2b33f248b43988deec5b9378d7e58": {
      "model_module": "@jupyter-widgets/controls",
      "model_module_version": "1.5.0",
      "model_name": "DescriptionStyleModel",
      "state": {
       "_model_module": "@jupyter-widgets/controls",
       "_model_module_version": "1.5.0",
       "_model_name": "DescriptionStyleModel",
       "_view_count": null,
       "_view_module": "@jupyter-widgets/base",
       "_view_module_version": "1.2.0",
       "_view_name": "StyleView",
       "description_width": ""
      }
     },
     "4f2afa3f73284607a1d350119c1205b3": {
      "model_module": "@jupyter-widgets/base",
      "model_module_version": "1.2.0",
      "model_name": "LayoutModel",
      "state": {
       "_model_module": "@jupyter-widgets/base",
       "_model_module_version": "1.2.0",
       "_model_name": "LayoutModel",
       "_view_count": null,
       "_view_module": "@jupyter-widgets/base",
       "_view_module_version": "1.2.0",
       "_view_name": "LayoutView",
       "align_content": null,
       "align_items": null,
       "align_self": null,
       "border": null,
       "bottom": null,
       "display": null,
       "flex": null,
       "flex_flow": null,
       "grid_area": null,
       "grid_auto_columns": null,
       "grid_auto_flow": null,
       "grid_auto_rows": null,
       "grid_column": null,
       "grid_gap": null,
       "grid_row": null,
       "grid_template_areas": null,
       "grid_template_columns": null,
       "grid_template_rows": null,
       "height": null,
       "justify_content": null,
       "justify_items": null,
       "left": null,
       "margin": null,
       "max_height": null,
       "max_width": null,
       "min_height": null,
       "min_width": null,
       "object_fit": null,
       "object_position": null,
       "order": null,
       "overflow": null,
       "overflow_x": null,
       "overflow_y": null,
       "padding": null,
       "right": null,
       "top": null,
       "visibility": null,
       "width": null
      }
     },
     "51aea803d5d44fea98a40d8662eb013c": {
      "model_module": "@jupyter-widgets/base",
      "model_module_version": "1.2.0",
      "model_name": "LayoutModel",
      "state": {
       "_model_module": "@jupyter-widgets/base",
       "_model_module_version": "1.2.0",
       "_model_name": "LayoutModel",
       "_view_count": null,
       "_view_module": "@jupyter-widgets/base",
       "_view_module_version": "1.2.0",
       "_view_name": "LayoutView",
       "align_content": null,
       "align_items": null,
       "align_self": null,
       "border": null,
       "bottom": null,
       "display": null,
       "flex": "2",
       "flex_flow": null,
       "grid_area": null,
       "grid_auto_columns": null,
       "grid_auto_flow": null,
       "grid_auto_rows": null,
       "grid_column": null,
       "grid_gap": null,
       "grid_row": null,
       "grid_template_areas": null,
       "grid_template_columns": null,
       "grid_template_rows": null,
       "height": null,
       "justify_content": null,
       "justify_items": null,
       "left": null,
       "margin": null,
       "max_height": null,
       "max_width": null,
       "min_height": null,
       "min_width": null,
       "object_fit": null,
       "object_position": null,
       "order": null,
       "overflow": null,
       "overflow_x": null,
       "overflow_y": null,
       "padding": null,
       "right": null,
       "top": null,
       "visibility": null,
       "width": null
      }
     },
     "53c34c87a5644044aaeffc9a1381d18f": {
      "model_module": "@jupyter-widgets/controls",
      "model_module_version": "1.5.0",
      "model_name": "FloatProgressModel",
      "state": {
       "_dom_classes": [],
       "_model_module": "@jupyter-widgets/controls",
       "_model_module_version": "1.5.0",
       "_model_name": "FloatProgressModel",
       "_view_count": null,
       "_view_module": "@jupyter-widgets/controls",
       "_view_module_version": "1.5.0",
       "_view_name": "ProgressView",
       "bar_style": "",
       "description": "",
       "description_tooltip": null,
       "layout": "IPY_MODEL_97032994f01d4c5f88e54759957b9202",
       "max": 1,
       "min": 0,
       "orientation": "horizontal",
       "style": "IPY_MODEL_c46cfcc9b94b4832964ff66266acb986",
       "value": 1
      }
     },
     "5b27e846a52843c18d4f9cdd49cb95c6": {
      "model_module": "@jupyter-widgets/controls",
      "model_module_version": "1.5.0",
      "model_name": "DescriptionStyleModel",
      "state": {
       "_model_module": "@jupyter-widgets/controls",
       "_model_module_version": "1.5.0",
       "_model_name": "DescriptionStyleModel",
       "_view_count": null,
       "_view_module": "@jupyter-widgets/base",
       "_view_module_version": "1.2.0",
       "_view_name": "StyleView",
       "description_width": ""
      }
     },
     "641c8699663a463e9d0990d075fef772": {
      "model_module": "@jupyter-widgets/controls",
      "model_module_version": "1.5.0",
      "model_name": "ProgressStyleModel",
      "state": {
       "_model_module": "@jupyter-widgets/controls",
       "_model_module_version": "1.5.0",
       "_model_name": "ProgressStyleModel",
       "_view_count": null,
       "_view_module": "@jupyter-widgets/base",
       "_view_module_version": "1.2.0",
       "_view_name": "StyleView",
       "bar_color": null,
       "description_width": ""
      }
     },
     "66259f594e59427b88471766c6f91ec8": {
      "model_module": "@jupyter-widgets/base",
      "model_module_version": "1.2.0",
      "model_name": "LayoutModel",
      "state": {
       "_model_module": "@jupyter-widgets/base",
       "_model_module_version": "1.2.0",
       "_model_name": "LayoutModel",
       "_view_count": null,
       "_view_module": "@jupyter-widgets/base",
       "_view_module_version": "1.2.0",
       "_view_name": "LayoutView",
       "align_content": null,
       "align_items": null,
       "align_self": null,
       "border": null,
       "bottom": null,
       "display": null,
       "flex": "2",
       "flex_flow": null,
       "grid_area": null,
       "grid_auto_columns": null,
       "grid_auto_flow": null,
       "grid_auto_rows": null,
       "grid_column": null,
       "grid_gap": null,
       "grid_row": null,
       "grid_template_areas": null,
       "grid_template_columns": null,
       "grid_template_rows": null,
       "height": null,
       "justify_content": null,
       "justify_items": null,
       "left": null,
       "margin": null,
       "max_height": null,
       "max_width": null,
       "min_height": null,
       "min_width": null,
       "object_fit": null,
       "object_position": null,
       "order": null,
       "overflow": null,
       "overflow_x": null,
       "overflow_y": null,
       "padding": null,
       "right": null,
       "top": null,
       "visibility": null,
       "width": null
      }
     },
     "6c702ead79e54e96b430409a545ac310": {
      "model_module": "@jupyter-widgets/controls",
      "model_module_version": "1.5.0",
      "model_name": "HBoxModel",
      "state": {
       "_dom_classes": [],
       "_model_module": "@jupyter-widgets/controls",
       "_model_module_version": "1.5.0",
       "_model_name": "HBoxModel",
       "_view_count": null,
       "_view_module": "@jupyter-widgets/controls",
       "_view_module_version": "1.5.0",
       "_view_name": "HBoxView",
       "box_style": "",
       "children": [
        "IPY_MODEL_21ea3a4e93004940bc1335316cd70f8e",
        "IPY_MODEL_9625d0aa4af141b68f0b88d869630f84",
        "IPY_MODEL_a1d3dbe2fd3845a1aed8cd42db7d4c36"
       ],
       "layout": "IPY_MODEL_177d2a4adc254af0a1b74db8e41c03d3"
      }
     },
     "741a187d646448c8be40546bffbd2258": {
      "model_module": "@jupyter-widgets/controls",
      "model_module_version": "1.5.0",
      "model_name": "DescriptionStyleModel",
      "state": {
       "_model_module": "@jupyter-widgets/controls",
       "_model_module_version": "1.5.0",
       "_model_name": "DescriptionStyleModel",
       "_view_count": null,
       "_view_module": "@jupyter-widgets/base",
       "_view_module_version": "1.2.0",
       "_view_name": "StyleView",
       "description_width": ""
      }
     },
     "7c7671b7b03441f59f84959c86adb9da": {
      "model_module": "@jupyter-widgets/controls",
      "model_module_version": "1.5.0",
      "model_name": "DescriptionStyleModel",
      "state": {
       "_model_module": "@jupyter-widgets/controls",
       "_model_module_version": "1.5.0",
       "_model_name": "DescriptionStyleModel",
       "_view_count": null,
       "_view_module": "@jupyter-widgets/base",
       "_view_module_version": "1.2.0",
       "_view_name": "StyleView",
       "description_width": ""
      }
     },
     "86a87b5d483646118831fa395302b0c2": {
      "model_module": "@jupyter-widgets/base",
      "model_module_version": "1.2.0",
      "model_name": "LayoutModel",
      "state": {
       "_model_module": "@jupyter-widgets/base",
       "_model_module_version": "1.2.0",
       "_model_name": "LayoutModel",
       "_view_count": null,
       "_view_module": "@jupyter-widgets/base",
       "_view_module_version": "1.2.0",
       "_view_name": "LayoutView",
       "align_content": null,
       "align_items": null,
       "align_self": null,
       "border": null,
       "bottom": null,
       "display": null,
       "flex": null,
       "flex_flow": null,
       "grid_area": null,
       "grid_auto_columns": null,
       "grid_auto_flow": null,
       "grid_auto_rows": null,
       "grid_column": null,
       "grid_gap": null,
       "grid_row": null,
       "grid_template_areas": null,
       "grid_template_columns": null,
       "grid_template_rows": null,
       "height": null,
       "justify_content": null,
       "justify_items": null,
       "left": null,
       "margin": null,
       "max_height": null,
       "max_width": null,
       "min_height": null,
       "min_width": null,
       "object_fit": null,
       "object_position": null,
       "order": null,
       "overflow": null,
       "overflow_x": null,
       "overflow_y": null,
       "padding": null,
       "right": null,
       "top": null,
       "visibility": null,
       "width": null
      }
     },
     "8e85d19a8cb8404abec7a189e58d96ef": {
      "model_module": "@jupyter-widgets/controls",
      "model_module_version": "1.5.0",
      "model_name": "DescriptionStyleModel",
      "state": {
       "_model_module": "@jupyter-widgets/controls",
       "_model_module_version": "1.5.0",
       "_model_name": "DescriptionStyleModel",
       "_view_count": null,
       "_view_module": "@jupyter-widgets/base",
       "_view_module_version": "1.2.0",
       "_view_name": "StyleView",
       "description_width": ""
      }
     },
     "8eaa9a77f1e14604b63d22945a5349fd": {
      "model_module": "@jupyter-widgets/base",
      "model_module_version": "1.2.0",
      "model_name": "LayoutModel",
      "state": {
       "_model_module": "@jupyter-widgets/base",
       "_model_module_version": "1.2.0",
       "_model_name": "LayoutModel",
       "_view_count": null,
       "_view_module": "@jupyter-widgets/base",
       "_view_module_version": "1.2.0",
       "_view_name": "LayoutView",
       "align_content": null,
       "align_items": null,
       "align_self": null,
       "border": null,
       "bottom": null,
       "display": null,
       "flex": null,
       "flex_flow": null,
       "grid_area": null,
       "grid_auto_columns": null,
       "grid_auto_flow": null,
       "grid_auto_rows": null,
       "grid_column": null,
       "grid_gap": null,
       "grid_row": null,
       "grid_template_areas": null,
       "grid_template_columns": null,
       "grid_template_rows": null,
       "height": null,
       "justify_content": null,
       "justify_items": null,
       "left": null,
       "margin": null,
       "max_height": null,
       "max_width": null,
       "min_height": null,
       "min_width": null,
       "object_fit": null,
       "object_position": null,
       "order": null,
       "overflow": null,
       "overflow_x": null,
       "overflow_y": null,
       "padding": null,
       "right": null,
       "top": null,
       "visibility": null,
       "width": null
      }
     },
     "8edb18dbc3a8484d824fae284915374a": {
      "model_module": "@jupyter-widgets/controls",
      "model_module_version": "1.5.0",
      "model_name": "HBoxModel",
      "state": {
       "_dom_classes": [],
       "_model_module": "@jupyter-widgets/controls",
       "_model_module_version": "1.5.0",
       "_model_name": "HBoxModel",
       "_view_count": null,
       "_view_module": "@jupyter-widgets/controls",
       "_view_module_version": "1.5.0",
       "_view_name": "HBoxView",
       "box_style": "",
       "children": [
        "IPY_MODEL_28a5275464f64b15827ea1b5c6118730",
        "IPY_MODEL_9671c3f624a146ae9b903bdc7755ef32",
        "IPY_MODEL_ea1af41c3f594011995c5f0d83356d9d"
       ],
       "layout": "IPY_MODEL_07b0fd0137754c04a948bcc6023471d9"
      }
     },
     "9398bd81bfb04098aae91d1854bec056": {
      "model_module": "@jupyter-widgets/controls",
      "model_module_version": "1.5.0",
      "model_name": "FloatProgressModel",
      "state": {
       "_dom_classes": [],
       "_model_module": "@jupyter-widgets/controls",
       "_model_module_version": "1.5.0",
       "_model_name": "FloatProgressModel",
       "_view_count": null,
       "_view_module": "@jupyter-widgets/controls",
       "_view_module_version": "1.5.0",
       "_view_name": "ProgressView",
       "bar_style": "",
       "description": "",
       "description_tooltip": null,
       "layout": "IPY_MODEL_bf413624e41a42e6b92539a51f3b84de",
       "max": 1,
       "min": 0,
       "orientation": "horizontal",
       "style": "IPY_MODEL_f776b70e533f4e8988b59b791f1f6efe",
       "value": 1
      }
     },
     "940e99852c7d4c679c78fb3eab067b77": {
      "model_module": "@jupyter-widgets/base",
      "model_module_version": "1.2.0",
      "model_name": "LayoutModel",
      "state": {
       "_model_module": "@jupyter-widgets/base",
       "_model_module_version": "1.2.0",
       "_model_name": "LayoutModel",
       "_view_count": null,
       "_view_module": "@jupyter-widgets/base",
       "_view_module_version": "1.2.0",
       "_view_name": "LayoutView",
       "align_content": null,
       "align_items": null,
       "align_self": null,
       "border": null,
       "bottom": null,
       "display": null,
       "flex": null,
       "flex_flow": null,
       "grid_area": null,
       "grid_auto_columns": null,
       "grid_auto_flow": null,
       "grid_auto_rows": null,
       "grid_column": null,
       "grid_gap": null,
       "grid_row": null,
       "grid_template_areas": null,
       "grid_template_columns": null,
       "grid_template_rows": null,
       "height": null,
       "justify_content": null,
       "justify_items": null,
       "left": null,
       "margin": null,
       "max_height": null,
       "max_width": null,
       "min_height": null,
       "min_width": null,
       "object_fit": null,
       "object_position": null,
       "order": null,
       "overflow": null,
       "overflow_x": null,
       "overflow_y": null,
       "padding": null,
       "right": null,
       "top": null,
       "visibility": null,
       "width": null
      }
     },
     "956fc7306ae74e22a243c6263b885ac2": {
      "model_module": "@jupyter-widgets/base",
      "model_module_version": "1.2.0",
      "model_name": "LayoutModel",
      "state": {
       "_model_module": "@jupyter-widgets/base",
       "_model_module_version": "1.2.0",
       "_model_name": "LayoutModel",
       "_view_count": null,
       "_view_module": "@jupyter-widgets/base",
       "_view_module_version": "1.2.0",
       "_view_name": "LayoutView",
       "align_content": null,
       "align_items": null,
       "align_self": null,
       "border": null,
       "bottom": null,
       "display": "inline-flex",
       "flex": null,
       "flex_flow": "row wrap",
       "grid_area": null,
       "grid_auto_columns": null,
       "grid_auto_flow": null,
       "grid_auto_rows": null,
       "grid_column": null,
       "grid_gap": null,
       "grid_row": null,
       "grid_template_areas": null,
       "grid_template_columns": null,
       "grid_template_rows": null,
       "height": null,
       "justify_content": null,
       "justify_items": null,
       "left": null,
       "margin": null,
       "max_height": null,
       "max_width": null,
       "min_height": null,
       "min_width": null,
       "object_fit": null,
       "object_position": null,
       "order": null,
       "overflow": null,
       "overflow_x": null,
       "overflow_y": null,
       "padding": null,
       "right": null,
       "top": null,
       "visibility": "hidden",
       "width": "100%"
      }
     },
     "9625d0aa4af141b68f0b88d869630f84": {
      "model_module": "@jupyter-widgets/controls",
      "model_module_version": "1.5.0",
      "model_name": "FloatProgressModel",
      "state": {
       "_dom_classes": [],
       "_model_module": "@jupyter-widgets/controls",
       "_model_module_version": "1.5.0",
       "_model_name": "FloatProgressModel",
       "_view_count": null,
       "_view_module": "@jupyter-widgets/controls",
       "_view_module_version": "1.5.0",
       "_view_name": "ProgressView",
       "bar_style": "success",
       "description": "",
       "description_tooltip": null,
       "layout": "IPY_MODEL_66259f594e59427b88471766c6f91ec8",
       "max": 7038,
       "min": 0,
       "orientation": "horizontal",
       "style": "IPY_MODEL_1ac758f6dd7e4df3af79953bebb5af83",
       "value": 7038
      }
     },
     "9671c3f624a146ae9b903bdc7755ef32": {
      "model_module": "@jupyter-widgets/controls",
      "model_module_version": "1.5.0",
      "model_name": "FloatProgressModel",
      "state": {
       "_dom_classes": [],
       "_model_module": "@jupyter-widgets/controls",
       "_model_module_version": "1.5.0",
       "_model_name": "FloatProgressModel",
       "_view_count": null,
       "_view_module": "@jupyter-widgets/controls",
       "_view_module_version": "1.5.0",
       "_view_name": "ProgressView",
       "bar_style": "success",
       "description": "",
       "description_tooltip": null,
       "layout": "IPY_MODEL_98c620ba79f84a4cafc228a607734277",
       "max": 5,
       "min": 0,
       "orientation": "horizontal",
       "style": "IPY_MODEL_d3ff6e655aaf42739a7f0f679d6897b4",
       "value": 5
      }
     },
     "97032994f01d4c5f88e54759957b9202": {
      "model_module": "@jupyter-widgets/base",
      "model_module_version": "1.2.0",
      "model_name": "LayoutModel",
      "state": {
       "_model_module": "@jupyter-widgets/base",
       "_model_module_version": "1.2.0",
       "_model_name": "LayoutModel",
       "_view_count": null,
       "_view_module": "@jupyter-widgets/base",
       "_view_module_version": "1.2.0",
       "_view_name": "LayoutView",
       "align_content": null,
       "align_items": null,
       "align_self": null,
       "border": null,
       "bottom": null,
       "display": null,
       "flex": "2",
       "flex_flow": null,
       "grid_area": null,
       "grid_auto_columns": null,
       "grid_auto_flow": null,
       "grid_auto_rows": null,
       "grid_column": null,
       "grid_gap": null,
       "grid_row": null,
       "grid_template_areas": null,
       "grid_template_columns": null,
       "grid_template_rows": null,
       "height": null,
       "justify_content": null,
       "justify_items": null,
       "left": null,
       "margin": null,
       "max_height": null,
       "max_width": null,
       "min_height": null,
       "min_width": null,
       "object_fit": null,
       "object_position": null,
       "order": null,
       "overflow": null,
       "overflow_x": null,
       "overflow_y": null,
       "padding": null,
       "right": null,
       "top": null,
       "visibility": null,
       "width": null
      }
     },
     "98c620ba79f84a4cafc228a607734277": {
      "model_module": "@jupyter-widgets/base",
      "model_module_version": "1.2.0",
      "model_name": "LayoutModel",
      "state": {
       "_model_module": "@jupyter-widgets/base",
       "_model_module_version": "1.2.0",
       "_model_name": "LayoutModel",
       "_view_count": null,
       "_view_module": "@jupyter-widgets/base",
       "_view_module_version": "1.2.0",
       "_view_name": "LayoutView",
       "align_content": null,
       "align_items": null,
       "align_self": null,
       "border": null,
       "bottom": null,
       "display": null,
       "flex": "2",
       "flex_flow": null,
       "grid_area": null,
       "grid_auto_columns": null,
       "grid_auto_flow": null,
       "grid_auto_rows": null,
       "grid_column": null,
       "grid_gap": null,
       "grid_row": null,
       "grid_template_areas": null,
       "grid_template_columns": null,
       "grid_template_rows": null,
       "height": null,
       "justify_content": null,
       "justify_items": null,
       "left": null,
       "margin": null,
       "max_height": null,
       "max_width": null,
       "min_height": null,
       "min_width": null,
       "object_fit": null,
       "object_position": null,
       "order": null,
       "overflow": null,
       "overflow_x": null,
       "overflow_y": null,
       "padding": null,
       "right": null,
       "top": null,
       "visibility": null,
       "width": null
      }
     },
     "a1d3dbe2fd3845a1aed8cd42db7d4c36": {
      "model_module": "@jupyter-widgets/controls",
      "model_module_version": "1.5.0",
      "model_name": "HTMLModel",
      "state": {
       "_dom_classes": [],
       "_model_module": "@jupyter-widgets/controls",
       "_model_module_version": "1.5.0",
       "_model_name": "HTMLModel",
       "_view_count": null,
       "_view_module": "@jupyter-widgets/controls",
       "_view_module_version": "1.5.0",
       "_view_name": "HTMLView",
       "description": "",
       "description_tooltip": null,
       "layout": "IPY_MODEL_b035ee368ae3480191cbef45b80bdf55",
       "placeholder": "​",
       "style": "IPY_MODEL_a59546281cba485f84f8d7fae0f632f1",
       "value": " 7038/7038 [16:09&lt;00:00,  7.26it/s, lr=0.0002, gen_loss=1.980, disc_loss_M=0.134, disc_loss_P=0.164]"
      }
     },
     "a3b56fe192e64fd09bf4677e237ae110": {
      "model_module": "@jupyter-widgets/controls",
      "model_module_version": "1.5.0",
      "model_name": "HTMLModel",
      "state": {
       "_dom_classes": [],
       "_model_module": "@jupyter-widgets/controls",
       "_model_module_version": "1.5.0",
       "_model_name": "HTMLModel",
       "_view_count": null,
       "_view_module": "@jupyter-widgets/controls",
       "_view_module_version": "1.5.0",
       "_view_name": "HTMLView",
       "description": "",
       "description_tooltip": null,
       "layout": "IPY_MODEL_940e99852c7d4c679c78fb3eab067b77",
       "placeholder": "​",
       "style": "IPY_MODEL_c82cf75deddd4542aa091698a2163a75",
       "value": " 7038/7038 [01:06&lt;00:00, 106.57it/s]"
      }
     },
     "a59546281cba485f84f8d7fae0f632f1": {
      "model_module": "@jupyter-widgets/controls",
      "model_module_version": "1.5.0",
      "model_name": "DescriptionStyleModel",
      "state": {
       "_model_module": "@jupyter-widgets/controls",
       "_model_module_version": "1.5.0",
       "_model_name": "DescriptionStyleModel",
       "_view_count": null,
       "_view_module": "@jupyter-widgets/base",
       "_view_module_version": "1.2.0",
       "_view_name": "StyleView",
       "description_width": ""
      }
     },
     "b035ee368ae3480191cbef45b80bdf55": {
      "model_module": "@jupyter-widgets/base",
      "model_module_version": "1.2.0",
      "model_name": "LayoutModel",
      "state": {
       "_model_module": "@jupyter-widgets/base",
       "_model_module_version": "1.2.0",
       "_model_name": "LayoutModel",
       "_view_count": null,
       "_view_module": "@jupyter-widgets/base",
       "_view_module_version": "1.2.0",
       "_view_name": "LayoutView",
       "align_content": null,
       "align_items": null,
       "align_self": null,
       "border": null,
       "bottom": null,
       "display": null,
       "flex": null,
       "flex_flow": null,
       "grid_area": null,
       "grid_auto_columns": null,
       "grid_auto_flow": null,
       "grid_auto_rows": null,
       "grid_column": null,
       "grid_gap": null,
       "grid_row": null,
       "grid_template_areas": null,
       "grid_template_columns": null,
       "grid_template_rows": null,
       "height": null,
       "justify_content": null,
       "justify_items": null,
       "left": null,
       "margin": null,
       "max_height": null,
       "max_width": null,
       "min_height": null,
       "min_width": null,
       "object_fit": null,
       "object_position": null,
       "order": null,
       "overflow": null,
       "overflow_x": null,
       "overflow_y": null,
       "padding": null,
       "right": null,
       "top": null,
       "visibility": null,
       "width": null
      }
     },
     "b043d888cf684afba26b88dc9289b828": {
      "model_module": "@jupyter-widgets/controls",
      "model_module_version": "1.5.0",
      "model_name": "HTMLModel",
      "state": {
       "_dom_classes": [],
       "_model_module": "@jupyter-widgets/controls",
       "_model_module_version": "1.5.0",
       "_model_name": "HTMLModel",
       "_view_count": null,
       "_view_module": "@jupyter-widgets/controls",
       "_view_module_version": "1.5.0",
       "_view_name": "HTMLView",
       "description": "",
       "description_tooltip": null,
       "layout": "IPY_MODEL_8eaa9a77f1e14604b63d22945a5349fd",
       "placeholder": "​",
       "style": "IPY_MODEL_7c7671b7b03441f59f84959c86adb9da",
       "value": " 1/1 [00:00&lt;00:00,  1.04it/s]"
      }
     },
     "b0a2c6b1ad0b4607b1265194fed8653f": {
      "model_module": "@jupyter-widgets/base",
      "model_module_version": "1.2.0",
      "model_name": "LayoutModel",
      "state": {
       "_model_module": "@jupyter-widgets/base",
       "_model_module_version": "1.2.0",
       "_model_name": "LayoutModel",
       "_view_count": null,
       "_view_module": "@jupyter-widgets/base",
       "_view_module_version": "1.2.0",
       "_view_name": "LayoutView",
       "align_content": null,
       "align_items": null,
       "align_self": null,
       "border": null,
       "bottom": null,
       "display": null,
       "flex": "2",
       "flex_flow": null,
       "grid_area": null,
       "grid_auto_columns": null,
       "grid_auto_flow": null,
       "grid_auto_rows": null,
       "grid_column": null,
       "grid_gap": null,
       "grid_row": null,
       "grid_template_areas": null,
       "grid_template_columns": null,
       "grid_template_rows": null,
       "height": null,
       "justify_content": null,
       "justify_items": null,
       "left": null,
       "margin": null,
       "max_height": null,
       "max_width": null,
       "min_height": null,
       "min_width": null,
       "object_fit": null,
       "object_position": null,
       "order": null,
       "overflow": null,
       "overflow_x": null,
       "overflow_y": null,
       "padding": null,
       "right": null,
       "top": null,
       "visibility": null,
       "width": null
      }
     },
     "bd6229e65d9049b0be64d99fdb6e6ce8": {
      "model_module": "@jupyter-widgets/controls",
      "model_module_version": "1.5.0",
      "model_name": "HTMLModel",
      "state": {
       "_dom_classes": [],
       "_model_module": "@jupyter-widgets/controls",
       "_model_module_version": "1.5.0",
       "_model_name": "HTMLModel",
       "_view_count": null,
       "_view_module": "@jupyter-widgets/controls",
       "_view_module_version": "1.5.0",
       "_view_name": "HTMLView",
       "description": "",
       "description_tooltip": null,
       "layout": "IPY_MODEL_225613ca91e34529b594c441e8572919",
       "placeholder": "​",
       "style": "IPY_MODEL_2878f0021f76415cabc7b0176848f10a",
       "value": "Predicting DataLoader 0: 100%"
      }
     },
     "be970cc462f6430aa073e59aae8c064a": {
      "model_module": "@jupyter-widgets/controls",
      "model_module_version": "1.5.0",
      "model_name": "ProgressStyleModel",
      "state": {
       "_model_module": "@jupyter-widgets/controls",
       "_model_module_version": "1.5.0",
       "_model_name": "ProgressStyleModel",
       "_view_count": null,
       "_view_module": "@jupyter-widgets/base",
       "_view_module_version": "1.2.0",
       "_view_name": "StyleView",
       "bar_color": null,
       "description_width": ""
      }
     },
     "bf413624e41a42e6b92539a51f3b84de": {
      "model_module": "@jupyter-widgets/base",
      "model_module_version": "1.2.0",
      "model_name": "LayoutModel",
      "state": {
       "_model_module": "@jupyter-widgets/base",
       "_model_module_version": "1.2.0",
       "_model_name": "LayoutModel",
       "_view_count": null,
       "_view_module": "@jupyter-widgets/base",
       "_view_module_version": "1.2.0",
       "_view_name": "LayoutView",
       "align_content": null,
       "align_items": null,
       "align_self": null,
       "border": null,
       "bottom": null,
       "display": null,
       "flex": "2",
       "flex_flow": null,
       "grid_area": null,
       "grid_auto_columns": null,
       "grid_auto_flow": null,
       "grid_auto_rows": null,
       "grid_column": null,
       "grid_gap": null,
       "grid_row": null,
       "grid_template_areas": null,
       "grid_template_columns": null,
       "grid_template_rows": null,
       "height": null,
       "justify_content": null,
       "justify_items": null,
       "left": null,
       "margin": null,
       "max_height": null,
       "max_width": null,
       "min_height": null,
       "min_width": null,
       "object_fit": null,
       "object_position": null,
       "order": null,
       "overflow": null,
       "overflow_x": null,
       "overflow_y": null,
       "padding": null,
       "right": null,
       "top": null,
       "visibility": null,
       "width": null
      }
     },
     "c46cfcc9b94b4832964ff66266acb986": {
      "model_module": "@jupyter-widgets/controls",
      "model_module_version": "1.5.0",
      "model_name": "ProgressStyleModel",
      "state": {
       "_model_module": "@jupyter-widgets/controls",
       "_model_module_version": "1.5.0",
       "_model_name": "ProgressStyleModel",
       "_view_count": null,
       "_view_module": "@jupyter-widgets/base",
       "_view_module_version": "1.2.0",
       "_view_name": "StyleView",
       "bar_color": null,
       "description_width": ""
      }
     },
     "c561a5ea6340401584e6ec3cd891ef39": {
      "model_module": "@jupyter-widgets/base",
      "model_module_version": "1.2.0",
      "model_name": "LayoutModel",
      "state": {
       "_model_module": "@jupyter-widgets/base",
       "_model_module_version": "1.2.0",
       "_model_name": "LayoutModel",
       "_view_count": null,
       "_view_module": "@jupyter-widgets/base",
       "_view_module_version": "1.2.0",
       "_view_name": "LayoutView",
       "align_content": null,
       "align_items": null,
       "align_self": null,
       "border": null,
       "bottom": null,
       "display": null,
       "flex": null,
       "flex_flow": null,
       "grid_area": null,
       "grid_auto_columns": null,
       "grid_auto_flow": null,
       "grid_auto_rows": null,
       "grid_column": null,
       "grid_gap": null,
       "grid_row": null,
       "grid_template_areas": null,
       "grid_template_columns": null,
       "grid_template_rows": null,
       "height": null,
       "justify_content": null,
       "justify_items": null,
       "left": null,
       "margin": null,
       "max_height": null,
       "max_width": null,
       "min_height": null,
       "min_width": null,
       "object_fit": null,
       "object_position": null,
       "order": null,
       "overflow": null,
       "overflow_x": null,
       "overflow_y": null,
       "padding": null,
       "right": null,
       "top": null,
       "visibility": null,
       "width": null
      }
     },
     "c82cf75deddd4542aa091698a2163a75": {
      "model_module": "@jupyter-widgets/controls",
      "model_module_version": "1.5.0",
      "model_name": "DescriptionStyleModel",
      "state": {
       "_model_module": "@jupyter-widgets/controls",
       "_model_module_version": "1.5.0",
       "_model_name": "DescriptionStyleModel",
       "_view_count": null,
       "_view_module": "@jupyter-widgets/base",
       "_view_module_version": "1.2.0",
       "_view_name": "StyleView",
       "description_width": ""
      }
     },
     "caad03b16082456da64960d3548ba0d4": {
      "model_module": "@jupyter-widgets/controls",
      "model_module_version": "1.5.0",
      "model_name": "HTMLModel",
      "state": {
       "_dom_classes": [],
       "_model_module": "@jupyter-widgets/controls",
       "_model_module_version": "1.5.0",
       "_model_name": "HTMLModel",
       "_view_count": null,
       "_view_module": "@jupyter-widgets/controls",
       "_view_module_version": "1.5.0",
       "_view_name": "HTMLView",
       "description": "",
       "description_tooltip": null,
       "layout": "IPY_MODEL_d532ffe598734365985dc35940a362a9",
       "placeholder": "​",
       "style": "IPY_MODEL_43e56bfaf47649e79e5872a4152661f2",
       "value": "Validation DataLoader 0: 100%"
      }
     },
     "cf1953a31455447a8874eb2778078fd0": {
      "model_module": "@jupyter-widgets/controls",
      "model_module_version": "1.5.0",
      "model_name": "HTMLModel",
      "state": {
       "_dom_classes": [],
       "_model_module": "@jupyter-widgets/controls",
       "_model_module_version": "1.5.0",
       "_model_name": "HTMLModel",
       "_view_count": null,
       "_view_module": "@jupyter-widgets/controls",
       "_view_module_version": "1.5.0",
       "_view_name": "HTMLView",
       "description": "",
       "description_tooltip": null,
       "layout": "IPY_MODEL_4f2afa3f73284607a1d350119c1205b3",
       "placeholder": "​",
       "style": "IPY_MODEL_8e85d19a8cb8404abec7a189e58d96ef",
       "value": "Validation DataLoader 0: 100%"
      }
     },
     "d02e4bef26ad4063b45c1bfc840e1a97": {
      "model_module": "@jupyter-widgets/controls",
      "model_module_version": "1.5.0",
      "model_name": "HBoxModel",
      "state": {
       "_dom_classes": [],
       "_model_module": "@jupyter-widgets/controls",
       "_model_module_version": "1.5.0",
       "_model_name": "HBoxModel",
       "_view_count": null,
       "_view_module": "@jupyter-widgets/controls",
       "_view_module_version": "1.5.0",
       "_view_name": "HBoxView",
       "box_style": "",
       "children": [
        "IPY_MODEL_cf1953a31455447a8874eb2778078fd0",
        "IPY_MODEL_9398bd81bfb04098aae91d1854bec056",
        "IPY_MODEL_36309a1093e647f7942443644e2ce3cc"
       ],
       "layout": "IPY_MODEL_41505229d7bc4d028afebd50f3f8bf2b"
      }
     },
     "d3ff6e655aaf42739a7f0f679d6897b4": {
      "model_module": "@jupyter-widgets/controls",
      "model_module_version": "1.5.0",
      "model_name": "ProgressStyleModel",
      "state": {
       "_model_module": "@jupyter-widgets/controls",
       "_model_module_version": "1.5.0",
       "_model_name": "ProgressStyleModel",
       "_view_count": null,
       "_view_module": "@jupyter-widgets/base",
       "_view_module_version": "1.2.0",
       "_view_name": "StyleView",
       "bar_color": null,
       "description_width": ""
      }
     },
     "d532ffe598734365985dc35940a362a9": {
      "model_module": "@jupyter-widgets/base",
      "model_module_version": "1.2.0",
      "model_name": "LayoutModel",
      "state": {
       "_model_module": "@jupyter-widgets/base",
       "_model_module_version": "1.2.0",
       "_model_name": "LayoutModel",
       "_view_count": null,
       "_view_module": "@jupyter-widgets/base",
       "_view_module_version": "1.2.0",
       "_view_name": "LayoutView",
       "align_content": null,
       "align_items": null,
       "align_self": null,
       "border": null,
       "bottom": null,
       "display": null,
       "flex": null,
       "flex_flow": null,
       "grid_area": null,
       "grid_auto_columns": null,
       "grid_auto_flow": null,
       "grid_auto_rows": null,
       "grid_column": null,
       "grid_gap": null,
       "grid_row": null,
       "grid_template_areas": null,
       "grid_template_columns": null,
       "grid_template_rows": null,
       "height": null,
       "justify_content": null,
       "justify_items": null,
       "left": null,
       "margin": null,
       "max_height": null,
       "max_width": null,
       "min_height": null,
       "min_width": null,
       "object_fit": null,
       "object_position": null,
       "order": null,
       "overflow": null,
       "overflow_x": null,
       "overflow_y": null,
       "padding": null,
       "right": null,
       "top": null,
       "visibility": null,
       "width": null
      }
     },
     "e86fe6c6e6224b408709252bf7f8a621": {
      "model_module": "@jupyter-widgets/controls",
      "model_module_version": "1.5.0",
      "model_name": "HBoxModel",
      "state": {
       "_dom_classes": [],
       "_model_module": "@jupyter-widgets/controls",
       "_model_module_version": "1.5.0",
       "_model_name": "HBoxModel",
       "_view_count": null,
       "_view_module": "@jupyter-widgets/controls",
       "_view_module_version": "1.5.0",
       "_view_name": "HBoxView",
       "box_style": "",
       "children": [
        "IPY_MODEL_caad03b16082456da64960d3548ba0d4",
        "IPY_MODEL_f4f872469ec54b679b99a8d5d8e0cea7",
        "IPY_MODEL_0774574450084b35b9f8c9d13fd154bd"
       ],
       "layout": "IPY_MODEL_956fc7306ae74e22a243c6263b885ac2"
      }
     },
     "ea1af41c3f594011995c5f0d83356d9d": {
      "model_module": "@jupyter-widgets/controls",
      "model_module_version": "1.5.0",
      "model_name": "HTMLModel",
      "state": {
       "_dom_classes": [],
       "_model_module": "@jupyter-widgets/controls",
       "_model_module_version": "1.5.0",
       "_model_name": "HTMLModel",
       "_view_count": null,
       "_view_module": "@jupyter-widgets/controls",
       "_view_module_version": "1.5.0",
       "_view_name": "HTMLView",
       "description": "",
       "description_tooltip": null,
       "layout": "IPY_MODEL_c561a5ea6340401584e6ec3cd891ef39",
       "placeholder": "​",
       "style": "IPY_MODEL_5b27e846a52843c18d4f9cdd49cb95c6",
       "value": " 5/5 [00:04&lt;00:00,  1.16it/s]"
      }
     },
     "f00e2ff941de4729abafd936705813e9": {
      "model_module": "@jupyter-widgets/base",
      "model_module_version": "1.2.0",
      "model_name": "LayoutModel",
      "state": {
       "_model_module": "@jupyter-widgets/base",
       "_model_module_version": "1.2.0",
       "_model_name": "LayoutModel",
       "_view_count": null,
       "_view_module": "@jupyter-widgets/base",
       "_view_module_version": "1.2.0",
       "_view_name": "LayoutView",
       "align_content": null,
       "align_items": null,
       "align_self": null,
       "border": null,
       "bottom": null,
       "display": null,
       "flex": null,
       "flex_flow": null,
       "grid_area": null,
       "grid_auto_columns": null,
       "grid_auto_flow": null,
       "grid_auto_rows": null,
       "grid_column": null,
       "grid_gap": null,
       "grid_row": null,
       "grid_template_areas": null,
       "grid_template_columns": null,
       "grid_template_rows": null,
       "height": null,
       "justify_content": null,
       "justify_items": null,
       "left": null,
       "margin": null,
       "max_height": null,
       "max_width": null,
       "min_height": null,
       "min_width": null,
       "object_fit": null,
       "object_position": null,
       "order": null,
       "overflow": null,
       "overflow_x": null,
       "overflow_y": null,
       "padding": null,
       "right": null,
       "top": null,
       "visibility": null,
       "width": null
      }
     },
     "f42fc4bd70394fdaae3244d886e1f34e": {
      "model_module": "@jupyter-widgets/controls",
      "model_module_version": "1.5.0",
      "model_name": "FloatProgressModel",
      "state": {
       "_dom_classes": [],
       "_model_module": "@jupyter-widgets/controls",
       "_model_module_version": "1.5.0",
       "_model_name": "FloatProgressModel",
       "_view_count": null,
       "_view_module": "@jupyter-widgets/controls",
       "_view_module_version": "1.5.0",
       "_view_name": "ProgressView",
       "bar_style": "success",
       "description": "",
       "description_tooltip": null,
       "layout": "IPY_MODEL_b0a2c6b1ad0b4607b1265194fed8653f",
       "max": 7038,
       "min": 0,
       "orientation": "horizontal",
       "style": "IPY_MODEL_641c8699663a463e9d0990d075fef772",
       "value": 7038
      }
     },
     "f4f872469ec54b679b99a8d5d8e0cea7": {
      "model_module": "@jupyter-widgets/controls",
      "model_module_version": "1.5.0",
      "model_name": "FloatProgressModel",
      "state": {
       "_dom_classes": [],
       "_model_module": "@jupyter-widgets/controls",
       "_model_module_version": "1.5.0",
       "_model_name": "FloatProgressModel",
       "_view_count": null,
       "_view_module": "@jupyter-widgets/controls",
       "_view_module_version": "1.5.0",
       "_view_name": "ProgressView",
       "bar_style": "",
       "description": "",
       "description_tooltip": null,
       "layout": "IPY_MODEL_51aea803d5d44fea98a40d8662eb013c",
       "max": 1,
       "min": 0,
       "orientation": "horizontal",
       "style": "IPY_MODEL_be970cc462f6430aa073e59aae8c064a",
       "value": 1
      }
     },
     "f564971e7add43efad5575e03c028228": {
      "model_module": "@jupyter-widgets/base",
      "model_module_version": "1.2.0",
      "model_name": "LayoutModel",
      "state": {
       "_model_module": "@jupyter-widgets/base",
       "_model_module_version": "1.2.0",
       "_model_name": "LayoutModel",
       "_view_count": null,
       "_view_module": "@jupyter-widgets/base",
       "_view_module_version": "1.2.0",
       "_view_name": "LayoutView",
       "align_content": null,
       "align_items": null,
       "align_self": null,
       "border": null,
       "bottom": null,
       "display": null,
       "flex": null,
       "flex_flow": null,
       "grid_area": null,
       "grid_auto_columns": null,
       "grid_auto_flow": null,
       "grid_auto_rows": null,
       "grid_column": null,
       "grid_gap": null,
       "grid_row": null,
       "grid_template_areas": null,
       "grid_template_columns": null,
       "grid_template_rows": null,
       "height": null,
       "justify_content": null,
       "justify_items": null,
       "left": null,
       "margin": null,
       "max_height": null,
       "max_width": null,
       "min_height": null,
       "min_width": null,
       "object_fit": null,
       "object_position": null,
       "order": null,
       "overflow": null,
       "overflow_x": null,
       "overflow_y": null,
       "padding": null,
       "right": null,
       "top": null,
       "visibility": null,
       "width": null
      }
     },
     "f776b70e533f4e8988b59b791f1f6efe": {
      "model_module": "@jupyter-widgets/controls",
      "model_module_version": "1.5.0",
      "model_name": "ProgressStyleModel",
      "state": {
       "_model_module": "@jupyter-widgets/controls",
       "_model_module_version": "1.5.0",
       "_model_name": "ProgressStyleModel",
       "_view_count": null,
       "_view_module": "@jupyter-widgets/base",
       "_view_module_version": "1.2.0",
       "_view_name": "StyleView",
       "bar_color": null,
       "description_width": ""
      }
     },
     "f788b01481b74a529a87d01343498cab": {
      "model_module": "@jupyter-widgets/base",
      "model_module_version": "1.2.0",
      "model_name": "LayoutModel",
      "state": {
       "_model_module": "@jupyter-widgets/base",
       "_model_module_version": "1.2.0",
       "_model_name": "LayoutModel",
       "_view_count": null,
       "_view_module": "@jupyter-widgets/base",
       "_view_module_version": "1.2.0",
       "_view_name": "LayoutView",
       "align_content": null,
       "align_items": null,
       "align_self": null,
       "border": null,
       "bottom": null,
       "display": null,
       "flex": null,
       "flex_flow": null,
       "grid_area": null,
       "grid_auto_columns": null,
       "grid_auto_flow": null,
       "grid_auto_rows": null,
       "grid_column": null,
       "grid_gap": null,
       "grid_row": null,
       "grid_template_areas": null,
       "grid_template_columns": null,
       "grid_template_rows": null,
       "height": null,
       "justify_content": null,
       "justify_items": null,
       "left": null,
       "margin": null,
       "max_height": null,
       "max_width": null,
       "min_height": null,
       "min_width": null,
       "object_fit": null,
       "object_position": null,
       "order": null,
       "overflow": null,
       "overflow_x": null,
       "overflow_y": null,
       "padding": null,
       "right": null,
       "top": null,
       "visibility": null,
       "width": null
      }
     }
    },
    "version_major": 2,
    "version_minor": 0
   }
  }
 },
 "nbformat": 4,
 "nbformat_minor": 5
}
